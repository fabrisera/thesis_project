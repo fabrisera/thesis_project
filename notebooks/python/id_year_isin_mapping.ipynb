{
 "cells": [
  {
   "cell_type": "code",
   "execution_count": 1,
   "metadata": {},
   "outputs": [
    {
     "name": "stderr",
     "output_type": "stream",
     "text": [
      "/var/folders/z7/jmcsyl9x47zdw6n1xd2_16jh0000gn/T/ipykernel_99130/1156279017.py:1: DeprecationWarning: \n",
      "Pyarrow will become a required dependency of pandas in the next major release of pandas (pandas 3.0),\n",
      "(to allow more performant data types, such as the Arrow string type, and better interoperability with other libraries)\n",
      "but was not found to be installed on your system.\n",
      "If this would cause problems for you,\n",
      "please provide us feedback at https://github.com/pandas-dev/pandas/issues/54466\n",
      "        \n",
      "  import pandas as pd\n"
     ]
    }
   ],
   "source": [
    "import pandas as pd\n",
    "import numpy as np\n",
    "from sklearn.preprocessing import power_transform\n",
    "import seaborn as sns\n",
    "import matplotlib.pyplot as plt\n",
    "from scipy.stats.mstats import winsorize"
   ]
  },
  {
   "cell_type": "code",
   "execution_count": 2,
   "metadata": {},
   "outputs": [],
   "source": [
    "# reading the data\n",
    "cdp_summary = pd.read_stata(\"../../data/CDP Cleaning/cleaned outputs/cdp_summary.dta\").replace(\"\", pd.NA)"
   ]
  },
  {
   "cell_type": "markdown",
   "metadata": {},
   "source": [
    "Total Number Of Frim Years and total number of unique firms."
   ]
  },
  {
   "cell_type": "code",
   "execution_count": 3,
   "metadata": {},
   "outputs": [
    {
     "data": {
      "text/plain": [
       "(34588, 10)"
      ]
     },
     "execution_count": 3,
     "metadata": {},
     "output_type": "execute_result"
    }
   ],
   "source": [
    "# number of rows and columns\n",
    "cdp_summary.shape"
   ]
  },
  {
   "cell_type": "code",
   "execution_count": 4,
   "metadata": {},
   "outputs": [
    {
     "data": {
      "text/plain": [
       "11289"
      ]
     },
     "execution_count": 4,
     "metadata": {},
     "output_type": "execute_result"
    }
   ],
   "source": [
    "# number of unique firm ids\n",
    "len(cdp_summary['id'].unique())"
   ]
  },
  {
   "cell_type": "code",
   "execution_count": 5,
   "metadata": {},
   "outputs": [],
   "source": [
    "# do a mapping of id and isin\n",
    "id_isin = cdp_summary[[\"id\", \"isin\"]].drop_duplicates()"
   ]
  },
  {
   "cell_type": "markdown",
   "metadata": {},
   "source": [
    "There are some firms who have multiple isins, I will create a mappnig between firms and isins to make sure that any Isin can be used to match a firm."
   ]
  },
  {
   "cell_type": "code",
   "execution_count": 6,
   "metadata": {},
   "outputs": [
    {
     "data": {
      "text/plain": [
       "id\n",
       "22499    5\n",
       "20712    4\n",
       "21459    4\n",
       "8054     4\n",
       "14820    4\n",
       "11853    4\n",
       "7616     4\n",
       "15981    3\n",
       "9411     3\n",
       "59242    3\n",
       "Name: count, dtype: int64"
      ]
     },
     "execution_count": 6,
     "metadata": {},
     "output_type": "execute_result"
    }
   ],
   "source": [
    "id_isin['id'].value_counts().head(10)"
   ]
  },
  {
   "cell_type": "code",
   "execution_count": 7,
   "metadata": {},
   "outputs": [
    {
     "data": {
      "text/plain": [
       "isin\n",
       "0    6895\n",
       "1    4098\n",
       "2     268\n",
       "3      23\n",
       "4       4\n",
       "5       1\n",
       "Name: count, dtype: int64"
      ]
     },
     "execution_count": 7,
     "metadata": {},
     "output_type": "execute_result"
    }
   ],
   "source": [
    "cdp_summary.groupby(\"id\")['isin'].nunique().value_counts()"
   ]
  },
  {
   "cell_type": "markdown",
   "metadata": {},
   "source": [
    "Roughly 30% of the firm-years have missin isins."
   ]
  },
  {
   "cell_type": "code",
   "execution_count": 8,
   "metadata": {},
   "outputs": [
    {
     "data": {
      "text/plain": [
       "0.2907366716780386"
      ]
     },
     "execution_count": 8,
     "metadata": {},
     "output_type": "execute_result"
    }
   ],
   "source": [
    "cdp_summary['isin'].isna().mean()"
   ]
  },
  {
   "cell_type": "markdown",
   "metadata": {},
   "source": [
    "Identifying the problem: some firms have multiple ISINS because they change isin over time.\n",
    "\n",
    "What if I can map ISIN from the beginning through the mapping table? To check."
   ]
  },
  {
   "cell_type": "code",
   "execution_count": 9,
   "metadata": {},
   "outputs": [
    {
     "data": {
      "text/html": [
       "<div>\n",
       "<style scoped>\n",
       "    .dataframe tbody tr th:only-of-type {\n",
       "        vertical-align: middle;\n",
       "    }\n",
       "\n",
       "    .dataframe tbody tr th {\n",
       "        vertical-align: top;\n",
       "    }\n",
       "\n",
       "    .dataframe thead th {\n",
       "        text-align: right;\n",
       "    }\n",
       "</style>\n",
       "<table border=\"1\" class=\"dataframe\">\n",
       "  <thead>\n",
       "    <tr style=\"text-align: right;\">\n",
       "      <th></th>\n",
       "      <th>id</th>\n",
       "      <th>reporting_boundary</th>\n",
       "      <th>year</th>\n",
       "      <th>companyname</th>\n",
       "      <th>country</th>\n",
       "      <th>industry14</th>\n",
       "      <th>isin</th>\n",
       "      <th>ticker</th>\n",
       "      <th>industry46</th>\n",
       "      <th>cdpdate</th>\n",
       "    </tr>\n",
       "  </thead>\n",
       "  <tbody>\n",
       "    <tr>\n",
       "      <th>6852</th>\n",
       "      <td>7616</td>\n",
       "      <td>&lt;NA&gt;</td>\n",
       "      <td>2010.0</td>\n",
       "      <td>Google Inc.</td>\n",
       "      <td>USA</td>\n",
       "      <td>&lt;NA&gt;</td>\n",
       "      <td>US38259P5089</td>\n",
       "      <td>GOOG US</td>\n",
       "      <td>software services</td>\n",
       "      <td>NaT</td>\n",
       "    </tr>\n",
       "    <tr>\n",
       "      <th>6853</th>\n",
       "      <td>7616</td>\n",
       "      <td>&lt;NA&gt;</td>\n",
       "      <td>2011.0</td>\n",
       "      <td>Google Inc.</td>\n",
       "      <td>USA</td>\n",
       "      <td>&lt;NA&gt;</td>\n",
       "      <td>US38259P5089</td>\n",
       "      <td>GOOG US</td>\n",
       "      <td>software services</td>\n",
       "      <td>NaT</td>\n",
       "    </tr>\n",
       "    <tr>\n",
       "      <th>6854</th>\n",
       "      <td>7616</td>\n",
       "      <td>&lt;NA&gt;</td>\n",
       "      <td>2012.0</td>\n",
       "      <td>Google Inc.</td>\n",
       "      <td>USA</td>\n",
       "      <td>&lt;NA&gt;</td>\n",
       "      <td>US38259P5089</td>\n",
       "      <td>GOOG US</td>\n",
       "      <td>software services</td>\n",
       "      <td>NaT</td>\n",
       "    </tr>\n",
       "    <tr>\n",
       "      <th>6855</th>\n",
       "      <td>7616</td>\n",
       "      <td>&lt;NA&gt;</td>\n",
       "      <td>2013.0</td>\n",
       "      <td>Google Inc.</td>\n",
       "      <td>USA</td>\n",
       "      <td>&lt;NA&gt;</td>\n",
       "      <td>US38259P5089</td>\n",
       "      <td>GOOG US</td>\n",
       "      <td>software services</td>\n",
       "      <td>2013-06-28</td>\n",
       "    </tr>\n",
       "    <tr>\n",
       "      <th>6856</th>\n",
       "      <td>7616</td>\n",
       "      <td>&lt;NA&gt;</td>\n",
       "      <td>2014.0</td>\n",
       "      <td>Google Inc.</td>\n",
       "      <td>USA</td>\n",
       "      <td>&lt;NA&gt;</td>\n",
       "      <td>US38259P5089</td>\n",
       "      <td>GOOG US</td>\n",
       "      <td>software services</td>\n",
       "      <td>2014-06-10</td>\n",
       "    </tr>\n",
       "    <tr>\n",
       "      <th>6857</th>\n",
       "      <td>7616</td>\n",
       "      <td>&lt;NA&gt;</td>\n",
       "      <td>2015.0</td>\n",
       "      <td>Google Inc.</td>\n",
       "      <td>USA</td>\n",
       "      <td>&lt;NA&gt;</td>\n",
       "      <td>US38259P7069</td>\n",
       "      <td>GOOG US</td>\n",
       "      <td>software services</td>\n",
       "      <td>2015-06-30</td>\n",
       "    </tr>\n",
       "    <tr>\n",
       "      <th>6858</th>\n",
       "      <td>7616</td>\n",
       "      <td>&lt;NA&gt;</td>\n",
       "      <td>2016.0</td>\n",
       "      <td>Alphabet, Inc.</td>\n",
       "      <td>USA</td>\n",
       "      <td>Services</td>\n",
       "      <td>US02079K1079</td>\n",
       "      <td>GOOG US</td>\n",
       "      <td>software services</td>\n",
       "      <td>2016-07-25</td>\n",
       "    </tr>\n",
       "    <tr>\n",
       "      <th>6859</th>\n",
       "      <td>7616</td>\n",
       "      <td>&lt;NA&gt;</td>\n",
       "      <td>2017.0</td>\n",
       "      <td>Alphabet, Inc.</td>\n",
       "      <td>USA</td>\n",
       "      <td>Services</td>\n",
       "      <td>US02079K1079</td>\n",
       "      <td>GOOG US</td>\n",
       "      <td>software services</td>\n",
       "      <td>2017-07-15</td>\n",
       "    </tr>\n",
       "    <tr>\n",
       "      <th>6860</th>\n",
       "      <td>7616</td>\n",
       "      <td>operational control</td>\n",
       "      <td>2018.0</td>\n",
       "      <td>Alphabet, Inc.</td>\n",
       "      <td>USA</td>\n",
       "      <td>Services</td>\n",
       "      <td>US02079K1079</td>\n",
       "      <td>GOOG US, GOOGL US</td>\n",
       "      <td>software services</td>\n",
       "      <td>2018-09-13</td>\n",
       "    </tr>\n",
       "    <tr>\n",
       "      <th>6861</th>\n",
       "      <td>7616</td>\n",
       "      <td>operational control</td>\n",
       "      <td>2019.0</td>\n",
       "      <td>Alphabet, Inc.</td>\n",
       "      <td>USA</td>\n",
       "      <td>Services</td>\n",
       "      <td>US02079K1079</td>\n",
       "      <td>GOOG US, GOOGL US</td>\n",
       "      <td>software services</td>\n",
       "      <td>2019-08-29</td>\n",
       "    </tr>\n",
       "    <tr>\n",
       "      <th>6862</th>\n",
       "      <td>7616</td>\n",
       "      <td>operational control</td>\n",
       "      <td>2020.0</td>\n",
       "      <td>Alphabet, Inc.</td>\n",
       "      <td>USA</td>\n",
       "      <td>Services</td>\n",
       "      <td>US02079K1079</td>\n",
       "      <td>GOOG US, GOOGL US</td>\n",
       "      <td>software services</td>\n",
       "      <td>2020-08-25</td>\n",
       "    </tr>\n",
       "    <tr>\n",
       "      <th>6863</th>\n",
       "      <td>7616</td>\n",
       "      <td>operational control</td>\n",
       "      <td>2021.0</td>\n",
       "      <td>Alphabet, Inc.</td>\n",
       "      <td>USA</td>\n",
       "      <td>Services</td>\n",
       "      <td>US02079K3059</td>\n",
       "      <td>GOOGL US</td>\n",
       "      <td>software services</td>\n",
       "      <td>2021-07-27</td>\n",
       "    </tr>\n",
       "    <tr>\n",
       "      <th>6864</th>\n",
       "      <td>7616</td>\n",
       "      <td>operational control</td>\n",
       "      <td>2022.0</td>\n",
       "      <td>Alphabet, Inc.</td>\n",
       "      <td>USA</td>\n",
       "      <td>Services</td>\n",
       "      <td>US02079K3059</td>\n",
       "      <td>GOOGL US</td>\n",
       "      <td>software services</td>\n",
       "      <td>2022-08-10</td>\n",
       "    </tr>\n",
       "    <tr>\n",
       "      <th>10661</th>\n",
       "      <td>11853</td>\n",
       "      <td>&lt;NA&gt;</td>\n",
       "      <td>2010.0</td>\n",
       "      <td>Micro Focus International</td>\n",
       "      <td>United Kingdom</td>\n",
       "      <td>Services</td>\n",
       "      <td>GB00B83XCK58</td>\n",
       "      <td>MCRO LN</td>\n",
       "      <td>software services</td>\n",
       "      <td>NaT</td>\n",
       "    </tr>\n",
       "    <tr>\n",
       "      <th>10662</th>\n",
       "      <td>11853</td>\n",
       "      <td>&lt;NA&gt;</td>\n",
       "      <td>2012.0</td>\n",
       "      <td>Micro Focus International</td>\n",
       "      <td>United Kingdom</td>\n",
       "      <td>Services</td>\n",
       "      <td>GB00B83XCK58</td>\n",
       "      <td>MCRO LN</td>\n",
       "      <td>software services</td>\n",
       "      <td>NaT</td>\n",
       "    </tr>\n",
       "    <tr>\n",
       "      <th>10663</th>\n",
       "      <td>11853</td>\n",
       "      <td>&lt;NA&gt;</td>\n",
       "      <td>2013.0</td>\n",
       "      <td>Micro Focus International</td>\n",
       "      <td>United Kingdom</td>\n",
       "      <td>Services</td>\n",
       "      <td>GB00B83XCK58</td>\n",
       "      <td>MCRO LN</td>\n",
       "      <td>software services</td>\n",
       "      <td>2013-05-29</td>\n",
       "    </tr>\n",
       "    <tr>\n",
       "      <th>10664</th>\n",
       "      <td>11853</td>\n",
       "      <td>&lt;NA&gt;</td>\n",
       "      <td>2014.0</td>\n",
       "      <td>Micro Focus International</td>\n",
       "      <td>United Kingdom</td>\n",
       "      <td>Services</td>\n",
       "      <td>GB00BCZM1F64</td>\n",
       "      <td>MCRO LN</td>\n",
       "      <td>software services</td>\n",
       "      <td>2014-05-29</td>\n",
       "    </tr>\n",
       "    <tr>\n",
       "      <th>10665</th>\n",
       "      <td>11853</td>\n",
       "      <td>&lt;NA&gt;</td>\n",
       "      <td>2015.0</td>\n",
       "      <td>Micro Focus International</td>\n",
       "      <td>United Kingdom</td>\n",
       "      <td>Services</td>\n",
       "      <td>GB00BCZM1F64</td>\n",
       "      <td>MCRO LN</td>\n",
       "      <td>software services</td>\n",
       "      <td>2015-07-01</td>\n",
       "    </tr>\n",
       "    <tr>\n",
       "      <th>10666</th>\n",
       "      <td>11853</td>\n",
       "      <td>&lt;NA&gt;</td>\n",
       "      <td>2016.0</td>\n",
       "      <td>Micro Focus International</td>\n",
       "      <td>United Kingdom</td>\n",
       "      <td>Services</td>\n",
       "      <td>GB00BCZM1F64</td>\n",
       "      <td>MCRO LN</td>\n",
       "      <td>software services</td>\n",
       "      <td>2016-06-29</td>\n",
       "    </tr>\n",
       "    <tr>\n",
       "      <th>10667</th>\n",
       "      <td>11853</td>\n",
       "      <td>&lt;NA&gt;</td>\n",
       "      <td>2017.0</td>\n",
       "      <td>Micro Focus International</td>\n",
       "      <td>United Kingdom</td>\n",
       "      <td>Services</td>\n",
       "      <td>GB00BCZM1F64</td>\n",
       "      <td>MCRO LN</td>\n",
       "      <td>software services</td>\n",
       "      <td>2017-06-27</td>\n",
       "    </tr>\n",
       "  </tbody>\n",
       "</table>\n",
       "</div>"
      ],
      "text/plain": [
       "          id   reporting_boundary    year                companyname  \\\n",
       "6852    7616                 <NA>  2010.0                Google Inc.   \n",
       "6853    7616                 <NA>  2011.0                Google Inc.   \n",
       "6854    7616                 <NA>  2012.0                Google Inc.   \n",
       "6855    7616                 <NA>  2013.0                Google Inc.   \n",
       "6856    7616                 <NA>  2014.0                Google Inc.   \n",
       "6857    7616                 <NA>  2015.0                Google Inc.   \n",
       "6858    7616                 <NA>  2016.0             Alphabet, Inc.   \n",
       "6859    7616                 <NA>  2017.0             Alphabet, Inc.   \n",
       "6860    7616  operational control  2018.0             Alphabet, Inc.   \n",
       "6861    7616  operational control  2019.0             Alphabet, Inc.   \n",
       "6862    7616  operational control  2020.0             Alphabet, Inc.   \n",
       "6863    7616  operational control  2021.0             Alphabet, Inc.   \n",
       "6864    7616  operational control  2022.0             Alphabet, Inc.   \n",
       "10661  11853                 <NA>  2010.0  Micro Focus International   \n",
       "10662  11853                 <NA>  2012.0  Micro Focus International   \n",
       "10663  11853                 <NA>  2013.0  Micro Focus International   \n",
       "10664  11853                 <NA>  2014.0  Micro Focus International   \n",
       "10665  11853                 <NA>  2015.0  Micro Focus International   \n",
       "10666  11853                 <NA>  2016.0  Micro Focus International   \n",
       "10667  11853                 <NA>  2017.0  Micro Focus International   \n",
       "\n",
       "              country industry14          isin             ticker  \\\n",
       "6852              USA       <NA>  US38259P5089            GOOG US   \n",
       "6853              USA       <NA>  US38259P5089            GOOG US   \n",
       "6854              USA       <NA>  US38259P5089            GOOG US   \n",
       "6855              USA       <NA>  US38259P5089            GOOG US   \n",
       "6856              USA       <NA>  US38259P5089            GOOG US   \n",
       "6857              USA       <NA>  US38259P7069            GOOG US   \n",
       "6858              USA   Services  US02079K1079            GOOG US   \n",
       "6859              USA   Services  US02079K1079            GOOG US   \n",
       "6860              USA   Services  US02079K1079  GOOG US, GOOGL US   \n",
       "6861              USA   Services  US02079K1079  GOOG US, GOOGL US   \n",
       "6862              USA   Services  US02079K1079  GOOG US, GOOGL US   \n",
       "6863              USA   Services  US02079K3059           GOOGL US   \n",
       "6864              USA   Services  US02079K3059           GOOGL US   \n",
       "10661  United Kingdom   Services  GB00B83XCK58            MCRO LN   \n",
       "10662  United Kingdom   Services  GB00B83XCK58            MCRO LN   \n",
       "10663  United Kingdom   Services  GB00B83XCK58            MCRO LN   \n",
       "10664  United Kingdom   Services  GB00BCZM1F64            MCRO LN   \n",
       "10665  United Kingdom   Services  GB00BCZM1F64            MCRO LN   \n",
       "10666  United Kingdom   Services  GB00BCZM1F64            MCRO LN   \n",
       "10667  United Kingdom   Services  GB00BCZM1F64            MCRO LN   \n",
       "\n",
       "              industry46    cdpdate  \n",
       "6852   software services        NaT  \n",
       "6853   software services        NaT  \n",
       "6854   software services        NaT  \n",
       "6855   software services 2013-06-28  \n",
       "6856   software services 2014-06-10  \n",
       "6857   software services 2015-06-30  \n",
       "6858   software services 2016-07-25  \n",
       "6859   software services 2017-07-15  \n",
       "6860   software services 2018-09-13  \n",
       "6861   software services 2019-08-29  \n",
       "6862   software services 2020-08-25  \n",
       "6863   software services 2021-07-27  \n",
       "6864   software services 2022-08-10  \n",
       "10661  software services        NaT  \n",
       "10662  software services        NaT  \n",
       "10663  software services 2013-05-29  \n",
       "10664  software services 2014-05-29  \n",
       "10665  software services 2015-07-01  \n",
       "10666  software services 2016-06-29  \n",
       "10667  software services 2017-06-27  "
      ]
     },
     "execution_count": 9,
     "metadata": {},
     "output_type": "execute_result"
    }
   ],
   "source": [
    "# Step 1: Group by 'id' and calculate unique 'isin' counts per 'id'\n",
    "unique_isin_counts = cdp_summary.groupby(\"id\")['isin'].nunique()\n",
    "\n",
    "# Step 2: Filter IDs that have exactly 4 unique 'isin' values\n",
    "ids_with_4_isins = unique_isin_counts[unique_isin_counts == 4].index\n",
    "\n",
    "# Step 3: Use these IDs to locate rows in the original DataFrame\n",
    "rows_with_4_isins = cdp_summary[cdp_summary['id'].isin(ids_with_4_isins)]\n",
    "\n",
    "\n",
    "rows_with_4_isins.head(20)"
   ]
  },
  {
   "cell_type": "code",
   "execution_count": 10,
   "metadata": {},
   "outputs": [],
   "source": [
    "# Assuming 'date_column' is the name of your date or timestamp column\n",
    "# Step 1: Identify the most recent 'isin' for each 'id'\n",
    "# Sort the DataFrame by 'id' and 'date_column' in descending order\n",
    "cdp_summary_sorted = cdp_summary.sort_values(by=['id', 'year'], ascending=[True, False])\n",
    "\n",
    "# Drop duplicates based on 'id', keeping the first (most recent) occurrence\n",
    "recent_isin_per_id = cdp_summary_sorted.drop_duplicates(subset='id', keep='first')[['id', 'isin']]\n",
    "\n",
    "# Step 2: Update all rows to use the most recent 'isin' for each 'id'\n",
    "# Merge the most recent 'isin' back onto the original DataFrame, based on 'id'\n",
    "cdp_summary_updated = cdp_summary.merge(recent_isin_per_id, on='id', suffixes=('', '_recent'))\n",
    "\n",
    "# Replace old 'isin' values with the most recent ones\n",
    "cdp_summary_updated['isin'] = cdp_summary_updated['isin_recent']\n",
    "\n",
    "# Drop the temporary 'isin_recent' column\n",
    "cdp_summary_updated.drop(columns=['isin_recent'], inplace=True)\n",
    "\n",
    "# cdp_summary_updated now has all rows updated to the most recent 'isin' for each 'id'\n",
    "cdp_summary = cdp_summary_updated"
   ]
  },
  {
   "cell_type": "code",
   "execution_count": 11,
   "metadata": {},
   "outputs": [
    {
     "data": {
      "text/plain": [
       "isin\n",
       "0    6959\n",
       "1    4330\n",
       "Name: count, dtype: int64"
      ]
     },
     "execution_count": 11,
     "metadata": {},
     "output_type": "execute_result"
    }
   ],
   "source": [
    "cdp_summary.groupby(\"id\")['isin'].nunique().value_counts()"
   ]
  },
  {
   "cell_type": "code",
   "execution_count": 12,
   "metadata": {},
   "outputs": [
    {
     "data": {
      "text/plain": [
       "11289"
      ]
     },
     "execution_count": 12,
     "metadata": {},
     "output_type": "execute_result"
    }
   ],
   "source": [
    "# number of unique fimrs\n",
    "len(cdp_summary['id'].unique())"
   ]
  },
  {
   "cell_type": "code",
   "execution_count": 13,
   "metadata": {},
   "outputs": [
    {
     "data": {
      "text/plain": [
       "9785"
      ]
     },
     "execution_count": 13,
     "metadata": {},
     "output_type": "execute_result"
    }
   ],
   "source": [
    "# number of firm years without an isin\n",
    "cdp_summary['isin'].isna().sum()"
   ]
  },
  {
   "cell_type": "code",
   "execution_count": 14,
   "metadata": {},
   "outputs": [
    {
     "data": {
      "text/plain": [
       "6959"
      ]
     },
     "execution_count": 14,
     "metadata": {},
     "output_type": "execute_result"
    }
   ],
   "source": [
    "# number of firm years without an isin \n",
    "(cdp_summary.groupby('id')['isin'].sum() == 0).sum()"
   ]
  },
  {
   "cell_type": "code",
   "execution_count": 15,
   "metadata": {},
   "outputs": [],
   "source": [
    "# dropping the firm years without an isin\n",
    "cdp_summary = cdp_summary[cdp_summary['isin'].notna()]"
   ]
  },
  {
   "cell_type": "code",
   "execution_count": 16,
   "metadata": {},
   "outputs": [
    {
     "data": {
      "text/plain": [
       "(24803, 10)"
      ]
     },
     "execution_count": 16,
     "metadata": {},
     "output_type": "execute_result"
    }
   ],
   "source": [
    "cdp_summary.shape"
   ]
  },
  {
   "cell_type": "code",
   "execution_count": 17,
   "metadata": {},
   "outputs": [
    {
     "data": {
      "text/plain": [
       "4330"
      ]
     },
     "execution_count": 17,
     "metadata": {},
     "output_type": "execute_result"
    }
   ],
   "source": [
    "# unique firm ids length\n",
    "len(cdp_summary['id'].unique())"
   ]
  },
  {
   "cell_type": "code",
   "execution_count": 18,
   "metadata": {},
   "outputs": [],
   "source": [
    "# creating an id_year_isin_mapping\n",
    "id_year_isin_mapping = cdp_summary[['id', 'year', 'isin']]"
   ]
  },
  {
   "cell_type": "code",
   "execution_count": 19,
   "metadata": {},
   "outputs": [
    {
     "data": {
      "text/html": [
       "<div>\n",
       "<style scoped>\n",
       "    .dataframe tbody tr th:only-of-type {\n",
       "        vertical-align: middle;\n",
       "    }\n",
       "\n",
       "    .dataframe tbody tr th {\n",
       "        vertical-align: top;\n",
       "    }\n",
       "\n",
       "    .dataframe thead th {\n",
       "        text-align: right;\n",
       "    }\n",
       "</style>\n",
       "<table border=\"1\" class=\"dataframe\">\n",
       "  <thead>\n",
       "    <tr style=\"text-align: right;\">\n",
       "      <th></th>\n",
       "      <th>id</th>\n",
       "      <th>year</th>\n",
       "      <th>isin</th>\n",
       "    </tr>\n",
       "  </thead>\n",
       "  <tbody>\n",
       "    <tr>\n",
       "      <th>0</th>\n",
       "      <td>44</td>\n",
       "      <td>2011.0</td>\n",
       "      <td>GB00B1YW4409</td>\n",
       "    </tr>\n",
       "    <tr>\n",
       "      <th>1</th>\n",
       "      <td>44</td>\n",
       "      <td>2012.0</td>\n",
       "      <td>GB00B1YW4409</td>\n",
       "    </tr>\n",
       "    <tr>\n",
       "      <th>2</th>\n",
       "      <td>44</td>\n",
       "      <td>2013.0</td>\n",
       "      <td>GB00B1YW4409</td>\n",
       "    </tr>\n",
       "    <tr>\n",
       "      <th>3</th>\n",
       "      <td>44</td>\n",
       "      <td>2014.0</td>\n",
       "      <td>GB00B1YW4409</td>\n",
       "    </tr>\n",
       "    <tr>\n",
       "      <th>4</th>\n",
       "      <td>44</td>\n",
       "      <td>2016.0</td>\n",
       "      <td>GB00B1YW4409</td>\n",
       "    </tr>\n",
       "    <tr>\n",
       "      <th>...</th>\n",
       "      <td>...</td>\n",
       "      <td>...</td>\n",
       "      <td>...</td>\n",
       "    </tr>\n",
       "    <tr>\n",
       "      <th>34550</th>\n",
       "      <td>895420</td>\n",
       "      <td>2022.0</td>\n",
       "      <td>KYG2R55E1030</td>\n",
       "    </tr>\n",
       "    <tr>\n",
       "      <th>34552</th>\n",
       "      <td>895480</td>\n",
       "      <td>2022.0</td>\n",
       "      <td>US6031581068</td>\n",
       "    </tr>\n",
       "    <tr>\n",
       "      <th>34564</th>\n",
       "      <td>895556</td>\n",
       "      <td>2022.0</td>\n",
       "      <td>US53960E1064</td>\n",
       "    </tr>\n",
       "    <tr>\n",
       "      <th>34572</th>\n",
       "      <td>895582</td>\n",
       "      <td>2022.0</td>\n",
       "      <td>MYL5211OO007</td>\n",
       "    </tr>\n",
       "    <tr>\n",
       "      <th>34583</th>\n",
       "      <td>895873</td>\n",
       "      <td>2022.0</td>\n",
       "      <td>US04206A1016</td>\n",
       "    </tr>\n",
       "  </tbody>\n",
       "</table>\n",
       "<p>24803 rows × 3 columns</p>\n",
       "</div>"
      ],
      "text/plain": [
       "           id    year          isin\n",
       "0          44  2011.0  GB00B1YW4409\n",
       "1          44  2012.0  GB00B1YW4409\n",
       "2          44  2013.0  GB00B1YW4409\n",
       "3          44  2014.0  GB00B1YW4409\n",
       "4          44  2016.0  GB00B1YW4409\n",
       "...       ...     ...           ...\n",
       "34550  895420  2022.0  KYG2R55E1030\n",
       "34552  895480  2022.0  US6031581068\n",
       "34564  895556  2022.0  US53960E1064\n",
       "34572  895582  2022.0  MYL5211OO007\n",
       "34583  895873  2022.0  US04206A1016\n",
       "\n",
       "[24803 rows x 3 columns]"
      ]
     },
     "execution_count": 19,
     "metadata": {},
     "output_type": "execute_result"
    }
   ],
   "source": [
    "# checking for duplicates\n",
    "id_year_isin_mapping"
   ]
  },
  {
   "cell_type": "code",
   "execution_count": 20,
   "metadata": {},
   "outputs": [
    {
     "data": {
      "text/plain": [
       "isin\n",
       "1    4330\n",
       "Name: count, dtype: int64"
      ]
     },
     "execution_count": 20,
     "metadata": {},
     "output_type": "execute_result"
    }
   ],
   "source": [
    "id_year_isin_mapping.groupby(['id']).isin.nunique().value_counts()"
   ]
  },
  {
   "cell_type": "code",
   "execution_count": 21,
   "metadata": {},
   "outputs": [],
   "source": [
    "# drop rows where isin == \"NA\"\n",
    "id_year_isin_mapping = id_year_isin_mapping[id_year_isin_mapping['isin'] != \"NA\"]\n",
    "\n",
    "# drop the value 0 and \"\"\n",
    "id_year_isin_mapping = id_year_isin_mapping[id_year_isin_mapping['isin'] != 0]\n",
    "id_year_isin_mapping = id_year_isin_mapping[id_year_isin_mapping['isin'] != \"\"]"
   ]
  },
  {
   "cell_type": "code",
   "execution_count": 22,
   "metadata": {},
   "outputs": [
    {
     "data": {
      "text/plain": [
       "4302"
      ]
     },
     "execution_count": 22,
     "metadata": {},
     "output_type": "execute_result"
    }
   ],
   "source": [
    "len(id_year_isin_mapping['isin'].unique())"
   ]
  },
  {
   "cell_type": "code",
   "execution_count": 23,
   "metadata": {},
   "outputs": [
    {
     "data": {
      "text/plain": [
       "array(['GB00B1YW4409', 'ES0111845014', 'US0009571003', ...,\n",
       "       'US53960E1064', 'MYL5211OO007', 'US04206A1016'], dtype=object)"
      ]
     },
     "execution_count": 23,
     "metadata": {},
     "output_type": "execute_result"
    }
   ],
   "source": [
    "id_year_isin_mapping['isin'].unique()"
   ]
  },
  {
   "cell_type": "code",
   "execution_count": 24,
   "metadata": {},
   "outputs": [],
   "source": [
    "# preparing the data for wrds query\n",
    "unique_isin_series = id_year_isin_mapping['isin'].unique()\n",
    "\n",
    "# Open a text file in write mode\n",
    "with open('unique_isin_values.txt', 'w') as file:\n",
    "    for isin in unique_isin_series:\n",
    "        file.write(f\"{isin}\\n\")  # Write each ISIN followed by a newline"
   ]
  },
  {
   "cell_type": "code",
   "execution_count": 25,
   "metadata": {},
   "outputs": [],
   "source": [
    "# read financial.csv\n",
    "financial = pd.read_csv(\"../../data/raw/financial_v2.csv\")"
   ]
  },
  {
   "cell_type": "code",
   "execution_count": 26,
   "metadata": {},
   "outputs": [
    {
     "data": {
      "text/plain": [
       "Index(['code', 'year_', 'freq', 'ITEM7011', 'ITEM7210', 'ITEM7220', 'ITEM7230',\n",
       "       'ITEM7240', 'ITEM7250', 'ITEM8301', 'ITEM8601', 'ITEM8621', 'ITEM8626',\n",
       "       'ITEM8630', 'ITEM8636', 'ITEM6001', 'ITEM6008', 'ITEM6011'],\n",
       "      dtype='object')"
      ]
     },
     "execution_count": 26,
     "metadata": {},
     "output_type": "execute_result"
    }
   ],
   "source": [
    "financial.columns"
   ]
  },
  {
   "cell_type": "code",
   "execution_count": 27,
   "metadata": {},
   "outputs": [],
   "source": [
    "colnames = ['code', 'year', 'freq', 'employees', 'mkt cap', 'common equity',\n",
    "       'tot assets', 'revenue', 'net income', 'roe', 'eps 1yr gr', 'assets 1y gr',\n",
    "        'employees 1y gr', 'employees 5y gr', 'net income 1y gr', 'name', 'isin', 'sector']"
   ]
  },
  {
   "cell_type": "code",
   "execution_count": 28,
   "metadata": {},
   "outputs": [],
   "source": [
    "financial.columns = colnames"
   ]
  },
  {
   "cell_type": "code",
   "execution_count": 29,
   "metadata": {},
   "outputs": [
    {
     "data": {
      "text/plain": [
       "(4215,)"
      ]
     },
     "execution_count": 29,
     "metadata": {},
     "output_type": "execute_result"
    }
   ],
   "source": [
    "financial['isin'].unique().shape"
   ]
  },
  {
   "cell_type": "markdown",
   "metadata": {},
   "source": [
    "There are 186 firms without wrds data\n",
    "\n",
    "- there also seem to be 99 isins that I dropped but that still are in refinitiv, it might be the case that those isins where changed to a later one, or that the new one is not registered yet\n",
    "- i would drop the 186 firms that don't have the most recent isin"
   ]
  },
  {
   "cell_type": "code",
   "execution_count": 30,
   "metadata": {},
   "outputs": [
    {
     "data": {
      "text/plain": [
       "4316"
      ]
     },
     "execution_count": 30,
     "metadata": {},
     "output_type": "execute_result"
    }
   ],
   "source": [
    "# get using id_isins, all the ids that correspond to the unique_isin_series\n",
    "\n",
    "len(id_isin.loc[id_isin['isin'].isin(unique_isin_series)]['id'].unique())"
   ]
  },
  {
   "cell_type": "code",
   "execution_count": 31,
   "metadata": {},
   "outputs": [
    {
     "data": {
      "text/plain": [
       "4149"
      ]
     },
     "execution_count": 31,
     "metadata": {},
     "output_type": "execute_result"
    }
   ],
   "source": [
    "len(id_isin.loc[id_isin['isin'].isin(financial['isin'])]['id'].unique())"
   ]
  },
  {
   "cell_type": "code",
   "execution_count": 32,
   "metadata": {},
   "outputs": [
    {
     "data": {
      "text/plain": [
       "167"
      ]
     },
     "execution_count": 32,
     "metadata": {},
     "output_type": "execute_result"
    }
   ],
   "source": [
    "4316 - 4149"
   ]
  },
  {
   "cell_type": "code",
   "execution_count": 33,
   "metadata": {},
   "outputs": [
    {
     "data": {
      "text/plain": [
       "0.961306765523633"
      ]
     },
     "execution_count": 33,
     "metadata": {},
     "output_type": "execute_result"
    }
   ],
   "source": [
    "4149/4316"
   ]
  },
  {
   "cell_type": "code",
   "execution_count": 34,
   "metadata": {},
   "outputs": [],
   "source": [
    "# Merge financial DataFrame with id_isin DataFrame based on 'isin' column\n",
    "# Assuming 'isin' is the common column in both DataFrames\n",
    "# This adds the 'id' column from id_isin to financial based on matching 'isin' values\n",
    "financial = financial.merge(id_isin[['isin', 'id']], on='isin', how='left')"
   ]
  },
  {
   "cell_type": "code",
   "execution_count": 35,
   "metadata": {},
   "outputs": [],
   "source": [
    "financial.sort_values(by=['id', 'year'], inplace=True)"
   ]
  },
  {
   "cell_type": "code",
   "execution_count": 36,
   "metadata": {},
   "outputs": [
    {
     "data": {
      "text/plain": [
       "array([4350., 8580., 3410., 4395., 8240., 5510., 2580., 6130., 4090.,\n",
       "       8220., 3110., 4310., 2840., 2810., 5290., 4370., 3430.,   nan,\n",
       "       8210., 4030., 4050., 2510., 7910., 8510., 7080., 8592., 7950.,\n",
       "       4970., 7010., 4010., 2893., 4080., 4060., 5240., 8260., 5292.,\n",
       "       4610., 1920., 6140., 2530., 5291., 2870., 5220., 8591., 4992.,\n",
       "       6430., 4320., 5210., 6110., 3740., 4380., 7620., 8250., 6770.,\n",
       "       2210., 6440., 8230., 3420., 4391., 4392., 5820., 8270., 6750.,\n",
       "       5230., 8540., 5280., 4660., 6710., 8530., 7970., 2540., 1910.,\n",
       "       5570., 4394., 3730., 7091., 4690., 5530., 1320., 5870., 4070.,\n",
       "       2230., 4940., 3440., 6120., 5880., 4630., 2880., 2550., 4620.,\n",
       "       4930., 2220., 4910., 1610., 5890., 7920., 3750., 6780., 7060.,\n",
       "       7070., 2520., 7930., 4040., 7320., 5850., 4640., 8550., 1350.,\n",
       "       5830., 8280., 4680., 4390., 3710., 2892., 7940., 4950., 7040.,\n",
       "       8590., 4020., 6760., 7020., 4920., 4650., 7030., 8570., 7960.,\n",
       "       8520., 6420., 5250., 2890., 5560., 6740., 2891., 4980., 4360.,\n",
       "       7310., 4991., 7630., 6450., 1930., 5520., 2570., 8290., 4990.,\n",
       "       4670., 1310., 1940., 6720., 1640., 6410., 3720., 4960., 5270.,\n",
       "       7340., 2850., 5810., 6730., 1620., 5860., 3100., 5260., 5550.,\n",
       "       8560., 7330., 1900., 7050., 5540., 2820., 4000., 4600., 6100.])"
      ]
     },
     "execution_count": 36,
     "metadata": {},
     "output_type": "execute_result"
    }
   ],
   "source": [
    "financial['sector'].unique()"
   ]
  },
  {
   "cell_type": "code",
   "execution_count": 37,
   "metadata": {},
   "outputs": [
    {
     "data": {
      "text/plain": [
       "code                0.000000\n",
       "year                0.000000\n",
       "freq                0.000000\n",
       "employees           0.266797\n",
       "mkt cap             0.089789\n",
       "common equity       0.175666\n",
       "tot assets          0.170654\n",
       "revenue             0.169636\n",
       "net income          0.169717\n",
       "roe                 0.195971\n",
       "eps 1yr gr          0.255497\n",
       "assets 1y gr        0.184574\n",
       "employees 1y gr     0.288218\n",
       "employees 5y gr     0.346886\n",
       "net income 1y gr    0.340452\n",
       "name                0.000000\n",
       "isin                0.000000\n",
       "sector              0.124709\n",
       "id                  0.000000\n",
       "dtype: float64"
      ]
     },
     "execution_count": 37,
     "metadata": {},
     "output_type": "execute_result"
    }
   ],
   "source": [
    "financial.isna().mean()"
   ]
  },
  {
   "cell_type": "code",
   "execution_count": 38,
   "metadata": {},
   "outputs": [],
   "source": [
    "financial_selected = financial[['id', 'year', 'sector', 'employees', 'mkt cap', 'tot assets', 'revenue', 'net income', 'roe', 'eps 1yr gr', 'assets 1y gr', 'employees 1y gr', 'net income 1y gr']]"
   ]
  },
  {
   "cell_type": "markdown",
   "metadata": {},
   "source": [
    "Note that I have to align financial to summary, so since summary 2022 = financial 2021, I will add 1 to financial year to align"
   ]
  },
  {
   "cell_type": "code",
   "execution_count": 39,
   "metadata": {},
   "outputs": [],
   "source": [
    "financial_selected = financial_selected.copy()\n",
    "financial_selected['year'] = financial_selected['year'] + 1"
   ]
  },
  {
   "cell_type": "code",
   "execution_count": 40,
   "metadata": {},
   "outputs": [],
   "source": [
    "# inner join with cdp_summary so if there is no financial data at all we remove the firm year\n",
    "cdp_summary = cdp_summary.merge(financial_selected, on=['id', 'year'], how='inner')"
   ]
  },
  {
   "cell_type": "code",
   "execution_count": 41,
   "metadata": {},
   "outputs": [],
   "source": [
    "cdp_summary.dropna(subset=['tot assets'], inplace=True)"
   ]
  },
  {
   "cell_type": "code",
   "execution_count": 42,
   "metadata": {},
   "outputs": [
    {
     "data": {
      "text/plain": [
       "(22474, 21)"
      ]
     },
     "execution_count": 42,
     "metadata": {},
     "output_type": "execute_result"
    }
   ],
   "source": [
    "# firm years after merging with financial information\n",
    "cdp_summary.shape"
   ]
  },
  {
   "cell_type": "code",
   "execution_count": 43,
   "metadata": {},
   "outputs": [
    {
     "data": {
      "text/plain": [
       "id                    0.000000\n",
       "reporting_boundary    0.517932\n",
       "year                  0.000000\n",
       "companyname           0.000000\n",
       "country               0.000044\n",
       "industry14            0.129527\n",
       "isin                  0.000000\n",
       "ticker                0.010234\n",
       "industry46            0.215627\n",
       "cdpdate               0.122586\n",
       "sector                0.000000\n",
       "employees             0.082050\n",
       "mkt cap               0.008632\n",
       "tot assets            0.000000\n",
       "revenue               0.000178\n",
       "net income            0.000133\n",
       "roe                   0.018644\n",
       "eps 1yr gr            0.192178\n",
       "assets 1y gr          0.008721\n",
       "employees 1y gr       0.097802\n",
       "net income 1y gr      0.190086\n",
       "dtype: float64"
      ]
     },
     "execution_count": 43,
     "metadata": {},
     "output_type": "execute_result"
    }
   ],
   "source": [
    "cdp_summary.isna().mean()"
   ]
  },
  {
   "cell_type": "code",
   "execution_count": 44,
   "metadata": {},
   "outputs": [],
   "source": [
    "# write unique cdp summary isins to a txt file\n",
    "unique_isin_series = cdp_summary['isin'].unique()\n",
    "\n",
    "# Open a text file in write mode\n",
    "with open('unique_isin_values_cdp_summary.txt', 'w') as file:\n",
    "    for isin in unique_isin_series:\n",
    "        file.write(f\"{isin}\\n\")  # Write each ISIN followed by a newline"
   ]
  },
  {
   "cell_type": "code",
   "execution_count": 45,
   "metadata": {},
   "outputs": [
    {
     "data": {
      "text/html": [
       "<div>\n",
       "<style scoped>\n",
       "    .dataframe tbody tr th:only-of-type {\n",
       "        vertical-align: middle;\n",
       "    }\n",
       "\n",
       "    .dataframe tbody tr th {\n",
       "        vertical-align: top;\n",
       "    }\n",
       "\n",
       "    .dataframe thead th {\n",
       "        text-align: right;\n",
       "    }\n",
       "</style>\n",
       "<table border=\"1\" class=\"dataframe\">\n",
       "  <thead>\n",
       "    <tr style=\"text-align: right;\">\n",
       "      <th></th>\n",
       "      <th>id</th>\n",
       "      <th>reporting_boundary</th>\n",
       "      <th>year</th>\n",
       "      <th>companyname</th>\n",
       "      <th>country</th>\n",
       "      <th>industry14</th>\n",
       "      <th>isin</th>\n",
       "      <th>ticker</th>\n",
       "      <th>industry46</th>\n",
       "      <th>cdpdate</th>\n",
       "      <th>...</th>\n",
       "      <th>employees</th>\n",
       "      <th>mkt cap</th>\n",
       "      <th>tot assets</th>\n",
       "      <th>revenue</th>\n",
       "      <th>net income</th>\n",
       "      <th>roe</th>\n",
       "      <th>eps 1yr gr</th>\n",
       "      <th>assets 1y gr</th>\n",
       "      <th>employees 1y gr</th>\n",
       "      <th>net income 1y gr</th>\n",
       "    </tr>\n",
       "  </thead>\n",
       "  <tbody>\n",
       "    <tr>\n",
       "      <th>23</th>\n",
       "      <td>58</td>\n",
       "      <td>operational control</td>\n",
       "      <td>2021.0</td>\n",
       "      <td>ABM INDUSTRIES INC</td>\n",
       "      <td>USA</td>\n",
       "      <td>Services</td>\n",
       "      <td>US0009571003</td>\n",
       "      <td>ABM US</td>\n",
       "      <td>&lt;NA&gt;</td>\n",
       "      <td>2021-07-28</td>\n",
       "      <td>...</td>\n",
       "      <td>114000.0</td>\n",
       "      <td>2.525750e+09</td>\n",
       "      <td>3.776900e+09</td>\n",
       "      <td>5.987600e+09</td>\n",
       "      <td>3.000000e+05</td>\n",
       "      <td>0.01972</td>\n",
       "      <td>-99.76580</td>\n",
       "      <td>2.28294</td>\n",
       "      <td>-18.57143</td>\n",
       "      <td>-99.76471</td>\n",
       "    </tr>\n",
       "    <tr>\n",
       "      <th>24</th>\n",
       "      <td>58</td>\n",
       "      <td>operational control</td>\n",
       "      <td>2022.0</td>\n",
       "      <td>ABM INDUSTRIES INC</td>\n",
       "      <td>USA</td>\n",
       "      <td>Services</td>\n",
       "      <td>US0009571003</td>\n",
       "      <td>ABM US</td>\n",
       "      <td>&lt;NA&gt;</td>\n",
       "      <td>2022-07-29</td>\n",
       "      <td>...</td>\n",
       "      <td>124000.0</td>\n",
       "      <td>2.749305e+09</td>\n",
       "      <td>4.436200e+09</td>\n",
       "      <td>6.228600e+09</td>\n",
       "      <td>1.263000e+08</td>\n",
       "      <td>8.12349</td>\n",
       "      <td>41544.61883</td>\n",
       "      <td>17.45611</td>\n",
       "      <td>8.77193</td>\n",
       "      <td>42000.00000</td>\n",
       "    </tr>\n",
       "    <tr>\n",
       "      <th>25</th>\n",
       "      <td>64</td>\n",
       "      <td>&lt;NA&gt;</td>\n",
       "      <td>2011.0</td>\n",
       "      <td>Abbott Laboratories</td>\n",
       "      <td>USA</td>\n",
       "      <td>Biotech, health care &amp; pharma</td>\n",
       "      <td>US0028241000</td>\n",
       "      <td>ABT US</td>\n",
       "      <td>pharmaceuticals biotechnology life sciences</td>\n",
       "      <td>NaT</td>\n",
       "      <td>...</td>\n",
       "      <td>90000.0</td>\n",
       "      <td>7.411600e+10</td>\n",
       "      <td>5.881024e+10</td>\n",
       "      <td>3.516700e+10</td>\n",
       "      <td>4.626000e+09</td>\n",
       "      <td>20.44999</td>\n",
       "      <td>-19.51220</td>\n",
       "      <td>13.88856</td>\n",
       "      <td>23.28767</td>\n",
       "      <td>-19.48656</td>\n",
       "    </tr>\n",
       "    <tr>\n",
       "      <th>26</th>\n",
       "      <td>64</td>\n",
       "      <td>&lt;NA&gt;</td>\n",
       "      <td>2012.0</td>\n",
       "      <td>Abbott Laboratories</td>\n",
       "      <td>USA</td>\n",
       "      <td>Biotech, health care &amp; pharma</td>\n",
       "      <td>US0028241000</td>\n",
       "      <td>ABT US</td>\n",
       "      <td>pharmaceuticals biotechnology life sciences</td>\n",
       "      <td>NaT</td>\n",
       "      <td>...</td>\n",
       "      <td>91000.0</td>\n",
       "      <td>8.830240e+10</td>\n",
       "      <td>5.831397e+10</td>\n",
       "      <td>3.885100e+10</td>\n",
       "      <td>4.728449e+09</td>\n",
       "      <td>20.07125</td>\n",
       "      <td>1.68350</td>\n",
       "      <td>-0.84385</td>\n",
       "      <td>1.11111</td>\n",
       "      <td>2.21083</td>\n",
       "    </tr>\n",
       "    <tr>\n",
       "      <th>27</th>\n",
       "      <td>64</td>\n",
       "      <td>&lt;NA&gt;</td>\n",
       "      <td>2013.0</td>\n",
       "      <td>Abbott Laboratories</td>\n",
       "      <td>USA</td>\n",
       "      <td>Biotech, health care &amp; pharma</td>\n",
       "      <td>US0028241000</td>\n",
       "      <td>ABT US</td>\n",
       "      <td>pharmaceuticals biotechnology life sciences</td>\n",
       "      <td>2013-05-30</td>\n",
       "      <td>...</td>\n",
       "      <td>91000.0</td>\n",
       "      <td>1.032717e+11</td>\n",
       "      <td>6.420664e+10</td>\n",
       "      <td>3.987391e+10</td>\n",
       "      <td>5.962920e+09</td>\n",
       "      <td>23.31051</td>\n",
       "      <td>23.84106</td>\n",
       "      <td>10.10507</td>\n",
       "      <td>0.00000</td>\n",
       "      <td>26.10731</td>\n",
       "    </tr>\n",
       "    <tr>\n",
       "      <th>...</th>\n",
       "      <td>...</td>\n",
       "      <td>...</td>\n",
       "      <td>...</td>\n",
       "      <td>...</td>\n",
       "      <td>...</td>\n",
       "      <td>...</td>\n",
       "      <td>...</td>\n",
       "      <td>...</td>\n",
       "      <td>...</td>\n",
       "      <td>...</td>\n",
       "      <td>...</td>\n",
       "      <td>...</td>\n",
       "      <td>...</td>\n",
       "      <td>...</td>\n",
       "      <td>...</td>\n",
       "      <td>...</td>\n",
       "      <td>...</td>\n",
       "      <td>...</td>\n",
       "      <td>...</td>\n",
       "      <td>...</td>\n",
       "      <td>...</td>\n",
       "    </tr>\n",
       "    <tr>\n",
       "      <th>26591</th>\n",
       "      <td>893875</td>\n",
       "      <td>operational control</td>\n",
       "      <td>2022.0</td>\n",
       "      <td>Sunnova Energy International</td>\n",
       "      <td>USA</td>\n",
       "      <td>Power generation</td>\n",
       "      <td>US86745K1043</td>\n",
       "      <td>NOVA UN</td>\n",
       "      <td>&lt;NA&gt;</td>\n",
       "      <td>2022-08-02</td>\n",
       "      <td>...</td>\n",
       "      <td>738.0</td>\n",
       "      <td>3.165754e+09</td>\n",
       "      <td>5.504234e+09</td>\n",
       "      <td>2.417520e+08</td>\n",
       "      <td>-1.381280e+08</td>\n",
       "      <td>-12.90177</td>\n",
       "      <td>NaN</td>\n",
       "      <td>53.42462</td>\n",
       "      <td>85.42714</td>\n",
       "      <td>NaN</td>\n",
       "    </tr>\n",
       "    <tr>\n",
       "      <th>26594</th>\n",
       "      <td>894946</td>\n",
       "      <td>operational control</td>\n",
       "      <td>2022.0</td>\n",
       "      <td>Primoris Services Corporation</td>\n",
       "      <td>USA</td>\n",
       "      <td>Infrastructure</td>\n",
       "      <td>US74164F1030</td>\n",
       "      <td>PRIM UW</td>\n",
       "      <td>&lt;NA&gt;</td>\n",
       "      <td>2022-07-11</td>\n",
       "      <td>...</td>\n",
       "      <td>1925.0</td>\n",
       "      <td>1.275606e+09</td>\n",
       "      <td>2.542020e+09</td>\n",
       "      <td>3.497632e+09</td>\n",
       "      <td>1.156110e+08</td>\n",
       "      <td>13.56292</td>\n",
       "      <td>0.75238</td>\n",
       "      <td>29.18928</td>\n",
       "      <td>9.25085</td>\n",
       "      <td>10.13299</td>\n",
       "    </tr>\n",
       "    <tr>\n",
       "      <th>26595</th>\n",
       "      <td>895062</td>\n",
       "      <td>operational control</td>\n",
       "      <td>2022.0</td>\n",
       "      <td>Asana, Inc.</td>\n",
       "      <td>USA</td>\n",
       "      <td>Services</td>\n",
       "      <td>US04342Y1047</td>\n",
       "      <td>ASAN UN</td>\n",
       "      <td>&lt;NA&gt;</td>\n",
       "      <td>2022-07-28</td>\n",
       "      <td>...</td>\n",
       "      <td>1666.0</td>\n",
       "      <td>1.403765e+10</td>\n",
       "      <td>7.070350e+08</td>\n",
       "      <td>3.784370e+08</td>\n",
       "      <td>-2.883420e+08</td>\n",
       "      <td>-301.84820</td>\n",
       "      <td>NaN</td>\n",
       "      <td>-3.29413</td>\n",
       "      <td>54.25926</td>\n",
       "      <td>NaN</td>\n",
       "    </tr>\n",
       "    <tr>\n",
       "      <th>26599</th>\n",
       "      <td>895480</td>\n",
       "      <td>operational control</td>\n",
       "      <td>2022.0</td>\n",
       "      <td>Minerals Technologies Inc.</td>\n",
       "      <td>USA</td>\n",
       "      <td>Materials</td>\n",
       "      <td>US6031581068</td>\n",
       "      <td>MTX UN</td>\n",
       "      <td>&lt;NA&gt;</td>\n",
       "      <td>2022-07-27</td>\n",
       "      <td>...</td>\n",
       "      <td>3961.0</td>\n",
       "      <td>2.426912e+09</td>\n",
       "      <td>3.351200e+09</td>\n",
       "      <td>1.858300e+09</td>\n",
       "      <td>1.644000e+08</td>\n",
       "      <td>10.95963</td>\n",
       "      <td>47.99440</td>\n",
       "      <td>5.24795</td>\n",
       "      <td>11.07684</td>\n",
       "      <td>46.26335</td>\n",
       "    </tr>\n",
       "    <tr>\n",
       "      <th>26602</th>\n",
       "      <td>895873</td>\n",
       "      <td>operational control</td>\n",
       "      <td>2022.0</td>\n",
       "      <td>Arlo Technologies Inc.</td>\n",
       "      <td>USA</td>\n",
       "      <td>Manufacturing</td>\n",
       "      <td>US04206A1016</td>\n",
       "      <td>ARLO UN</td>\n",
       "      <td>&lt;NA&gt;</td>\n",
       "      <td>2022-09-28</td>\n",
       "      <td>...</td>\n",
       "      <td>353.0</td>\n",
       "      <td>8.859142e+08</td>\n",
       "      <td>3.474900e+08</td>\n",
       "      <td>4.351370e+08</td>\n",
       "      <td>-5.602900e+07</td>\n",
       "      <td>-45.47458</td>\n",
       "      <td>NaN</td>\n",
       "      <td>-16.05873</td>\n",
       "      <td>-1.67131</td>\n",
       "      <td>NaN</td>\n",
       "    </tr>\n",
       "  </tbody>\n",
       "</table>\n",
       "<p>4792 rows × 21 columns</p>\n",
       "</div>"
      ],
      "text/plain": [
       "           id   reporting_boundary    year                    companyname  \\\n",
       "23         58  operational control  2021.0             ABM INDUSTRIES INC   \n",
       "24         58  operational control  2022.0             ABM INDUSTRIES INC   \n",
       "25         64                 <NA>  2011.0            Abbott Laboratories   \n",
       "26         64                 <NA>  2012.0            Abbott Laboratories   \n",
       "27         64                 <NA>  2013.0            Abbott Laboratories   \n",
       "...       ...                  ...     ...                            ...   \n",
       "26591  893875  operational control  2022.0   Sunnova Energy International   \n",
       "26594  894946  operational control  2022.0  Primoris Services Corporation   \n",
       "26595  895062  operational control  2022.0                    Asana, Inc.   \n",
       "26599  895480  operational control  2022.0     Minerals Technologies Inc.   \n",
       "26602  895873  operational control  2022.0         Arlo Technologies Inc.   \n",
       "\n",
       "      country                     industry14          isin   ticker  \\\n",
       "23        USA                       Services  US0009571003   ABM US   \n",
       "24        USA                       Services  US0009571003   ABM US   \n",
       "25        USA  Biotech, health care & pharma  US0028241000   ABT US   \n",
       "26        USA  Biotech, health care & pharma  US0028241000   ABT US   \n",
       "27        USA  Biotech, health care & pharma  US0028241000   ABT US   \n",
       "...       ...                            ...           ...      ...   \n",
       "26591     USA               Power generation  US86745K1043  NOVA UN   \n",
       "26594     USA                 Infrastructure  US74164F1030  PRIM UW   \n",
       "26595     USA                       Services  US04342Y1047  ASAN UN   \n",
       "26599     USA                      Materials  US6031581068   MTX UN   \n",
       "26602     USA                  Manufacturing  US04206A1016  ARLO UN   \n",
       "\n",
       "                                        industry46    cdpdate  ...  employees  \\\n",
       "23                                            <NA> 2021-07-28  ...   114000.0   \n",
       "24                                            <NA> 2022-07-29  ...   124000.0   \n",
       "25     pharmaceuticals biotechnology life sciences        NaT  ...    90000.0   \n",
       "26     pharmaceuticals biotechnology life sciences        NaT  ...    91000.0   \n",
       "27     pharmaceuticals biotechnology life sciences 2013-05-30  ...    91000.0   \n",
       "...                                            ...        ...  ...        ...   \n",
       "26591                                         <NA> 2022-08-02  ...      738.0   \n",
       "26594                                         <NA> 2022-07-11  ...     1925.0   \n",
       "26595                                         <NA> 2022-07-28  ...     1666.0   \n",
       "26599                                         <NA> 2022-07-27  ...     3961.0   \n",
       "26602                                         <NA> 2022-09-28  ...      353.0   \n",
       "\n",
       "            mkt cap    tot assets       revenue    net income        roe  \\\n",
       "23     2.525750e+09  3.776900e+09  5.987600e+09  3.000000e+05    0.01972   \n",
       "24     2.749305e+09  4.436200e+09  6.228600e+09  1.263000e+08    8.12349   \n",
       "25     7.411600e+10  5.881024e+10  3.516700e+10  4.626000e+09   20.44999   \n",
       "26     8.830240e+10  5.831397e+10  3.885100e+10  4.728449e+09   20.07125   \n",
       "27     1.032717e+11  6.420664e+10  3.987391e+10  5.962920e+09   23.31051   \n",
       "...             ...           ...           ...           ...        ...   \n",
       "26591  3.165754e+09  5.504234e+09  2.417520e+08 -1.381280e+08  -12.90177   \n",
       "26594  1.275606e+09  2.542020e+09  3.497632e+09  1.156110e+08   13.56292   \n",
       "26595  1.403765e+10  7.070350e+08  3.784370e+08 -2.883420e+08 -301.84820   \n",
       "26599  2.426912e+09  3.351200e+09  1.858300e+09  1.644000e+08   10.95963   \n",
       "26602  8.859142e+08  3.474900e+08  4.351370e+08 -5.602900e+07  -45.47458   \n",
       "\n",
       "        eps 1yr gr  assets 1y gr  employees 1y gr  net income 1y gr  \n",
       "23       -99.76580       2.28294        -18.57143         -99.76471  \n",
       "24     41544.61883      17.45611          8.77193       42000.00000  \n",
       "25       -19.51220      13.88856         23.28767         -19.48656  \n",
       "26         1.68350      -0.84385          1.11111           2.21083  \n",
       "27        23.84106      10.10507          0.00000          26.10731  \n",
       "...            ...           ...              ...               ...  \n",
       "26591          NaN      53.42462         85.42714               NaN  \n",
       "26594      0.75238      29.18928          9.25085          10.13299  \n",
       "26595          NaN      -3.29413         54.25926               NaN  \n",
       "26599     47.99440       5.24795         11.07684          46.26335  \n",
       "26602          NaN     -16.05873         -1.67131               NaN  \n",
       "\n",
       "[4792 rows x 21 columns]"
      ]
     },
     "execution_count": 45,
     "metadata": {},
     "output_type": "execute_result"
    }
   ],
   "source": [
    "cdp_summary.loc[cdp_summary['country'] == \"USA\"]"
   ]
  },
  {
   "cell_type": "code",
   "execution_count": 46,
   "metadata": {},
   "outputs": [],
   "source": [
    "gics_int = pd.read_csv(\"../../data/raw/gics_int.csv\")"
   ]
  },
  {
   "cell_type": "code",
   "execution_count": 47,
   "metadata": {},
   "outputs": [
    {
     "data": {
      "text/html": [
       "<div>\n",
       "<style scoped>\n",
       "    .dataframe tbody tr th:only-of-type {\n",
       "        vertical-align: middle;\n",
       "    }\n",
       "\n",
       "    .dataframe tbody tr th {\n",
       "        vertical-align: top;\n",
       "    }\n",
       "\n",
       "    .dataframe thead th {\n",
       "        text-align: right;\n",
       "    }\n",
       "</style>\n",
       "<table border=\"1\" class=\"dataframe\">\n",
       "  <thead>\n",
       "    <tr style=\"text-align: right;\">\n",
       "      <th></th>\n",
       "      <th>gvkey</th>\n",
       "      <th>fyear</th>\n",
       "      <th>datadate</th>\n",
       "      <th>isin</th>\n",
       "      <th>gind</th>\n",
       "    </tr>\n",
       "  </thead>\n",
       "  <tbody>\n",
       "    <tr>\n",
       "      <th>0</th>\n",
       "      <td>1166</td>\n",
       "      <td>2010.0</td>\n",
       "      <td>2010-12-31</td>\n",
       "      <td>NL0000334118</td>\n",
       "      <td>453010.0</td>\n",
       "    </tr>\n",
       "    <tr>\n",
       "      <th>1</th>\n",
       "      <td>1166</td>\n",
       "      <td>2011.0</td>\n",
       "      <td>2011-12-31</td>\n",
       "      <td>NL0000334118</td>\n",
       "      <td>453010.0</td>\n",
       "    </tr>\n",
       "    <tr>\n",
       "      <th>2</th>\n",
       "      <td>1166</td>\n",
       "      <td>2012.0</td>\n",
       "      <td>2012-12-31</td>\n",
       "      <td>NL0000334118</td>\n",
       "      <td>453010.0</td>\n",
       "    </tr>\n",
       "    <tr>\n",
       "      <th>3</th>\n",
       "      <td>1166</td>\n",
       "      <td>2013.0</td>\n",
       "      <td>2013-12-31</td>\n",
       "      <td>NL0000334118</td>\n",
       "      <td>453010.0</td>\n",
       "    </tr>\n",
       "    <tr>\n",
       "      <th>4</th>\n",
       "      <td>1166</td>\n",
       "      <td>2014.0</td>\n",
       "      <td>2014-12-31</td>\n",
       "      <td>NL0000334118</td>\n",
       "      <td>453010.0</td>\n",
       "    </tr>\n",
       "    <tr>\n",
       "      <th>...</th>\n",
       "      <td>...</td>\n",
       "      <td>...</td>\n",
       "      <td>...</td>\n",
       "      <td>...</td>\n",
       "      <td>...</td>\n",
       "    </tr>\n",
       "    <tr>\n",
       "      <th>38004</th>\n",
       "      <td>352810</td>\n",
       "      <td>2018.0</td>\n",
       "      <td>2018-12-31</td>\n",
       "      <td>BRAUREACNOR9</td>\n",
       "      <td>551050.0</td>\n",
       "    </tr>\n",
       "    <tr>\n",
       "      <th>38005</th>\n",
       "      <td>352810</td>\n",
       "      <td>2019.0</td>\n",
       "      <td>2019-12-31</td>\n",
       "      <td>BRAUREACNOR9</td>\n",
       "      <td>551050.0</td>\n",
       "    </tr>\n",
       "    <tr>\n",
       "      <th>38006</th>\n",
       "      <td>352810</td>\n",
       "      <td>2020.0</td>\n",
       "      <td>2020-12-31</td>\n",
       "      <td>BRAUREACNOR9</td>\n",
       "      <td>551050.0</td>\n",
       "    </tr>\n",
       "    <tr>\n",
       "      <th>38007</th>\n",
       "      <td>352810</td>\n",
       "      <td>2021.0</td>\n",
       "      <td>2021-12-31</td>\n",
       "      <td>BRAUREACNOR9</td>\n",
       "      <td>551050.0</td>\n",
       "    </tr>\n",
       "    <tr>\n",
       "      <th>38008</th>\n",
       "      <td>352810</td>\n",
       "      <td>2022.0</td>\n",
       "      <td>2022-12-31</td>\n",
       "      <td>BRAUREACNOR9</td>\n",
       "      <td>551050.0</td>\n",
       "    </tr>\n",
       "  </tbody>\n",
       "</table>\n",
       "<p>38009 rows × 5 columns</p>\n",
       "</div>"
      ],
      "text/plain": [
       "        gvkey   fyear    datadate          isin      gind\n",
       "0        1166  2010.0  2010-12-31  NL0000334118  453010.0\n",
       "1        1166  2011.0  2011-12-31  NL0000334118  453010.0\n",
       "2        1166  2012.0  2012-12-31  NL0000334118  453010.0\n",
       "3        1166  2013.0  2013-12-31  NL0000334118  453010.0\n",
       "4        1166  2014.0  2014-12-31  NL0000334118  453010.0\n",
       "...       ...     ...         ...           ...       ...\n",
       "38004  352810  2018.0  2018-12-31  BRAUREACNOR9  551050.0\n",
       "38005  352810  2019.0  2019-12-31  BRAUREACNOR9  551050.0\n",
       "38006  352810  2020.0  2020-12-31  BRAUREACNOR9  551050.0\n",
       "38007  352810  2021.0  2021-12-31  BRAUREACNOR9  551050.0\n",
       "38008  352810  2022.0  2022-12-31  BRAUREACNOR9  551050.0\n",
       "\n",
       "[38009 rows x 5 columns]"
      ]
     },
     "execution_count": 47,
     "metadata": {},
     "output_type": "execute_result"
    }
   ],
   "source": [
    "gics_int"
   ]
  },
  {
   "cell_type": "code",
   "execution_count": 48,
   "metadata": {},
   "outputs": [
    {
     "data": {
      "text/plain": [
       "(3009,)"
      ]
     },
     "execution_count": 48,
     "metadata": {},
     "output_type": "execute_result"
    }
   ],
   "source": [
    "gics_int['isin'].unique().shape"
   ]
  },
  {
   "cell_type": "code",
   "execution_count": 49,
   "metadata": {},
   "outputs": [
    {
     "data": {
      "text/plain": [
       "(4066,)"
      ]
     },
     "execution_count": 49,
     "metadata": {},
     "output_type": "execute_result"
    }
   ],
   "source": [
    "cdp_summary['isin'].unique().shape"
   ]
  },
  {
   "cell_type": "markdown",
   "metadata": {},
   "source": [
    "Using WRDS to map isin to gvkey, and then using gvkey to map to isin, I can create a mapping table that will allow me to map any isin to a firm."
   ]
  },
  {
   "cell_type": "code",
   "execution_count": 50,
   "metadata": {},
   "outputs": [],
   "source": [
    "gvkey_isin = pd.read_csv(\"../../data/raw/gvkeys_mapping.csv\")"
   ]
  },
  {
   "cell_type": "code",
   "execution_count": 51,
   "metadata": {},
   "outputs": [
    {
     "data": {
      "text/plain": [
       "(4088,)"
      ]
     },
     "execution_count": 51,
     "metadata": {},
     "output_type": "execute_result"
    }
   ],
   "source": [
    "gvkey_isin['gvkey'].unique().shape"
   ]
  },
  {
   "cell_type": "code",
   "execution_count": 52,
   "metadata": {},
   "outputs": [],
   "source": [
    "# read gics_usa\n",
    "gics_usa = pd.read_csv(\"../../data/raw/gics_usa.csv\")"
   ]
  },
  {
   "cell_type": "code",
   "execution_count": 53,
   "metadata": {},
   "outputs": [],
   "source": [
    "gics_usa = gics_usa[['gvkey', 'fyear', 'datadate','gind']]"
   ]
  },
  {
   "cell_type": "code",
   "execution_count": 54,
   "metadata": {},
   "outputs": [
    {
     "data": {
      "text/plain": [
       "(1249,)"
      ]
     },
     "execution_count": 54,
     "metadata": {},
     "output_type": "execute_result"
    }
   ],
   "source": [
    "gics_usa.gvkey.unique().shape"
   ]
  },
  {
   "cell_type": "code",
   "execution_count": 55,
   "metadata": {},
   "outputs": [],
   "source": [
    "# now add the isin to gics_usa\n",
    "gics_usa = gics_usa.merge(gvkey_isin, on='gvkey')"
   ]
  },
  {
   "cell_type": "code",
   "execution_count": 56,
   "metadata": {},
   "outputs": [],
   "source": [
    "gics_usa = gics_usa[['gvkey', 'fyear',\t'datadate',\t'isin',\t'gind']]"
   ]
  },
  {
   "cell_type": "code",
   "execution_count": 57,
   "metadata": {},
   "outputs": [],
   "source": [
    "# now concatatenate gics_usa with gics_int\n",
    "gics = pd.concat([gics_usa, gics_int])\n"
   ]
  },
  {
   "cell_type": "code",
   "execution_count": 58,
   "metadata": {},
   "outputs": [],
   "source": [
    "# drop duplicate rows\n",
    "gics.drop_duplicates(inplace=True)"
   ]
  },
  {
   "cell_type": "code",
   "execution_count": 59,
   "metadata": {},
   "outputs": [
    {
     "data": {
      "text/html": [
       "<div>\n",
       "<style scoped>\n",
       "    .dataframe tbody tr th:only-of-type {\n",
       "        vertical-align: middle;\n",
       "    }\n",
       "\n",
       "    .dataframe tbody tr th {\n",
       "        vertical-align: top;\n",
       "    }\n",
       "\n",
       "    .dataframe thead th {\n",
       "        text-align: right;\n",
       "    }\n",
       "</style>\n",
       "<table border=\"1\" class=\"dataframe\">\n",
       "  <thead>\n",
       "    <tr style=\"text-align: right;\">\n",
       "      <th></th>\n",
       "      <th>gvkey</th>\n",
       "      <th>year</th>\n",
       "      <th>datadate</th>\n",
       "      <th>isin</th>\n",
       "      <th>gind</th>\n",
       "    </tr>\n",
       "  </thead>\n",
       "  <tbody>\n",
       "    <tr>\n",
       "      <th>0</th>\n",
       "      <td>1045</td>\n",
       "      <td>2010.0</td>\n",
       "      <td>2010-12-31</td>\n",
       "      <td>US02376R1023</td>\n",
       "      <td>203020.0</td>\n",
       "    </tr>\n",
       "    <tr>\n",
       "      <th>1</th>\n",
       "      <td>1045</td>\n",
       "      <td>2011.0</td>\n",
       "      <td>2011-12-31</td>\n",
       "      <td>US02376R1023</td>\n",
       "      <td>203020.0</td>\n",
       "    </tr>\n",
       "    <tr>\n",
       "      <th>2</th>\n",
       "      <td>1045</td>\n",
       "      <td>2012.0</td>\n",
       "      <td>2012-12-31</td>\n",
       "      <td>US02376R1023</td>\n",
       "      <td>203020.0</td>\n",
       "    </tr>\n",
       "    <tr>\n",
       "      <th>3</th>\n",
       "      <td>1045</td>\n",
       "      <td>2013.0</td>\n",
       "      <td>2013-12-31</td>\n",
       "      <td>US02376R1023</td>\n",
       "      <td>203020.0</td>\n",
       "    </tr>\n",
       "    <tr>\n",
       "      <th>4</th>\n",
       "      <td>1045</td>\n",
       "      <td>2014.0</td>\n",
       "      <td>2014-12-31</td>\n",
       "      <td>US02376R1023</td>\n",
       "      <td>203020.0</td>\n",
       "    </tr>\n",
       "    <tr>\n",
       "      <th>...</th>\n",
       "      <td>...</td>\n",
       "      <td>...</td>\n",
       "      <td>...</td>\n",
       "      <td>...</td>\n",
       "      <td>...</td>\n",
       "    </tr>\n",
       "    <tr>\n",
       "      <th>38004</th>\n",
       "      <td>352810</td>\n",
       "      <td>2018.0</td>\n",
       "      <td>2018-12-31</td>\n",
       "      <td>BRAUREACNOR9</td>\n",
       "      <td>551050.0</td>\n",
       "    </tr>\n",
       "    <tr>\n",
       "      <th>38005</th>\n",
       "      <td>352810</td>\n",
       "      <td>2019.0</td>\n",
       "      <td>2019-12-31</td>\n",
       "      <td>BRAUREACNOR9</td>\n",
       "      <td>551050.0</td>\n",
       "    </tr>\n",
       "    <tr>\n",
       "      <th>38006</th>\n",
       "      <td>352810</td>\n",
       "      <td>2020.0</td>\n",
       "      <td>2020-12-31</td>\n",
       "      <td>BRAUREACNOR9</td>\n",
       "      <td>551050.0</td>\n",
       "    </tr>\n",
       "    <tr>\n",
       "      <th>38007</th>\n",
       "      <td>352810</td>\n",
       "      <td>2021.0</td>\n",
       "      <td>2021-12-31</td>\n",
       "      <td>BRAUREACNOR9</td>\n",
       "      <td>551050.0</td>\n",
       "    </tr>\n",
       "    <tr>\n",
       "      <th>38008</th>\n",
       "      <td>352810</td>\n",
       "      <td>2022.0</td>\n",
       "      <td>2022-12-31</td>\n",
       "      <td>BRAUREACNOR9</td>\n",
       "      <td>551050.0</td>\n",
       "    </tr>\n",
       "  </tbody>\n",
       "</table>\n",
       "<p>49994 rows × 5 columns</p>\n",
       "</div>"
      ],
      "text/plain": [
       "        gvkey    year    datadate          isin      gind\n",
       "0        1045  2010.0  2010-12-31  US02376R1023  203020.0\n",
       "1        1045  2011.0  2011-12-31  US02376R1023  203020.0\n",
       "2        1045  2012.0  2012-12-31  US02376R1023  203020.0\n",
       "3        1045  2013.0  2013-12-31  US02376R1023  203020.0\n",
       "4        1045  2014.0  2014-12-31  US02376R1023  203020.0\n",
       "...       ...     ...         ...           ...       ...\n",
       "38004  352810  2018.0  2018-12-31  BRAUREACNOR9  551050.0\n",
       "38005  352810  2019.0  2019-12-31  BRAUREACNOR9  551050.0\n",
       "38006  352810  2020.0  2020-12-31  BRAUREACNOR9  551050.0\n",
       "38007  352810  2021.0  2021-12-31  BRAUREACNOR9  551050.0\n",
       "38008  352810  2022.0  2022-12-31  BRAUREACNOR9  551050.0\n",
       "\n",
       "[49994 rows x 5 columns]"
      ]
     },
     "execution_count": 59,
     "metadata": {},
     "output_type": "execute_result"
    }
   ],
   "source": [
    "gics.columns = ['gvkey', 'year', 'datadate', 'isin', 'gind']\n",
    "gics"
   ]
  },
  {
   "cell_type": "code",
   "execution_count": 60,
   "metadata": {},
   "outputs": [],
   "source": [
    "# ok now add gind to cdp_summary based on isin and year\n",
    "cdp_summary = cdp_summary.merge(gics, on=['isin', 'year'], how='left')"
   ]
  },
  {
   "cell_type": "code",
   "execution_count": 61,
   "metadata": {},
   "outputs": [],
   "source": [
    "# dropping no idustry classification rows\n",
    "cdp_summary.dropna(subset=['gind'], inplace=True)"
   ]
  },
  {
   "cell_type": "code",
   "execution_count": 62,
   "metadata": {},
   "outputs": [
    {
     "data": {
      "text/html": [
       "<div>\n",
       "<style scoped>\n",
       "    .dataframe tbody tr th:only-of-type {\n",
       "        vertical-align: middle;\n",
       "    }\n",
       "\n",
       "    .dataframe tbody tr th {\n",
       "        vertical-align: top;\n",
       "    }\n",
       "\n",
       "    .dataframe thead th {\n",
       "        text-align: right;\n",
       "    }\n",
       "</style>\n",
       "<table border=\"1\" class=\"dataframe\">\n",
       "  <thead>\n",
       "    <tr style=\"text-align: right;\">\n",
       "      <th></th>\n",
       "      <th>id</th>\n",
       "      <th>reporting_boundary</th>\n",
       "      <th>year</th>\n",
       "      <th>companyname</th>\n",
       "      <th>country</th>\n",
       "      <th>industry14</th>\n",
       "      <th>isin</th>\n",
       "      <th>ticker</th>\n",
       "      <th>industry46</th>\n",
       "      <th>cdpdate</th>\n",
       "      <th>...</th>\n",
       "      <th>revenue</th>\n",
       "      <th>net income</th>\n",
       "      <th>roe</th>\n",
       "      <th>eps 1yr gr</th>\n",
       "      <th>assets 1y gr</th>\n",
       "      <th>employees 1y gr</th>\n",
       "      <th>net income 1y gr</th>\n",
       "      <th>gvkey</th>\n",
       "      <th>datadate</th>\n",
       "      <th>gind</th>\n",
       "    </tr>\n",
       "  </thead>\n",
       "  <tbody>\n",
       "    <tr>\n",
       "      <th>0</th>\n",
       "      <td>44</td>\n",
       "      <td>&lt;NA&gt;</td>\n",
       "      <td>2011.0</td>\n",
       "      <td>3i Group</td>\n",
       "      <td>United Kingdom</td>\n",
       "      <td>Services</td>\n",
       "      <td>GB00B1YW4409</td>\n",
       "      <td>III LN</td>\n",
       "      <td>banks diverse financials insurance</td>\n",
       "      <td>NaT</td>\n",
       "      <td>...</td>\n",
       "      <td>866463950.0</td>\n",
       "      <td>2.336873e+08</td>\n",
       "      <td>6.24746</td>\n",
       "      <td>NaN</td>\n",
       "      <td>20.38540</td>\n",
       "      <td>-24.50142</td>\n",
       "      <td>NaN</td>\n",
       "      <td>210835.0</td>\n",
       "      <td>2012-03-31</td>\n",
       "      <td>402030.0</td>\n",
       "    </tr>\n",
       "    <tr>\n",
       "      <th>1</th>\n",
       "      <td>44</td>\n",
       "      <td>&lt;NA&gt;</td>\n",
       "      <td>2012.0</td>\n",
       "      <td>3i Group</td>\n",
       "      <td>United Kingdom</td>\n",
       "      <td>Services</td>\n",
       "      <td>GB00B1YW4409</td>\n",
       "      <td>III LN</td>\n",
       "      <td>banks diverse financials insurance</td>\n",
       "      <td>NaT</td>\n",
       "      <td>...</td>\n",
       "      <td>623395840.0</td>\n",
       "      <td>2.980762e+08</td>\n",
       "      <td>5.78988</td>\n",
       "      <td>13.95349</td>\n",
       "      <td>-2.96546</td>\n",
       "      <td>-11.32075</td>\n",
       "      <td>20.77922</td>\n",
       "      <td>210835.0</td>\n",
       "      <td>2013-03-31</td>\n",
       "      <td>402030.0</td>\n",
       "    </tr>\n",
       "    <tr>\n",
       "      <th>2</th>\n",
       "      <td>44</td>\n",
       "      <td>&lt;NA&gt;</td>\n",
       "      <td>2013.0</td>\n",
       "      <td>3i Group</td>\n",
       "      <td>United Kingdom</td>\n",
       "      <td>Services</td>\n",
       "      <td>GB00B1YW4409</td>\n",
       "      <td>III LN</td>\n",
       "      <td>banks diverse financials insurance</td>\n",
       "      <td>2013-06-18</td>\n",
       "      <td>...</td>\n",
       "      <td>475960320.0</td>\n",
       "      <td>-1.254804e+09</td>\n",
       "      <td>-26.16979</td>\n",
       "      <td>NaN</td>\n",
       "      <td>-20.12502</td>\n",
       "      <td>0.42553</td>\n",
       "      <td>NaN</td>\n",
       "      <td>210835.0</td>\n",
       "      <td>2014-03-31</td>\n",
       "      <td>402030.0</td>\n",
       "    </tr>\n",
       "    <tr>\n",
       "      <th>3</th>\n",
       "      <td>44</td>\n",
       "      <td>&lt;NA&gt;</td>\n",
       "      <td>2014.0</td>\n",
       "      <td>3i Group</td>\n",
       "      <td>United Kingdom</td>\n",
       "      <td>Services</td>\n",
       "      <td>GB00B1YW4409</td>\n",
       "      <td>III LN</td>\n",
       "      <td>banks diverse financials insurance</td>\n",
       "      <td>2014-06-26</td>\n",
       "      <td>...</td>\n",
       "      <td>582068080.0</td>\n",
       "      <td>2.781161e+08</td>\n",
       "      <td>6.58155</td>\n",
       "      <td>NaN</td>\n",
       "      <td>-6.32609</td>\n",
       "      <td>-24.15254</td>\n",
       "      <td>NaN</td>\n",
       "      <td>210835.0</td>\n",
       "      <td>2015-03-31</td>\n",
       "      <td>402030.0</td>\n",
       "    </tr>\n",
       "    <tr>\n",
       "      <th>4</th>\n",
       "      <td>44</td>\n",
       "      <td>&lt;NA&gt;</td>\n",
       "      <td>2016.0</td>\n",
       "      <td>3i Group</td>\n",
       "      <td>United Kingdom</td>\n",
       "      <td>Services</td>\n",
       "      <td>GB00B1YW4409</td>\n",
       "      <td>III LN</td>\n",
       "      <td>banks diverse financials insurance</td>\n",
       "      <td>2016-06-27</td>\n",
       "      <td>...</td>\n",
       "      <td>909628720.0</td>\n",
       "      <td>1.037036e+09</td>\n",
       "      <td>19.67951</td>\n",
       "      <td>34.82156</td>\n",
       "      <td>10.95550</td>\n",
       "      <td>0.74349</td>\n",
       "      <td>35.39652</td>\n",
       "      <td>210835.0</td>\n",
       "      <td>2017-03-31</td>\n",
       "      <td>402030.0</td>\n",
       "    </tr>\n",
       "  </tbody>\n",
       "</table>\n",
       "<p>5 rows × 24 columns</p>\n",
       "</div>"
      ],
      "text/plain": [
       "   id reporting_boundary    year companyname         country industry14  \\\n",
       "0  44               <NA>  2011.0    3i Group  United Kingdom   Services   \n",
       "1  44               <NA>  2012.0    3i Group  United Kingdom   Services   \n",
       "2  44               <NA>  2013.0    3i Group  United Kingdom   Services   \n",
       "3  44               <NA>  2014.0    3i Group  United Kingdom   Services   \n",
       "4  44               <NA>  2016.0    3i Group  United Kingdom   Services   \n",
       "\n",
       "           isin  ticker                          industry46    cdpdate  ...  \\\n",
       "0  GB00B1YW4409  III LN  banks diverse financials insurance        NaT  ...   \n",
       "1  GB00B1YW4409  III LN  banks diverse financials insurance        NaT  ...   \n",
       "2  GB00B1YW4409  III LN  banks diverse financials insurance 2013-06-18  ...   \n",
       "3  GB00B1YW4409  III LN  banks diverse financials insurance 2014-06-26  ...   \n",
       "4  GB00B1YW4409  III LN  banks diverse financials insurance 2016-06-27  ...   \n",
       "\n",
       "       revenue    net income       roe  eps 1yr gr  assets 1y gr  \\\n",
       "0  866463950.0  2.336873e+08   6.24746         NaN      20.38540   \n",
       "1  623395840.0  2.980762e+08   5.78988    13.95349      -2.96546   \n",
       "2  475960320.0 -1.254804e+09 -26.16979         NaN     -20.12502   \n",
       "3  582068080.0  2.781161e+08   6.58155         NaN      -6.32609   \n",
       "4  909628720.0  1.037036e+09  19.67951    34.82156      10.95550   \n",
       "\n",
       "   employees 1y gr  net income 1y gr     gvkey    datadate      gind  \n",
       "0        -24.50142               NaN  210835.0  2012-03-31  402030.0  \n",
       "1        -11.32075          20.77922  210835.0  2013-03-31  402030.0  \n",
       "2          0.42553               NaN  210835.0  2014-03-31  402030.0  \n",
       "3        -24.15254               NaN  210835.0  2015-03-31  402030.0  \n",
       "4          0.74349          35.39652  210835.0  2017-03-31  402030.0  \n",
       "\n",
       "[5 rows x 24 columns]"
      ]
     },
     "execution_count": 62,
     "metadata": {},
     "output_type": "execute_result"
    }
   ],
   "source": [
    "cdp_summary.head()"
   ]
  },
  {
   "cell_type": "markdown",
   "metadata": {},
   "source": [
    "# now let's start filtering the data!"
   ]
  },
  {
   "cell_type": "code",
   "execution_count": 63,
   "metadata": {},
   "outputs": [
    {
     "data": {
      "text/plain": [
       "(21848, 24)"
      ]
     },
     "execution_count": 63,
     "metadata": {},
     "output_type": "execute_result"
    }
   ],
   "source": [
    "# number of firm-years after merging with financial data, gics, and dropping columns with missing values\n",
    "cdp_summary.shape"
   ]
  },
  {
   "cell_type": "code",
   "execution_count": 64,
   "metadata": {},
   "outputs": [
    {
     "data": {
      "text/plain": [
       "id                    0.000000\n",
       "reporting_boundary    0.515974\n",
       "year                  0.000000\n",
       "companyname           0.000000\n",
       "country               0.000046\n",
       "industry14            0.124176\n",
       "isin                  0.000000\n",
       "ticker                0.010436\n",
       "industry46            0.215580\n",
       "cdpdate               0.122940\n",
       "sector                0.000000\n",
       "employees             0.080969\n",
       "mkt cap               0.006683\n",
       "tot assets            0.000000\n",
       "revenue               0.000183\n",
       "net income            0.000092\n",
       "roe                   0.018629\n",
       "eps 1yr gr            0.189262\n",
       "assets 1y gr          0.008605\n",
       "employees 1y gr       0.096347\n",
       "net income 1y gr      0.187294\n",
       "gvkey                 0.000000\n",
       "datadate              0.000000\n",
       "gind                  0.000000\n",
       "dtype: float64"
      ]
     },
     "execution_count": 64,
     "metadata": {},
     "output_type": "execute_result"
    }
   ],
   "source": [
    "cdp_summary.isna().mean()"
   ]
  },
  {
   "cell_type": "code",
   "execution_count": 65,
   "metadata": {},
   "outputs": [
    {
     "data": {
      "text/plain": [
       "0"
      ]
     },
     "execution_count": 65,
     "metadata": {},
     "output_type": "execute_result"
    }
   ],
   "source": [
    "# how many firms have total assets less than 1M\n",
    "(cdp_summary['tot assets'] < 1e7).sum()"
   ]
  },
  {
   "cell_type": "code",
   "execution_count": 66,
   "metadata": {},
   "outputs": [
    {
     "data": {
      "text/plain": [
       "7546    3.743567e+12\n",
       "Name: tot assets, dtype: float64"
      ]
     },
     "execution_count": 66,
     "metadata": {},
     "output_type": "execute_result"
    }
   ],
   "source": [
    "cdp_summary.loc[cdp_summary['tot assets'] == cdp_summary['tot assets'].max()]['tot assets']"
   ]
  },
  {
   "cell_type": "code",
   "execution_count": 67,
   "metadata": {},
   "outputs": [],
   "source": [
    "# dropping cdpdate, sector, gvkey\n",
    "cdp_summary.drop(columns=['cdpdate', 'sector', 'gvkey','eps 1yr gr','net income 1y gr','industry14', 'industry46','isin',\n",
    "                          'ticker', 'isin', 'reporting_boundary'], inplace=True)"
   ]
  },
  {
   "cell_type": "code",
   "execution_count": 68,
   "metadata": {},
   "outputs": [
    {
     "data": {
      "text/plain": [
       "id                 0.000000\n",
       "year               0.000000\n",
       "companyname        0.000000\n",
       "country            0.000046\n",
       "employees          0.080969\n",
       "mkt cap            0.006683\n",
       "tot assets         0.000000\n",
       "revenue            0.000183\n",
       "net income         0.000092\n",
       "roe                0.018629\n",
       "assets 1y gr       0.008605\n",
       "employees 1y gr    0.096347\n",
       "datadate           0.000000\n",
       "gind               0.000000\n",
       "dtype: float64"
      ]
     },
     "execution_count": 68,
     "metadata": {},
     "output_type": "execute_result"
    }
   ],
   "source": [
    "cdp_summary.isna().mean()"
   ]
  },
  {
   "cell_type": "code",
   "execution_count": 69,
   "metadata": {},
   "outputs": [],
   "source": [
    "cdp_summary.dropna(inplace=True)"
   ]
  },
  {
   "cell_type": "code",
   "execution_count": 70,
   "metadata": {},
   "outputs": [],
   "source": [
    "cdp_summary['gind'] = ((cdp_summary['gind'] - cdp_summary['gind'] % 100) / 100).astype(int)"
   ]
  },
  {
   "cell_type": "code",
   "execution_count": 71,
   "metadata": {},
   "outputs": [
    {
     "data": {
      "text/html": [
       "<div>\n",
       "<style scoped>\n",
       "    .dataframe tbody tr th:only-of-type {\n",
       "        vertical-align: middle;\n",
       "    }\n",
       "\n",
       "    .dataframe tbody tr th {\n",
       "        vertical-align: top;\n",
       "    }\n",
       "\n",
       "    .dataframe thead th {\n",
       "        text-align: right;\n",
       "    }\n",
       "</style>\n",
       "<table border=\"1\" class=\"dataframe\">\n",
       "  <thead>\n",
       "    <tr style=\"text-align: right;\">\n",
       "      <th></th>\n",
       "      <th>id</th>\n",
       "      <th>year</th>\n",
       "      <th>companyname</th>\n",
       "      <th>country</th>\n",
       "      <th>employees</th>\n",
       "      <th>mkt cap</th>\n",
       "      <th>tot assets</th>\n",
       "      <th>revenue</th>\n",
       "      <th>net income</th>\n",
       "      <th>roe</th>\n",
       "      <th>assets 1y gr</th>\n",
       "      <th>employees 1y gr</th>\n",
       "      <th>datadate</th>\n",
       "      <th>gind</th>\n",
       "    </tr>\n",
       "  </thead>\n",
       "  <tbody>\n",
       "    <tr>\n",
       "      <th>0</th>\n",
       "      <td>44</td>\n",
       "      <td>2011.0</td>\n",
       "      <td>3i Group</td>\n",
       "      <td>United Kingdom</td>\n",
       "      <td>530.0</td>\n",
       "      <td>4.200627e+09</td>\n",
       "      <td>9.006066e+09</td>\n",
       "      <td>8.664640e+08</td>\n",
       "      <td>2.336873e+08</td>\n",
       "      <td>6.24746</td>\n",
       "      <td>20.38540</td>\n",
       "      <td>-24.50142</td>\n",
       "      <td>2012-03-31</td>\n",
       "      <td>4020</td>\n",
       "    </tr>\n",
       "    <tr>\n",
       "      <th>1</th>\n",
       "      <td>44</td>\n",
       "      <td>2012.0</td>\n",
       "      <td>3i Group</td>\n",
       "      <td>United Kingdom</td>\n",
       "      <td>470.0</td>\n",
       "      <td>4.555430e+09</td>\n",
       "      <td>9.229143e+09</td>\n",
       "      <td>6.233958e+08</td>\n",
       "      <td>2.980762e+08</td>\n",
       "      <td>5.78988</td>\n",
       "      <td>-2.96546</td>\n",
       "      <td>-11.32075</td>\n",
       "      <td>2013-03-31</td>\n",
       "      <td>4020</td>\n",
       "    </tr>\n",
       "    <tr>\n",
       "      <th>2</th>\n",
       "      <td>44</td>\n",
       "      <td>2013.0</td>\n",
       "      <td>3i Group</td>\n",
       "      <td>United Kingdom</td>\n",
       "      <td>472.0</td>\n",
       "      <td>3.217196e+09</td>\n",
       "      <td>7.371776e+09</td>\n",
       "      <td>4.759603e+08</td>\n",
       "      <td>-1.254804e+09</td>\n",
       "      <td>-26.16979</td>\n",
       "      <td>-20.12502</td>\n",
       "      <td>0.42553</td>\n",
       "      <td>2014-03-31</td>\n",
       "      <td>4020</td>\n",
       "    </tr>\n",
       "    <tr>\n",
       "      <th>3</th>\n",
       "      <td>44</td>\n",
       "      <td>2014.0</td>\n",
       "      <td>3i Group</td>\n",
       "      <td>United Kingdom</td>\n",
       "      <td>358.0</td>\n",
       "      <td>4.665116e+09</td>\n",
       "      <td>6.548646e+09</td>\n",
       "      <td>5.820681e+08</td>\n",
       "      <td>2.781161e+08</td>\n",
       "      <td>6.58155</td>\n",
       "      <td>-6.32609</td>\n",
       "      <td>-24.15254</td>\n",
       "      <td>2015-03-31</td>\n",
       "      <td>4020</td>\n",
       "    </tr>\n",
       "    <tr>\n",
       "      <th>4</th>\n",
       "      <td>44</td>\n",
       "      <td>2016.0</td>\n",
       "      <td>3i Group</td>\n",
       "      <td>United Kingdom</td>\n",
       "      <td>271.0</td>\n",
       "      <td>6.949796e+09</td>\n",
       "      <td>7.277030e+09</td>\n",
       "      <td>9.096287e+08</td>\n",
       "      <td>1.037036e+09</td>\n",
       "      <td>19.67951</td>\n",
       "      <td>10.95550</td>\n",
       "      <td>0.74349</td>\n",
       "      <td>2017-03-31</td>\n",
       "      <td>4020</td>\n",
       "    </tr>\n",
       "    <tr>\n",
       "      <th>...</th>\n",
       "      <td>...</td>\n",
       "      <td>...</td>\n",
       "      <td>...</td>\n",
       "      <td>...</td>\n",
       "      <td>...</td>\n",
       "      <td>...</td>\n",
       "      <td>...</td>\n",
       "      <td>...</td>\n",
       "      <td>...</td>\n",
       "      <td>...</td>\n",
       "      <td>...</td>\n",
       "      <td>...</td>\n",
       "      <td>...</td>\n",
       "      <td>...</td>\n",
       "    </tr>\n",
       "    <tr>\n",
       "      <th>22525</th>\n",
       "      <td>895173</td>\n",
       "      <td>2022.0</td>\n",
       "      <td>Flex LNG Ltd.</td>\n",
       "      <td>Bermuda</td>\n",
       "      <td>8.0</td>\n",
       "      <td>1.190050e+09</td>\n",
       "      <td>2.572921e+09</td>\n",
       "      <td>3.381685e+08</td>\n",
       "      <td>1.597116e+08</td>\n",
       "      <td>18.61960</td>\n",
       "      <td>12.89307</td>\n",
       "      <td>-11.11111</td>\n",
       "      <td>2022-12-31</td>\n",
       "      <td>1010</td>\n",
       "    </tr>\n",
       "    <tr>\n",
       "      <th>22526</th>\n",
       "      <td>895420</td>\n",
       "      <td>2022.0</td>\n",
       "      <td>China Everbright Greentech Limited</td>\n",
       "      <td>Hong Kong</td>\n",
       "      <td>3800.0</td>\n",
       "      <td>7.764964e+08</td>\n",
       "      <td>5.189436e+09</td>\n",
       "      <td>1.083497e+09</td>\n",
       "      <td>1.424291e+08</td>\n",
       "      <td>8.44866</td>\n",
       "      <td>14.93437</td>\n",
       "      <td>35.71429</td>\n",
       "      <td>2022-12-31</td>\n",
       "      <td>5510</td>\n",
       "    </tr>\n",
       "    <tr>\n",
       "      <th>22527</th>\n",
       "      <td>895480</td>\n",
       "      <td>2022.0</td>\n",
       "      <td>Minerals Technologies Inc.</td>\n",
       "      <td>USA</td>\n",
       "      <td>3961.0</td>\n",
       "      <td>2.426912e+09</td>\n",
       "      <td>3.351200e+09</td>\n",
       "      <td>1.858300e+09</td>\n",
       "      <td>1.644000e+08</td>\n",
       "      <td>10.95963</td>\n",
       "      <td>5.24795</td>\n",
       "      <td>11.07684</td>\n",
       "      <td>2022-12-31</td>\n",
       "      <td>1510</td>\n",
       "    </tr>\n",
       "    <tr>\n",
       "      <th>22528</th>\n",
       "      <td>895582</td>\n",
       "      <td>2022.0</td>\n",
       "      <td>Sunway Berhad</td>\n",
       "      <td>Malaysia</td>\n",
       "      <td>10889.0</td>\n",
       "      <td>2.018544e+09</td>\n",
       "      <td>6.009856e+09</td>\n",
       "      <td>8.923026e+08</td>\n",
       "      <td>6.395736e+08</td>\n",
       "      <td>27.20387</td>\n",
       "      <td>19.03571</td>\n",
       "      <td>7.69459</td>\n",
       "      <td>2022-12-31</td>\n",
       "      <td>2010</td>\n",
       "    </tr>\n",
       "    <tr>\n",
       "      <th>22529</th>\n",
       "      <td>895873</td>\n",
       "      <td>2022.0</td>\n",
       "      <td>Arlo Technologies Inc.</td>\n",
       "      <td>USA</td>\n",
       "      <td>353.0</td>\n",
       "      <td>8.859142e+08</td>\n",
       "      <td>3.474900e+08</td>\n",
       "      <td>4.351370e+08</td>\n",
       "      <td>-5.602900e+07</td>\n",
       "      <td>-45.47458</td>\n",
       "      <td>-16.05873</td>\n",
       "      <td>-1.67131</td>\n",
       "      <td>2022-12-31</td>\n",
       "      <td>4520</td>\n",
       "    </tr>\n",
       "  </tbody>\n",
       "</table>\n",
       "<p>19200 rows × 14 columns</p>\n",
       "</div>"
      ],
      "text/plain": [
       "           id    year                         companyname         country  \\\n",
       "0          44  2011.0                            3i Group  United Kingdom   \n",
       "1          44  2012.0                            3i Group  United Kingdom   \n",
       "2          44  2013.0                            3i Group  United Kingdom   \n",
       "3          44  2014.0                            3i Group  United Kingdom   \n",
       "4          44  2016.0                            3i Group  United Kingdom   \n",
       "...       ...     ...                                 ...             ...   \n",
       "22525  895173  2022.0                       Flex LNG Ltd.         Bermuda   \n",
       "22526  895420  2022.0  China Everbright Greentech Limited       Hong Kong   \n",
       "22527  895480  2022.0          Minerals Technologies Inc.             USA   \n",
       "22528  895582  2022.0                       Sunway Berhad        Malaysia   \n",
       "22529  895873  2022.0              Arlo Technologies Inc.             USA   \n",
       "\n",
       "       employees       mkt cap    tot assets       revenue    net income  \\\n",
       "0          530.0  4.200627e+09  9.006066e+09  8.664640e+08  2.336873e+08   \n",
       "1          470.0  4.555430e+09  9.229143e+09  6.233958e+08  2.980762e+08   \n",
       "2          472.0  3.217196e+09  7.371776e+09  4.759603e+08 -1.254804e+09   \n",
       "3          358.0  4.665116e+09  6.548646e+09  5.820681e+08  2.781161e+08   \n",
       "4          271.0  6.949796e+09  7.277030e+09  9.096287e+08  1.037036e+09   \n",
       "...          ...           ...           ...           ...           ...   \n",
       "22525        8.0  1.190050e+09  2.572921e+09  3.381685e+08  1.597116e+08   \n",
       "22526     3800.0  7.764964e+08  5.189436e+09  1.083497e+09  1.424291e+08   \n",
       "22527     3961.0  2.426912e+09  3.351200e+09  1.858300e+09  1.644000e+08   \n",
       "22528    10889.0  2.018544e+09  6.009856e+09  8.923026e+08  6.395736e+08   \n",
       "22529      353.0  8.859142e+08  3.474900e+08  4.351370e+08 -5.602900e+07   \n",
       "\n",
       "            roe  assets 1y gr  employees 1y gr    datadate  gind  \n",
       "0       6.24746      20.38540        -24.50142  2012-03-31  4020  \n",
       "1       5.78988      -2.96546        -11.32075  2013-03-31  4020  \n",
       "2     -26.16979     -20.12502          0.42553  2014-03-31  4020  \n",
       "3       6.58155      -6.32609        -24.15254  2015-03-31  4020  \n",
       "4      19.67951      10.95550          0.74349  2017-03-31  4020  \n",
       "...         ...           ...              ...         ...   ...  \n",
       "22525  18.61960      12.89307        -11.11111  2022-12-31  1010  \n",
       "22526   8.44866      14.93437         35.71429  2022-12-31  5510  \n",
       "22527  10.95963       5.24795         11.07684  2022-12-31  1510  \n",
       "22528  27.20387      19.03571          7.69459  2022-12-31  2010  \n",
       "22529 -45.47458     -16.05873         -1.67131  2022-12-31  4520  \n",
       "\n",
       "[19200 rows x 14 columns]"
      ]
     },
     "execution_count": 71,
     "metadata": {},
     "output_type": "execute_result"
    }
   ],
   "source": [
    "cdp_summary"
   ]
  },
  {
   "cell_type": "code",
   "execution_count": 72,
   "metadata": {},
   "outputs": [
    {
     "data": {
      "text/plain": [
       "3616"
      ]
     },
     "execution_count": 72,
     "metadata": {},
     "output_type": "execute_result"
    }
   ],
   "source": [
    "# unique firm ids\n",
    "len(cdp_summary['id'].unique())"
   ]
  },
  {
   "cell_type": "markdown",
   "metadata": {},
   "source": [
    "# Creating Continents"
   ]
  },
  {
   "cell_type": "code",
   "execution_count": 73,
   "metadata": {},
   "outputs": [
    {
     "name": "stdout",
     "output_type": "stream",
     "text": [
      "Asia\n"
     ]
    },
    {
     "name": "stderr",
     "output_type": "stream",
     "text": [
      "/Users/fabrizioserafini/anaconda3/envs/thesis_project/lib/python3.12/site-packages/pycountry/db.py:51: UserWarning: Country's official_name not found. Country name provided instead.\n",
      "  warnings.warn(warning_message, UserWarning)\n",
      "/Users/fabrizioserafini/anaconda3/envs/thesis_project/lib/python3.12/site-packages/pycountry/db.py:51: UserWarning: Country's common_name not found. Country name provided instead.\n",
      "  warnings.warn(warning_message, UserWarning)\n"
     ]
    }
   ],
   "source": [
    "import pycountry_convert as pc\n",
    "\n",
    "def country_to_continent(country_name):\n",
    "    try:\n",
    "        country_alpha2 = pc.country_name_to_country_alpha2(country_name)\n",
    "        country_continent_code = pc.country_alpha2_to_continent_code(country_alpha2)\n",
    "        country_continent_name = pc.convert_continent_code_to_continent_name(country_continent_code)\n",
    "        return country_continent_name\n",
    "    except:\n",
    "        return None\n",
    "\n",
    "# Example\n",
    "country_name = 'China'\n",
    "print(country_to_continent(country_name))"
   ]
  },
  {
   "cell_type": "code",
   "execution_count": 74,
   "metadata": {},
   "outputs": [],
   "source": [
    "# apply the function to the country column\n",
    "cdp_summary = cdp_summary.copy()\n",
    "cdp_summary['continent'] = cdp_summary['country'].apply(country_to_continent)\n",
    "cdp_summary.dropna(subset=['continent'], inplace=True)"
   ]
  },
  {
   "cell_type": "code",
   "execution_count": 75,
   "metadata": {},
   "outputs": [],
   "source": [
    "# mapping from gics codes to industry names\n",
    "lst =list(cdp_summary['gind'].unique())"
   ]
  },
  {
   "cell_type": "markdown",
   "metadata": {},
   "source": [
    "2540, 4040 do not exist -> dropping them"
   ]
  },
  {
   "cell_type": "code",
   "execution_count": 76,
   "metadata": {},
   "outputs": [
    {
     "name": "stdout",
     "output_type": "stream",
     "text": [
      "[1010, 1510, 2010, 2020, 2030, 2510, 2520, 2530, 2540, 2550, 3010, 3020, 3030, 3510, 3520, 4010, 4020, 4030, 4040, 4510, 4520, 4530, 5010, 5020, 5510, 6010, 6020]\n"
     ]
    }
   ],
   "source": [
    "lst.sort()\n",
    "\n",
    "print(lst)"
   ]
  },
  {
   "cell_type": "code",
   "execution_count": 77,
   "metadata": {},
   "outputs": [],
   "source": [
    "cdp_summary = cdp_summary.loc[(cdp_summary['gind'] != 4040) & (cdp_summary['gind'] != 2540)]"
   ]
  },
  {
   "cell_type": "code",
   "execution_count": 78,
   "metadata": {},
   "outputs": [],
   "source": [
    "cdp_summary.drop(columns=['datadate'], inplace=True)"
   ]
  },
  {
   "cell_type": "markdown",
   "metadata": {},
   "source": [
    "# This is great for EDA - let's add in the emissions change data!!"
   ]
  },
  {
   "cell_type": "code",
   "execution_count": 79,
   "metadata": {},
   "outputs": [],
   "source": [
    "ghg_change = pd.read_csv(\"../../data/processed/cdp_ghg_change_processed.csv\")"
   ]
  },
  {
   "cell_type": "code",
   "execution_count": 80,
   "metadata": {},
   "outputs": [],
   "source": [
    "# merging with ghg_change based on id and year\n",
    "cdp_summary = cdp_summary.merge(ghg_change, on=['id', 'year'], how='left')"
   ]
  },
  {
   "cell_type": "code",
   "execution_count": 81,
   "metadata": {},
   "outputs": [],
   "source": [
    "cdp_summary.dropna(subset=['ghg_change_real'], inplace=True)"
   ]
  },
  {
   "cell_type": "code",
   "execution_count": 82,
   "metadata": {},
   "outputs": [
    {
     "data": {
      "text/plain": [
       "Index(['id', 'year', 'companyname', 'country', 'employees', 'mkt cap',\n",
       "       'tot assets', 'revenue', 'net income', 'roe', 'assets 1y gr',\n",
       "       'employees 1y gr', 'gind', 'continent', 'ghg_change_total',\n",
       "       'ghg_change_real', 'ghg_change_structure', 'ghg_change_measure',\n",
       "       'ghg_change_othergroup', 'ghg_change_nonzero_count',\n",
       "       'ghg_change_output', 'ghg_change_output_missing',\n",
       "       'ghg_change_real_next'],\n",
       "      dtype='object')"
      ]
     },
     "execution_count": 82,
     "metadata": {},
     "output_type": "execute_result"
    }
   ],
   "source": [
    "cdp_summary.columns"
   ]
  },
  {
   "cell_type": "code",
   "execution_count": 83,
   "metadata": {},
   "outputs": [],
   "source": [
    "cdp_summary.drop(columns=['ghg_change_output_missing'], inplace=True)"
   ]
  },
  {
   "cell_type": "code",
   "execution_count": 84,
   "metadata": {},
   "outputs": [
    {
     "data": {
      "image/png": "[encoded data removed]",
      "text/plain": [
       "<Figure size 1100x900 with 2 Axes>"
      ]
     },
     "metadata": {},
     "output_type": "display_data"
    }
   ],
   "source": [
    "# Compute the correlation matrix\n",
    "corr = cdp_summary.drop(columns=['companyname', 'country', 'continent']).corr()\n",
    "\n",
    "# Generate a mask for the upper triangle\n",
    "mask = np.triu(np.ones_like(corr, dtype=bool))\n",
    "\n",
    "# Set up the matplotlib figure\n",
    "f, ax = plt.subplots(figsize=(11, 9))\n",
    "\n",
    "# Generate a custom diverging colormap\n",
    "cmap = sns.diverging_palette(230, 20, as_cmap=True)\n",
    "\n",
    "# Draw the heatmap with the mask and correct aspect ratio\n",
    "sns.heatmap(corr, mask=mask, cmap=cmap, vmax=.3, center=0,\n",
    "            square=True, linewidths=.5, cbar_kws={\"shrink\": .5})\n",
    "\n",
    "plt.show()"
   ]
  },
  {
   "cell_type": "code",
   "execution_count": 85,
   "metadata": {},
   "outputs": [],
   "source": [
    "# recenter the year to 0 by subtracting 2011\n",
    "cdp_summary['year'] = cdp_summary['year'] - 2011"
   ]
  },
  {
   "cell_type": "code",
   "execution_count": 86,
   "metadata": {},
   "outputs": [
    {
     "data": {
      "text/html": [
       "<div>\n",
       "<style scoped>\n",
       "    .dataframe tbody tr th:only-of-type {\n",
       "        vertical-align: middle;\n",
       "    }\n",
       "\n",
       "    .dataframe tbody tr th {\n",
       "        vertical-align: top;\n",
       "    }\n",
       "\n",
       "    .dataframe thead th {\n",
       "        text-align: right;\n",
       "    }\n",
       "</style>\n",
       "<table border=\"1\" class=\"dataframe\">\n",
       "  <thead>\n",
       "    <tr style=\"text-align: right;\">\n",
       "      <th></th>\n",
       "      <th>id</th>\n",
       "      <th>year</th>\n",
       "      <th>companyname</th>\n",
       "      <th>country</th>\n",
       "      <th>employees</th>\n",
       "      <th>mkt cap</th>\n",
       "      <th>tot assets</th>\n",
       "      <th>revenue</th>\n",
       "      <th>net income</th>\n",
       "      <th>roe</th>\n",
       "      <th>...</th>\n",
       "      <th>gind</th>\n",
       "      <th>continent</th>\n",
       "      <th>ghg_change_total</th>\n",
       "      <th>ghg_change_real</th>\n",
       "      <th>ghg_change_structure</th>\n",
       "      <th>ghg_change_measure</th>\n",
       "      <th>ghg_change_othergroup</th>\n",
       "      <th>ghg_change_nonzero_count</th>\n",
       "      <th>ghg_change_output</th>\n",
       "      <th>ghg_change_real_next</th>\n",
       "    </tr>\n",
       "  </thead>\n",
       "  <tbody>\n",
       "    <tr>\n",
       "      <th>0</th>\n",
       "      <td>44</td>\n",
       "      <td>0.0</td>\n",
       "      <td>3i Group</td>\n",
       "      <td>United Kingdom</td>\n",
       "      <td>530.0</td>\n",
       "      <td>4.200627e+09</td>\n",
       "      <td>9.006066e+09</td>\n",
       "      <td>8.664640e+08</td>\n",
       "      <td>2.336873e+08</td>\n",
       "      <td>6.24746</td>\n",
       "      <td>...</td>\n",
       "      <td>4020</td>\n",
       "      <td>Europe</td>\n",
       "      <td>-11.00</td>\n",
       "      <td>-11.00</td>\n",
       "      <td>0.0</td>\n",
       "      <td>0.0</td>\n",
       "      <td>0.00</td>\n",
       "      <td>1.0</td>\n",
       "      <td>0.0</td>\n",
       "      <td>0.0</td>\n",
       "    </tr>\n",
       "    <tr>\n",
       "      <th>1</th>\n",
       "      <td>44</td>\n",
       "      <td>1.0</td>\n",
       "      <td>3i Group</td>\n",
       "      <td>United Kingdom</td>\n",
       "      <td>470.0</td>\n",
       "      <td>4.555430e+09</td>\n",
       "      <td>9.229143e+09</td>\n",
       "      <td>6.233958e+08</td>\n",
       "      <td>2.980762e+08</td>\n",
       "      <td>5.78988</td>\n",
       "      <td>...</td>\n",
       "      <td>4020</td>\n",
       "      <td>Europe</td>\n",
       "      <td>-25.00</td>\n",
       "      <td>0.00</td>\n",
       "      <td>0.0</td>\n",
       "      <td>0.0</td>\n",
       "      <td>-25.00</td>\n",
       "      <td>1.0</td>\n",
       "      <td>0.0</td>\n",
       "      <td>-1.0</td>\n",
       "    </tr>\n",
       "    <tr>\n",
       "      <th>2</th>\n",
       "      <td>44</td>\n",
       "      <td>2.0</td>\n",
       "      <td>3i Group</td>\n",
       "      <td>United Kingdom</td>\n",
       "      <td>472.0</td>\n",
       "      <td>3.217196e+09</td>\n",
       "      <td>7.371776e+09</td>\n",
       "      <td>4.759603e+08</td>\n",
       "      <td>-1.254804e+09</td>\n",
       "      <td>-26.16979</td>\n",
       "      <td>...</td>\n",
       "      <td>4020</td>\n",
       "      <td>Europe</td>\n",
       "      <td>-19.00</td>\n",
       "      <td>-1.00</td>\n",
       "      <td>0.0</td>\n",
       "      <td>-1.0</td>\n",
       "      <td>-17.00</td>\n",
       "      <td>3.0</td>\n",
       "      <td>0.0</td>\n",
       "      <td>0.0</td>\n",
       "    </tr>\n",
       "    <tr>\n",
       "      <th>3</th>\n",
       "      <td>44</td>\n",
       "      <td>3.0</td>\n",
       "      <td>3i Group</td>\n",
       "      <td>United Kingdom</td>\n",
       "      <td>358.0</td>\n",
       "      <td>4.665116e+09</td>\n",
       "      <td>6.548646e+09</td>\n",
       "      <td>5.820681e+08</td>\n",
       "      <td>2.781161e+08</td>\n",
       "      <td>6.58155</td>\n",
       "      <td>...</td>\n",
       "      <td>4020</td>\n",
       "      <td>Europe</td>\n",
       "      <td>-29.00</td>\n",
       "      <td>0.00</td>\n",
       "      <td>0.0</td>\n",
       "      <td>0.0</td>\n",
       "      <td>-29.00</td>\n",
       "      <td>1.0</td>\n",
       "      <td>0.0</td>\n",
       "      <td>0.0</td>\n",
       "    </tr>\n",
       "    <tr>\n",
       "      <th>4</th>\n",
       "      <td>44</td>\n",
       "      <td>5.0</td>\n",
       "      <td>3i Group</td>\n",
       "      <td>United Kingdom</td>\n",
       "      <td>271.0</td>\n",
       "      <td>6.949796e+09</td>\n",
       "      <td>7.277030e+09</td>\n",
       "      <td>9.096287e+08</td>\n",
       "      <td>1.037036e+09</td>\n",
       "      <td>19.67951</td>\n",
       "      <td>...</td>\n",
       "      <td>4020</td>\n",
       "      <td>Europe</td>\n",
       "      <td>-4.00</td>\n",
       "      <td>0.00</td>\n",
       "      <td>0.0</td>\n",
       "      <td>0.0</td>\n",
       "      <td>-4.00</td>\n",
       "      <td>1.0</td>\n",
       "      <td>0.0</td>\n",
       "      <td>-39.7</td>\n",
       "    </tr>\n",
       "    <tr>\n",
       "      <th>...</th>\n",
       "      <td>...</td>\n",
       "      <td>...</td>\n",
       "      <td>...</td>\n",
       "      <td>...</td>\n",
       "      <td>...</td>\n",
       "      <td>...</td>\n",
       "      <td>...</td>\n",
       "      <td>...</td>\n",
       "      <td>...</td>\n",
       "      <td>...</td>\n",
       "      <td>...</td>\n",
       "      <td>...</td>\n",
       "      <td>...</td>\n",
       "      <td>...</td>\n",
       "      <td>...</td>\n",
       "      <td>...</td>\n",
       "      <td>...</td>\n",
       "      <td>...</td>\n",
       "      <td>...</td>\n",
       "      <td>...</td>\n",
       "      <td>...</td>\n",
       "    </tr>\n",
       "    <tr>\n",
       "      <th>19150</th>\n",
       "      <td>895173</td>\n",
       "      <td>11.0</td>\n",
       "      <td>Flex LNG Ltd.</td>\n",
       "      <td>Bermuda</td>\n",
       "      <td>8.0</td>\n",
       "      <td>1.190050e+09</td>\n",
       "      <td>2.572921e+09</td>\n",
       "      <td>3.381685e+08</td>\n",
       "      <td>1.597116e+08</td>\n",
       "      <td>18.61960</td>\n",
       "      <td>...</td>\n",
       "      <td>1010</td>\n",
       "      <td>North America</td>\n",
       "      <td>59.86</td>\n",
       "      <td>49.86</td>\n",
       "      <td>0.0</td>\n",
       "      <td>0.0</td>\n",
       "      <td>10.00</td>\n",
       "      <td>2.0</td>\n",
       "      <td>0.0</td>\n",
       "      <td>NaN</td>\n",
       "    </tr>\n",
       "    <tr>\n",
       "      <th>19151</th>\n",
       "      <td>895420</td>\n",
       "      <td>11.0</td>\n",
       "      <td>China Everbright Greentech Limited</td>\n",
       "      <td>Hong Kong</td>\n",
       "      <td>3800.0</td>\n",
       "      <td>7.764964e+08</td>\n",
       "      <td>5.189436e+09</td>\n",
       "      <td>1.083497e+09</td>\n",
       "      <td>1.424291e+08</td>\n",
       "      <td>8.44866</td>\n",
       "      <td>...</td>\n",
       "      <td>5510</td>\n",
       "      <td>Asia</td>\n",
       "      <td>12.55</td>\n",
       "      <td>0.00</td>\n",
       "      <td>0.0</td>\n",
       "      <td>0.0</td>\n",
       "      <td>12.55</td>\n",
       "      <td>1.0</td>\n",
       "      <td>0.0</td>\n",
       "      <td>NaN</td>\n",
       "    </tr>\n",
       "    <tr>\n",
       "      <th>19152</th>\n",
       "      <td>895480</td>\n",
       "      <td>11.0</td>\n",
       "      <td>Minerals Technologies Inc.</td>\n",
       "      <td>USA</td>\n",
       "      <td>3961.0</td>\n",
       "      <td>2.426912e+09</td>\n",
       "      <td>3.351200e+09</td>\n",
       "      <td>1.858300e+09</td>\n",
       "      <td>1.644000e+08</td>\n",
       "      <td>10.95963</td>\n",
       "      <td>...</td>\n",
       "      <td>1510</td>\n",
       "      <td>North America</td>\n",
       "      <td>0.00</td>\n",
       "      <td>0.00</td>\n",
       "      <td>0.0</td>\n",
       "      <td>0.0</td>\n",
       "      <td>0.00</td>\n",
       "      <td>0.0</td>\n",
       "      <td>0.0</td>\n",
       "      <td>NaN</td>\n",
       "    </tr>\n",
       "    <tr>\n",
       "      <th>19153</th>\n",
       "      <td>895582</td>\n",
       "      <td>11.0</td>\n",
       "      <td>Sunway Berhad</td>\n",
       "      <td>Malaysia</td>\n",
       "      <td>10889.0</td>\n",
       "      <td>2.018544e+09</td>\n",
       "      <td>6.009856e+09</td>\n",
       "      <td>8.923026e+08</td>\n",
       "      <td>6.395736e+08</td>\n",
       "      <td>27.20387</td>\n",
       "      <td>...</td>\n",
       "      <td>2010</td>\n",
       "      <td>Asia</td>\n",
       "      <td>0.97</td>\n",
       "      <td>0.97</td>\n",
       "      <td>0.0</td>\n",
       "      <td>0.0</td>\n",
       "      <td>0.00</td>\n",
       "      <td>2.0</td>\n",
       "      <td>0.0</td>\n",
       "      <td>NaN</td>\n",
       "    </tr>\n",
       "    <tr>\n",
       "      <th>19154</th>\n",
       "      <td>895873</td>\n",
       "      <td>11.0</td>\n",
       "      <td>Arlo Technologies Inc.</td>\n",
       "      <td>USA</td>\n",
       "      <td>353.0</td>\n",
       "      <td>8.859142e+08</td>\n",
       "      <td>3.474900e+08</td>\n",
       "      <td>4.351370e+08</td>\n",
       "      <td>-5.602900e+07</td>\n",
       "      <td>-45.47458</td>\n",
       "      <td>...</td>\n",
       "      <td>4520</td>\n",
       "      <td>North America</td>\n",
       "      <td>0.00</td>\n",
       "      <td>0.00</td>\n",
       "      <td>0.0</td>\n",
       "      <td>0.0</td>\n",
       "      <td>0.00</td>\n",
       "      <td>0.0</td>\n",
       "      <td>0.0</td>\n",
       "      <td>NaN</td>\n",
       "    </tr>\n",
       "  </tbody>\n",
       "</table>\n",
       "<p>18630 rows × 22 columns</p>\n",
       "</div>"
      ],
      "text/plain": [
       "           id  year                         companyname         country  \\\n",
       "0          44   0.0                            3i Group  United Kingdom   \n",
       "1          44   1.0                            3i Group  United Kingdom   \n",
       "2          44   2.0                            3i Group  United Kingdom   \n",
       "3          44   3.0                            3i Group  United Kingdom   \n",
       "4          44   5.0                            3i Group  United Kingdom   \n",
       "...       ...   ...                                 ...             ...   \n",
       "19150  895173  11.0                       Flex LNG Ltd.         Bermuda   \n",
       "19151  895420  11.0  China Everbright Greentech Limited       Hong Kong   \n",
       "19152  895480  11.0          Minerals Technologies Inc.             USA   \n",
       "19153  895582  11.0                       Sunway Berhad        Malaysia   \n",
       "19154  895873  11.0              Arlo Technologies Inc.             USA   \n",
       "\n",
       "       employees       mkt cap    tot assets       revenue    net income  \\\n",
       "0          530.0  4.200627e+09  9.006066e+09  8.664640e+08  2.336873e+08   \n",
       "1          470.0  4.555430e+09  9.229143e+09  6.233958e+08  2.980762e+08   \n",
       "2          472.0  3.217196e+09  7.371776e+09  4.759603e+08 -1.254804e+09   \n",
       "3          358.0  4.665116e+09  6.548646e+09  5.820681e+08  2.781161e+08   \n",
       "4          271.0  6.949796e+09  7.277030e+09  9.096287e+08  1.037036e+09   \n",
       "...          ...           ...           ...           ...           ...   \n",
       "19150        8.0  1.190050e+09  2.572921e+09  3.381685e+08  1.597116e+08   \n",
       "19151     3800.0  7.764964e+08  5.189436e+09  1.083497e+09  1.424291e+08   \n",
       "19152     3961.0  2.426912e+09  3.351200e+09  1.858300e+09  1.644000e+08   \n",
       "19153    10889.0  2.018544e+09  6.009856e+09  8.923026e+08  6.395736e+08   \n",
       "19154      353.0  8.859142e+08  3.474900e+08  4.351370e+08 -5.602900e+07   \n",
       "\n",
       "            roe  ...  gind      continent  ghg_change_total ghg_change_real  \\\n",
       "0       6.24746  ...  4020         Europe            -11.00          -11.00   \n",
       "1       5.78988  ...  4020         Europe            -25.00            0.00   \n",
       "2     -26.16979  ...  4020         Europe            -19.00           -1.00   \n",
       "3       6.58155  ...  4020         Europe            -29.00            0.00   \n",
       "4      19.67951  ...  4020         Europe             -4.00            0.00   \n",
       "...         ...  ...   ...            ...               ...             ...   \n",
       "19150  18.61960  ...  1010  North America             59.86           49.86   \n",
       "19151   8.44866  ...  5510           Asia             12.55            0.00   \n",
       "19152  10.95963  ...  1510  North America              0.00            0.00   \n",
       "19153  27.20387  ...  2010           Asia              0.97            0.97   \n",
       "19154 -45.47458  ...  4520  North America              0.00            0.00   \n",
       "\n",
       "       ghg_change_structure  ghg_change_measure  ghg_change_othergroup  \\\n",
       "0                       0.0                 0.0                   0.00   \n",
       "1                       0.0                 0.0                 -25.00   \n",
       "2                       0.0                -1.0                 -17.00   \n",
       "3                       0.0                 0.0                 -29.00   \n",
       "4                       0.0                 0.0                  -4.00   \n",
       "...                     ...                 ...                    ...   \n",
       "19150                   0.0                 0.0                  10.00   \n",
       "19151                   0.0                 0.0                  12.55   \n",
       "19152                   0.0                 0.0                   0.00   \n",
       "19153                   0.0                 0.0                   0.00   \n",
       "19154                   0.0                 0.0                   0.00   \n",
       "\n",
       "       ghg_change_nonzero_count  ghg_change_output  ghg_change_real_next  \n",
       "0                           1.0                0.0                   0.0  \n",
       "1                           1.0                0.0                  -1.0  \n",
       "2                           3.0                0.0                   0.0  \n",
       "3                           1.0                0.0                   0.0  \n",
       "4                           1.0                0.0                 -39.7  \n",
       "...                         ...                ...                   ...  \n",
       "19150                       2.0                0.0                   NaN  \n",
       "19151                       1.0                0.0                   NaN  \n",
       "19152                       0.0                0.0                   NaN  \n",
       "19153                       2.0                0.0                   NaN  \n",
       "19154                       0.0                0.0                   NaN  \n",
       "\n",
       "[18630 rows x 22 columns]"
      ]
     },
     "execution_count": 86,
     "metadata": {},
     "output_type": "execute_result"
    }
   ],
   "source": [
    "cdp_summary"
   ]
  },
  {
   "cell_type": "code",
   "execution_count": 87,
   "metadata": {},
   "outputs": [],
   "source": [
    "cdp_summary.drop_duplicates(subset=['id', 'year'], keep='first', inplace=True)"
   ]
  },
  {
   "cell_type": "code",
   "execution_count": 88,
   "metadata": {},
   "outputs": [
    {
     "name": "stderr",
     "output_type": "stream",
     "text": [
      "<>:2: SyntaxWarning: invalid escape sequence '\\&'\n",
      "<>:3: SyntaxWarning: invalid escape sequence '\\&'\n",
      "<>:3: SyntaxWarning: invalid escape sequence '\\&'\n",
      "<>:4: SyntaxWarning: invalid escape sequence '\\&'\n",
      "<>:4: SyntaxWarning: invalid escape sequence '\\&'\n",
      "<>:5: SyntaxWarning: invalid escape sequence '\\&'\n",
      "<>:5: SyntaxWarning: invalid escape sequence '\\&'\n",
      "<>:5: SyntaxWarning: invalid escape sequence '\\&'\n",
      "<>:6: SyntaxWarning: invalid escape sequence '\\&'\n",
      "<>:6: SyntaxWarning: invalid escape sequence '\\&'\n",
      "<>:7: SyntaxWarning: invalid escape sequence '\\&'\n",
      "<>:7: SyntaxWarning: invalid escape sequence '\\&'\n",
      "<>:8: SyntaxWarning: invalid escape sequence '\\&'\n",
      "<>:2: SyntaxWarning: invalid escape sequence '\\&'\n",
      "<>:3: SyntaxWarning: invalid escape sequence '\\&'\n",
      "<>:3: SyntaxWarning: invalid escape sequence '\\&'\n",
      "<>:4: SyntaxWarning: invalid escape sequence '\\&'\n",
      "<>:4: SyntaxWarning: invalid escape sequence '\\&'\n",
      "<>:5: SyntaxWarning: invalid escape sequence '\\&'\n",
      "<>:5: SyntaxWarning: invalid escape sequence '\\&'\n",
      "<>:5: SyntaxWarning: invalid escape sequence '\\&'\n",
      "<>:6: SyntaxWarning: invalid escape sequence '\\&'\n",
      "<>:6: SyntaxWarning: invalid escape sequence '\\&'\n",
      "<>:7: SyntaxWarning: invalid escape sequence '\\&'\n",
      "<>:7: SyntaxWarning: invalid escape sequence '\\&'\n",
      "<>:8: SyntaxWarning: invalid escape sequence '\\&'\n",
      "/var/folders/z7/jmcsyl9x47zdw6n1xd2_16jh0000gn/T/ipykernel_99130/1672500883.py:2: SyntaxWarning: invalid escape sequence '\\&'\n",
      "  gind_mapping = {1010: 'Energy', 1510: 'Materials', 2010: 'Capital Goods', 2020: 'Commercial \\& Professional Services',\n",
      "/var/folders/z7/jmcsyl9x47zdw6n1xd2_16jh0000gn/T/ipykernel_99130/1672500883.py:3: SyntaxWarning: invalid escape sequence '\\&'\n",
      "  2030: 'Transportation', 2510: 'Automobiles \\& Components', 2520: 'Consumer Durables \\& Apparel',\n",
      "/var/folders/z7/jmcsyl9x47zdw6n1xd2_16jh0000gn/T/ipykernel_99130/1672500883.py:3: SyntaxWarning: invalid escape sequence '\\&'\n",
      "  2030: 'Transportation', 2510: 'Automobiles \\& Components', 2520: 'Consumer Durables \\& Apparel',\n",
      "/var/folders/z7/jmcsyl9x47zdw6n1xd2_16jh0000gn/T/ipykernel_99130/1672500883.py:4: SyntaxWarning: invalid escape sequence '\\&'\n",
      "  2530: 'Consumer Services', 2550: 'Retailing', 3010: 'Consumer Staples Distribution \\& Retail', 3020: 'Food, Beverage \\& Tobacco',\n",
      "/var/folders/z7/jmcsyl9x47zdw6n1xd2_16jh0000gn/T/ipykernel_99130/1672500883.py:4: SyntaxWarning: invalid escape sequence '\\&'\n",
      "  2530: 'Consumer Services', 2550: 'Retailing', 3010: 'Consumer Staples Distribution \\& Retail', 3020: 'Food, Beverage \\& Tobacco',\n",
      "/var/folders/z7/jmcsyl9x47zdw6n1xd2_16jh0000gn/T/ipykernel_99130/1672500883.py:5: SyntaxWarning: invalid escape sequence '\\&'\n",
      "  3030: 'Household \\& Personal Products', 3510: 'Health Care Equipment \\& Services', 3520: 'Pharmaceuticals, Biotechnology \\& Life Sciences',\n",
      "/var/folders/z7/jmcsyl9x47zdw6n1xd2_16jh0000gn/T/ipykernel_99130/1672500883.py:5: SyntaxWarning: invalid escape sequence '\\&'\n",
      "  3030: 'Household \\& Personal Products', 3510: 'Health Care Equipment \\& Services', 3520: 'Pharmaceuticals, Biotechnology \\& Life Sciences',\n",
      "/var/folders/z7/jmcsyl9x47zdw6n1xd2_16jh0000gn/T/ipykernel_99130/1672500883.py:5: SyntaxWarning: invalid escape sequence '\\&'\n",
      "  3030: 'Household \\& Personal Products', 3510: 'Health Care Equipment \\& Services', 3520: 'Pharmaceuticals, Biotechnology \\& Life Sciences',\n",
      "/var/folders/z7/jmcsyl9x47zdw6n1xd2_16jh0000gn/T/ipykernel_99130/1672500883.py:6: SyntaxWarning: invalid escape sequence '\\&'\n",
      "  4010: 'Banks', 4020: 'Financial Services', 4030: 'Insurance', 4510: 'Software \\& Services', 4520: 'Technology Hardware \\& Equipment',\n",
      "/var/folders/z7/jmcsyl9x47zdw6n1xd2_16jh0000gn/T/ipykernel_99130/1672500883.py:6: SyntaxWarning: invalid escape sequence '\\&'\n",
      "  4010: 'Banks', 4020: 'Financial Services', 4030: 'Insurance', 4510: 'Software \\& Services', 4520: 'Technology Hardware \\& Equipment',\n",
      "/var/folders/z7/jmcsyl9x47zdw6n1xd2_16jh0000gn/T/ipykernel_99130/1672500883.py:7: SyntaxWarning: invalid escape sequence '\\&'\n",
      "  4530: 'Semiconductors \\& Semiconductor Equipment', 5010: 'Telecommunication Services', 5020: 'Media \\& Entertainment', 5510: 'Utilities',\n",
      "/var/folders/z7/jmcsyl9x47zdw6n1xd2_16jh0000gn/T/ipykernel_99130/1672500883.py:7: SyntaxWarning: invalid escape sequence '\\&'\n",
      "  4530: 'Semiconductors \\& Semiconductor Equipment', 5010: 'Telecommunication Services', 5020: 'Media \\& Entertainment', 5510: 'Utilities',\n",
      "/var/folders/z7/jmcsyl9x47zdw6n1xd2_16jh0000gn/T/ipykernel_99130/1672500883.py:8: SyntaxWarning: invalid escape sequence '\\&'\n",
      "  6010: 'Equity Real Estate Investment Trusts', 6020: 'Real Estate Management \\& Development'}\n"
     ]
    }
   ],
   "source": [
    "# convert the gind to string based on the mapping from gics codes to Industry Group\n",
    "gind_mapping = {1010: 'Energy', 1510: 'Materials', 2010: 'Capital Goods', 2020: 'Commercial \\& Professional Services',\n",
    "                2030: 'Transportation', 2510: 'Automobiles \\& Components', 2520: 'Consumer Durables \\& Apparel',\n",
    "                2530: 'Consumer Services', 2550: 'Retailing', 3010: 'Consumer Staples Distribution \\& Retail', 3020: 'Food, Beverage \\& Tobacco',\n",
    "                3030: 'Household \\& Personal Products', 3510: 'Health Care Equipment \\& Services', 3520: 'Pharmaceuticals, Biotechnology \\& Life Sciences',\n",
    "                4010: 'Banks', 4020: 'Financial Services', 4030: 'Insurance', 4510: 'Software \\& Services', 4520: 'Technology Hardware \\& Equipment',\n",
    "                4530: 'Semiconductors \\& Semiconductor Equipment', 5010: 'Telecommunication Services', 5020: 'Media \\& Entertainment', 5510: 'Utilities',\n",
    "                6010: 'Equity Real Estate Investment Trusts', 6020: 'Real Estate Management \\& Development'}\n",
    "\n",
    "cdp_summary['gind'] = cdp_summary['gind'].map(gind_mapping)"
   ]
  },
  {
   "cell_type": "markdown",
   "metadata": {},
   "source": [
    "# taking the log of all the financial data"
   ]
  },
  {
   "cell_type": "code",
   "execution_count": 89,
   "metadata": {},
   "outputs": [],
   "source": [
    "# drop rows where revenue is equal to 0 and also revenue (this is 15 rows)\n",
    "cdp_summary = cdp_summary[cdp_summary['revenue'] != 0]\n",
    "cdp_summary = cdp_summary[cdp_summary['employees'] != 0]"
   ]
  },
  {
   "cell_type": "code",
   "execution_count": 90,
   "metadata": {},
   "outputs": [
    {
     "data": {
      "text/html": [
       "<div>\n",
       "<style scoped>\n",
       "    .dataframe tbody tr th:only-of-type {\n",
       "        vertical-align: middle;\n",
       "    }\n",
       "\n",
       "    .dataframe tbody tr th {\n",
       "        vertical-align: top;\n",
       "    }\n",
       "\n",
       "    .dataframe thead th {\n",
       "        text-align: right;\n",
       "    }\n",
       "</style>\n",
       "<table border=\"1\" class=\"dataframe\">\n",
       "  <thead>\n",
       "    <tr style=\"text-align: right;\">\n",
       "      <th></th>\n",
       "      <th>id</th>\n",
       "      <th>year</th>\n",
       "      <th>employees</th>\n",
       "      <th>mkt cap</th>\n",
       "      <th>tot assets</th>\n",
       "      <th>revenue</th>\n",
       "      <th>net income</th>\n",
       "      <th>roe</th>\n",
       "      <th>assets 1y gr</th>\n",
       "      <th>employees 1y gr</th>\n",
       "      <th>ghg_change_total</th>\n",
       "      <th>ghg_change_real</th>\n",
       "      <th>ghg_change_structure</th>\n",
       "      <th>ghg_change_measure</th>\n",
       "      <th>ghg_change_othergroup</th>\n",
       "      <th>ghg_change_nonzero_count</th>\n",
       "      <th>ghg_change_output</th>\n",
       "      <th>ghg_change_real_next</th>\n",
       "    </tr>\n",
       "  </thead>\n",
       "  <tbody>\n",
       "    <tr>\n",
       "      <th>count</th>\n",
       "      <td>18476.000000</td>\n",
       "      <td>18476.000000</td>\n",
       "      <td>1.847600e+04</td>\n",
       "      <td>1.847600e+04</td>\n",
       "      <td>1.847600e+04</td>\n",
       "      <td>1.847600e+04</td>\n",
       "      <td>1.847600e+04</td>\n",
       "      <td>18476.000000</td>\n",
       "      <td>18476.000000</td>\n",
       "      <td>18476.000000</td>\n",
       "      <td>18476.000000</td>\n",
       "      <td>18476.000000</td>\n",
       "      <td>18476.000000</td>\n",
       "      <td>18476.000000</td>\n",
       "      <td>18476.000000</td>\n",
       "      <td>18476.000000</td>\n",
       "      <td>18476.000000</td>\n",
       "      <td>15326.000000</td>\n",
       "    </tr>\n",
       "    <tr>\n",
       "      <th>mean</th>\n",
       "      <td>41663.032908</td>\n",
       "      <td>6.206701</td>\n",
       "      <td>3.773241e+04</td>\n",
       "      <td>1.922119e+10</td>\n",
       "      <td>6.106333e+10</td>\n",
       "      <td>1.479120e+10</td>\n",
       "      <td>1.046611e+09</td>\n",
       "      <td>16.548305</td>\n",
       "      <td>47.557961</td>\n",
       "      <td>4.378476</td>\n",
       "      <td>0.298832</td>\n",
       "      <td>-3.943038</td>\n",
       "      <td>0.879032</td>\n",
       "      <td>1.719552</td>\n",
       "      <td>0.230424</td>\n",
       "      <td>2.085137</td>\n",
       "      <td>1.412861</td>\n",
       "      <td>-4.313538</td>\n",
       "    </tr>\n",
       "    <tr>\n",
       "      <th>std</th>\n",
       "      <td>142155.313880</td>\n",
       "      <td>3.514082</td>\n",
       "      <td>8.600501e+04</td>\n",
       "      <td>4.130271e+10</td>\n",
       "      <td>2.251751e+11</td>\n",
       "      <td>3.052709e+10</td>\n",
       "      <td>2.912336e+09</td>\n",
       "      <td>332.988608</td>\n",
       "      <td>5290.140162</td>\n",
       "      <td>47.015714</td>\n",
       "      <td>41.446525</td>\n",
       "      <td>7.715102</td>\n",
       "      <td>15.514248</td>\n",
       "      <td>24.568569</td>\n",
       "      <td>22.117374</td>\n",
       "      <td>1.546520</td>\n",
       "      <td>16.920171</td>\n",
       "      <td>7.891736</td>\n",
       "    </tr>\n",
       "    <tr>\n",
       "      <th>min</th>\n",
       "      <td>44.000000</td>\n",
       "      <td>0.000000</td>\n",
       "      <td>3.000000e+00</td>\n",
       "      <td>2.301209e+07</td>\n",
       "      <td>3.026280e+07</td>\n",
       "      <td>1.959459e+05</td>\n",
       "      <td>-2.307369e+10</td>\n",
       "      <td>-24850.000000</td>\n",
       "      <td>-98.574410</td>\n",
       "      <td>-99.966010</td>\n",
       "      <td>-1700.000000</td>\n",
       "      <td>-49.900000</td>\n",
       "      <td>-773.760000</td>\n",
       "      <td>-356.000000</td>\n",
       "      <td>-1700.000000</td>\n",
       "      <td>0.000000</td>\n",
       "      <td>-760.000000</td>\n",
       "      <td>-49.900000</td>\n",
       "    </tr>\n",
       "    <tr>\n",
       "      <th>25%</th>\n",
       "      <td>7116.750000</td>\n",
       "      <td>3.000000</td>\n",
       "      <td>4.725750e+03</td>\n",
       "      <td>2.200015e+09</td>\n",
       "      <td>3.028815e+09</td>\n",
       "      <td>1.856146e+09</td>\n",
       "      <td>7.928670e+07</td>\n",
       "      <td>5.755155</td>\n",
       "      <td>-0.386845</td>\n",
       "      <td>-2.303857</td>\n",
       "      <td>-7.700000</td>\n",
       "      <td>-5.000000</td>\n",
       "      <td>0.000000</td>\n",
       "      <td>0.000000</td>\n",
       "      <td>0.000000</td>\n",
       "      <td>1.000000</td>\n",
       "      <td>0.000000</td>\n",
       "      <td>-5.500000</td>\n",
       "    </tr>\n",
       "    <tr>\n",
       "      <th>50%</th>\n",
       "      <td>14827.500000</td>\n",
       "      <td>6.000000</td>\n",
       "      <td>1.350000e+04</td>\n",
       "      <td>6.537421e+09</td>\n",
       "      <td>8.781904e+09</td>\n",
       "      <td>5.180930e+09</td>\n",
       "      <td>3.016171e+08</td>\n",
       "      <td>11.257270</td>\n",
       "      <td>4.773935</td>\n",
       "      <td>1.329670</td>\n",
       "      <td>-0.449350</td>\n",
       "      <td>-1.070000</td>\n",
       "      <td>0.000000</td>\n",
       "      <td>0.000000</td>\n",
       "      <td>0.000000</td>\n",
       "      <td>2.000000</td>\n",
       "      <td>0.000000</td>\n",
       "      <td>-1.610000</td>\n",
       "    </tr>\n",
       "    <tr>\n",
       "      <th>75%</th>\n",
       "      <td>22142.000000</td>\n",
       "      <td>9.000000</td>\n",
       "      <td>3.705425e+04</td>\n",
       "      <td>1.849473e+10</td>\n",
       "      <td>2.865038e+10</td>\n",
       "      <td>1.460472e+10</td>\n",
       "      <td>9.961308e+08</td>\n",
       "      <td>18.599280</td>\n",
       "      <td>11.544880</td>\n",
       "      <td>6.132458</td>\n",
       "      <td>3.000000</td>\n",
       "      <td>0.000000</td>\n",
       "      <td>0.000000</td>\n",
       "      <td>0.000000</td>\n",
       "      <td>0.000000</td>\n",
       "      <td>3.000000</td>\n",
       "      <td>0.400000</td>\n",
       "      <td>0.000000</td>\n",
       "    </tr>\n",
       "    <tr>\n",
       "      <th>max</th>\n",
       "      <td>895873.000000</td>\n",
       "      <td>11.000000</td>\n",
       "      <td>2.300000e+06</td>\n",
       "      <td>1.918191e+12</td>\n",
       "      <td>3.743567e+12</td>\n",
       "      <td>5.727540e+11</td>\n",
       "      <td>9.875686e+10</td>\n",
       "      <td>31560.000000</td>\n",
       "      <td>719066.938340</td>\n",
       "      <td>4108.910890</td>\n",
       "      <td>1010.000000</td>\n",
       "      <td>49.860000</td>\n",
       "      <td>705.200000</td>\n",
       "      <td>953.000000</td>\n",
       "      <td>896.000000</td>\n",
       "      <td>10.000000</td>\n",
       "      <td>716.000000</td>\n",
       "      <td>45.000000</td>\n",
       "    </tr>\n",
       "  </tbody>\n",
       "</table>\n",
       "</div>"
      ],
      "text/plain": [
       "                  id          year     employees       mkt cap    tot assets  \\\n",
       "count   18476.000000  18476.000000  1.847600e+04  1.847600e+04  1.847600e+04   \n",
       "mean    41663.032908      6.206701  3.773241e+04  1.922119e+10  6.106333e+10   \n",
       "std    142155.313880      3.514082  8.600501e+04  4.130271e+10  2.251751e+11   \n",
       "min        44.000000      0.000000  3.000000e+00  2.301209e+07  3.026280e+07   \n",
       "25%      7116.750000      3.000000  4.725750e+03  2.200015e+09  3.028815e+09   \n",
       "50%     14827.500000      6.000000  1.350000e+04  6.537421e+09  8.781904e+09   \n",
       "75%     22142.000000      9.000000  3.705425e+04  1.849473e+10  2.865038e+10   \n",
       "max    895873.000000     11.000000  2.300000e+06  1.918191e+12  3.743567e+12   \n",
       "\n",
       "            revenue    net income           roe   assets 1y gr  \\\n",
       "count  1.847600e+04  1.847600e+04  18476.000000   18476.000000   \n",
       "mean   1.479120e+10  1.046611e+09     16.548305      47.557961   \n",
       "std    3.052709e+10  2.912336e+09    332.988608    5290.140162   \n",
       "min    1.959459e+05 -2.307369e+10 -24850.000000     -98.574410   \n",
       "25%    1.856146e+09  7.928670e+07      5.755155      -0.386845   \n",
       "50%    5.180930e+09  3.016171e+08     11.257270       4.773935   \n",
       "75%    1.460472e+10  9.961308e+08     18.599280      11.544880   \n",
       "max    5.727540e+11  9.875686e+10  31560.000000  719066.938340   \n",
       "\n",
       "       employees 1y gr  ghg_change_total  ghg_change_real  \\\n",
       "count     18476.000000      18476.000000     18476.000000   \n",
       "mean          4.378476          0.298832        -3.943038   \n",
       "std          47.015714         41.446525         7.715102   \n",
       "min         -99.966010      -1700.000000       -49.900000   \n",
       "25%          -2.303857         -7.700000        -5.000000   \n",
       "50%           1.329670         -0.449350        -1.070000   \n",
       "75%           6.132458          3.000000         0.000000   \n",
       "max        4108.910890       1010.000000        49.860000   \n",
       "\n",
       "       ghg_change_structure  ghg_change_measure  ghg_change_othergroup  \\\n",
       "count          18476.000000        18476.000000           18476.000000   \n",
       "mean               0.879032            1.719552               0.230424   \n",
       "std               15.514248           24.568569              22.117374   \n",
       "min             -773.760000         -356.000000           -1700.000000   \n",
       "25%                0.000000            0.000000               0.000000   \n",
       "50%                0.000000            0.000000               0.000000   \n",
       "75%                0.000000            0.000000               0.000000   \n",
       "max              705.200000          953.000000             896.000000   \n",
       "\n",
       "       ghg_change_nonzero_count  ghg_change_output  ghg_change_real_next  \n",
       "count              18476.000000       18476.000000          15326.000000  \n",
       "mean                   2.085137           1.412861             -4.313538  \n",
       "std                    1.546520          16.920171              7.891736  \n",
       "min                    0.000000        -760.000000            -49.900000  \n",
       "25%                    1.000000           0.000000             -5.500000  \n",
       "50%                    2.000000           0.000000             -1.610000  \n",
       "75%                    3.000000           0.400000              0.000000  \n",
       "max                   10.000000         716.000000             45.000000  "
      ]
     },
     "execution_count": 90,
     "metadata": {},
     "output_type": "execute_result"
    }
   ],
   "source": [
    "cdp_summary.describe()"
   ]
  },
  {
   "cell_type": "code",
   "execution_count": 91,
   "metadata": {},
   "outputs": [],
   "source": [
    "# winsorize the data to remove outliers do one function that takes in a list of columns and winsorizes them\n",
    "def winsorize_columns(df, columns):\n",
    "    for col in columns:\n",
    "        df[col] = winsorize(df[col], limits=[0.001, 0.001])\n",
    "    return df\n",
    "\n",
    "# winsorize the data\n",
    "cdp_summary = winsorize_columns(cdp_summary, ['employees', 'mkt cap', 'tot assets', 'revenue', 'net income', 'roe', 'assets 1y gr', 'employees 1y gr'])"
   ]
  },
  {
   "cell_type": "markdown",
   "metadata": {},
   "source": [
    "# for financial data that also has negative values, take the log of the absolute value and add a sign column, you will have to use interaction terms, this will lead to interesting interpretations"
   ]
  },
  {
   "cell_type": "markdown",
   "metadata": {},
   "source": [
    "# calculating Return on Assets = Net Income / Total Assets\n",
    "\n",
    "For all the ratios, the formula i am using is $$ratio = 1 + \\frac{x}{100}$$"
   ]
  },
  {
   "cell_type": "code",
   "execution_count": 92,
   "metadata": {},
   "outputs": [],
   "source": [
    "# replace roe value of less than -100 with -100\n",
    "cdp_summary.loc[cdp_summary['roe'] < -100, 'roe'] = -99.9"
   ]
  },
  {
   "cell_type": "code",
   "execution_count": 93,
   "metadata": {},
   "outputs": [],
   "source": [
    "# convert growth rates to percentages ratios\n",
    "cdp_summary['assets 1y gr'] = np.log1p((100 + cdp_summary['assets 1y gr']) / 100)\n",
    "cdp_summary['employees 1y gr'] = np.log1p((100 + cdp_summary['employees 1y gr']) / 100)\n",
    "cdp_summary['roe'] = np.log1p((100 + cdp_summary['roe']) / 100)"
   ]
  },
  {
   "cell_type": "code",
   "execution_count": 94,
   "metadata": {},
   "outputs": [],
   "source": [
    "# net income over total assets\n",
    "cdp_summary['net_income_over_assets'] = 1 + cdp_summary['net income'] / cdp_summary['tot assets']\n",
    "\n",
    "# if net income over assets is less than 0, set it to 0\n",
    "cdp_summary.loc[cdp_summary['net_income_over_assets'] < 0, 'net_income_over_assets'] = 0.001\n",
    "\n",
    "# take the log\n",
    "cdp_summary['net_income_over_assets'] = np.log1p(cdp_summary['net_income_over_assets'])"
   ]
  },
  {
   "cell_type": "code",
   "execution_count": 95,
   "metadata": {},
   "outputs": [
    {
     "data": {
      "text/plain": [
       "count    18476.000000\n",
       "mean         0.714742\n",
       "std          0.035118\n",
       "min          0.001000\n",
       "25%          0.699439\n",
       "50%          0.712307\n",
       "75%          0.728312\n",
       "max          1.706779\n",
       "Name: net_income_over_assets, dtype: float64"
      ]
     },
     "execution_count": 95,
     "metadata": {},
     "output_type": "execute_result"
    }
   ],
   "source": [
    "cdp_summary['net_income_over_assets'].describe()"
   ]
  },
  {
   "cell_type": "code",
   "execution_count": 96,
   "metadata": {},
   "outputs": [],
   "source": [
    "# widnowsorize the net income over assets\n",
    "cdp_summary['net_income_over_assets'] = winsorize(cdp_summary['net_income_over_assets'], limits=[0.01, 0.01])\n",
    "\n",
    "# widnowsorize roe\n",
    "cdp_summary['roe'] = winsorize(cdp_summary['roe'], limits=[0.01, 0.01])\n",
    "\n",
    "# windowsorize the growth rates\n",
    "cdp_summary['employees 1y gr'] =  winsorize(cdp_summary['employees 1y gr'], limits=[0.01, 0.01])\n",
    "cdp_summary['assets 1y gr'] =  winsorize(cdp_summary['assets 1y gr'], limits=[0.01, 0.01])"
   ]
  },
  {
   "cell_type": "code",
   "execution_count": 97,
   "metadata": {},
   "outputs": [],
   "source": [
    "# always positive financial variables\n",
    "\n",
    "cdp_summary['mkt cap'] = np.log1p(cdp_summary['mkt cap'])\n",
    "cdp_summary['tot assets'] = np.log1p(cdp_summary['tot assets'])\n",
    "cdp_summary['revenue'] = np.log1p(cdp_summary['revenue'])\n",
    "cdp_summary['employees'] = np.log1p(cdp_summary['employees'])"
   ]
  },
  {
   "cell_type": "code",
   "execution_count": 98,
   "metadata": {},
   "outputs": [],
   "source": [
    "# cdp_summary['net income sign'] = (cdp_summary['net income'] < 0).astype(int)\n",
    "# cdp_summary['net income'] = np.log1p(np.abs(cdp_summary['net income']))\n",
    "# cdp_summary['roe sign'] = (cdp_summary['roe'] < 0).astype(int)\n",
    "# cdp_summary['roe'] = np.log1p(np.abs(cdp_summary['roe']))\n"
   ]
  },
  {
   "cell_type": "code",
   "execution_count": 99,
   "metadata": {},
   "outputs": [],
   "source": [
    "# sign(x)*log((abs(x)+1)\n",
    "# cdp_summary['net income'] = np.sign(cdp_summary['net income'])*np.log1p(np.abs(cdp_summary['net income']))\n",
    "# diff = cdp_summary['net income'].loc[cdp_summary['net income'] > 0].min() - cdp_summary['net income'].loc[cdp_summary['net income'] < 0].max()\n",
    "# cdp_summary['net income'] = cdp_summary['net income'].apply(lambda x: x + diff if x < 0 else x)"
   ]
  },
  {
   "cell_type": "code",
   "execution_count": 100,
   "metadata": {},
   "outputs": [],
   "source": [
    "# # apply a yeo-johnson transformation to the financial variables\n",
    "# cdp_summary['assets 1y gr'] = power_transform(cdp_summary[['assets 1y gr']], method='yeo-johnson')\n",
    "# cdp_summary['employees 1y gr'] = power_transform(cdp_summary[['employees 1y gr']], method='yeo-johnson')\n",
    "# cdp_summary['net income'] = power_transform(cdp_summary[['net income']], method='yeo-johnson')\n",
    "# cdp_summary['roe'] = power_transform(cdp_summary[['roe']], method='yeo-johnson')"
   ]
  },
  {
   "cell_type": "code",
   "execution_count": 101,
   "metadata": {},
   "outputs": [],
   "source": [
    "# cdp_summary['assets 1y gr'] = np.log1p(cdp_summary['assets 1y gr'] + np.abs(cdp_summary['assets 1y gr'].min()))\n",
    "# cdp_summary['employees 1y gr'] = np.log1p(cdp_summary['employees 1y gr'] + np.abs(cdp_summary['employees 1y gr'].min()))\n",
    "# cdp_summary['net income'] = np.log1p(cdp_summary['net income'] + np.abs(cdp_summary['net income'].min()))\n",
    "# cdp_summary['roe'] = np.log1p(cdp_summary['roe'] + np.abs(cdp_summary['roe'].min()))"
   ]
  },
  {
   "cell_type": "code",
   "execution_count": 102,
   "metadata": {},
   "outputs": [
    {
     "data": {
      "text/plain": [
       "(18476, 23)"
      ]
     },
     "execution_count": 102,
     "metadata": {},
     "output_type": "execute_result"
    }
   ],
   "source": [
    "cdp_summary.shape"
   ]
  },
  {
   "cell_type": "code",
   "execution_count": 103,
   "metadata": {},
   "outputs": [
    {
     "data": {
      "text/plain": [
       "3574"
      ]
     },
     "execution_count": 103,
     "metadata": {},
     "output_type": "execute_result"
    }
   ],
   "source": [
    "# unique firm ids\n",
    "len(cdp_summary['id'].unique())"
   ]
  },
  {
   "cell_type": "code",
   "execution_count": 104,
   "metadata": {},
   "outputs": [],
   "source": [
    "# create Industry column\n",
    "cdp_summary['Industry'] = cdp_summary['gind'].str.replace(\" \\\\&\", \",\")\n",
    "\n",
    "# replace in column names underscore with space\n",
    "cdp_summary.columns = cdp_summary.columns.str.replace(\"_\", \" \")\n",
    "\n",
    "# upper case the first letter of all words in the column names\n",
    "cdp_summary.columns = cdp_summary.columns.str.title()\n",
    "\n",
    "# change mkt to market cap, tot assets to Total Assets\n",
    "cdp_summary.columns = cdp_summary.columns.str.replace(\"Mkt Cap\", \"Market Cap\")"
   ]
  },
  {
   "cell_type": "code",
   "execution_count": 105,
   "metadata": {},
   "outputs": [
    {
     "data": {
      "text/html": [
       "<div>\n",
       "<style scoped>\n",
       "    .dataframe tbody tr th:only-of-type {\n",
       "        vertical-align: middle;\n",
       "    }\n",
       "\n",
       "    .dataframe tbody tr th {\n",
       "        vertical-align: top;\n",
       "    }\n",
       "\n",
       "    .dataframe thead th {\n",
       "        text-align: right;\n",
       "    }\n",
       "</style>\n",
       "<table border=\"1\" class=\"dataframe\">\n",
       "  <thead>\n",
       "    <tr style=\"text-align: right;\">\n",
       "      <th></th>\n",
       "      <th>Id</th>\n",
       "      <th>Year</th>\n",
       "      <th>Companyname</th>\n",
       "      <th>Country</th>\n",
       "      <th>Employees</th>\n",
       "      <th>Market Cap</th>\n",
       "      <th>Tot Assets</th>\n",
       "      <th>Revenue</th>\n",
       "      <th>Net Income</th>\n",
       "      <th>Roe</th>\n",
       "      <th>...</th>\n",
       "      <th>Ghg Change Total</th>\n",
       "      <th>Ghg Change Real</th>\n",
       "      <th>Ghg Change Structure</th>\n",
       "      <th>Ghg Change Measure</th>\n",
       "      <th>Ghg Change Othergroup</th>\n",
       "      <th>Ghg Change Nonzero Count</th>\n",
       "      <th>Ghg Change Output</th>\n",
       "      <th>Ghg Change Real Next</th>\n",
       "      <th>Net Income Over Assets</th>\n",
       "      <th>Industry</th>\n",
       "    </tr>\n",
       "  </thead>\n",
       "  <tbody>\n",
       "    <tr>\n",
       "      <th>0</th>\n",
       "      <td>44</td>\n",
       "      <td>0.0</td>\n",
       "      <td>3i Group</td>\n",
       "      <td>United Kingdom</td>\n",
       "      <td>6.274762</td>\n",
       "      <td>22.158500</td>\n",
       "      <td>22.921164</td>\n",
       "      <td>20.579931</td>\n",
       "      <td>2.336873e+08</td>\n",
       "      <td>0.723907</td>\n",
       "      <td>...</td>\n",
       "      <td>-11.00</td>\n",
       "      <td>-11.00</td>\n",
       "      <td>0.0</td>\n",
       "      <td>0.0</td>\n",
       "      <td>0.00</td>\n",
       "      <td>1.0</td>\n",
       "      <td>0.0</td>\n",
       "      <td>0.0</td>\n",
       "      <td>0.706038</td>\n",
       "      <td>Financial Services</td>\n",
       "    </tr>\n",
       "    <tr>\n",
       "      <th>1</th>\n",
       "      <td>44</td>\n",
       "      <td>1.0</td>\n",
       "      <td>3i Group</td>\n",
       "      <td>United Kingdom</td>\n",
       "      <td>6.154858</td>\n",
       "      <td>22.239586</td>\n",
       "      <td>22.945632</td>\n",
       "      <td>20.250692</td>\n",
       "      <td>2.980762e+08</td>\n",
       "      <td>0.721685</td>\n",
       "      <td>...</td>\n",
       "      <td>-25.00</td>\n",
       "      <td>0.00</td>\n",
       "      <td>0.0</td>\n",
       "      <td>0.0</td>\n",
       "      <td>-25.00</td>\n",
       "      <td>1.0</td>\n",
       "      <td>0.0</td>\n",
       "      <td>-1.0</td>\n",
       "      <td>0.709167</td>\n",
       "      <td>Financial Services</td>\n",
       "    </tr>\n",
       "    <tr>\n",
       "      <th>2</th>\n",
       "      <td>44</td>\n",
       "      <td>2.0</td>\n",
       "      <td>3i Group</td>\n",
       "      <td>United Kingdom</td>\n",
       "      <td>6.159095</td>\n",
       "      <td>21.891776</td>\n",
       "      <td>22.720924</td>\n",
       "      <td>19.980845</td>\n",
       "      <td>-1.254804e+09</td>\n",
       "      <td>0.552909</td>\n",
       "      <td>...</td>\n",
       "      <td>-19.00</td>\n",
       "      <td>-1.00</td>\n",
       "      <td>0.0</td>\n",
       "      <td>-1.0</td>\n",
       "      <td>-17.00</td>\n",
       "      <td>3.0</td>\n",
       "      <td>0.0</td>\n",
       "      <td>0.0</td>\n",
       "      <td>0.615131</td>\n",
       "      <td>Financial Services</td>\n",
       "    </tr>\n",
       "    <tr>\n",
       "      <th>3</th>\n",
       "      <td>44</td>\n",
       "      <td>3.0</td>\n",
       "      <td>3i Group</td>\n",
       "      <td>United Kingdom</td>\n",
       "      <td>5.883322</td>\n",
       "      <td>22.263379</td>\n",
       "      <td>22.602524</td>\n",
       "      <td>20.182098</td>\n",
       "      <td>2.781161e+08</td>\n",
       "      <td>0.725525</td>\n",
       "      <td>...</td>\n",
       "      <td>-29.00</td>\n",
       "      <td>0.00</td>\n",
       "      <td>0.0</td>\n",
       "      <td>0.0</td>\n",
       "      <td>-29.00</td>\n",
       "      <td>1.0</td>\n",
       "      <td>0.0</td>\n",
       "      <td>0.0</td>\n",
       "      <td>0.714159</td>\n",
       "      <td>Financial Services</td>\n",
       "    </tr>\n",
       "    <tr>\n",
       "      <th>4</th>\n",
       "      <td>44</td>\n",
       "      <td>5.0</td>\n",
       "      <td>3i Group</td>\n",
       "      <td>United Kingdom</td>\n",
       "      <td>5.605802</td>\n",
       "      <td>22.661978</td>\n",
       "      <td>22.707989</td>\n",
       "      <td>20.628547</td>\n",
       "      <td>1.037036e+09</td>\n",
       "      <td>0.787000</td>\n",
       "      <td>...</td>\n",
       "      <td>-4.00</td>\n",
       "      <td>0.00</td>\n",
       "      <td>0.0</td>\n",
       "      <td>0.0</td>\n",
       "      <td>-4.00</td>\n",
       "      <td>1.0</td>\n",
       "      <td>0.0</td>\n",
       "      <td>-39.7</td>\n",
       "      <td>0.761977</td>\n",
       "      <td>Financial Services</td>\n",
       "    </tr>\n",
       "    <tr>\n",
       "      <th>...</th>\n",
       "      <td>...</td>\n",
       "      <td>...</td>\n",
       "      <td>...</td>\n",
       "      <td>...</td>\n",
       "      <td>...</td>\n",
       "      <td>...</td>\n",
       "      <td>...</td>\n",
       "      <td>...</td>\n",
       "      <td>...</td>\n",
       "      <td>...</td>\n",
       "      <td>...</td>\n",
       "      <td>...</td>\n",
       "      <td>...</td>\n",
       "      <td>...</td>\n",
       "      <td>...</td>\n",
       "      <td>...</td>\n",
       "      <td>...</td>\n",
       "      <td>...</td>\n",
       "      <td>...</td>\n",
       "      <td>...</td>\n",
       "      <td>...</td>\n",
       "    </tr>\n",
       "    <tr>\n",
       "      <th>19150</th>\n",
       "      <td>895173</td>\n",
       "      <td>11.0</td>\n",
       "      <td>Flex LNG Ltd.</td>\n",
       "      <td>Bermuda</td>\n",
       "      <td>2.708050</td>\n",
       "      <td>20.897261</td>\n",
       "      <td>21.668308</td>\n",
       "      <td>19.639055</td>\n",
       "      <td>1.597116e+08</td>\n",
       "      <td>0.782163</td>\n",
       "      <td>...</td>\n",
       "      <td>59.86</td>\n",
       "      <td>49.86</td>\n",
       "      <td>0.0</td>\n",
       "      <td>0.0</td>\n",
       "      <td>10.00</td>\n",
       "      <td>2.0</td>\n",
       "      <td>0.0</td>\n",
       "      <td>NaN</td>\n",
       "      <td>0.723712</td>\n",
       "      <td>Energy</td>\n",
       "    </tr>\n",
       "    <tr>\n",
       "      <th>19151</th>\n",
       "      <td>895420</td>\n",
       "      <td>11.0</td>\n",
       "      <td>China Everbright Greentech Limited</td>\n",
       "      <td>Hong Kong</td>\n",
       "      <td>8.243019</td>\n",
       "      <td>20.470303</td>\n",
       "      <td>22.369891</td>\n",
       "      <td>20.803459</td>\n",
       "      <td>1.424291e+08</td>\n",
       "      <td>0.734523</td>\n",
       "      <td>...</td>\n",
       "      <td>12.55</td>\n",
       "      <td>0.00</td>\n",
       "      <td>0.0</td>\n",
       "      <td>0.0</td>\n",
       "      <td>12.55</td>\n",
       "      <td>1.0</td>\n",
       "      <td>0.0</td>\n",
       "      <td>NaN</td>\n",
       "      <td>0.706777</td>\n",
       "      <td>Utilities</td>\n",
       "    </tr>\n",
       "    <tr>\n",
       "      <th>19152</th>\n",
       "      <td>895480</td>\n",
       "      <td>11.0</td>\n",
       "      <td>Minerals Technologies Inc.</td>\n",
       "      <td>USA</td>\n",
       "      <td>8.284504</td>\n",
       "      <td>21.609885</td>\n",
       "      <td>21.932584</td>\n",
       "      <td>21.342928</td>\n",
       "      <td>1.644000e+08</td>\n",
       "      <td>0.746497</td>\n",
       "      <td>...</td>\n",
       "      <td>0.00</td>\n",
       "      <td>0.00</td>\n",
       "      <td>0.0</td>\n",
       "      <td>0.0</td>\n",
       "      <td>0.00</td>\n",
       "      <td>0.0</td>\n",
       "      <td>0.0</td>\n",
       "      <td>NaN</td>\n",
       "      <td>0.717380</td>\n",
       "      <td>Materials</td>\n",
       "    </tr>\n",
       "    <tr>\n",
       "      <th>19153</th>\n",
       "      <td>895582</td>\n",
       "      <td>11.0</td>\n",
       "      <td>Sunway Berhad</td>\n",
       "      <td>Malaysia</td>\n",
       "      <td>9.295600</td>\n",
       "      <td>21.425642</td>\n",
       "      <td>22.516667</td>\n",
       "      <td>20.609316</td>\n",
       "      <td>6.395736e+08</td>\n",
       "      <td>0.820678</td>\n",
       "      <td>...</td>\n",
       "      <td>0.97</td>\n",
       "      <td>0.97</td>\n",
       "      <td>0.0</td>\n",
       "      <td>0.0</td>\n",
       "      <td>0.00</td>\n",
       "      <td>2.0</td>\n",
       "      <td>0.0</td>\n",
       "      <td>NaN</td>\n",
       "      <td>0.744990</td>\n",
       "      <td>Capital Goods</td>\n",
       "    </tr>\n",
       "    <tr>\n",
       "      <th>19154</th>\n",
       "      <td>895873</td>\n",
       "      <td>11.0</td>\n",
       "      <td>Arlo Technologies Inc.</td>\n",
       "      <td>USA</td>\n",
       "      <td>5.869297</td>\n",
       "      <td>20.602131</td>\n",
       "      <td>19.666246</td>\n",
       "      <td>19.891171</td>\n",
       "      <td>-5.602900e+07</td>\n",
       "      <td>0.435188</td>\n",
       "      <td>...</td>\n",
       "      <td>0.00</td>\n",
       "      <td>0.00</td>\n",
       "      <td>0.0</td>\n",
       "      <td>0.0</td>\n",
       "      <td>0.00</td>\n",
       "      <td>0.0</td>\n",
       "      <td>0.0</td>\n",
       "      <td>NaN</td>\n",
       "      <td>0.615131</td>\n",
       "      <td>Technology Hardware, Equipment</td>\n",
       "    </tr>\n",
       "  </tbody>\n",
       "</table>\n",
       "<p>18476 rows × 24 columns</p>\n",
       "</div>"
      ],
      "text/plain": [
       "           Id  Year                         Companyname         Country  \\\n",
       "0          44   0.0                            3i Group  United Kingdom   \n",
       "1          44   1.0                            3i Group  United Kingdom   \n",
       "2          44   2.0                            3i Group  United Kingdom   \n",
       "3          44   3.0                            3i Group  United Kingdom   \n",
       "4          44   5.0                            3i Group  United Kingdom   \n",
       "...       ...   ...                                 ...             ...   \n",
       "19150  895173  11.0                       Flex LNG Ltd.         Bermuda   \n",
       "19151  895420  11.0  China Everbright Greentech Limited       Hong Kong   \n",
       "19152  895480  11.0          Minerals Technologies Inc.             USA   \n",
       "19153  895582  11.0                       Sunway Berhad        Malaysia   \n",
       "19154  895873  11.0              Arlo Technologies Inc.             USA   \n",
       "\n",
       "       Employees  Market Cap  Tot Assets    Revenue    Net Income       Roe  \\\n",
       "0       6.274762   22.158500   22.921164  20.579931  2.336873e+08  0.723907   \n",
       "1       6.154858   22.239586   22.945632  20.250692  2.980762e+08  0.721685   \n",
       "2       6.159095   21.891776   22.720924  19.980845 -1.254804e+09  0.552909   \n",
       "3       5.883322   22.263379   22.602524  20.182098  2.781161e+08  0.725525   \n",
       "4       5.605802   22.661978   22.707989  20.628547  1.037036e+09  0.787000   \n",
       "...          ...         ...         ...        ...           ...       ...   \n",
       "19150   2.708050   20.897261   21.668308  19.639055  1.597116e+08  0.782163   \n",
       "19151   8.243019   20.470303   22.369891  20.803459  1.424291e+08  0.734523   \n",
       "19152   8.284504   21.609885   21.932584  21.342928  1.644000e+08  0.746497   \n",
       "19153   9.295600   21.425642   22.516667  20.609316  6.395736e+08  0.820678   \n",
       "19154   5.869297   20.602131   19.666246  19.891171 -5.602900e+07  0.435188   \n",
       "\n",
       "       ...  Ghg Change Total  Ghg Change Real Ghg Change Structure  \\\n",
       "0      ...            -11.00           -11.00                  0.0   \n",
       "1      ...            -25.00             0.00                  0.0   \n",
       "2      ...            -19.00            -1.00                  0.0   \n",
       "3      ...            -29.00             0.00                  0.0   \n",
       "4      ...             -4.00             0.00                  0.0   \n",
       "...    ...               ...              ...                  ...   \n",
       "19150  ...             59.86            49.86                  0.0   \n",
       "19151  ...             12.55             0.00                  0.0   \n",
       "19152  ...              0.00             0.00                  0.0   \n",
       "19153  ...              0.97             0.97                  0.0   \n",
       "19154  ...              0.00             0.00                  0.0   \n",
       "\n",
       "      Ghg Change Measure  Ghg Change Othergroup  Ghg Change Nonzero Count  \\\n",
       "0                    0.0                   0.00                       1.0   \n",
       "1                    0.0                 -25.00                       1.0   \n",
       "2                   -1.0                 -17.00                       3.0   \n",
       "3                    0.0                 -29.00                       1.0   \n",
       "4                    0.0                  -4.00                       1.0   \n",
       "...                  ...                    ...                       ...   \n",
       "19150                0.0                  10.00                       2.0   \n",
       "19151                0.0                  12.55                       1.0   \n",
       "19152                0.0                   0.00                       0.0   \n",
       "19153                0.0                   0.00                       2.0   \n",
       "19154                0.0                   0.00                       0.0   \n",
       "\n",
       "       Ghg Change Output  Ghg Change Real Next  Net Income Over Assets  \\\n",
       "0                    0.0                   0.0                0.706038   \n",
       "1                    0.0                  -1.0                0.709167   \n",
       "2                    0.0                   0.0                0.615131   \n",
       "3                    0.0                   0.0                0.714159   \n",
       "4                    0.0                 -39.7                0.761977   \n",
       "...                  ...                   ...                     ...   \n",
       "19150                0.0                   NaN                0.723712   \n",
       "19151                0.0                   NaN                0.706777   \n",
       "19152                0.0                   NaN                0.717380   \n",
       "19153                0.0                   NaN                0.744990   \n",
       "19154                0.0                   NaN                0.615131   \n",
       "\n",
       "                             Industry  \n",
       "0                  Financial Services  \n",
       "1                  Financial Services  \n",
       "2                  Financial Services  \n",
       "3                  Financial Services  \n",
       "4                  Financial Services  \n",
       "...                               ...  \n",
       "19150                          Energy  \n",
       "19151                       Utilities  \n",
       "19152                       Materials  \n",
       "19153                   Capital Goods  \n",
       "19154  Technology Hardware, Equipment  \n",
       "\n",
       "[18476 rows x 24 columns]"
      ]
     },
     "execution_count": 105,
     "metadata": {},
     "output_type": "execute_result"
    }
   ],
   "source": [
    "cdp_summary"
   ]
  },
  {
   "cell_type": "code",
   "execution_count": 106,
   "metadata": {},
   "outputs": [],
   "source": [
    "cdp_summary.to_csv(\"../../data/processed/cdp_summary_processed_v2.csv\", index=False)"
   ]
  },
  {
   "cell_type": "markdown",
   "metadata": {},
   "source": []
  },
  {
   "cell_type": "code",
   "execution_count": 107,
   "metadata": {},
   "outputs": [],
   "source": [
    "# read cdp_combined.csv\n",
    "cdp_combined = pd.read_csv(\"../../data/combined/cdp_combined.csv\")"
   ]
  },
  {
   "cell_type": "code",
   "execution_count": 108,
   "metadata": {},
   "outputs": [],
   "source": [
    "# replace _ with space\n",
    "cdp_combined.columns = cdp_combined.columns.str.replace(\"_\", \" \")"
   ]
  },
  {
   "cell_type": "code",
   "execution_count": 109,
   "metadata": {},
   "outputs": [],
   "source": [
    "# in cdp combined, title case the column names\n",
    "cdp_combined.columns = cdp_combined.columns.str.title()"
   ]
  },
  {
   "cell_type": "code",
   "execution_count": 110,
   "metadata": {},
   "outputs": [],
   "source": [
    "# reset year to 0\n",
    "cdp_combined['Year'] = cdp_combined['Year'] - 2011"
   ]
  },
  {
   "cell_type": "code",
   "execution_count": 111,
   "metadata": {},
   "outputs": [
    {
     "data": {
      "text/html": [
       "<div>\n",
       "<style scoped>\n",
       "    .dataframe tbody tr th:only-of-type {\n",
       "        vertical-align: middle;\n",
       "    }\n",
       "\n",
       "    .dataframe tbody tr th {\n",
       "        vertical-align: top;\n",
       "    }\n",
       "\n",
       "    .dataframe thead th {\n",
       "        text-align: right;\n",
       "    }\n",
       "</style>\n",
       "<table border=\"1\" class=\"dataframe\">\n",
       "  <thead>\n",
       "    <tr style=\"text-align: right;\">\n",
       "      <th></th>\n",
       "      <th>Id</th>\n",
       "      <th>Year</th>\n",
       "      <th>Isin</th>\n",
       "      <th>Proportion Verified Scope1</th>\n",
       "      <th>Proportion Verified Scope2</th>\n",
       "      <th>Ghg Verification Scope1 No Data</th>\n",
       "      <th>Ghg Verification Scope1 Yes</th>\n",
       "      <th>Ghg Verification Scope2 No Data</th>\n",
       "      <th>Ghg Verification Scope2 Yes</th>\n",
       "      <th>Ghg Verification Scope3 No Data</th>\n",
       "      <th>...</th>\n",
       "      <th>Msaving Total Log1P</th>\n",
       "      <th>Investment Total Log1P</th>\n",
       "      <th>Co2 Total Log1P Missing</th>\n",
       "      <th>Msaving Total Log1P Missing</th>\n",
       "      <th>Investment Total Log1P Missing</th>\n",
       "      <th>Absent Cdp Initiative Firm Year Processed.Csv</th>\n",
       "      <th>Cdp Risk Transition</th>\n",
       "      <th>Cdp Risk Physical</th>\n",
       "      <th>Cdp Aggregated Opp</th>\n",
       "      <th>Absent Cdp Riskopp Processed.Csv</th>\n",
       "    </tr>\n",
       "  </thead>\n",
       "  <tbody>\n",
       "    <tr>\n",
       "      <th>0</th>\n",
       "      <td>44</td>\n",
       "      <td>0.0</td>\n",
       "      <td>GB00B1YW4409</td>\n",
       "      <td>100.0</td>\n",
       "      <td>100.0</td>\n",
       "      <td>0.0</td>\n",
       "      <td>0.0</td>\n",
       "      <td>0.0</td>\n",
       "      <td>0.0</td>\n",
       "      <td>0.0</td>\n",
       "      <td>...</td>\n",
       "      <td>0.000000</td>\n",
       "      <td>0.000000</td>\n",
       "      <td>0.0</td>\n",
       "      <td>0.0</td>\n",
       "      <td>0.0</td>\n",
       "      <td>0</td>\n",
       "      <td>0.0</td>\n",
       "      <td>0.0</td>\n",
       "      <td>1.0</td>\n",
       "      <td>0</td>\n",
       "    </tr>\n",
       "    <tr>\n",
       "      <th>1</th>\n",
       "      <td>44</td>\n",
       "      <td>1.0</td>\n",
       "      <td>GB00B1YW4409</td>\n",
       "      <td>100.0</td>\n",
       "      <td>100.0</td>\n",
       "      <td>0.0</td>\n",
       "      <td>0.0</td>\n",
       "      <td>0.0</td>\n",
       "      <td>0.0</td>\n",
       "      <td>0.0</td>\n",
       "      <td>...</td>\n",
       "      <td>0.000000</td>\n",
       "      <td>0.000000</td>\n",
       "      <td>0.0</td>\n",
       "      <td>0.0</td>\n",
       "      <td>0.0</td>\n",
       "      <td>1</td>\n",
       "      <td>0.0</td>\n",
       "      <td>0.0</td>\n",
       "      <td>1.0</td>\n",
       "      <td>0</td>\n",
       "    </tr>\n",
       "    <tr>\n",
       "      <th>2</th>\n",
       "      <td>44</td>\n",
       "      <td>2.0</td>\n",
       "      <td>GB00B1YW4409</td>\n",
       "      <td>100.0</td>\n",
       "      <td>100.0</td>\n",
       "      <td>0.0</td>\n",
       "      <td>1.0</td>\n",
       "      <td>0.0</td>\n",
       "      <td>1.0</td>\n",
       "      <td>0.0</td>\n",
       "      <td>...</td>\n",
       "      <td>9.831293</td>\n",
       "      <td>8.039803</td>\n",
       "      <td>0.0</td>\n",
       "      <td>0.0</td>\n",
       "      <td>0.0</td>\n",
       "      <td>0</td>\n",
       "      <td>1.0</td>\n",
       "      <td>1.0</td>\n",
       "      <td>1.0</td>\n",
       "      <td>0</td>\n",
       "    </tr>\n",
       "    <tr>\n",
       "      <th>3</th>\n",
       "      <td>44</td>\n",
       "      <td>3.0</td>\n",
       "      <td>GB00B1YW4409</td>\n",
       "      <td>100.0</td>\n",
       "      <td>100.0</td>\n",
       "      <td>0.0</td>\n",
       "      <td>0.0</td>\n",
       "      <td>0.0</td>\n",
       "      <td>0.0</td>\n",
       "      <td>0.0</td>\n",
       "      <td>...</td>\n",
       "      <td>11.601600</td>\n",
       "      <td>0.000000</td>\n",
       "      <td>0.0</td>\n",
       "      <td>0.0</td>\n",
       "      <td>0.0</td>\n",
       "      <td>0</td>\n",
       "      <td>1.0</td>\n",
       "      <td>1.0</td>\n",
       "      <td>1.0</td>\n",
       "      <td>0</td>\n",
       "    </tr>\n",
       "    <tr>\n",
       "      <th>4</th>\n",
       "      <td>44</td>\n",
       "      <td>5.0</td>\n",
       "      <td>GB00B1YW4409</td>\n",
       "      <td>100.0</td>\n",
       "      <td>100.0</td>\n",
       "      <td>0.0</td>\n",
       "      <td>1.0</td>\n",
       "      <td>0.0</td>\n",
       "      <td>1.0</td>\n",
       "      <td>0.0</td>\n",
       "      <td>...</td>\n",
       "      <td>7.273862</td>\n",
       "      <td>7.178622</td>\n",
       "      <td>0.0</td>\n",
       "      <td>0.0</td>\n",
       "      <td>0.0</td>\n",
       "      <td>0</td>\n",
       "      <td>1.0</td>\n",
       "      <td>1.0</td>\n",
       "      <td>1.0</td>\n",
       "      <td>0</td>\n",
       "    </tr>\n",
       "    <tr>\n",
       "      <th>...</th>\n",
       "      <td>...</td>\n",
       "      <td>...</td>\n",
       "      <td>...</td>\n",
       "      <td>...</td>\n",
       "      <td>...</td>\n",
       "      <td>...</td>\n",
       "      <td>...</td>\n",
       "      <td>...</td>\n",
       "      <td>...</td>\n",
       "      <td>...</td>\n",
       "      <td>...</td>\n",
       "      <td>...</td>\n",
       "      <td>...</td>\n",
       "      <td>...</td>\n",
       "      <td>...</td>\n",
       "      <td>...</td>\n",
       "      <td>...</td>\n",
       "      <td>...</td>\n",
       "      <td>...</td>\n",
       "      <td>...</td>\n",
       "      <td>...</td>\n",
       "    </tr>\n",
       "    <tr>\n",
       "      <th>24297</th>\n",
       "      <td>895420</td>\n",
       "      <td>11.0</td>\n",
       "      <td>KYG2R55E1030</td>\n",
       "      <td>100.0</td>\n",
       "      <td>100.0</td>\n",
       "      <td>0.0</td>\n",
       "      <td>1.0</td>\n",
       "      <td>0.0</td>\n",
       "      <td>1.0</td>\n",
       "      <td>0.0</td>\n",
       "      <td>...</td>\n",
       "      <td>0.000000</td>\n",
       "      <td>0.000000</td>\n",
       "      <td>0.0</td>\n",
       "      <td>0.0</td>\n",
       "      <td>0.0</td>\n",
       "      <td>0</td>\n",
       "      <td>1.0</td>\n",
       "      <td>0.0</td>\n",
       "      <td>1.0</td>\n",
       "      <td>0</td>\n",
       "    </tr>\n",
       "    <tr>\n",
       "      <th>24298</th>\n",
       "      <td>895480</td>\n",
       "      <td>11.0</td>\n",
       "      <td>US6031581068</td>\n",
       "      <td>100.0</td>\n",
       "      <td>100.0</td>\n",
       "      <td>0.0</td>\n",
       "      <td>0.0</td>\n",
       "      <td>0.0</td>\n",
       "      <td>0.0</td>\n",
       "      <td>1.0</td>\n",
       "      <td>...</td>\n",
       "      <td>0.000000</td>\n",
       "      <td>0.000000</td>\n",
       "      <td>0.0</td>\n",
       "      <td>0.0</td>\n",
       "      <td>0.0</td>\n",
       "      <td>0</td>\n",
       "      <td>0.0</td>\n",
       "      <td>0.0</td>\n",
       "      <td>1.0</td>\n",
       "      <td>0</td>\n",
       "    </tr>\n",
       "    <tr>\n",
       "      <th>24299</th>\n",
       "      <td>895556</td>\n",
       "      <td>11.0</td>\n",
       "      <td>US53960E1064</td>\n",
       "      <td>0.0</td>\n",
       "      <td>0.0</td>\n",
       "      <td>0.0</td>\n",
       "      <td>0.0</td>\n",
       "      <td>0.0</td>\n",
       "      <td>0.0</td>\n",
       "      <td>0.0</td>\n",
       "      <td>...</td>\n",
       "      <td>0.000000</td>\n",
       "      <td>0.000000</td>\n",
       "      <td>0.0</td>\n",
       "      <td>0.0</td>\n",
       "      <td>0.0</td>\n",
       "      <td>1</td>\n",
       "      <td>0.0</td>\n",
       "      <td>0.0</td>\n",
       "      <td>0.0</td>\n",
       "      <td>0</td>\n",
       "    </tr>\n",
       "    <tr>\n",
       "      <th>24300</th>\n",
       "      <td>895582</td>\n",
       "      <td>11.0</td>\n",
       "      <td>MYL5211OO007</td>\n",
       "      <td>100.0</td>\n",
       "      <td>100.0</td>\n",
       "      <td>0.0</td>\n",
       "      <td>1.0</td>\n",
       "      <td>0.0</td>\n",
       "      <td>1.0</td>\n",
       "      <td>0.0</td>\n",
       "      <td>...</td>\n",
       "      <td>0.000000</td>\n",
       "      <td>0.000000</td>\n",
       "      <td>0.0</td>\n",
       "      <td>0.0</td>\n",
       "      <td>0.0</td>\n",
       "      <td>0</td>\n",
       "      <td>0.0</td>\n",
       "      <td>0.0</td>\n",
       "      <td>0.0</td>\n",
       "      <td>0</td>\n",
       "    </tr>\n",
       "    <tr>\n",
       "      <th>24301</th>\n",
       "      <td>895873</td>\n",
       "      <td>11.0</td>\n",
       "      <td>US04206A1016</td>\n",
       "      <td>100.0</td>\n",
       "      <td>100.0</td>\n",
       "      <td>0.0</td>\n",
       "      <td>0.0</td>\n",
       "      <td>0.0</td>\n",
       "      <td>0.0</td>\n",
       "      <td>0.0</td>\n",
       "      <td>...</td>\n",
       "      <td>0.000000</td>\n",
       "      <td>0.000000</td>\n",
       "      <td>0.0</td>\n",
       "      <td>0.0</td>\n",
       "      <td>0.0</td>\n",
       "      <td>1</td>\n",
       "      <td>0.0</td>\n",
       "      <td>0.0</td>\n",
       "      <td>0.0</td>\n",
       "      <td>0</td>\n",
       "    </tr>\n",
       "  </tbody>\n",
       "</table>\n",
       "<p>24302 rows × 120 columns</p>\n",
       "</div>"
      ],
      "text/plain": [
       "           Id  Year          Isin  Proportion Verified Scope1  \\\n",
       "0          44   0.0  GB00B1YW4409                       100.0   \n",
       "1          44   1.0  GB00B1YW4409                       100.0   \n",
       "2          44   2.0  GB00B1YW4409                       100.0   \n",
       "3          44   3.0  GB00B1YW4409                       100.0   \n",
       "4          44   5.0  GB00B1YW4409                       100.0   \n",
       "...       ...   ...           ...                         ...   \n",
       "24297  895420  11.0  KYG2R55E1030                       100.0   \n",
       "24298  895480  11.0  US6031581068                       100.0   \n",
       "24299  895556  11.0  US53960E1064                         0.0   \n",
       "24300  895582  11.0  MYL5211OO007                       100.0   \n",
       "24301  895873  11.0  US04206A1016                       100.0   \n",
       "\n",
       "       Proportion Verified Scope2  Ghg Verification Scope1 No Data  \\\n",
       "0                           100.0                              0.0   \n",
       "1                           100.0                              0.0   \n",
       "2                           100.0                              0.0   \n",
       "3                           100.0                              0.0   \n",
       "4                           100.0                              0.0   \n",
       "...                           ...                              ...   \n",
       "24297                       100.0                              0.0   \n",
       "24298                       100.0                              0.0   \n",
       "24299                         0.0                              0.0   \n",
       "24300                       100.0                              0.0   \n",
       "24301                       100.0                              0.0   \n",
       "\n",
       "       Ghg Verification Scope1 Yes  Ghg Verification Scope2 No Data  \\\n",
       "0                              0.0                              0.0   \n",
       "1                              0.0                              0.0   \n",
       "2                              1.0                              0.0   \n",
       "3                              0.0                              0.0   \n",
       "4                              1.0                              0.0   \n",
       "...                            ...                              ...   \n",
       "24297                          1.0                              0.0   \n",
       "24298                          0.0                              0.0   \n",
       "24299                          0.0                              0.0   \n",
       "24300                          1.0                              0.0   \n",
       "24301                          0.0                              0.0   \n",
       "\n",
       "       Ghg Verification Scope2 Yes  Ghg Verification Scope3 No Data  ...  \\\n",
       "0                              0.0                              0.0  ...   \n",
       "1                              0.0                              0.0  ...   \n",
       "2                              1.0                              0.0  ...   \n",
       "3                              0.0                              0.0  ...   \n",
       "4                              1.0                              0.0  ...   \n",
       "...                            ...                              ...  ...   \n",
       "24297                          1.0                              0.0  ...   \n",
       "24298                          0.0                              1.0  ...   \n",
       "24299                          0.0                              0.0  ...   \n",
       "24300                          1.0                              0.0  ...   \n",
       "24301                          0.0                              0.0  ...   \n",
       "\n",
       "       Msaving Total Log1P  Investment Total Log1P  Co2 Total Log1P Missing  \\\n",
       "0                 0.000000                0.000000                      0.0   \n",
       "1                 0.000000                0.000000                      0.0   \n",
       "2                 9.831293                8.039803                      0.0   \n",
       "3                11.601600                0.000000                      0.0   \n",
       "4                 7.273862                7.178622                      0.0   \n",
       "...                    ...                     ...                      ...   \n",
       "24297             0.000000                0.000000                      0.0   \n",
       "24298             0.000000                0.000000                      0.0   \n",
       "24299             0.000000                0.000000                      0.0   \n",
       "24300             0.000000                0.000000                      0.0   \n",
       "24301             0.000000                0.000000                      0.0   \n",
       "\n",
       "       Msaving Total Log1P Missing  Investment Total Log1P Missing  \\\n",
       "0                              0.0                             0.0   \n",
       "1                              0.0                             0.0   \n",
       "2                              0.0                             0.0   \n",
       "3                              0.0                             0.0   \n",
       "4                              0.0                             0.0   \n",
       "...                            ...                             ...   \n",
       "24297                          0.0                             0.0   \n",
       "24298                          0.0                             0.0   \n",
       "24299                          0.0                             0.0   \n",
       "24300                          0.0                             0.0   \n",
       "24301                          0.0                             0.0   \n",
       "\n",
       "       Absent Cdp Initiative Firm Year Processed.Csv  Cdp Risk Transition  \\\n",
       "0                                                  0                  0.0   \n",
       "1                                                  1                  0.0   \n",
       "2                                                  0                  1.0   \n",
       "3                                                  0                  1.0   \n",
       "4                                                  0                  1.0   \n",
       "...                                              ...                  ...   \n",
       "24297                                              0                  1.0   \n",
       "24298                                              0                  0.0   \n",
       "24299                                              1                  0.0   \n",
       "24300                                              0                  0.0   \n",
       "24301                                              1                  0.0   \n",
       "\n",
       "       Cdp Risk Physical  Cdp Aggregated Opp  Absent Cdp Riskopp Processed.Csv  \n",
       "0                    0.0                 1.0                                 0  \n",
       "1                    0.0                 1.0                                 0  \n",
       "2                    1.0                 1.0                                 0  \n",
       "3                    1.0                 1.0                                 0  \n",
       "4                    1.0                 1.0                                 0  \n",
       "...                  ...                 ...                               ...  \n",
       "24297                0.0                 1.0                                 0  \n",
       "24298                0.0                 1.0                                 0  \n",
       "24299                0.0                 0.0                                 0  \n",
       "24300                0.0                 0.0                                 0  \n",
       "24301                0.0                 0.0                                 0  \n",
       "\n",
       "[24302 rows x 120 columns]"
      ]
     },
     "execution_count": 111,
     "metadata": {},
     "output_type": "execute_result"
    }
   ],
   "source": [
    "cdp_combined"
   ]
  },
  {
   "cell_type": "code",
   "execution_count": 112,
   "metadata": {},
   "outputs": [],
   "source": [
    "# inner join cdp_summary with cdp_combined\n",
    "cdp_total = cdp_summary.merge(cdp_combined, on=['Id', 'Year'], how='inner')"
   ]
  },
  {
   "cell_type": "code",
   "execution_count": 113,
   "metadata": {},
   "outputs": [],
   "source": [
    "# drop columns wih _y\n",
    "cdp_total = cdp_total.loc[:, ~cdp_total.columns.str.endswith('_y')]\n",
    "\n",
    "# rename columns with _x to remove the _x\n",
    "cdp_total.columns = cdp_total.columns.str.replace(\"_x\", \"\")"
   ]
  },
  {
   "cell_type": "code",
   "execution_count": 114,
   "metadata": {},
   "outputs": [],
   "source": [
    "# drop rows with missing values\n",
    "cdp_total.dropna(subset=['Cdp Risk Transition'], inplace=True)"
   ]
  },
  {
   "cell_type": "code",
   "execution_count": 115,
   "metadata": {},
   "outputs": [],
   "source": [
    "list = cdp_total.isna().mean()"
   ]
  },
  {
   "cell_type": "code",
   "execution_count": 116,
   "metadata": {},
   "outputs": [
    {
     "data": {
      "text/plain": [
       "Id                                               0.0\n",
       "Year                                             0.0\n",
       "Companyname                                      0.0\n",
       "Country                                          0.0\n",
       "Employees                                        0.0\n",
       "                                                ... \n",
       "Absent Cdp Initiative Firm Year Processed.Csv    0.0\n",
       "Cdp Risk Transition                              0.0\n",
       "Cdp Risk Physical                                0.0\n",
       "Cdp Aggregated Opp                               0.0\n",
       "Absent Cdp Riskopp Processed.Csv                 0.0\n",
       "Length: 134, dtype: float64"
      ]
     },
     "execution_count": 116,
     "metadata": {},
     "output_type": "execute_result"
    }
   ],
   "source": [
    "# filter rows where ghg change real next is different between _x and _y\n",
    "cdp_total.isna().mean()"
   ]
  },
  {
   "cell_type": "code",
   "execution_count": 118,
   "metadata": {},
   "outputs": [
    {
     "data": {
      "text/plain": [
       "(18289, 134)"
      ]
     },
     "execution_count": 118,
     "metadata": {},
     "output_type": "execute_result"
    }
   ],
   "source": [
    "cdp_total.shape"
   ]
  },
  {
   "cell_type": "code",
   "execution_count": 119,
   "metadata": {},
   "outputs": [],
   "source": [
    "# count number of rows per firm id and drop those that have less than 3 row\n",
    "\n",
    "id_counts = cdp_total['Id'].value_counts()\n",
    "\n",
    "id_counts = id_counts[id_counts > 3]\n",
    "\n",
    "cdp_total = cdp_total[cdp_total['Id'].isin(id_counts.index)]"
   ]
  },
  {
   "cell_type": "code",
   "execution_count": 120,
   "metadata": {},
   "outputs": [
    {
     "data": {
      "text/plain": [
       "(15430, 134)"
      ]
     },
     "execution_count": 120,
     "metadata": {},
     "output_type": "execute_result"
    }
   ],
   "source": [
    "cdp_total.shape"
   ]
  },
  {
   "cell_type": "code",
   "execution_count": 141,
   "metadata": {},
   "outputs": [
    {
     "data": {
      "text/plain": [
       "0.10946208684381076"
      ]
     },
     "execution_count": 141,
     "metadata": {},
     "output_type": "execute_result"
    }
   ],
   "source": [
    "cdp_total.isna().mean().max()"
   ]
  },
  {
   "cell_type": "code",
   "execution_count": 121,
   "metadata": {},
   "outputs": [],
   "source": [
    "# save the df to a csv file\n",
    "cdp_total.to_csv(\"../../data/processed/cdp_total_processed_v2.csv\", index=False)"
   ]
  },
  {
   "cell_type": "code",
   "execution_count": 122,
   "metadata": {},
   "outputs": [
    {
     "data": {
      "text/plain": [
       "<seaborn.axisgrid.FacetGrid at 0x12266d520>"
      ]
     },
     "execution_count": 122,
     "metadata": {},
     "output_type": "execute_result"
    },
    {
     "data": {
      "image/png": "[encoded data removed]",
      "text/plain": [
       "<Figure size 500x500 with 1 Axes>"
      ]
     },
     "metadata": {},
     "output_type": "display_data"
    }
   ],
   "source": [
    "series = cdp_total.groupby('Id')[['Ghg Change Real Next', 'Ghg2Market Na']].mean()\n",
    "\n",
    "# plot the two variables insert line of best fit\n",
    "sns.lmplot(x='Ghg2Market Na', y='Ghg Change Real Next', data=series, fit_reg=True, scatter_kws={\"s\": 10, \"color\": \"red\"})"
   ]
  },
  {
   "cell_type": "code",
   "execution_count": 123,
   "metadata": {},
   "outputs": [
    {
     "data": {
      "text/plain": [
       "0        0.0\n",
       "1        0.0\n",
       "2        1.0\n",
       "3        0.0\n",
       "4        1.0\n",
       "        ... \n",
       "17820    1.0\n",
       "17852    0.0\n",
       "17853    0.0\n",
       "17854    1.0\n",
       "17855    1.0\n",
       "Name: Ghg Verification Scope3 Yes, Length: 15430, dtype: float64"
      ]
     },
     "execution_count": 123,
     "metadata": {},
     "output_type": "execute_result"
    }
   ],
   "source": [
    "cdp_total['Ghg Verification Scope3 Yes']"
   ]
  },
  {
   "cell_type": "code",
   "execution_count": 124,
   "metadata": {},
   "outputs": [
    {
     "data": {
      "text/plain": [
       "<seaborn.axisgrid.FacetGrid at 0x121d781d0>"
      ]
     },
     "execution_count": 124,
     "metadata": {},
     "output_type": "execute_result"
    },
    {
     "data": {
      "image/png": "[encoded data removed]",
      "text/plain": [
       "<Figure size 500x500 with 1 Axes>"
      ]
     },
     "metadata": {},
     "output_type": "display_data"
    }
   ],
   "source": [
    "series = cdp_total.groupby('Id')[['Ghg Verification Scope3 Yes', 'Ghg Change Real Next']].mean()\n",
    "\n",
    "\n",
    "# plot the two variables insert line of best fit\n",
    "sns.lmplot(x='Ghg Verification Scope3 Yes', y='Ghg Change Real Next', data=series, fit_reg=True)"
   ]
  },
  {
   "cell_type": "code",
   "execution_count": 125,
   "metadata": {},
   "outputs": [
    {
     "data": {
      "text/plain": [
       "<seaborn.axisgrid.FacetGrid at 0x12266cb60>"
      ]
     },
     "execution_count": 125,
     "metadata": {},
     "output_type": "execute_result"
    },
    {
     "data": {
      "image/png": "[encoded data removed]",
      "text/plain": [
       "<Figure size 500x500 with 1 Axes>"
      ]
     },
     "metadata": {},
     "output_type": "display_data"
    }
   ],
   "source": [
    "# do the same for Market Cap and Next Year GHG Change\n",
    "series = cdp_total.groupby('Id')[['Market Cap', 'Ghg Change Real Next']].mean()\n",
    "\n",
    "# plot the two variables insert line of best fit\n",
    "sns.lmplot(x='Market Cap', y='Ghg Change Real Next', data=series, fit_reg=True)"
   ]
  },
  {
   "cell_type": "code",
   "execution_count": 126,
   "metadata": {},
   "outputs": [
    {
     "data": {
      "text/plain": [
       "<seaborn.axisgrid.FacetGrid at 0x122745b50>"
      ]
     },
     "execution_count": 126,
     "metadata": {},
     "output_type": "execute_result"
    },
    {
     "data": {
      "image/png": "[encoded data removed]",
      "text/plain": [
       "<Figure size 500x500 with 1 Axes>"
      ]
     },
     "metadata": {},
     "output_type": "display_data"
    }
   ],
   "source": [
    "# do the same for Revenue and Next Year GHG Change\n",
    "series = cdp_total.groupby('Id')[['Revenue', 'Ghg Change Real Next']].mean()\n",
    "\n",
    "# plot the two variables insert line of best fit\n",
    "sns.lmplot(x='Revenue', y='Ghg Change Real Next', data=series, fit_reg=True)"
   ]
  },
  {
   "cell_type": "markdown",
   "metadata": {},
   "source": [
    "Revenue is positive when added to the model, mention the confounding relationship between revenue and market cap."
   ]
  },
  {
   "cell_type": "code",
   "execution_count": 127,
   "metadata": {},
   "outputs": [],
   "source": [
    "# do the same for Investment Counter\n",
    "series = cdp_total.groupby('Industry')[['Investment Counter', 'Ghg Change Real Next']].mean()\n",
    "\n",
    "# plot the two variables insert line of best fitsns.lmplot(x='Investment Counter', y='Ghg Change Real Next', data=series, fit_reg=True)"
   ]
  },
  {
   "cell_type": "code",
   "execution_count": 128,
   "metadata": {},
   "outputs": [
    {
     "data": {
      "text/plain": [
       "<seaborn.axisgrid.FacetGrid at 0x1227bb680>"
      ]
     },
     "execution_count": 128,
     "metadata": {},
     "output_type": "execute_result"
    },
    {
     "data": {
      "image/png": "[encoded data removed]",
      "text/plain": [
       "<Figure size 500x500 with 1 Axes>"
      ]
     },
     "metadata": {},
     "output_type": "display_data"
    }
   ],
   "source": [
    "# do the same for methane emissions\n",
    "series = cdp_total.groupby('Industry')[['Methane Emissions', 'Ghg Change Real Next']].mean()\n",
    "\n",
    "# loc series to methane emissions less than 5\n",
    "series = series.loc[series['Methane Emissions'] < 5]\n",
    "\n",
    "# plot the two variables insert line of best fit\n",
    "sns.lmplot(x='Methane Emissions', y='Ghg Change Real Next', data=series, fit_reg=True)"
   ]
  },
  {
   "cell_type": "code",
   "execution_count": 129,
   "metadata": {},
   "outputs": [
    {
     "data": {
      "text/plain": [
       "<seaborn.axisgrid.FacetGrid at 0x122528fb0>"
      ]
     },
     "execution_count": 129,
     "metadata": {},
     "output_type": "execute_result"
    },
    {
     "data": {
      "image/png": "[encoded data removed]",
      "text/plain": [
       "<Figure size 500x500 with 1 Axes>"
      ]
     },
     "metadata": {},
     "output_type": "display_data"
    }
   ],
   "source": [
    "# do the same for Cdp Risk Physical\n",
    "series = cdp_total.groupby('Industry')[['Cdp Risk Physical', 'Ghg Change Real Next']].mean()\n",
    "\n",
    "# plot the two variables insert line of best fit\n",
    "sns.lmplot(x='Cdp Risk Physical', y='Ghg Change Real Next', data=series, fit_reg=True)"
   ]
  },
  {
   "cell_type": "code",
   "execution_count": 130,
   "metadata": {},
   "outputs": [],
   "source": [
    "lstm = cdp_total.dropna()"
   ]
  },
  {
   "cell_type": "code",
   "execution_count": 131,
   "metadata": {},
   "outputs": [],
   "source": [
    "lstm = lstm[['Id', 'Industry', 'Continent', 'Country', 'Year', 'Employees', 'Market Cap', 'Revenue', 'Employees 1Y Gr', \n",
    "      'Assets 1Y Gr', 'Tot Assets', 'Net Income Over Assets', 'Roe', 'Ghg1', 'Ghg2Location',\n",
    "      'Ghg2Market', 'Ghg2Location Na', 'Ghg2Market Na', 'Ghg3 Total Na', 'Methane Emissions', 'Type Scope1 Limited',\n",
    "      'Type Scope1 Moderate', 'Type Scope1 N/A', 'Type Scope1 Third Party Underway', 'Ghg Verification Scope1 Yes',\n",
    "        'Ghg Verification Scope2 Yes', 'Ghg Verification Scope3 Yes',\n",
    "        'Cdp Boardoversight I', 'Cdp Incentivebinary I', 'Method Ind Macc','Method Ind Other', 'Method Ind Internal Price',\n",
    "        'Method Ind Internal Incentives', 'Cdp Targetscope Percent Mean', 'Cdp Targetamount Mean',\n",
    "        'Cdp Targettype Absolute', 'Cdp Targettype Intensity', 'Cdp Risk Physical', 'Cdp Risk Transition', 'Cdp Aggregated Opp', 'Investment Counter', 'Ghg Change Real', 'Ghg Change Real Next']]"
   ]
  },
  {
   "cell_type": "code",
   "execution_count": 132,
   "metadata": {},
   "outputs": [],
   "source": [
    "# eexport to csv\n",
    "lstm.to_csv(\"../../data/processed/lstm.csv\", index=False)"
   ]
  },
  {
   "cell_type": "markdown",
   "metadata": {},
   "source": [
    "# this is a test, not an official apollo launch please ignore :)"
   ]
  },
  {
   "cell_type": "code",
   "execution_count": 133,
   "metadata": {},
   "outputs": [],
   "source": [
    "# test = cdp_summary[['id', 'year', 'continent', 'gind', 'ghg_change_real', 'ghg_change_real_next']].copy()"
   ]
  },
  {
   "cell_type": "code",
   "execution_count": 134,
   "metadata": {},
   "outputs": [],
   "source": [
    "# test.dropna(inplace=True)"
   ]
  },
  {
   "cell_type": "code",
   "execution_count": 135,
   "metadata": {},
   "outputs": [],
   "source": [
    "# # statsmodels mixed effects model\n",
    "# import statsmodels.api as sm\n",
    "# import statsmodels.formula.api as smf\n",
    "\n",
    "# md = smf.mixedlm(\"ghg_change_real_next ~ year + gind + continent\", test, groups=test[\"id\"])\n",
    "# mdf = md.fit()\n",
    "# print(mdf.summary())"
   ]
  },
  {
   "cell_type": "code",
   "execution_count": 136,
   "metadata": {},
   "outputs": [],
   "source": [
    "# # calculate r2 score\n",
    "# from cgi import test\n",
    "# from sklearn.metrics import r2_score\n",
    "\n",
    "# r2_score(test['ghg_change_real_next'], mdf.fittedvalues)"
   ]
  },
  {
   "cell_type": "code",
   "execution_count": 137,
   "metadata": {},
   "outputs": [],
   "source": [
    "# mdf.summary()"
   ]
  }
 ],
 "metadata": {
  "kernelspec": {
   "display_name": "thesis_project",
   "language": "python",
   "name": "python3"
  },
  "language_info": {
   "codemirror_mode": {
    "name": "ipython",
    "version": 3
   },
   "file_extension": ".py",
   "mimetype": "text/x-python",
   "name": "python",
   "nbconvert_exporter": "python",
   "pygments_lexer": "ipython3",
   "version": "3.12.2"
  }
 },
 "nbformat": 4,
 "nbformat_minor": 2
}
