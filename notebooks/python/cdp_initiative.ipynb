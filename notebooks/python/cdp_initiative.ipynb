{
 "cells": [
  {
   "cell_type": "markdown",
   "metadata": {},
   "source": [
    "`Done - Initiatives, keeping only scope counters`"
   ]
  },
  {
   "cell_type": "markdown",
   "metadata": {},
   "source": [
    "Note that this dataset has already been converted to firm_year, the only missing part is the detail on which scopes the incentives apply. To this end, I will just keep the three relevant columns, groupby id and year, and then sum."
   ]
  },
  {
   "cell_type": "code",
   "execution_count": 114,
   "metadata": {},
   "outputs": [],
   "source": [
    "import pandas as pd\n",
    "import numpy as np\n",
    "import seaborn as sns"
   ]
  },
  {
   "cell_type": "code",
   "execution_count": 115,
   "metadata": {},
   "outputs": [],
   "source": [
    "data = pd.read_stata(\"../../data/CDP Cleaning/cleaned outputs/cdp_initiative.dta\")"
   ]
  },
  {
   "cell_type": "code",
   "execution_count": 116,
   "metadata": {},
   "outputs": [
    {
     "data": {
      "text/plain": [
       "(113003, 27)"
      ]
     },
     "execution_count": 116,
     "metadata": {},
     "output_type": "execute_result"
    }
   ],
   "source": [
    "data.shape"
   ]
  },
  {
   "cell_type": "code",
   "execution_count": 117,
   "metadata": {},
   "outputs": [
    {
     "data": {
      "text/html": [
       "<div>\n",
       "<style scoped>\n",
       "    .dataframe tbody tr th:only-of-type {\n",
       "        vertical-align: middle;\n",
       "    }\n",
       "\n",
       "    .dataframe tbody tr th {\n",
       "        vertical-align: top;\n",
       "    }\n",
       "\n",
       "    .dataframe thead th {\n",
       "        text-align: right;\n",
       "    }\n",
       "</style>\n",
       "<table border=\"1\" class=\"dataframe\">\n",
       "  <thead>\n",
       "    <tr style=\"text-align: right;\">\n",
       "      <th></th>\n",
       "      <th>id</th>\n",
       "      <th>year</th>\n",
       "      <th>cdp_ini_type_detail_f</th>\n",
       "      <th>cdp_ini_type_f</th>\n",
       "      <th>cdp_ini_co2_c</th>\n",
       "      <th>cdp_ini_ghgscope_f</th>\n",
       "      <th>cdp_ini_disclosure_f</th>\n",
       "      <th>cdp_ini_monetarysaving_c</th>\n",
       "      <th>cdp_ini_investmentrequired_c</th>\n",
       "      <th>cdp_ini_payback_f</th>\n",
       "      <th>...</th>\n",
       "      <th>scope3</th>\n",
       "      <th>cdp_ini_subtype_f</th>\n",
       "      <th>reporting_boundary</th>\n",
       "      <th>companyname</th>\n",
       "      <th>country</th>\n",
       "      <th>industry14</th>\n",
       "      <th>isin</th>\n",
       "      <th>ticker</th>\n",
       "      <th>industry46</th>\n",
       "      <th>cdpdate</th>\n",
       "    </tr>\n",
       "  </thead>\n",
       "  <tbody>\n",
       "    <tr>\n",
       "      <th>0</th>\n",
       "      <td>44</td>\n",
       "      <td>2011.0</td>\n",
       "      <td>• we have requested data from portfolio compan...</td>\n",
       "      <td>company policy or behavioral change</td>\n",
       "      <td>NaN</td>\n",
       "      <td></td>\n",
       "      <td></td>\n",
       "      <td>NaN</td>\n",
       "      <td>NaN</td>\n",
       "      <td></td>\n",
       "      <td>...</td>\n",
       "      <td>0.0</td>\n",
       "      <td></td>\n",
       "      <td></td>\n",
       "      <td>3i Group</td>\n",
       "      <td>United Kingdom</td>\n",
       "      <td>Services</td>\n",
       "      <td>GB00B1YW4409</td>\n",
       "      <td>III LN</td>\n",
       "      <td>banks diverse financials insurance</td>\n",
       "      <td>NaT</td>\n",
       "    </tr>\n",
       "    <tr>\n",
       "      <th>1</th>\n",
       "      <td>44</td>\n",
       "      <td>2013.0</td>\n",
       "      <td>other</td>\n",
       "      <td>other</td>\n",
       "      <td>901.50</td>\n",
       "      <td></td>\n",
       "      <td></td>\n",
       "      <td>9303.00</td>\n",
       "      <td>1550.5</td>\n",
       "      <td>1-3 years</td>\n",
       "      <td>...</td>\n",
       "      <td>0.0</td>\n",
       "      <td></td>\n",
       "      <td></td>\n",
       "      <td>3i Group</td>\n",
       "      <td>United Kingdom</td>\n",
       "      <td>Services</td>\n",
       "      <td>GB00B1YW4409</td>\n",
       "      <td>III LN</td>\n",
       "      <td>banks diverse financials insurance</td>\n",
       "      <td>2013-06-18</td>\n",
       "    </tr>\n",
       "    <tr>\n",
       "      <th>2</th>\n",
       "      <td>44</td>\n",
       "      <td>2013.0</td>\n",
       "      <td>3i are undertaking an accreditation exercise w...</td>\n",
       "      <td>energy efficiency in production processes</td>\n",
       "      <td>901.50</td>\n",
       "      <td></td>\n",
       "      <td></td>\n",
       "      <td>9303.00</td>\n",
       "      <td>1550.5</td>\n",
       "      <td>4-10 years</td>\n",
       "      <td>...</td>\n",
       "      <td>0.0</td>\n",
       "      <td></td>\n",
       "      <td></td>\n",
       "      <td>3i Group</td>\n",
       "      <td>United Kingdom</td>\n",
       "      <td>Services</td>\n",
       "      <td>GB00B1YW4409</td>\n",
       "      <td>III LN</td>\n",
       "      <td>banks diverse financials insurance</td>\n",
       "      <td>2013-06-18</td>\n",
       "    </tr>\n",
       "    <tr>\n",
       "      <th>3</th>\n",
       "      <td>44</td>\n",
       "      <td>2014.0</td>\n",
       "      <td>reducing travel associated carbon emissions.  ...</td>\n",
       "      <td>transportation</td>\n",
       "      <td>39.67</td>\n",
       "      <td></td>\n",
       "      <td></td>\n",
       "      <td>105766.11</td>\n",
       "      <td>0.0</td>\n",
       "      <td>1-3 years</td>\n",
       "      <td>...</td>\n",
       "      <td>0.0</td>\n",
       "      <td></td>\n",
       "      <td></td>\n",
       "      <td>3i Group</td>\n",
       "      <td>United Kingdom</td>\n",
       "      <td>Services</td>\n",
       "      <td>GB00B1YW4409</td>\n",
       "      <td>III LN</td>\n",
       "      <td>banks diverse financials insurance</td>\n",
       "      <td>2014-06-26</td>\n",
       "    </tr>\n",
       "    <tr>\n",
       "      <th>4</th>\n",
       "      <td>44</td>\n",
       "      <td>2014.0</td>\n",
       "      <td>reducing electricty use with our buildings.   ...</td>\n",
       "      <td>energy efficiency in buildings</td>\n",
       "      <td>10.31</td>\n",
       "      <td></td>\n",
       "      <td></td>\n",
       "      <td>3505.33</td>\n",
       "      <td>0.0</td>\n",
       "      <td>1-3 years</td>\n",
       "      <td>...</td>\n",
       "      <td>0.0</td>\n",
       "      <td></td>\n",
       "      <td></td>\n",
       "      <td>3i Group</td>\n",
       "      <td>United Kingdom</td>\n",
       "      <td>Services</td>\n",
       "      <td>GB00B1YW4409</td>\n",
       "      <td>III LN</td>\n",
       "      <td>banks diverse financials insurance</td>\n",
       "      <td>2014-06-26</td>\n",
       "    </tr>\n",
       "  </tbody>\n",
       "</table>\n",
       "<p>5 rows × 27 columns</p>\n",
       "</div>"
      ],
      "text/plain": [
       "   id    year                              cdp_ini_type_detail_f  \\\n",
       "0  44  2011.0  • we have requested data from portfolio compan...   \n",
       "1  44  2013.0                                              other   \n",
       "2  44  2013.0  3i are undertaking an accreditation exercise w...   \n",
       "3  44  2014.0  reducing travel associated carbon emissions.  ...   \n",
       "4  44  2014.0  reducing electricty use with our buildings.   ...   \n",
       "\n",
       "                              cdp_ini_type_f  cdp_ini_co2_c  \\\n",
       "0        company policy or behavioral change            NaN   \n",
       "1                                      other         901.50   \n",
       "2  energy efficiency in production processes         901.50   \n",
       "3                             transportation          39.67   \n",
       "4             energy efficiency in buildings          10.31   \n",
       "\n",
       "  cdp_ini_ghgscope_f cdp_ini_disclosure_f  cdp_ini_monetarysaving_c  \\\n",
       "0                                                               NaN   \n",
       "1                                                           9303.00   \n",
       "2                                                           9303.00   \n",
       "3                                                         105766.11   \n",
       "4                                                           3505.33   \n",
       "\n",
       "   cdp_ini_investmentrequired_c cdp_ini_payback_f  ... scope3  \\\n",
       "0                           NaN                    ...    0.0   \n",
       "1                        1550.5         1-3 years  ...    0.0   \n",
       "2                        1550.5        4-10 years  ...    0.0   \n",
       "3                           0.0         1-3 years  ...    0.0   \n",
       "4                           0.0         1-3 years  ...    0.0   \n",
       "\n",
       "  cdp_ini_subtype_f reporting_boundary companyname         country  \\\n",
       "0                                         3i Group  United Kingdom   \n",
       "1                                         3i Group  United Kingdom   \n",
       "2                                         3i Group  United Kingdom   \n",
       "3                                         3i Group  United Kingdom   \n",
       "4                                         3i Group  United Kingdom   \n",
       "\n",
       "   industry14          isin  ticker                          industry46  \\\n",
       "0    Services  GB00B1YW4409  III LN  banks diverse financials insurance   \n",
       "1    Services  GB00B1YW4409  III LN  banks diverse financials insurance   \n",
       "2    Services  GB00B1YW4409  III LN  banks diverse financials insurance   \n",
       "3    Services  GB00B1YW4409  III LN  banks diverse financials insurance   \n",
       "4    Services  GB00B1YW4409  III LN  banks diverse financials insurance   \n",
       "\n",
       "     cdpdate  \n",
       "0        NaT  \n",
       "1 2013-06-18  \n",
       "2 2013-06-18  \n",
       "3 2014-06-26  \n",
       "4 2014-06-26  \n",
       "\n",
       "[5 rows x 27 columns]"
      ]
     },
     "execution_count": 117,
     "metadata": {},
     "output_type": "execute_result"
    }
   ],
   "source": [
    "data.head()"
   ]
  },
  {
   "cell_type": "code",
   "execution_count": 118,
   "metadata": {},
   "outputs": [
    {
     "data": {
      "text/plain": [
       "Index(['id', 'year', 'cdp_ini_type_detail_f', 'cdp_ini_type_f',\n",
       "       'cdp_ini_co2_c', 'cdp_ini_ghgscope_f', 'cdp_ini_disclosure_f',\n",
       "       'cdp_ini_monetarysaving_c', 'cdp_ini_investmentrequired_c',\n",
       "       'cdp_ini_payback_f', 'cdp_ini_lifetime_f', 'cdp_ini_comment_s',\n",
       "       'cdp_ini_comment_lower_s', 'cdp_currency', 'currency_ex', 'scope1',\n",
       "       'scope2', 'scope3', 'cdp_ini_subtype_f', 'reporting_boundary',\n",
       "       'companyname', 'country', 'industry14', 'isin', 'ticker', 'industry46',\n",
       "       'cdpdate'],\n",
       "      dtype='object')"
      ]
     },
     "execution_count": 118,
     "metadata": {},
     "output_type": "execute_result"
    }
   ],
   "source": [
    "data.columns"
   ]
  },
  {
   "cell_type": "code",
   "execution_count": 119,
   "metadata": {},
   "outputs": [],
   "source": [
    "data.drop(columns=['reporting_boundary',\n",
    "       'companyname', 'country', 'industry14', 'isin', 'ticker', 'industry46',\n",
    "       'cdpdate', 'cdp_currency', 'currency_ex','cdp_ini_comment_s', 'cdp_ini_comment_lower_s', 'cdp_ini_ghgscope_f', 'cdp_ini_type_detail_f'], inplace=True)"
   ]
  },
  {
   "cell_type": "code",
   "execution_count": 120,
   "metadata": {},
   "outputs": [
    {
     "data": {
      "text/plain": [
       "Index(['id', 'year', 'cdp_ini_type_f', 'cdp_ini_co2_c', 'cdp_ini_disclosure_f',\n",
       "       'cdp_ini_monetarysaving_c', 'cdp_ini_investmentrequired_c',\n",
       "       'cdp_ini_payback_f', 'cdp_ini_lifetime_f', 'scope1', 'scope2', 'scope3',\n",
       "       'cdp_ini_subtype_f'],\n",
       "      dtype='object')"
      ]
     },
     "execution_count": 120,
     "metadata": {},
     "output_type": "execute_result"
    }
   ],
   "source": [
    "data.columns"
   ]
  },
  {
   "cell_type": "code",
   "execution_count": 121,
   "metadata": {},
   "outputs": [
    {
     "data": {
      "text/html": [
       "<div>\n",
       "<style scoped>\n",
       "    .dataframe tbody tr th:only-of-type {\n",
       "        vertical-align: middle;\n",
       "    }\n",
       "\n",
       "    .dataframe tbody tr th {\n",
       "        vertical-align: top;\n",
       "    }\n",
       "\n",
       "    .dataframe thead th {\n",
       "        text-align: right;\n",
       "    }\n",
       "</style>\n",
       "<table border=\"1\" class=\"dataframe\">\n",
       "  <thead>\n",
       "    <tr style=\"text-align: right;\">\n",
       "      <th></th>\n",
       "      <th>id</th>\n",
       "      <th>year</th>\n",
       "      <th>cdp_ini_type_f</th>\n",
       "      <th>cdp_ini_co2_c</th>\n",
       "      <th>cdp_ini_disclosure_f</th>\n",
       "      <th>cdp_ini_monetarysaving_c</th>\n",
       "      <th>cdp_ini_investmentrequired_c</th>\n",
       "      <th>cdp_ini_payback_f</th>\n",
       "      <th>cdp_ini_lifetime_f</th>\n",
       "      <th>scope1</th>\n",
       "      <th>scope2</th>\n",
       "      <th>scope3</th>\n",
       "      <th>cdp_ini_subtype_f</th>\n",
       "    </tr>\n",
       "  </thead>\n",
       "  <tbody>\n",
       "    <tr>\n",
       "      <th>62205</th>\n",
       "      <td>17322</td>\n",
       "      <td>2011.0</td>\n",
       "      <td>energy efficiency in production processes</td>\n",
       "      <td>NaN</td>\n",
       "      <td></td>\n",
       "      <td>NaN</td>\n",
       "      <td>NaN</td>\n",
       "      <td></td>\n",
       "      <td></td>\n",
       "      <td>0.0</td>\n",
       "      <td>0.0</td>\n",
       "      <td>0.0</td>\n",
       "      <td></td>\n",
       "    </tr>\n",
       "    <tr>\n",
       "      <th>32744</th>\n",
       "      <td>8641</td>\n",
       "      <td>2021.0</td>\n",
       "      <td>energy efficiency in production processes</td>\n",
       "      <td>90.0</td>\n",
       "      <td>Voluntary</td>\n",
       "      <td>24386.443847</td>\n",
       "      <td>1.354802e+05</td>\n",
       "      <td>4-10 years</td>\n",
       "      <td>6-10 years</td>\n",
       "      <td>1.0</td>\n",
       "      <td>0.0</td>\n",
       "      <td>0.0</td>\n",
       "      <td>optimization</td>\n",
       "    </tr>\n",
       "    <tr>\n",
       "      <th>98958</th>\n",
       "      <td>54734</td>\n",
       "      <td>2016.0</td>\n",
       "      <td>energy efficiency in production processes</td>\n",
       "      <td>NaN</td>\n",
       "      <td>Voluntary</td>\n",
       "      <td>283537.100000</td>\n",
       "      <td>5.547465e+06</td>\n",
       "      <td>4-10 years</td>\n",
       "      <td>16-20 years</td>\n",
       "      <td>0.0</td>\n",
       "      <td>0.0</td>\n",
       "      <td>0.0</td>\n",
       "      <td></td>\n",
       "    </tr>\n",
       "    <tr>\n",
       "      <th>85081</th>\n",
       "      <td>29789</td>\n",
       "      <td>2011.0</td>\n",
       "      <td>energy efficiency in production processes</td>\n",
       "      <td>NaN</td>\n",
       "      <td></td>\n",
       "      <td>NaN</td>\n",
       "      <td>NaN</td>\n",
       "      <td>&lt;1 year</td>\n",
       "      <td></td>\n",
       "      <td>0.0</td>\n",
       "      <td>0.0</td>\n",
       "      <td>0.0</td>\n",
       "      <td></td>\n",
       "    </tr>\n",
       "    <tr>\n",
       "      <th>104075</th>\n",
       "      <td>828403</td>\n",
       "      <td>2022.0</td>\n",
       "      <td>energy efficiency in buildings</td>\n",
       "      <td>2.0</td>\n",
       "      <td>Voluntary</td>\n",
       "      <td>70.000000</td>\n",
       "      <td>1.000000e+02</td>\n",
       "      <td>1-3 years</td>\n",
       "      <td>3-5 years</td>\n",
       "      <td>0.0</td>\n",
       "      <td>1.0</td>\n",
       "      <td>0.0</td>\n",
       "      <td>lighting</td>\n",
       "    </tr>\n",
       "  </tbody>\n",
       "</table>\n",
       "</div>"
      ],
      "text/plain": [
       "            id    year                             cdp_ini_type_f  \\\n",
       "62205    17322  2011.0  energy efficiency in production processes   \n",
       "32744     8641  2021.0  energy efficiency in production processes   \n",
       "98958    54734  2016.0  energy efficiency in production processes   \n",
       "85081    29789  2011.0  energy efficiency in production processes   \n",
       "104075  828403  2022.0             energy efficiency in buildings   \n",
       "\n",
       "        cdp_ini_co2_c cdp_ini_disclosure_f  cdp_ini_monetarysaving_c  \\\n",
       "62205             NaN                                            NaN   \n",
       "32744            90.0            Voluntary              24386.443847   \n",
       "98958             NaN            Voluntary             283537.100000   \n",
       "85081             NaN                                            NaN   \n",
       "104075            2.0            Voluntary                 70.000000   \n",
       "\n",
       "        cdp_ini_investmentrequired_c cdp_ini_payback_f cdp_ini_lifetime_f  \\\n",
       "62205                            NaN                                        \n",
       "32744                   1.354802e+05        4-10 years         6-10 years   \n",
       "98958                   5.547465e+06        4-10 years        16-20 years   \n",
       "85081                            NaN           <1 year                      \n",
       "104075                  1.000000e+02         1-3 years          3-5 years   \n",
       "\n",
       "        scope1  scope2  scope3 cdp_ini_subtype_f  \n",
       "62205      0.0     0.0     0.0                    \n",
       "32744      1.0     0.0     0.0      optimization  \n",
       "98958      0.0     0.0     0.0                    \n",
       "85081      0.0     0.0     0.0                    \n",
       "104075     0.0     1.0     0.0          lighting  "
      ]
     },
     "execution_count": 121,
     "metadata": {},
     "output_type": "execute_result"
    }
   ],
   "source": [
    "data.sample(5)"
   ]
  },
  {
   "cell_type": "code",
   "execution_count": 122,
   "metadata": {},
   "outputs": [
    {
     "name": "stdout",
     "output_type": "stream",
     "text": [
      "id 10963\n",
      "year 12\n",
      "cdp_ini_type_f 11\n",
      "cdp_ini_co2_c 24775\n",
      "cdp_ini_disclosure_f 8\n",
      "cdp_ini_monetarysaving_c 47663\n",
      "cdp_ini_investmentrequired_c 39445\n",
      "cdp_ini_payback_f 20\n",
      "cdp_ini_lifetime_f 1834\n",
      "scope1 2\n",
      "scope2 2\n",
      "scope3 2\n",
      "cdp_ini_subtype_f 49\n"
     ]
    }
   ],
   "source": [
    "for column in data.columns:\n",
    "    print(column + ' ' + str(len(data[column].unique())))"
   ]
  },
  {
   "cell_type": "code",
   "execution_count": 123,
   "metadata": {},
   "outputs": [],
   "source": [
    "data = data[['id', 'year', 'scope1', 'scope2', 'scope3']]"
   ]
  },
  {
   "cell_type": "code",
   "execution_count": 124,
   "metadata": {},
   "outputs": [],
   "source": [
    "data = data.groupby(['id', 'year']).sum().reset_index()"
   ]
  },
  {
   "cell_type": "code",
   "execution_count": 125,
   "metadata": {},
   "outputs": [],
   "source": [
    "# taking the log1p of the numberical variables for the scope counts\n",
    "data['scope1'] = np.log1p(data['scope1'])\n",
    "data['scope2'] = np.log1p(data['scope2'])\n",
    "data['scope3'] = np.log1p(data['scope3'])"
   ]
  },
  {
   "cell_type": "code",
   "execution_count": 126,
   "metadata": {},
   "outputs": [
    {
     "data": {
      "text/plain": [
       "id        0\n",
       "year      0\n",
       "scope1    0\n",
       "scope2    0\n",
       "scope3    0\n",
       "dtype: int64"
      ]
     },
     "execution_count": 126,
     "metadata": {},
     "output_type": "execute_result"
    }
   ],
   "source": [
    "data.isna().sum()"
   ]
  },
  {
   "cell_type": "code",
   "execution_count": 127,
   "metadata": {},
   "outputs": [
    {
     "data": {
      "text/plain": [
       "(32206, 5)"
      ]
     },
     "execution_count": 127,
     "metadata": {},
     "output_type": "execute_result"
    }
   ],
   "source": [
    "data.shape"
   ]
  },
  {
   "cell_type": "code",
   "execution_count": 128,
   "metadata": {},
   "outputs": [],
   "source": [
    "data.to_csv('../../data/processed/cdp_initiative_processed.csv', index=False)"
   ]
  }
 ],
 "metadata": {
  "kernelspec": {
   "display_name": "thesis_project",
   "language": "python",
   "name": "python3"
  },
  "language_info": {
   "codemirror_mode": {
    "name": "ipython",
    "version": 3
   },
   "file_extension": ".py",
   "mimetype": "text/x-python",
   "name": "python",
   "nbconvert_exporter": "python",
   "pygments_lexer": "ipython3",
   "version": "3.12.0"
  }
 },
 "nbformat": 4,
 "nbformat_minor": 2
}
