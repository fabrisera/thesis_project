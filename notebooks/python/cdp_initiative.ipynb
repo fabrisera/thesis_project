{
 "cells": [
  {
   "cell_type": "markdown",
   "metadata": {},
   "source": [
    "`Done - Initiatives, keeping only scope counters`"
   ]
  },
  {
   "cell_type": "markdown",
   "metadata": {},
   "source": [
    "Note that this dataset has already been converted to firm_year, the only missing part is the detail on which scopes the incentives apply. To this end, I will just keep the three relevant columns, groupby id and year, and then sum."
   ]
  },
  {
   "cell_type": "code",
   "execution_count": 24,
   "metadata": {},
   "outputs": [],
   "source": [
    "import pandas as pd\n",
    "import numpy as np\n",
    "import seaborn as sns"
   ]
  },
  {
   "cell_type": "code",
   "execution_count": 25,
   "metadata": {},
   "outputs": [],
   "source": [
    "data = pd.read_stata(\"../../data/CDP Cleaning/cleaned outputs/cdp_initiative.dta\")"
   ]
  },
  {
   "cell_type": "code",
   "execution_count": 26,
   "metadata": {},
   "outputs": [
    {
     "data": {
      "text/plain": [
       "(113003, 27)"
      ]
     },
     "execution_count": 26,
     "metadata": {},
     "output_type": "execute_result"
    }
   ],
   "source": [
    "data.shape"
   ]
  },
  {
   "cell_type": "code",
   "execution_count": 27,
   "metadata": {},
   "outputs": [
    {
     "data": {
      "text/html": [
       "<div>\n",
       "<style scoped>\n",
       "    .dataframe tbody tr th:only-of-type {\n",
       "        vertical-align: middle;\n",
       "    }\n",
       "\n",
       "    .dataframe tbody tr th {\n",
       "        vertical-align: top;\n",
       "    }\n",
       "\n",
       "    .dataframe thead th {\n",
       "        text-align: right;\n",
       "    }\n",
       "</style>\n",
       "<table border=\"1\" class=\"dataframe\">\n",
       "  <thead>\n",
       "    <tr style=\"text-align: right;\">\n",
       "      <th></th>\n",
       "      <th>id</th>\n",
       "      <th>year</th>\n",
       "      <th>cdp_ini_type_detail_f</th>\n",
       "      <th>cdp_ini_type_f</th>\n",
       "      <th>cdp_ini_co2_c</th>\n",
       "      <th>cdp_ini_ghgscope_f</th>\n",
       "      <th>cdp_ini_disclosure_f</th>\n",
       "      <th>cdp_ini_monetarysaving_c</th>\n",
       "      <th>cdp_ini_investmentrequired_c</th>\n",
       "      <th>cdp_ini_payback_f</th>\n",
       "      <th>...</th>\n",
       "      <th>scope3</th>\n",
       "      <th>cdp_ini_subtype_f</th>\n",
       "      <th>reporting_boundary</th>\n",
       "      <th>companyname</th>\n",
       "      <th>country</th>\n",
       "      <th>industry14</th>\n",
       "      <th>isin</th>\n",
       "      <th>ticker</th>\n",
       "      <th>industry46</th>\n",
       "      <th>cdpdate</th>\n",
       "    </tr>\n",
       "  </thead>\n",
       "  <tbody>\n",
       "    <tr>\n",
       "      <th>0</th>\n",
       "      <td>44</td>\n",
       "      <td>2011.0</td>\n",
       "      <td>• we have requested data from portfolio compan...</td>\n",
       "      <td>company policy or behavioral change</td>\n",
       "      <td>NaN</td>\n",
       "      <td></td>\n",
       "      <td></td>\n",
       "      <td>NaN</td>\n",
       "      <td>NaN</td>\n",
       "      <td></td>\n",
       "      <td>...</td>\n",
       "      <td>0.0</td>\n",
       "      <td></td>\n",
       "      <td></td>\n",
       "      <td>3i Group</td>\n",
       "      <td>United Kingdom</td>\n",
       "      <td>Services</td>\n",
       "      <td>GB00B1YW4409</td>\n",
       "      <td>III LN</td>\n",
       "      <td>banks diverse financials insurance</td>\n",
       "      <td>NaT</td>\n",
       "    </tr>\n",
       "    <tr>\n",
       "      <th>1</th>\n",
       "      <td>44</td>\n",
       "      <td>2013.0</td>\n",
       "      <td>other</td>\n",
       "      <td>other</td>\n",
       "      <td>901.50</td>\n",
       "      <td></td>\n",
       "      <td></td>\n",
       "      <td>9303.00</td>\n",
       "      <td>1550.5</td>\n",
       "      <td>1-3 years</td>\n",
       "      <td>...</td>\n",
       "      <td>0.0</td>\n",
       "      <td></td>\n",
       "      <td></td>\n",
       "      <td>3i Group</td>\n",
       "      <td>United Kingdom</td>\n",
       "      <td>Services</td>\n",
       "      <td>GB00B1YW4409</td>\n",
       "      <td>III LN</td>\n",
       "      <td>banks diverse financials insurance</td>\n",
       "      <td>2013-06-18</td>\n",
       "    </tr>\n",
       "    <tr>\n",
       "      <th>2</th>\n",
       "      <td>44</td>\n",
       "      <td>2013.0</td>\n",
       "      <td>3i are undertaking an accreditation exercise w...</td>\n",
       "      <td>energy efficiency in production processes</td>\n",
       "      <td>901.50</td>\n",
       "      <td></td>\n",
       "      <td></td>\n",
       "      <td>9303.00</td>\n",
       "      <td>1550.5</td>\n",
       "      <td>4-10 years</td>\n",
       "      <td>...</td>\n",
       "      <td>0.0</td>\n",
       "      <td></td>\n",
       "      <td></td>\n",
       "      <td>3i Group</td>\n",
       "      <td>United Kingdom</td>\n",
       "      <td>Services</td>\n",
       "      <td>GB00B1YW4409</td>\n",
       "      <td>III LN</td>\n",
       "      <td>banks diverse financials insurance</td>\n",
       "      <td>2013-06-18</td>\n",
       "    </tr>\n",
       "    <tr>\n",
       "      <th>3</th>\n",
       "      <td>44</td>\n",
       "      <td>2014.0</td>\n",
       "      <td>reducing travel associated carbon emissions.  ...</td>\n",
       "      <td>transportation</td>\n",
       "      <td>39.67</td>\n",
       "      <td></td>\n",
       "      <td></td>\n",
       "      <td>105766.11</td>\n",
       "      <td>0.0</td>\n",
       "      <td>1-3 years</td>\n",
       "      <td>...</td>\n",
       "      <td>0.0</td>\n",
       "      <td></td>\n",
       "      <td></td>\n",
       "      <td>3i Group</td>\n",
       "      <td>United Kingdom</td>\n",
       "      <td>Services</td>\n",
       "      <td>GB00B1YW4409</td>\n",
       "      <td>III LN</td>\n",
       "      <td>banks diverse financials insurance</td>\n",
       "      <td>2014-06-26</td>\n",
       "    </tr>\n",
       "    <tr>\n",
       "      <th>4</th>\n",
       "      <td>44</td>\n",
       "      <td>2014.0</td>\n",
       "      <td>reducing electricty use with our buildings.   ...</td>\n",
       "      <td>energy efficiency in buildings</td>\n",
       "      <td>10.31</td>\n",
       "      <td></td>\n",
       "      <td></td>\n",
       "      <td>3505.33</td>\n",
       "      <td>0.0</td>\n",
       "      <td>1-3 years</td>\n",
       "      <td>...</td>\n",
       "      <td>0.0</td>\n",
       "      <td></td>\n",
       "      <td></td>\n",
       "      <td>3i Group</td>\n",
       "      <td>United Kingdom</td>\n",
       "      <td>Services</td>\n",
       "      <td>GB00B1YW4409</td>\n",
       "      <td>III LN</td>\n",
       "      <td>banks diverse financials insurance</td>\n",
       "      <td>2014-06-26</td>\n",
       "    </tr>\n",
       "  </tbody>\n",
       "</table>\n",
       "<p>5 rows × 27 columns</p>\n",
       "</div>"
      ],
      "text/plain": [
       "   id    year                              cdp_ini_type_detail_f  \\\n",
       "0  44  2011.0  • we have requested data from portfolio compan...   \n",
       "1  44  2013.0                                              other   \n",
       "2  44  2013.0  3i are undertaking an accreditation exercise w...   \n",
       "3  44  2014.0  reducing travel associated carbon emissions.  ...   \n",
       "4  44  2014.0  reducing electricty use with our buildings.   ...   \n",
       "\n",
       "                              cdp_ini_type_f  cdp_ini_co2_c  \\\n",
       "0        company policy or behavioral change            NaN   \n",
       "1                                      other         901.50   \n",
       "2  energy efficiency in production processes         901.50   \n",
       "3                             transportation          39.67   \n",
       "4             energy efficiency in buildings          10.31   \n",
       "\n",
       "  cdp_ini_ghgscope_f cdp_ini_disclosure_f  cdp_ini_monetarysaving_c  \\\n",
       "0                                                               NaN   \n",
       "1                                                           9303.00   \n",
       "2                                                           9303.00   \n",
       "3                                                         105766.11   \n",
       "4                                                           3505.33   \n",
       "\n",
       "   cdp_ini_investmentrequired_c cdp_ini_payback_f  ... scope3  \\\n",
       "0                           NaN                    ...    0.0   \n",
       "1                        1550.5         1-3 years  ...    0.0   \n",
       "2                        1550.5        4-10 years  ...    0.0   \n",
       "3                           0.0         1-3 years  ...    0.0   \n",
       "4                           0.0         1-3 years  ...    0.0   \n",
       "\n",
       "  cdp_ini_subtype_f reporting_boundary companyname         country  \\\n",
       "0                                         3i Group  United Kingdom   \n",
       "1                                         3i Group  United Kingdom   \n",
       "2                                         3i Group  United Kingdom   \n",
       "3                                         3i Group  United Kingdom   \n",
       "4                                         3i Group  United Kingdom   \n",
       "\n",
       "   industry14          isin  ticker                          industry46  \\\n",
       "0    Services  GB00B1YW4409  III LN  banks diverse financials insurance   \n",
       "1    Services  GB00B1YW4409  III LN  banks diverse financials insurance   \n",
       "2    Services  GB00B1YW4409  III LN  banks diverse financials insurance   \n",
       "3    Services  GB00B1YW4409  III LN  banks diverse financials insurance   \n",
       "4    Services  GB00B1YW4409  III LN  banks diverse financials insurance   \n",
       "\n",
       "     cdpdate  \n",
       "0        NaT  \n",
       "1 2013-06-18  \n",
       "2 2013-06-18  \n",
       "3 2014-06-26  \n",
       "4 2014-06-26  \n",
       "\n",
       "[5 rows x 27 columns]"
      ]
     },
     "execution_count": 27,
     "metadata": {},
     "output_type": "execute_result"
    }
   ],
   "source": [
    "data.head()"
   ]
  },
  {
   "cell_type": "code",
   "execution_count": 28,
   "metadata": {},
   "outputs": [
    {
     "data": {
      "text/plain": [
       "Index(['id', 'year', 'cdp_ini_type_detail_f', 'cdp_ini_type_f',\n",
       "       'cdp_ini_co2_c', 'cdp_ini_ghgscope_f', 'cdp_ini_disclosure_f',\n",
       "       'cdp_ini_monetarysaving_c', 'cdp_ini_investmentrequired_c',\n",
       "       'cdp_ini_payback_f', 'cdp_ini_lifetime_f', 'cdp_ini_comment_s',\n",
       "       'cdp_ini_comment_lower_s', 'cdp_currency', 'currency_ex', 'scope1',\n",
       "       'scope2', 'scope3', 'cdp_ini_subtype_f', 'reporting_boundary',\n",
       "       'companyname', 'country', 'industry14', 'isin', 'ticker', 'industry46',\n",
       "       'cdpdate'],\n",
       "      dtype='object')"
      ]
     },
     "execution_count": 28,
     "metadata": {},
     "output_type": "execute_result"
    }
   ],
   "source": [
    "data.columns"
   ]
  },
  {
   "cell_type": "code",
   "execution_count": 29,
   "metadata": {},
   "outputs": [],
   "source": [
    "data.drop(columns=['reporting_boundary',\n",
    "       'companyname', 'country', 'industry14', 'isin', 'ticker', 'industry46',\n",
    "       'cdpdate', 'cdp_currency', 'currency_ex','cdp_ini_comment_s', 'cdp_ini_comment_lower_s', 'cdp_ini_ghgscope_f', 'cdp_ini_type_detail_f'], inplace=True)"
   ]
  },
  {
   "cell_type": "code",
   "execution_count": 30,
   "metadata": {},
   "outputs": [
    {
     "data": {
      "text/plain": [
       "Index(['id', 'year', 'cdp_ini_type_f', 'cdp_ini_co2_c', 'cdp_ini_disclosure_f',\n",
       "       'cdp_ini_monetarysaving_c', 'cdp_ini_investmentrequired_c',\n",
       "       'cdp_ini_payback_f', 'cdp_ini_lifetime_f', 'scope1', 'scope2', 'scope3',\n",
       "       'cdp_ini_subtype_f'],\n",
       "      dtype='object')"
      ]
     },
     "execution_count": 30,
     "metadata": {},
     "output_type": "execute_result"
    }
   ],
   "source": [
    "data.columns"
   ]
  },
  {
   "cell_type": "code",
   "execution_count": 31,
   "metadata": {},
   "outputs": [
    {
     "data": {
      "text/html": [
       "<div>\n",
       "<style scoped>\n",
       "    .dataframe tbody tr th:only-of-type {\n",
       "        vertical-align: middle;\n",
       "    }\n",
       "\n",
       "    .dataframe tbody tr th {\n",
       "        vertical-align: top;\n",
       "    }\n",
       "\n",
       "    .dataframe thead th {\n",
       "        text-align: right;\n",
       "    }\n",
       "</style>\n",
       "<table border=\"1\" class=\"dataframe\">\n",
       "  <thead>\n",
       "    <tr style=\"text-align: right;\">\n",
       "      <th></th>\n",
       "      <th>id</th>\n",
       "      <th>year</th>\n",
       "      <th>cdp_ini_type_f</th>\n",
       "      <th>cdp_ini_co2_c</th>\n",
       "      <th>cdp_ini_disclosure_f</th>\n",
       "      <th>cdp_ini_monetarysaving_c</th>\n",
       "      <th>cdp_ini_investmentrequired_c</th>\n",
       "      <th>cdp_ini_payback_f</th>\n",
       "      <th>cdp_ini_lifetime_f</th>\n",
       "      <th>scope1</th>\n",
       "      <th>scope2</th>\n",
       "      <th>scope3</th>\n",
       "      <th>cdp_ini_subtype_f</th>\n",
       "    </tr>\n",
       "  </thead>\n",
       "  <tbody>\n",
       "    <tr>\n",
       "      <th>35033</th>\n",
       "      <td>9134</td>\n",
       "      <td>2014.0</td>\n",
       "      <td>other</td>\n",
       "      <td>9000.00</td>\n",
       "      <td></td>\n",
       "      <td>201080.589603</td>\n",
       "      <td>4.857019e+06</td>\n",
       "      <td>21-25 years</td>\n",
       "      <td>50 years</td>\n",
       "      <td>0.0</td>\n",
       "      <td>0.0</td>\n",
       "      <td>0.0</td>\n",
       "      <td></td>\n",
       "    </tr>\n",
       "    <tr>\n",
       "      <th>61402</th>\n",
       "      <td>17069</td>\n",
       "      <td>2021.0</td>\n",
       "      <td>energy efficiency in buildings</td>\n",
       "      <td>48.27</td>\n",
       "      <td>Voluntary</td>\n",
       "      <td>12768.000000</td>\n",
       "      <td>2.171290e+05</td>\n",
       "      <td>16-20 years</td>\n",
       "      <td>16-20 years</td>\n",
       "      <td>0.0</td>\n",
       "      <td>1.0</td>\n",
       "      <td>0.0</td>\n",
       "      <td>hvac</td>\n",
       "    </tr>\n",
       "    <tr>\n",
       "      <th>32523</th>\n",
       "      <td>8587</td>\n",
       "      <td>2021.0</td>\n",
       "      <td>energy efficiency in buildings</td>\n",
       "      <td>1335.00</td>\n",
       "      <td>Voluntary</td>\n",
       "      <td>333723.000000</td>\n",
       "      <td>2.597730e+06</td>\n",
       "      <td>4-10 years</td>\n",
       "      <td>21-30 years</td>\n",
       "      <td>1.0</td>\n",
       "      <td>1.0</td>\n",
       "      <td>0.0</td>\n",
       "      <td>maintenance program</td>\n",
       "    </tr>\n",
       "    <tr>\n",
       "      <th>57455</th>\n",
       "      <td>15980</td>\n",
       "      <td>2020.0</td>\n",
       "      <td>other</td>\n",
       "      <td>128873.00</td>\n",
       "      <td>Voluntary</td>\n",
       "      <td>0.000000</td>\n",
       "      <td>4.308716e+04</td>\n",
       "      <td>No payback</td>\n",
       "      <td>&lt;1 year</td>\n",
       "      <td>1.0</td>\n",
       "      <td>1.0</td>\n",
       "      <td>0.0</td>\n",
       "      <td></td>\n",
       "    </tr>\n",
       "    <tr>\n",
       "      <th>7648</th>\n",
       "      <td>1362</td>\n",
       "      <td>2022.0</td>\n",
       "      <td>low-carbon energy</td>\n",
       "      <td>37544.00</td>\n",
       "      <td>Voluntary</td>\n",
       "      <td>0.000000</td>\n",
       "      <td>0.000000e+00</td>\n",
       "      <td>No payback</td>\n",
       "      <td>Ongoing</td>\n",
       "      <td>0.0</td>\n",
       "      <td>1.0</td>\n",
       "      <td>0.0</td>\n",
       "      <td>low-carbon electricity mix</td>\n",
       "    </tr>\n",
       "  </tbody>\n",
       "</table>\n",
       "</div>"
      ],
      "text/plain": [
       "          id    year                  cdp_ini_type_f  cdp_ini_co2_c  \\\n",
       "35033   9134  2014.0                           other        9000.00   \n",
       "61402  17069  2021.0  energy efficiency in buildings          48.27   \n",
       "32523   8587  2021.0  energy efficiency in buildings        1335.00   \n",
       "57455  15980  2020.0                           other      128873.00   \n",
       "7648    1362  2022.0               low-carbon energy       37544.00   \n",
       "\n",
       "      cdp_ini_disclosure_f  cdp_ini_monetarysaving_c  \\\n",
       "35033                                  201080.589603   \n",
       "61402            Voluntary              12768.000000   \n",
       "32523            Voluntary             333723.000000   \n",
       "57455            Voluntary                  0.000000   \n",
       "7648             Voluntary                  0.000000   \n",
       "\n",
       "       cdp_ini_investmentrequired_c cdp_ini_payback_f cdp_ini_lifetime_f  \\\n",
       "35033                  4.857019e+06       21-25 years           50 years   \n",
       "61402                  2.171290e+05       16-20 years        16-20 years   \n",
       "32523                  2.597730e+06        4-10 years        21-30 years   \n",
       "57455                  4.308716e+04        No payback            <1 year   \n",
       "7648                   0.000000e+00        No payback            Ongoing   \n",
       "\n",
       "       scope1  scope2  scope3           cdp_ini_subtype_f  \n",
       "35033     0.0     0.0     0.0                              \n",
       "61402     0.0     1.0     0.0                        hvac  \n",
       "32523     1.0     1.0     0.0         maintenance program  \n",
       "57455     1.0     1.0     0.0                              \n",
       "7648      0.0     1.0     0.0  low-carbon electricity mix  "
      ]
     },
     "execution_count": 31,
     "metadata": {},
     "output_type": "execute_result"
    }
   ],
   "source": [
    "data.sample(5)"
   ]
  },
  {
   "cell_type": "code",
   "execution_count": 32,
   "metadata": {},
   "outputs": [
    {
     "name": "stdout",
     "output_type": "stream",
     "text": [
      "id 10963\n",
      "year 12\n",
      "cdp_ini_type_f 11\n",
      "cdp_ini_co2_c 24775\n",
      "cdp_ini_disclosure_f 8\n",
      "cdp_ini_monetarysaving_c 47663\n",
      "cdp_ini_investmentrequired_c 39445\n",
      "cdp_ini_payback_f 20\n",
      "cdp_ini_lifetime_f 1834\n",
      "scope1 2\n",
      "scope2 2\n",
      "scope3 2\n",
      "cdp_ini_subtype_f 49\n"
     ]
    }
   ],
   "source": [
    "for column in data.columns:\n",
    "    print(column + ' ' + str(len(data[column].unique())))"
   ]
  },
  {
   "cell_type": "code",
   "execution_count": 33,
   "metadata": {},
   "outputs": [],
   "source": [
    "data = data[['id', 'year', 'scope1', 'scope2', 'scope3']]"
   ]
  },
  {
   "cell_type": "code",
   "execution_count": 34,
   "metadata": {},
   "outputs": [],
   "source": [
    "data = data.groupby(['id', 'year']).sum().reset_index()"
   ]
  },
  {
   "cell_type": "code",
   "execution_count": 35,
   "metadata": {},
   "outputs": [
    {
     "data": {
      "text/plain": [
       "1050     42.0\n",
       "13673    28.0\n",
       "4649     24.0\n",
       "9485     22.0\n",
       "9486     21.0\n",
       "         ... \n",
       "11767     0.0\n",
       "11766     0.0\n",
       "11765     0.0\n",
       "11764     0.0\n",
       "32205     0.0\n",
       "Name: scope3, Length: 32206, dtype: float32"
      ]
     },
     "execution_count": 35,
     "metadata": {},
     "output_type": "execute_result"
    }
   ],
   "source": [
    "data['scope3'].sort_values(ascending=False)"
   ]
  },
  {
   "cell_type": "code",
   "execution_count": 36,
   "metadata": {},
   "outputs": [
    {
     "data": {
      "text/plain": [
       "scope1\n",
       "0.0     20811\n",
       "1.0      5495\n",
       "2.0      2506\n",
       "3.0      1327\n",
       "4.0       784\n",
       "5.0       471\n",
       "6.0       279\n",
       "7.0       149\n",
       "8.0       107\n",
       "9.0        74\n",
       "10.0       48\n",
       "11.0       41\n",
       "12.0       18\n",
       "13.0       16\n",
       "14.0       15\n",
       "15.0        8\n",
       "18.0        8\n",
       "19.0        8\n",
       "20.0        7\n",
       "17.0        5\n",
       "16.0        5\n",
       "25.0        3\n",
       "23.0        3\n",
       "21.0        2\n",
       "27.0        2\n",
       "29.0        2\n",
       "30.0        1\n",
       "28.0        1\n",
       "22.0        1\n",
       "32.0        1\n",
       "24.0        1\n",
       "35.0        1\n",
       "31.0        1\n",
       "45.0        1\n",
       "38.0        1\n",
       "74.0        1\n",
       "37.0        1\n",
       "40.0        1\n",
       "Name: count, dtype: int64"
      ]
     },
     "execution_count": 36,
     "metadata": {},
     "output_type": "execute_result"
    }
   ],
   "source": [
    "data['scope1'].value_counts()"
   ]
  },
  {
   "cell_type": "code",
   "execution_count": 37,
   "metadata": {},
   "outputs": [],
   "source": [
    "# taking the log1p of the numberical variables for the scope counts\n",
    "data['scope1'] = np.log1p(data['scope1'])\n",
    "data['scope2'] = np.log1p(data['scope2'])\n",
    "data['scope3'] = np.log1p(data['scope3'])"
   ]
  },
  {
   "cell_type": "code",
   "execution_count": 38,
   "metadata": {},
   "outputs": [
    {
     "data": {
      "text/plain": [
       "id        0\n",
       "year      0\n",
       "scope1    0\n",
       "scope2    0\n",
       "scope3    0\n",
       "dtype: int64"
      ]
     },
     "execution_count": 38,
     "metadata": {},
     "output_type": "execute_result"
    }
   ],
   "source": [
    "data.isna().sum()"
   ]
  },
  {
   "cell_type": "code",
   "execution_count": 39,
   "metadata": {},
   "outputs": [
    {
     "data": {
      "text/plain": [
       "0.15625417"
      ]
     },
     "execution_count": 39,
     "metadata": {},
     "output_type": "execute_result"
    }
   ],
   "source": [
    "data['scope3'].mean()"
   ]
  },
  {
   "cell_type": "code",
   "execution_count": 40,
   "metadata": {},
   "outputs": [
    {
     "data": {
      "text/plain": [
       "(32206, 5)"
      ]
     },
     "execution_count": 40,
     "metadata": {},
     "output_type": "execute_result"
    }
   ],
   "source": [
    "data.shape"
   ]
  },
  {
   "cell_type": "code",
   "execution_count": 41,
   "metadata": {},
   "outputs": [
    {
     "data": {
      "text/plain": [
       "Index(['id', 'year', 'scope1', 'scope2', 'scope3'], dtype='object')"
      ]
     },
     "execution_count": 41,
     "metadata": {},
     "output_type": "execute_result"
    }
   ],
   "source": [
    "data.columns"
   ]
  },
  {
   "cell_type": "code",
   "execution_count": 42,
   "metadata": {},
   "outputs": [
    {
     "data": {
      "text/plain": [
       "(32206, 5)"
      ]
     },
     "execution_count": 42,
     "metadata": {},
     "output_type": "execute_result"
    }
   ],
   "source": [
    "data.shape"
   ]
  },
  {
   "cell_type": "code",
   "execution_count": 43,
   "metadata": {},
   "outputs": [
    {
     "ename": "KeyError",
     "evalue": "'initiative_scope1'",
     "output_type": "error",
     "traceback": [
      "\u001b[0;31m---------------------------------------------------------------------------\u001b[0m",
      "\u001b[0;31mKeyError\u001b[0m                                  Traceback (most recent call last)",
      "File \u001b[0;32m~/anaconda3/envs/thesis_project/lib/python3.12/site-packages/pandas/core/indexes/base.py:3802\u001b[0m, in \u001b[0;36mIndex.get_loc\u001b[0;34m(self, key)\u001b[0m\n\u001b[1;32m   3801\u001b[0m \u001b[38;5;28;01mtry\u001b[39;00m:\n\u001b[0;32m-> 3802\u001b[0m     \u001b[38;5;28;01mreturn\u001b[39;00m \u001b[38;5;28;43mself\u001b[39;49m\u001b[38;5;241;43m.\u001b[39;49m\u001b[43m_engine\u001b[49m\u001b[38;5;241;43m.\u001b[39;49m\u001b[43mget_loc\u001b[49m\u001b[43m(\u001b[49m\u001b[43mcasted_key\u001b[49m\u001b[43m)\u001b[49m\n\u001b[1;32m   3803\u001b[0m \u001b[38;5;28;01mexcept\u001b[39;00m \u001b[38;5;167;01mKeyError\u001b[39;00m \u001b[38;5;28;01mas\u001b[39;00m err:\n",
      "File \u001b[0;32mindex.pyx:153\u001b[0m, in \u001b[0;36mpandas._libs.index.IndexEngine.get_loc\u001b[0;34m()\u001b[0m\n",
      "File \u001b[0;32mindex.pyx:182\u001b[0m, in \u001b[0;36mpandas._libs.index.IndexEngine.get_loc\u001b[0;34m()\u001b[0m\n",
      "File \u001b[0;32mpandas/_libs/hashtable_class_helper.pxi:7081\u001b[0m, in \u001b[0;36mpandas._libs.hashtable.PyObjectHashTable.get_item\u001b[0;34m()\u001b[0m\n",
      "File \u001b[0;32mpandas/_libs/hashtable_class_helper.pxi:7089\u001b[0m, in \u001b[0;36mpandas._libs.hashtable.PyObjectHashTable.get_item\u001b[0;34m()\u001b[0m\n",
      "\u001b[0;31mKeyError\u001b[0m: 'initiative_scope1'",
      "\nThe above exception was the direct cause of the following exception:\n",
      "\u001b[0;31mKeyError\u001b[0m                                  Traceback (most recent call last)",
      "Cell \u001b[0;32mIn[43], line 1\u001b[0m\n\u001b[0;32m----> 1\u001b[0m \u001b[43mdata\u001b[49m\u001b[43m[\u001b[49m\u001b[38;5;124;43m'\u001b[39;49m\u001b[38;5;124;43minitiative_scope1\u001b[39;49m\u001b[38;5;124;43m'\u001b[39;49m\u001b[43m]\u001b[49m\u001b[38;5;241m.\u001b[39mvalue_counts()\n",
      "File \u001b[0;32m~/anaconda3/envs/thesis_project/lib/python3.12/site-packages/pandas/core/frame.py:4090\u001b[0m, in \u001b[0;36mDataFrame.__getitem__\u001b[0;34m(self, key)\u001b[0m\n\u001b[1;32m   4088\u001b[0m \u001b[38;5;28;01mif\u001b[39;00m \u001b[38;5;28mself\u001b[39m\u001b[38;5;241m.\u001b[39mcolumns\u001b[38;5;241m.\u001b[39mnlevels \u001b[38;5;241m>\u001b[39m \u001b[38;5;241m1\u001b[39m:\n\u001b[1;32m   4089\u001b[0m     \u001b[38;5;28;01mreturn\u001b[39;00m \u001b[38;5;28mself\u001b[39m\u001b[38;5;241m.\u001b[39m_getitem_multilevel(key)\n\u001b[0;32m-> 4090\u001b[0m indexer \u001b[38;5;241m=\u001b[39m \u001b[38;5;28;43mself\u001b[39;49m\u001b[38;5;241;43m.\u001b[39;49m\u001b[43mcolumns\u001b[49m\u001b[38;5;241;43m.\u001b[39;49m\u001b[43mget_loc\u001b[49m\u001b[43m(\u001b[49m\u001b[43mkey\u001b[49m\u001b[43m)\u001b[49m\n\u001b[1;32m   4091\u001b[0m \u001b[38;5;28;01mif\u001b[39;00m is_integer(indexer):\n\u001b[1;32m   4092\u001b[0m     indexer \u001b[38;5;241m=\u001b[39m [indexer]\n",
      "File \u001b[0;32m~/anaconda3/envs/thesis_project/lib/python3.12/site-packages/pandas/core/indexes/base.py:3809\u001b[0m, in \u001b[0;36mIndex.get_loc\u001b[0;34m(self, key)\u001b[0m\n\u001b[1;32m   3804\u001b[0m     \u001b[38;5;28;01mif\u001b[39;00m \u001b[38;5;28misinstance\u001b[39m(casted_key, \u001b[38;5;28mslice\u001b[39m) \u001b[38;5;129;01mor\u001b[39;00m (\n\u001b[1;32m   3805\u001b[0m         \u001b[38;5;28misinstance\u001b[39m(casted_key, abc\u001b[38;5;241m.\u001b[39mIterable)\n\u001b[1;32m   3806\u001b[0m         \u001b[38;5;129;01mand\u001b[39;00m \u001b[38;5;28many\u001b[39m(\u001b[38;5;28misinstance\u001b[39m(x, \u001b[38;5;28mslice\u001b[39m) \u001b[38;5;28;01mfor\u001b[39;00m x \u001b[38;5;129;01min\u001b[39;00m casted_key)\n\u001b[1;32m   3807\u001b[0m     ):\n\u001b[1;32m   3808\u001b[0m         \u001b[38;5;28;01mraise\u001b[39;00m InvalidIndexError(key)\n\u001b[0;32m-> 3809\u001b[0m     \u001b[38;5;28;01mraise\u001b[39;00m \u001b[38;5;167;01mKeyError\u001b[39;00m(key) \u001b[38;5;28;01mfrom\u001b[39;00m \u001b[38;5;21;01merr\u001b[39;00m\n\u001b[1;32m   3810\u001b[0m \u001b[38;5;28;01mexcept\u001b[39;00m \u001b[38;5;167;01mTypeError\u001b[39;00m:\n\u001b[1;32m   3811\u001b[0m     \u001b[38;5;66;03m# If we have a listlike key, _check_indexing_error will raise\u001b[39;00m\n\u001b[1;32m   3812\u001b[0m     \u001b[38;5;66;03m#  InvalidIndexError. Otherwise we fall through and re-raise\u001b[39;00m\n\u001b[1;32m   3813\u001b[0m     \u001b[38;5;66;03m#  the TypeError.\u001b[39;00m\n\u001b[1;32m   3814\u001b[0m     \u001b[38;5;28mself\u001b[39m\u001b[38;5;241m.\u001b[39m_check_indexing_error(key)\n",
      "\u001b[0;31mKeyError\u001b[0m: 'initiative_scope1'"
     ]
    }
   ],
   "source": [
    "data['initiative_scope1'].value_counts()"
   ]
  },
  {
   "cell_type": "code",
   "execution_count": null,
   "metadata": {},
   "outputs": [],
   "source": [
    "# rename columns scope 1, 2, 3 to initiative_scope1, 2, 3 binary\n",
    "data.rename(columns={'scope1': 'initiative_scope1', 'scope2': 'initiative_scope2', 'scope3': 'initiative_scope3'}, inplace=True)"
   ]
  },
  {
   "cell_type": "code",
   "execution_count": null,
   "metadata": {},
   "outputs": [],
   "source": [
    "data.to_csv('../../data/processed/cdp_initiative_processed.csv', index=False)"
   ]
  }
 ],
 "metadata": {
  "kernelspec": {
   "display_name": "thesis_project",
   "language": "python",
   "name": "python3"
  },
  "language_info": {
   "codemirror_mode": {
    "name": "ipython",
    "version": 3
   },
   "file_extension": ".py",
   "mimetype": "text/x-python",
   "name": "python",
   "nbconvert_exporter": "python",
   "pygments_lexer": "ipython3",
   "version": "3.12.2"
  }
 },
 "nbformat": 4,
 "nbformat_minor": 2
}
