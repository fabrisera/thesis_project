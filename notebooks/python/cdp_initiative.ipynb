{
 "cells": [
  {
   "cell_type": "markdown",
   "metadata": {},
   "source": [
    "`Done - Initiatives, keeping only scope counters`"
   ]
  },
  {
   "cell_type": "markdown",
   "metadata": {},
   "source": [
    "Note that this dataset has already been converted to firm_year, the only missing part is the detail on which scopes the incentives apply. To this end, I will just keep the three relevant columns, groupby id and year, and then sum."
   ]
  },
  {
   "cell_type": "code",
   "execution_count": 43,
   "metadata": {},
   "outputs": [],
   "source": [
    "import pandas as pd\n",
    "import numpy as np\n",
    "import seaborn as sns"
   ]
  },
  {
   "cell_type": "code",
   "execution_count": 44,
   "metadata": {},
   "outputs": [],
   "source": [
    "data = pd.read_stata(\"../../data/CDP Cleaning/cleaned outputs/cdp_initiative.dta\")"
   ]
  },
  {
   "cell_type": "code",
   "execution_count": 45,
   "metadata": {},
   "outputs": [
    {
     "data": {
      "text/plain": [
       "(113003, 27)"
      ]
     },
     "execution_count": 45,
     "metadata": {},
     "output_type": "execute_result"
    }
   ],
   "source": [
    "data.shape"
   ]
  },
  {
   "cell_type": "code",
   "execution_count": 46,
   "metadata": {},
   "outputs": [
    {
     "data": {
      "text/html": [
       "<div>\n",
       "<style scoped>\n",
       "    .dataframe tbody tr th:only-of-type {\n",
       "        vertical-align: middle;\n",
       "    }\n",
       "\n",
       "    .dataframe tbody tr th {\n",
       "        vertical-align: top;\n",
       "    }\n",
       "\n",
       "    .dataframe thead th {\n",
       "        text-align: right;\n",
       "    }\n",
       "</style>\n",
       "<table border=\"1\" class=\"dataframe\">\n",
       "  <thead>\n",
       "    <tr style=\"text-align: right;\">\n",
       "      <th></th>\n",
       "      <th>id</th>\n",
       "      <th>year</th>\n",
       "      <th>cdp_ini_type_detail_f</th>\n",
       "      <th>cdp_ini_type_f</th>\n",
       "      <th>cdp_ini_co2_c</th>\n",
       "      <th>cdp_ini_ghgscope_f</th>\n",
       "      <th>cdp_ini_disclosure_f</th>\n",
       "      <th>cdp_ini_monetarysaving_c</th>\n",
       "      <th>cdp_ini_investmentrequired_c</th>\n",
       "      <th>cdp_ini_payback_f</th>\n",
       "      <th>...</th>\n",
       "      <th>scope3</th>\n",
       "      <th>cdp_ini_subtype_f</th>\n",
       "      <th>reporting_boundary</th>\n",
       "      <th>companyname</th>\n",
       "      <th>country</th>\n",
       "      <th>industry14</th>\n",
       "      <th>isin</th>\n",
       "      <th>ticker</th>\n",
       "      <th>industry46</th>\n",
       "      <th>cdpdate</th>\n",
       "    </tr>\n",
       "  </thead>\n",
       "  <tbody>\n",
       "    <tr>\n",
       "      <th>0</th>\n",
       "      <td>44</td>\n",
       "      <td>2011.0</td>\n",
       "      <td>• we have requested data from portfolio compan...</td>\n",
       "      <td>company policy or behavioral change</td>\n",
       "      <td>NaN</td>\n",
       "      <td></td>\n",
       "      <td></td>\n",
       "      <td>NaN</td>\n",
       "      <td>NaN</td>\n",
       "      <td></td>\n",
       "      <td>...</td>\n",
       "      <td>0.0</td>\n",
       "      <td></td>\n",
       "      <td></td>\n",
       "      <td>3i Group</td>\n",
       "      <td>United Kingdom</td>\n",
       "      <td>Services</td>\n",
       "      <td>GB00B1YW4409</td>\n",
       "      <td>III LN</td>\n",
       "      <td>banks diverse financials insurance</td>\n",
       "      <td>NaT</td>\n",
       "    </tr>\n",
       "    <tr>\n",
       "      <th>1</th>\n",
       "      <td>44</td>\n",
       "      <td>2013.0</td>\n",
       "      <td>other</td>\n",
       "      <td>other</td>\n",
       "      <td>901.50</td>\n",
       "      <td></td>\n",
       "      <td></td>\n",
       "      <td>9303.00</td>\n",
       "      <td>1550.5</td>\n",
       "      <td>1-3 years</td>\n",
       "      <td>...</td>\n",
       "      <td>0.0</td>\n",
       "      <td></td>\n",
       "      <td></td>\n",
       "      <td>3i Group</td>\n",
       "      <td>United Kingdom</td>\n",
       "      <td>Services</td>\n",
       "      <td>GB00B1YW4409</td>\n",
       "      <td>III LN</td>\n",
       "      <td>banks diverse financials insurance</td>\n",
       "      <td>2013-06-18</td>\n",
       "    </tr>\n",
       "    <tr>\n",
       "      <th>2</th>\n",
       "      <td>44</td>\n",
       "      <td>2013.0</td>\n",
       "      <td>3i are undertaking an accreditation exercise w...</td>\n",
       "      <td>energy efficiency in production processes</td>\n",
       "      <td>901.50</td>\n",
       "      <td></td>\n",
       "      <td></td>\n",
       "      <td>9303.00</td>\n",
       "      <td>1550.5</td>\n",
       "      <td>4-10 years</td>\n",
       "      <td>...</td>\n",
       "      <td>0.0</td>\n",
       "      <td></td>\n",
       "      <td></td>\n",
       "      <td>3i Group</td>\n",
       "      <td>United Kingdom</td>\n",
       "      <td>Services</td>\n",
       "      <td>GB00B1YW4409</td>\n",
       "      <td>III LN</td>\n",
       "      <td>banks diverse financials insurance</td>\n",
       "      <td>2013-06-18</td>\n",
       "    </tr>\n",
       "    <tr>\n",
       "      <th>3</th>\n",
       "      <td>44</td>\n",
       "      <td>2014.0</td>\n",
       "      <td>reducing travel associated carbon emissions.  ...</td>\n",
       "      <td>transportation</td>\n",
       "      <td>39.67</td>\n",
       "      <td></td>\n",
       "      <td></td>\n",
       "      <td>105766.11</td>\n",
       "      <td>0.0</td>\n",
       "      <td>1-3 years</td>\n",
       "      <td>...</td>\n",
       "      <td>0.0</td>\n",
       "      <td></td>\n",
       "      <td></td>\n",
       "      <td>3i Group</td>\n",
       "      <td>United Kingdom</td>\n",
       "      <td>Services</td>\n",
       "      <td>GB00B1YW4409</td>\n",
       "      <td>III LN</td>\n",
       "      <td>banks diverse financials insurance</td>\n",
       "      <td>2014-06-26</td>\n",
       "    </tr>\n",
       "    <tr>\n",
       "      <th>4</th>\n",
       "      <td>44</td>\n",
       "      <td>2014.0</td>\n",
       "      <td>reducing electricty use with our buildings.   ...</td>\n",
       "      <td>energy efficiency in buildings</td>\n",
       "      <td>10.31</td>\n",
       "      <td></td>\n",
       "      <td></td>\n",
       "      <td>3505.33</td>\n",
       "      <td>0.0</td>\n",
       "      <td>1-3 years</td>\n",
       "      <td>...</td>\n",
       "      <td>0.0</td>\n",
       "      <td></td>\n",
       "      <td></td>\n",
       "      <td>3i Group</td>\n",
       "      <td>United Kingdom</td>\n",
       "      <td>Services</td>\n",
       "      <td>GB00B1YW4409</td>\n",
       "      <td>III LN</td>\n",
       "      <td>banks diverse financials insurance</td>\n",
       "      <td>2014-06-26</td>\n",
       "    </tr>\n",
       "  </tbody>\n",
       "</table>\n",
       "<p>5 rows × 27 columns</p>\n",
       "</div>"
      ],
      "text/plain": [
       "   id    year                              cdp_ini_type_detail_f  \\\n",
       "0  44  2011.0  • we have requested data from portfolio compan...   \n",
       "1  44  2013.0                                              other   \n",
       "2  44  2013.0  3i are undertaking an accreditation exercise w...   \n",
       "3  44  2014.0  reducing travel associated carbon emissions.  ...   \n",
       "4  44  2014.0  reducing electricty use with our buildings.   ...   \n",
       "\n",
       "                              cdp_ini_type_f  cdp_ini_co2_c  \\\n",
       "0        company policy or behavioral change            NaN   \n",
       "1                                      other         901.50   \n",
       "2  energy efficiency in production processes         901.50   \n",
       "3                             transportation          39.67   \n",
       "4             energy efficiency in buildings          10.31   \n",
       "\n",
       "  cdp_ini_ghgscope_f cdp_ini_disclosure_f  cdp_ini_monetarysaving_c  \\\n",
       "0                                                               NaN   \n",
       "1                                                           9303.00   \n",
       "2                                                           9303.00   \n",
       "3                                                         105766.11   \n",
       "4                                                           3505.33   \n",
       "\n",
       "   cdp_ini_investmentrequired_c cdp_ini_payback_f  ... scope3  \\\n",
       "0                           NaN                    ...    0.0   \n",
       "1                        1550.5         1-3 years  ...    0.0   \n",
       "2                        1550.5        4-10 years  ...    0.0   \n",
       "3                           0.0         1-3 years  ...    0.0   \n",
       "4                           0.0         1-3 years  ...    0.0   \n",
       "\n",
       "  cdp_ini_subtype_f reporting_boundary companyname         country  \\\n",
       "0                                         3i Group  United Kingdom   \n",
       "1                                         3i Group  United Kingdom   \n",
       "2                                         3i Group  United Kingdom   \n",
       "3                                         3i Group  United Kingdom   \n",
       "4                                         3i Group  United Kingdom   \n",
       "\n",
       "   industry14          isin  ticker                          industry46  \\\n",
       "0    Services  GB00B1YW4409  III LN  banks diverse financials insurance   \n",
       "1    Services  GB00B1YW4409  III LN  banks diverse financials insurance   \n",
       "2    Services  GB00B1YW4409  III LN  banks diverse financials insurance   \n",
       "3    Services  GB00B1YW4409  III LN  banks diverse financials insurance   \n",
       "4    Services  GB00B1YW4409  III LN  banks diverse financials insurance   \n",
       "\n",
       "     cdpdate  \n",
       "0        NaT  \n",
       "1 2013-06-18  \n",
       "2 2013-06-18  \n",
       "3 2014-06-26  \n",
       "4 2014-06-26  \n",
       "\n",
       "[5 rows x 27 columns]"
      ]
     },
     "execution_count": 46,
     "metadata": {},
     "output_type": "execute_result"
    }
   ],
   "source": [
    "data.head()"
   ]
  },
  {
   "cell_type": "code",
   "execution_count": 47,
   "metadata": {},
   "outputs": [
    {
     "data": {
      "text/plain": [
       "Index(['id', 'year', 'cdp_ini_type_detail_f', 'cdp_ini_type_f',\n",
       "       'cdp_ini_co2_c', 'cdp_ini_ghgscope_f', 'cdp_ini_disclosure_f',\n",
       "       'cdp_ini_monetarysaving_c', 'cdp_ini_investmentrequired_c',\n",
       "       'cdp_ini_payback_f', 'cdp_ini_lifetime_f', 'cdp_ini_comment_s',\n",
       "       'cdp_ini_comment_lower_s', 'cdp_currency', 'currency_ex', 'scope1',\n",
       "       'scope2', 'scope3', 'cdp_ini_subtype_f', 'reporting_boundary',\n",
       "       'companyname', 'country', 'industry14', 'isin', 'ticker', 'industry46',\n",
       "       'cdpdate'],\n",
       "      dtype='object')"
      ]
     },
     "execution_count": 47,
     "metadata": {},
     "output_type": "execute_result"
    }
   ],
   "source": [
    "data.columns"
   ]
  },
  {
   "cell_type": "code",
   "execution_count": 48,
   "metadata": {},
   "outputs": [],
   "source": [
    "data.drop(columns=['reporting_boundary',\n",
    "       'companyname', 'country', 'industry14', 'isin', 'ticker', 'industry46',\n",
    "       'cdpdate', 'cdp_currency', 'currency_ex','cdp_ini_comment_s', 'cdp_ini_comment_lower_s', 'cdp_ini_ghgscope_f', 'cdp_ini_type_detail_f'], inplace=True)"
   ]
  },
  {
   "cell_type": "code",
   "execution_count": 49,
   "metadata": {},
   "outputs": [
    {
     "data": {
      "text/plain": [
       "Index(['id', 'year', 'cdp_ini_type_f', 'cdp_ini_co2_c', 'cdp_ini_disclosure_f',\n",
       "       'cdp_ini_monetarysaving_c', 'cdp_ini_investmentrequired_c',\n",
       "       'cdp_ini_payback_f', 'cdp_ini_lifetime_f', 'scope1', 'scope2', 'scope3',\n",
       "       'cdp_ini_subtype_f'],\n",
       "      dtype='object')"
      ]
     },
     "execution_count": 49,
     "metadata": {},
     "output_type": "execute_result"
    }
   ],
   "source": [
    "data.columns"
   ]
  },
  {
   "cell_type": "code",
   "execution_count": 50,
   "metadata": {},
   "outputs": [
    {
     "data": {
      "text/html": [
       "<div>\n",
       "<style scoped>\n",
       "    .dataframe tbody tr th:only-of-type {\n",
       "        vertical-align: middle;\n",
       "    }\n",
       "\n",
       "    .dataframe tbody tr th {\n",
       "        vertical-align: top;\n",
       "    }\n",
       "\n",
       "    .dataframe thead th {\n",
       "        text-align: right;\n",
       "    }\n",
       "</style>\n",
       "<table border=\"1\" class=\"dataframe\">\n",
       "  <thead>\n",
       "    <tr style=\"text-align: right;\">\n",
       "      <th></th>\n",
       "      <th>id</th>\n",
       "      <th>year</th>\n",
       "      <th>cdp_ini_type_f</th>\n",
       "      <th>cdp_ini_co2_c</th>\n",
       "      <th>cdp_ini_disclosure_f</th>\n",
       "      <th>cdp_ini_monetarysaving_c</th>\n",
       "      <th>cdp_ini_investmentrequired_c</th>\n",
       "      <th>cdp_ini_payback_f</th>\n",
       "      <th>cdp_ini_lifetime_f</th>\n",
       "      <th>scope1</th>\n",
       "      <th>scope2</th>\n",
       "      <th>scope3</th>\n",
       "      <th>cdp_ini_subtype_f</th>\n",
       "    </tr>\n",
       "  </thead>\n",
       "  <tbody>\n",
       "    <tr>\n",
       "      <th>82553</th>\n",
       "      <td>23011</td>\n",
       "      <td>2017.0</td>\n",
       "      <td>energy efficiency in buildings</td>\n",
       "      <td>1.10</td>\n",
       "      <td>Voluntary</td>\n",
       "      <td>233.136</td>\n",
       "      <td>777.12</td>\n",
       "      <td>1-3 years</td>\n",
       "      <td>3-5 years</td>\n",
       "      <td>0.0</td>\n",
       "      <td>1.0</td>\n",
       "      <td>0.0</td>\n",
       "      <td></td>\n",
       "    </tr>\n",
       "    <tr>\n",
       "      <th>86737</th>\n",
       "      <td>31426</td>\n",
       "      <td>2016.0</td>\n",
       "      <td>energy efficiency in buildings</td>\n",
       "      <td>18.49</td>\n",
       "      <td>Voluntary</td>\n",
       "      <td>5554.824</td>\n",
       "      <td>78606.00</td>\n",
       "      <td>11-15 years</td>\n",
       "      <td>21-30 years</td>\n",
       "      <td>0.0</td>\n",
       "      <td>1.0</td>\n",
       "      <td>0.0</td>\n",
       "      <td></td>\n",
       "    </tr>\n",
       "    <tr>\n",
       "      <th>106521</th>\n",
       "      <td>840751</td>\n",
       "      <td>2021.0</td>\n",
       "      <td>question not applicable</td>\n",
       "      <td>NaN</td>\n",
       "      <td>Question not applicable</td>\n",
       "      <td>NaN</td>\n",
       "      <td>NaN</td>\n",
       "      <td>Question not applicable</td>\n",
       "      <td>Question not applicable</td>\n",
       "      <td>0.0</td>\n",
       "      <td>0.0</td>\n",
       "      <td>0.0</td>\n",
       "      <td></td>\n",
       "    </tr>\n",
       "    <tr>\n",
       "      <th>41542</th>\n",
       "      <td>10720</td>\n",
       "      <td>2013.0</td>\n",
       "      <td>energy efficiency in buildings</td>\n",
       "      <td>671.00</td>\n",
       "      <td></td>\n",
       "      <td>117000.000</td>\n",
       "      <td>198000.00</td>\n",
       "      <td>1-3 years</td>\n",
       "      <td></td>\n",
       "      <td>0.0</td>\n",
       "      <td>0.0</td>\n",
       "      <td>0.0</td>\n",
       "      <td></td>\n",
       "    </tr>\n",
       "    <tr>\n",
       "      <th>66549</th>\n",
       "      <td>18415</td>\n",
       "      <td>2012.0</td>\n",
       "      <td>energy efficiency in production processes</td>\n",
       "      <td>800.00</td>\n",
       "      <td></td>\n",
       "      <td>396992.000</td>\n",
       "      <td>2481200.00</td>\n",
       "      <td>&gt;3 years</td>\n",
       "      <td></td>\n",
       "      <td>0.0</td>\n",
       "      <td>0.0</td>\n",
       "      <td>0.0</td>\n",
       "      <td></td>\n",
       "    </tr>\n",
       "  </tbody>\n",
       "</table>\n",
       "</div>"
      ],
      "text/plain": [
       "            id    year                             cdp_ini_type_f  \\\n",
       "82553    23011  2017.0             energy efficiency in buildings   \n",
       "86737    31426  2016.0             energy efficiency in buildings   \n",
       "106521  840751  2021.0                    question not applicable   \n",
       "41542    10720  2013.0             energy efficiency in buildings   \n",
       "66549    18415  2012.0  energy efficiency in production processes   \n",
       "\n",
       "        cdp_ini_co2_c     cdp_ini_disclosure_f  cdp_ini_monetarysaving_c  \\\n",
       "82553            1.10                Voluntary                   233.136   \n",
       "86737           18.49                Voluntary                  5554.824   \n",
       "106521            NaN  Question not applicable                       NaN   \n",
       "41542          671.00                                         117000.000   \n",
       "66549          800.00                                         396992.000   \n",
       "\n",
       "        cdp_ini_investmentrequired_c        cdp_ini_payback_f  \\\n",
       "82553                         777.12                1-3 years   \n",
       "86737                       78606.00              11-15 years   \n",
       "106521                           NaN  Question not applicable   \n",
       "41542                      198000.00                1-3 years   \n",
       "66549                     2481200.00                 >3 years   \n",
       "\n",
       "             cdp_ini_lifetime_f  scope1  scope2  scope3 cdp_ini_subtype_f  \n",
       "82553                 3-5 years     0.0     1.0     0.0                    \n",
       "86737               21-30 years     0.0     1.0     0.0                    \n",
       "106521  Question not applicable     0.0     0.0     0.0                    \n",
       "41542                               0.0     0.0     0.0                    \n",
       "66549                               0.0     0.0     0.0                    "
      ]
     },
     "execution_count": 50,
     "metadata": {},
     "output_type": "execute_result"
    }
   ],
   "source": [
    "data.sample(5)"
   ]
  },
  {
   "cell_type": "code",
   "execution_count": 51,
   "metadata": {},
   "outputs": [
    {
     "name": "stdout",
     "output_type": "stream",
     "text": [
      "id 10963\n",
      "year 12\n",
      "cdp_ini_type_f 11\n",
      "cdp_ini_co2_c 24775\n",
      "cdp_ini_disclosure_f 8\n",
      "cdp_ini_monetarysaving_c 47663\n",
      "cdp_ini_investmentrequired_c 39445\n",
      "cdp_ini_payback_f 20\n",
      "cdp_ini_lifetime_f 1834\n",
      "scope1 2\n",
      "scope2 2\n",
      "scope3 2\n",
      "cdp_ini_subtype_f 49\n"
     ]
    }
   ],
   "source": [
    "for column in data.columns:\n",
    "    print(column + ' ' + str(len(data[column].unique())))"
   ]
  },
  {
   "cell_type": "code",
   "execution_count": 52,
   "metadata": {},
   "outputs": [],
   "source": [
    "data = data[['id', 'year', 'scope1', 'scope2', 'scope3']]"
   ]
  },
  {
   "cell_type": "code",
   "execution_count": 53,
   "metadata": {},
   "outputs": [],
   "source": [
    "data = data.groupby(['id', 'year']).sum().reset_index()"
   ]
  },
  {
   "cell_type": "code",
   "execution_count": 59,
   "metadata": {},
   "outputs": [
    {
     "data": {
      "text/plain": [
       "1050     42.0\n",
       "13673    28.0\n",
       "4649     24.0\n",
       "9485     22.0\n",
       "9486     21.0\n",
       "         ... \n",
       "11767     0.0\n",
       "11766     0.0\n",
       "11765     0.0\n",
       "11764     0.0\n",
       "32205     0.0\n",
       "Name: scope3, Length: 32206, dtype: float32"
      ]
     },
     "execution_count": 59,
     "metadata": {},
     "output_type": "execute_result"
    }
   ],
   "source": [
    "data['scope3'].sort_values(ascending=False)"
   ]
  },
  {
   "cell_type": "code",
   "execution_count": 33,
   "metadata": {},
   "outputs": [],
   "source": [
    "# taking the log1p of the numberical variables for the scope counts\n",
    "data['scope1'] = np.log1p(data['scope1'])\n",
    "data['scope2'] = np.log1p(data['scope2'])\n",
    "data['scope3'] = np.log1p(data['scope3'])"
   ]
  },
  {
   "cell_type": "code",
   "execution_count": 34,
   "metadata": {},
   "outputs": [
    {
     "data": {
      "text/plain": [
       "id        0\n",
       "year      0\n",
       "scope1    0\n",
       "scope2    0\n",
       "scope3    0\n",
       "dtype: int64"
      ]
     },
     "execution_count": 34,
     "metadata": {},
     "output_type": "execute_result"
    }
   ],
   "source": [
    "data.isna().sum()"
   ]
  },
  {
   "cell_type": "code",
   "execution_count": 35,
   "metadata": {},
   "outputs": [
    {
     "data": {
      "text/plain": [
       "0.15625417"
      ]
     },
     "execution_count": 35,
     "metadata": {},
     "output_type": "execute_result"
    }
   ],
   "source": [
    "data['scope3'].mean()"
   ]
  },
  {
   "cell_type": "code",
   "execution_count": 36,
   "metadata": {},
   "outputs": [
    {
     "data": {
      "text/plain": [
       "(32206, 5)"
      ]
     },
     "execution_count": 36,
     "metadata": {},
     "output_type": "execute_result"
    }
   ],
   "source": [
    "data.shape"
   ]
  },
  {
   "cell_type": "code",
   "execution_count": 37,
   "metadata": {},
   "outputs": [
    {
     "data": {
      "text/plain": [
       "Index(['id', 'year', 'scope1', 'scope2', 'scope3'], dtype='object')"
      ]
     },
     "execution_count": 37,
     "metadata": {},
     "output_type": "execute_result"
    }
   ],
   "source": [
    "data.columns"
   ]
  },
  {
   "cell_type": "code",
   "execution_count": 38,
   "metadata": {},
   "outputs": [
    {
     "data": {
      "text/plain": [
       "(32206, 5)"
      ]
     },
     "execution_count": 38,
     "metadata": {},
     "output_type": "execute_result"
    }
   ],
   "source": [
    "data.shape"
   ]
  },
  {
   "cell_type": "code",
   "execution_count": 39,
   "metadata": {},
   "outputs": [],
   "source": [
    "# rename columns scope 1, 2, 3 to initiative_scope1, 2, 3 binary\n",
    "data.rename(columns={'scope1': 'initiative_scope1', 'scope2': 'initiative_scope2', 'scope3': 'initiative_scope3'}, inplace=True)"
   ]
  },
  {
   "cell_type": "code",
   "execution_count": 41,
   "metadata": {},
   "outputs": [],
   "source": [
    "data.to_csv('../../data/processed/cdp_initiative_processed.csv', index=False)"
   ]
  }
 ],
 "metadata": {
  "kernelspec": {
   "display_name": "thesis_project",
   "language": "python",
   "name": "python3"
  },
  "language_info": {
   "codemirror_mode": {
    "name": "ipython",
    "version": 3
   },
   "file_extension": ".py",
   "mimetype": "text/x-python",
   "name": "python",
   "nbconvert_exporter": "python",
   "pygments_lexer": "ipython3",
   "version": "3.12.0"
  }
 },
 "nbformat": 4,
 "nbformat_minor": 2
}
