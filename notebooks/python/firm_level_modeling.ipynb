{
 "cells": [
  {
   "cell_type": "markdown",
   "metadata": {},
   "source": [
    "If using all predictors but not aggregating, it is possible to achieve an R2 score of 0.25 with MSE of 57 and MAE of 4.1 which is extremely high."
   ]
  },
  {
   "cell_type": "code",
   "execution_count": 5,
   "metadata": {},
   "outputs": [],
   "source": [
    "import pandas as pd\n",
    "import numpy as np\n",
    "import os\n",
    "import statsmodels.api as sm\n",
    "from statsmodels.regression.mixed_linear_model import MixedLM\n",
    "from sklearn.preprocessing import MinMaxScaler\n",
    "from sklearn.decomposition import PCA"
   ]
  },
  {
   "cell_type": "code",
   "execution_count": 6,
   "metadata": {},
   "outputs": [
    {
     "name": "stdout",
     "output_type": "stream",
     "text": [
      "mapped_cdp_ghg_verification_frim_year_processed.csv\n",
      "mapped_cdp_methane_processed.csv\n",
      "mapped_cdp_target_processed.csv\n",
      "mapped_cdp_initative_method_processed.csv\n",
      "mapped_cdp_incentives_processed.csv\n",
      "mapped_cdp_lowcarbon_processed.csv\n",
      "mapped_cdp_summary_selected_processed.csv\n",
      "mapped_cdp_ghg_change_processed.csv\n",
      "mapped_cdp_ghg_int_processed.csv\n",
      "mapped_cdp_ghg_all_scopes_processed.csv\n",
      "mapped_cdp_carbon_credits_full_processed.csv\n",
      "mapped_cdp_initiative_processed.csv\n",
      "mapped_cdp_initiative_firm_year_processed.csv\n",
      "mapped_cdp_riskopp_processed.csv\n"
     ]
    }
   ],
   "source": [
    "mapping_file_path = '/Users/fabrizioserafini/Desktop/senior_year/Senior Thesis/thesis_project/data/mapped'\n",
    "\n",
    "# name and dataframe? or just a list?\n",
    "dfs = {}\n",
    "\n",
    "files = os.listdir(mapping_file_path)\n",
    "relevant = []\n",
    "\n",
    "# filterning relevant data\n",
    "for file in files:\n",
    "    if 'processed.csv' in file.split('_'):\n",
    "        relevant.append(file)\n",
    "\n",
    "# reading the relevant dfs\n",
    "for df in relevant:\n",
    "    print(df)\n",
    "    read = pd.read_csv(mapping_file_path + '/' + df)\n",
    "    read.set_index(['id'], inplace=True)\n",
    "    dfs[df] = read"
   ]
  },
  {
   "cell_type": "code",
   "execution_count": 7,
   "metadata": {},
   "outputs": [],
   "source": [
    "# Concatenate all DataFrames along the columns\n",
    "combined_df = pd.concat(dfs, axis=1)\n",
    "\n",
    "# Drop duplicate columns\n",
    "combined_df = combined_df.loc[:,~combined_df.columns.duplicated()]\n",
    "\n",
    "# Reset the index if needed\n",
    "combined_df.reset_index(inplace=True)"
   ]
  },
  {
   "cell_type": "code",
   "execution_count": 8,
   "metadata": {},
   "outputs": [],
   "source": [
    "combined_df.columns = combined_df.columns.get_level_values(1)"
   ]
  },
  {
   "cell_type": "code",
   "execution_count": 9,
   "metadata": {},
   "outputs": [],
   "source": [
    "combined_df = combined_df.iloc[:, 2:]"
   ]
  },
  {
   "cell_type": "code",
   "execution_count": 10,
   "metadata": {},
   "outputs": [],
   "source": [
    "# Drop duplicate columns\n",
    "combined_df = combined_df.loc[:,~combined_df.columns.duplicated()]\n",
    "\n",
    "# Reset the index if needed\n",
    "combined_df.reset_index(inplace=True)"
   ]
  },
  {
   "cell_type": "code",
   "execution_count": 11,
   "metadata": {},
   "outputs": [],
   "source": [
    "combined_df.drop(columns=['index'], inplace=True)"
   ]
  },
  {
   "cell_type": "code",
   "execution_count": 12,
   "metadata": {},
   "outputs": [
    {
     "data": {
      "text/plain": [
       "(24302, 132)"
      ]
     },
     "execution_count": 12,
     "metadata": {},
     "output_type": "execute_result"
    }
   ],
   "source": [
    "combined_df.shape"
   ]
  },
  {
   "cell_type": "code",
   "execution_count": 13,
   "metadata": {},
   "outputs": [
    {
     "name": "stdout",
     "output_type": "stream",
     "text": [
      "year\n",
      "isin\n",
      "proportion_verified_scope1\n",
      "proportion_verified_scope2\n",
      "ghg_verification_scope1_no data\n",
      "ghg_verification_scope1_yes\n",
      "ghg_verification_scope2_no data\n",
      "ghg_verification_scope2_yes\n",
      "ghg_verification_scope3_no data\n",
      "ghg_verification_scope3_yes\n",
      "type_scope1_limited\n",
      "type_scope1_moderate\n",
      "type_scope1_n/a\n",
      "type_scope1_reasonable\n",
      "type_scope1_third party underway\n",
      "absent_cdp_ghg_verification_frim_year_processed.csv\n",
      "Unnamed: 0\n",
      "methane_emissions\n",
      "absent_cdp_methane_processed.csv\n",
      "cdp_targetduration_mean\n",
      "cdp_timeprogress_mean\n",
      "cdp_targetscope_percent_mean\n",
      "cdp_targetamount_mean\n",
      "cdp_baseyear_mean\n",
      "cdp_baseyearemission_mean\n",
      "cdp_targettype_absolute\n",
      "cdp_targettype_intensity\n",
      "cdp_targetduration_mean_missing\n",
      "cdp_timeprogress_mean_missing\n",
      "cdp_targetscope_percent_mean_missing\n",
      "cdp_targetamount_mean_missing\n",
      "cdp_baseyear_mean_missing\n",
      "cdp_baseyearemission_mean_missing\n",
      "absent_cdp_target_processed.csv\n",
      "method_ind_MACC\n",
      "method_ind_budget_efficiency\n",
      "method_ind_budget_low_carbon\n",
      "method_ind_compliance\n",
      "method_ind_employee_engagement\n",
      "method_ind_financial_opt\n",
      "method_ind_gov_partnership\n",
      "method_ind_internal_finance\n",
      "method_ind_internal_incentives\n",
      "method_ind_internal_price\n",
      "method_ind_lower_roi\n",
      "method_ind_other\n",
      "absent_cdp_initative_method_processed.csv\n",
      "cdp_boardoversight_i\n",
      "cdp_incentivebinary_i\n",
      "cdp_boardoversight_i_na\n",
      "cdp_incentivebinary_i_na\n",
      "absent_cdp_incentives_processed.csv\n",
      "cdp_lowcarbon_rev_total\n",
      "cdp_lowcarbon_rev_total_missing\n",
      "absent_cdp_lowcarbon_processed.csv\n",
      "reporting_boundary_financial control\n",
      "reporting_boundary_not reported\n",
      "reporting_boundary_operational control\n",
      "reporting_boundary_other\n",
      "industry14_Biotech, health care & pharma\n",
      "industry14_Corporate Tags\n",
      "industry14_Food, beverage & agriculture\n",
      "industry14_Fossil Fuels\n",
      "industry14_Hospitality\n",
      "industry14_Infrastructure\n",
      "industry14_International bodies\n",
      "industry14_Manufacturing\n",
      "industry14_Materials\n",
      "industry14_Mineral extraction\n",
      "industry14_Power generation\n",
      "industry14_Retail\n",
      "industry14_Services\n",
      "industry14_Transportation services\n",
      "industry14_not reported\n",
      "ghg_change_total\n",
      "ghg_change_real\n",
      "ghg_change_structure\n",
      "ghg_change_measure\n",
      "ghg_change_othergroup\n",
      "ghg_change_nonzero_count\n",
      "ghg_change_real_cat\n",
      "ghg_change_real_cat_next\n",
      "ghg_change_real_next\n",
      "absent_cdp_ghg_change_processed.csv\n",
      "ghg_int_figure\n",
      "ghg_int_change\n",
      "ghg_int_figure_na\n",
      "ghg_int_change_na\n",
      "absent_cdp_ghg_int_processed.csv\n",
      "ghg1\n",
      "ghg2location\n",
      "ghg2market\n",
      "ghg3_total\n",
      "ghg3_count\n",
      "ghg1_na\n",
      "ghg2location_na\n",
      "ghg2market_na\n",
      "ghg3_total_na\n",
      "absent_cdp_ghg_all_scopes_processed.csv\n",
      "cdp_num_credits_clean_sum\n",
      "cdp_num_credits_clean_count\n",
      "cdp_num_credits_riskadj_clean_sum\n",
      "cdp_num_credits_clean_missing_sum\n",
      "cdp_num_credits_riskadj_clean_missing_sum\n",
      "cdp_orig_or_purchase_clean_credit origination\n",
      "cdp_orig_or_purchase_clean_credit purchase\n",
      "cdp_credits_cancelled_clean_no\n",
      "cdp_credits_cancelled_clean_yes\n",
      "cdp_credits_cancelled_clean_missing\n",
      "cdp_purpose_clean_compliance\n",
      "cdp_purpose_clean_other\n",
      "cdp_purpose_clean_voluntary offsetting\n",
      "cdp_purpose_clean_missing\n",
      "absent_cdp_carbon_credits_full_processed.csv\n",
      "scope1\n",
      "scope2\n",
      "scope3\n",
      "absent_cdp_initiative_processed.csv\n",
      "co2_counter\n",
      "msaving_counter\n",
      "investment_counter\n",
      "co2_total_log1p\n",
      "msaving_total_log1p\n",
      "investment_total_log1p\n",
      "co2_total_log1p_missing\n",
      "msaving_total_log1p_missing\n",
      "investment_total_log1p_missing\n",
      "absent_cdp_initiative_firm_year_processed.csv\n",
      "cdp_risk_transition\n",
      "cdp_risk_physical\n",
      "cdp_aggregated_opp\n",
      "absent_cdp_riskopp_processed.csv\n"
     ]
    }
   ],
   "source": [
    "# print all the columns\n",
    "for col in combined_df.columns:\n",
    "    print(col)\n"
   ]
  },
  {
   "cell_type": "code",
   "execution_count": 14,
   "metadata": {},
   "outputs": [],
   "source": [
    "train_data = combined_df[combined_df['year'] < 2021].drop(columns=['ghg_change_real_cat_next'])\n",
    "test_data = combined_df[combined_df['year'] == 2021].drop(columns=['ghg_change_real_cat_next'])\n",
    "\n",
    "train_isins = train_data['isin']\n",
    "test_isins = test_data['isin']\n",
    "\n",
    "X_train = train_data.drop(columns=['ghg_change_real_next', 'isin', 'Unnamed: 0', 'ghg_change_real_cat', 'ghg_change_real', 'ghg_change_total'])\n",
    "X_test = test_data.drop(columns=['ghg_change_real_next', 'isin', 'Unnamed: 0', 'ghg_change_real_cat', 'ghg_change_real', 'ghg_change_total'])\n",
    "y_train = train_data['ghg_change_real']\n",
    "y_test = test_data['ghg_change_real']"
   ]
  },
  {
   "cell_type": "code",
   "execution_count": 15,
   "metadata": {},
   "outputs": [
    {
     "name": "stderr",
     "output_type": "stream",
     "text": [
      "[Parallel(n_jobs=-1)]: Using backend ThreadingBackend with 8 concurrent workers.\n"
     ]
    },
    {
     "name": "stdout",
     "output_type": "stream",
     "text": [
      "building tree 1 of 100building tree 2 of 100\n",
      "building tree 3 of 100\n",
      "\n",
      "building tree 4 of 100\n",
      "building tree 5 of 100\n",
      "building tree 6 of 100\n",
      "building tree 7 of 100\n",
      "building tree 8 of 100\n",
      "building tree 9 of 100\n",
      "building tree 10 of 100\n",
      "building tree 11 of 100\n",
      "building tree 12 of 100\n",
      "building tree 13 of 100\n",
      "building tree 14 of 100\n",
      "building tree 15 of 100\n",
      "building tree 16 of 100\n",
      "building tree 17 of 100\n",
      "building tree 18 of 100\n",
      "building tree 19 of 100\n",
      "building tree 20 of 100\n",
      "building tree 21 of 100\n",
      "building tree 22 of 100\n",
      "building tree 23 of 100\n",
      "building tree 24 of 100\n",
      "building tree 25 of 100\n",
      "building tree 26 of 100\n",
      "building tree 27 of 100\n"
     ]
    },
    {
     "name": "stderr",
     "output_type": "stream",
     "text": [
      "[Parallel(n_jobs=-1)]: Done  16 tasks      | elapsed:    1.6s\n"
     ]
    },
    {
     "name": "stdout",
     "output_type": "stream",
     "text": [
      "building tree 28 of 100\n",
      "building tree 29 of 100\n",
      "building tree 30 of 100\n",
      "building tree 31 of 100\n",
      "building tree 32 of 100\n",
      "building tree 33 of 100\n",
      "building tree 34 of 100\n",
      "building tree 35 of 100\n",
      "building tree 36 of 100\n",
      "building tree 37 of 100\n",
      "building tree 38 of 100\n",
      "building tree 39 of 100\n",
      "building tree 40 of 100\n",
      "building tree 41 of 100\n",
      "building tree 42 of 100\n",
      "building tree 43 of 100\n",
      "building tree 44 of 100\n",
      "building tree 45 of 100\n",
      "building tree 46 of 100\n",
      "building tree 47 of 100\n",
      "building tree 48 of 100\n",
      "building tree 49 of 100\n",
      "building tree 50 of 100\n",
      "building tree 51 of 100\n",
      "building tree 52 of 100\n",
      "building tree 53 of 100\n",
      "building tree 54 of 100\n",
      "building tree 55 of 100\n",
      "building tree 56 of 100\n",
      "building tree 57 of 100\n",
      "building tree 58 of 100\n",
      "building tree 59 of 100\n",
      "building tree 60 of 100\n",
      "building tree 61 of 100\n",
      "building tree 62 of 100\n",
      "building tree 63 of 100\n",
      "building tree 64 of 100\n",
      "building tree 65 of 100\n",
      "building tree 66 of 100\n",
      "building tree 67 of 100\n",
      "building tree 68 of 100\n",
      "building tree 69 of 100\n",
      "building tree 70 of 100\n",
      "building tree 71 of 100\n",
      "building tree 72 of 100\n",
      "building tree 73 of 100\n",
      "building tree 74 of 100\n",
      "building tree 75 of 100\n",
      "building tree 76 of 100\n",
      "building tree 77 of 100\n",
      "building tree 78 of 100\n",
      "building tree 79 of 100\n",
      "building tree 80 of 100\n",
      "building tree 81 of 100\n",
      "building tree 82 of 100\n",
      "building tree 83 of 100\n",
      "building tree 84 of 100\n",
      "building tree 85 of 100\n",
      "building tree 86 of 100\n",
      "building tree 87 of 100\n",
      "building tree 88 of 100\n",
      "building tree 89 of 100\n",
      "building tree 90 of 100\n",
      "building tree 91 of 100\n",
      "building tree 92 of 100\n",
      "building tree 93 of 100\n",
      "building tree 94 of 100\n",
      "building tree 95 of 100\n",
      "building tree 96 of 100\n",
      "building tree 97 of 100\n",
      "building tree 98 of 100\n",
      "building tree 99 of 100\n",
      "building tree 100 of 100\n"
     ]
    },
    {
     "name": "stderr",
     "output_type": "stream",
     "text": [
      "[Parallel(n_jobs=-1)]: Done 100 out of 100 | elapsed:    6.1s finished\n",
      "[Parallel(n_jobs=8)]: Using backend ThreadingBackend with 8 concurrent workers.\n",
      "[Parallel(n_jobs=8)]: Done  16 tasks      | elapsed:    0.0s\n",
      "[Parallel(n_jobs=8)]: Done 100 out of 100 | elapsed:    0.0s finished\n"
     ]
    }
   ],
   "source": [
    "# fit a random forest model with tuning and cross validation\n",
    "from sklearn.ensemble import RandomForestRegressor\n",
    "from sklearn.model_selection import GridSearchCV\n",
    "\n",
    "# fit a random forest model with the best parameters\n",
    "rf = RandomForestRegressor(n_estimators=100, max_depth=None, n_jobs=-1, random_state=42, verbose=3)\n",
    "rf.fit(X_train, y_train)\n",
    "\n",
    "# predict on the test set\n",
    "y_pred = rf.predict(X_test)\n",
    "\n",
    "# calculate the mean squared error\n",
    "from sklearn.metrics import mean_squared_error\n",
    "from sklearn.metrics import mean_absolute_error\n"
   ]
  },
  {
   "cell_type": "code",
   "execution_count": 16,
   "metadata": {},
   "outputs": [
    {
     "data": {
      "text/plain": [
       "0.24977289714287065"
      ]
     },
     "execution_count": 16,
     "metadata": {},
     "output_type": "execute_result"
    }
   ],
   "source": [
    "# r2 score\n",
    "from sklearn.metrics import r2_score\n",
    "r2_score(y_test, y_pred)"
   ]
  },
  {
   "cell_type": "code",
   "execution_count": 17,
   "metadata": {},
   "outputs": [
    {
     "data": {
      "text/plain": [
       "57.10396995427295"
      ]
     },
     "execution_count": 17,
     "metadata": {},
     "output_type": "execute_result"
    }
   ],
   "source": [
    "mean_squared_error(y_test, y_pred)"
   ]
  },
  {
   "cell_type": "code",
   "execution_count": 18,
   "metadata": {},
   "outputs": [
    {
     "data": {
      "text/plain": [
       "4.1021376018888605"
      ]
     },
     "execution_count": 18,
     "metadata": {},
     "output_type": "execute_result"
    }
   ],
   "source": [
    "mean_absolute_error(y_test, y_pred)"
   ]
  },
  {
   "cell_type": "code",
   "execution_count": 19,
   "metadata": {},
   "outputs": [],
   "source": [
    "combined_df.to_csv(\"combined.csv\")"
   ]
  },
  {
   "cell_type": "code",
   "execution_count": null,
   "metadata": {},
   "outputs": [
    {
     "data": {
      "text/plain": [
       "7.556716876678188"
      ]
     },
     "execution_count": 107,
     "metadata": {},
     "output_type": "execute_result"
    }
   ],
   "source": [
    "mean_squared_error(y_test, y_pred, squared=False)"
   ]
  },
  {
   "cell_type": "code",
   "execution_count": null,
   "metadata": {},
   "outputs": [
    {
     "data": {
      "text/plain": [
       "4.1021376018888605"
      ]
     },
     "execution_count": 108,
     "metadata": {},
     "output_type": "execute_result"
    }
   ],
   "source": [
    "#MAE \n",
    "from sklearn.metrics import mean_absolute_error\n",
    "mean_absolute_error(y_test, y_pred)"
   ]
  },
  {
   "cell_type": "code",
   "execution_count": null,
   "metadata": {},
   "outputs": [
    {
     "data": {
      "image/png": "[encoded data removed]",
      "text/plain": [
       "<Figure size 1000x1000 with 1 Axes>"
      ]
     },
     "metadata": {},
     "output_type": "display_data"
    }
   ],
   "source": [
    "# feature importance plot\n",
    "import matplotlib.pyplot as plt\n",
    "import seaborn as sns\n",
    "feature_importances = pd.DataFrame(rf.feature_importances_,\n",
    "                                   index = X_train.columns,\n",
    "                                    columns=['importance']).sort_values('importance', ascending=False)\n",
    "feature_importances = feature_importances.reset_index()\n",
    "feature_importances.columns = ['feature', 'importance']\n",
    "feature_importances = feature_importances[feature_importances['importance'] > 0.01]\n",
    "plt.figure(figsize=(10, 10))\n",
    "sns.barplot(x=\"importance\", y=\"feature\", data=feature_importances)\n",
    "plt.title('Feature Importance')\n",
    "plt.tight_layout()\n",
    "plt.show()"
   ]
  },
  {
   "cell_type": "code",
   "execution_count": null,
   "metadata": {},
   "outputs": [],
   "source": []
  }
 ],
 "metadata": {
  "kernelspec": {
   "display_name": "thesis_project",
   "language": "python",
   "name": "python3"
  },
  "language_info": {
   "codemirror_mode": {
    "name": "ipython",
    "version": 3
   },
   "file_extension": ".py",
   "mimetype": "text/x-python",
   "name": "python",
   "nbconvert_exporter": "python",
   "pygments_lexer": "ipython3",
   "version": "3.12.0"
  }
 },
 "nbformat": 4,
 "nbformat_minor": 2
}
