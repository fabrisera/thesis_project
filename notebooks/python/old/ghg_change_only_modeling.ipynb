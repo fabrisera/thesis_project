{
 "cells": [
  {
   "cell_type": "code",
   "execution_count": 36,
   "metadata": {},
   "outputs": [],
   "source": [
    "import pandas as pd\n",
    "import seaborn as sns\n",
    "import matplotlib.pyplot as plt\n",
    "import numpy as np\n",
    "from sklearn.ensemble import RandomForestClassifier\n",
    "from sklearn.model_selection import GridSearchCV\n",
    "from sklearn.metrics import roc_curve, auc, accuracy_score"
   ]
  },
  {
   "cell_type": "code",
   "execution_count": 37,
   "metadata": {},
   "outputs": [],
   "source": [
    "cdp_ghg_change = pd.read_csv('../../data/processed/cdp_ghg_change_processed.csv')"
   ]
  },
  {
   "cell_type": "code",
   "execution_count": 70,
   "metadata": {},
   "outputs": [
    {
     "data": {
      "text/html": [
       "<div>\n",
       "<style scoped>\n",
       "    .dataframe tbody tr th:only-of-type {\n",
       "        vertical-align: middle;\n",
       "    }\n",
       "\n",
       "    .dataframe tbody tr th {\n",
       "        vertical-align: top;\n",
       "    }\n",
       "\n",
       "    .dataframe thead th {\n",
       "        text-align: right;\n",
       "    }\n",
       "</style>\n",
       "<table border=\"1\" class=\"dataframe\">\n",
       "  <thead>\n",
       "    <tr style=\"text-align: right;\">\n",
       "      <th></th>\n",
       "      <th>id</th>\n",
       "      <th>year</th>\n",
       "      <th>ghg_change_total</th>\n",
       "      <th>ghg_change_real</th>\n",
       "      <th>ghg_change_structure</th>\n",
       "      <th>ghg_change_measure</th>\n",
       "      <th>ghg_change_othergroup</th>\n",
       "      <th>nonzero_categories_count</th>\n",
       "      <th>ghg_change_real_cat</th>\n",
       "      <th>ghg_change_real_cat_next</th>\n",
       "    </tr>\n",
       "  </thead>\n",
       "  <tbody>\n",
       "    <tr>\n",
       "      <th>6965</th>\n",
       "      <td>9759</td>\n",
       "      <td>2018.0</td>\n",
       "      <td>4.0</td>\n",
       "      <td>0.0</td>\n",
       "      <td>0.0</td>\n",
       "      <td>0.0</td>\n",
       "      <td>4.0</td>\n",
       "      <td>1</td>\n",
       "      <td>0</td>\n",
       "      <td>1.0</td>\n",
       "    </tr>\n",
       "    <tr>\n",
       "      <th>6966</th>\n",
       "      <td>9759</td>\n",
       "      <td>2019.0</td>\n",
       "      <td>7.2</td>\n",
       "      <td>-4.4</td>\n",
       "      <td>0.0</td>\n",
       "      <td>0.0</td>\n",
       "      <td>11.6</td>\n",
       "      <td>2</td>\n",
       "      <td>1</td>\n",
       "      <td>0.0</td>\n",
       "    </tr>\n",
       "    <tr>\n",
       "      <th>6967</th>\n",
       "      <td>9759</td>\n",
       "      <td>2020.0</td>\n",
       "      <td>17.6</td>\n",
       "      <td>0.0</td>\n",
       "      <td>0.0</td>\n",
       "      <td>0.0</td>\n",
       "      <td>17.6</td>\n",
       "      <td>1</td>\n",
       "      <td>0</td>\n",
       "      <td>1.0</td>\n",
       "    </tr>\n",
       "    <tr>\n",
       "      <th>6968</th>\n",
       "      <td>9759</td>\n",
       "      <td>2021.0</td>\n",
       "      <td>-58.0</td>\n",
       "      <td>-5.0</td>\n",
       "      <td>0.0</td>\n",
       "      <td>0.0</td>\n",
       "      <td>-53.0</td>\n",
       "      <td>2</td>\n",
       "      <td>1</td>\n",
       "      <td>0.0</td>\n",
       "    </tr>\n",
       "  </tbody>\n",
       "</table>\n",
       "</div>"
      ],
      "text/plain": [
       "        id    year  ghg_change_total  ghg_change_real  ghg_change_structure  \\\n",
       "6965  9759  2018.0               4.0              0.0                   0.0   \n",
       "6966  9759  2019.0               7.2             -4.4                   0.0   \n",
       "6967  9759  2020.0              17.6              0.0                   0.0   \n",
       "6968  9759  2021.0             -58.0             -5.0                   0.0   \n",
       "\n",
       "      ghg_change_measure  ghg_change_othergroup  nonzero_categories_count  \\\n",
       "6965                 0.0                    4.0                         1   \n",
       "6966                 0.0                   11.6                         2   \n",
       "6967                 0.0                   17.6                         1   \n",
       "6968                 0.0                  -53.0                         2   \n",
       "\n",
       "      ghg_change_real_cat  ghg_change_real_cat_next  \n",
       "6965                    0                       1.0  \n",
       "6966                    1                       0.0  \n",
       "6967                    0                       1.0  \n",
       "6968                    1                       0.0  "
      ]
     },
     "execution_count": 70,
     "metadata": {},
     "output_type": "execute_result"
    }
   ],
   "source": [
    "cdp_ghg_change.loc[cdp_ghg_change['id'] == 9759]"
   ]
  },
  {
   "cell_type": "code",
   "execution_count": 38,
   "metadata": {},
   "outputs": [],
   "source": [
    "# drop columns with na in the target variable\n",
    "cdp_ghg_change = cdp_ghg_change.dropna()"
   ]
  },
  {
   "cell_type": "code",
   "execution_count": 51,
   "metadata": {},
   "outputs": [
    {
     "data": {
      "text/html": [
       "<div>\n",
       "<style scoped>\n",
       "    .dataframe tbody tr th:only-of-type {\n",
       "        vertical-align: middle;\n",
       "    }\n",
       "\n",
       "    .dataframe tbody tr th {\n",
       "        vertical-align: top;\n",
       "    }\n",
       "\n",
       "    .dataframe thead th {\n",
       "        text-align: right;\n",
       "    }\n",
       "</style>\n",
       "<table border=\"1\" class=\"dataframe\">\n",
       "  <thead>\n",
       "    <tr style=\"text-align: right;\">\n",
       "      <th></th>\n",
       "      <th>id</th>\n",
       "      <th>year</th>\n",
       "      <th>ghg_change_total</th>\n",
       "      <th>ghg_change_real</th>\n",
       "      <th>ghg_change_structure</th>\n",
       "      <th>ghg_change_measure</th>\n",
       "      <th>ghg_change_othergroup</th>\n",
       "      <th>nonzero_categories_count</th>\n",
       "      <th>ghg_change_real_cat</th>\n",
       "      <th>ghg_change_real_cat_next</th>\n",
       "    </tr>\n",
       "  </thead>\n",
       "  <tbody>\n",
       "    <tr>\n",
       "      <th>0</th>\n",
       "      <td>44</td>\n",
       "      <td>2011.0</td>\n",
       "      <td>-11.00</td>\n",
       "      <td>-11.0</td>\n",
       "      <td>0.00</td>\n",
       "      <td>0.0</td>\n",
       "      <td>0.0</td>\n",
       "      <td>1</td>\n",
       "      <td>1</td>\n",
       "      <td>0.0</td>\n",
       "    </tr>\n",
       "    <tr>\n",
       "      <th>1</th>\n",
       "      <td>44</td>\n",
       "      <td>2012.0</td>\n",
       "      <td>-25.00</td>\n",
       "      <td>0.0</td>\n",
       "      <td>0.00</td>\n",
       "      <td>0.0</td>\n",
       "      <td>-25.0</td>\n",
       "      <td>1</td>\n",
       "      <td>0</td>\n",
       "      <td>1.0</td>\n",
       "    </tr>\n",
       "    <tr>\n",
       "      <th>2</th>\n",
       "      <td>44</td>\n",
       "      <td>2013.0</td>\n",
       "      <td>-19.00</td>\n",
       "      <td>-1.0</td>\n",
       "      <td>0.00</td>\n",
       "      <td>-1.0</td>\n",
       "      <td>-17.0</td>\n",
       "      <td>3</td>\n",
       "      <td>1</td>\n",
       "      <td>0.0</td>\n",
       "    </tr>\n",
       "    <tr>\n",
       "      <th>3</th>\n",
       "      <td>44</td>\n",
       "      <td>2014.0</td>\n",
       "      <td>-29.00</td>\n",
       "      <td>0.0</td>\n",
       "      <td>0.00</td>\n",
       "      <td>0.0</td>\n",
       "      <td>-29.0</td>\n",
       "      <td>1</td>\n",
       "      <td>0</td>\n",
       "      <td>0.0</td>\n",
       "    </tr>\n",
       "    <tr>\n",
       "      <th>4</th>\n",
       "      <td>44</td>\n",
       "      <td>2016.0</td>\n",
       "      <td>-4.00</td>\n",
       "      <td>0.0</td>\n",
       "      <td>0.00</td>\n",
       "      <td>0.0</td>\n",
       "      <td>-4.0</td>\n",
       "      <td>1</td>\n",
       "      <td>0</td>\n",
       "      <td>1.0</td>\n",
       "    </tr>\n",
       "    <tr>\n",
       "      <th>...</th>\n",
       "      <td>...</td>\n",
       "      <td>...</td>\n",
       "      <td>...</td>\n",
       "      <td>...</td>\n",
       "      <td>...</td>\n",
       "      <td>...</td>\n",
       "      <td>...</td>\n",
       "      <td>...</td>\n",
       "      <td>...</td>\n",
       "      <td>...</td>\n",
       "    </tr>\n",
       "    <tr>\n",
       "      <th>21961</th>\n",
       "      <td>863212</td>\n",
       "      <td>2021.0</td>\n",
       "      <td>0.00</td>\n",
       "      <td>0.0</td>\n",
       "      <td>0.00</td>\n",
       "      <td>0.0</td>\n",
       "      <td>0.0</td>\n",
       "      <td>0</td>\n",
       "      <td>0</td>\n",
       "      <td>0.0</td>\n",
       "    </tr>\n",
       "    <tr>\n",
       "      <th>21962</th>\n",
       "      <td>863221</td>\n",
       "      <td>2021.0</td>\n",
       "      <td>0.00</td>\n",
       "      <td>0.0</td>\n",
       "      <td>0.00</td>\n",
       "      <td>0.0</td>\n",
       "      <td>0.0</td>\n",
       "      <td>0</td>\n",
       "      <td>0</td>\n",
       "      <td>0.0</td>\n",
       "    </tr>\n",
       "    <tr>\n",
       "      <th>21963</th>\n",
       "      <td>863244</td>\n",
       "      <td>2021.0</td>\n",
       "      <td>7.19</td>\n",
       "      <td>0.0</td>\n",
       "      <td>7.19</td>\n",
       "      <td>0.0</td>\n",
       "      <td>0.0</td>\n",
       "      <td>1</td>\n",
       "      <td>0</td>\n",
       "      <td>1.0</td>\n",
       "    </tr>\n",
       "    <tr>\n",
       "      <th>21964</th>\n",
       "      <td>863247</td>\n",
       "      <td>2021.0</td>\n",
       "      <td>0.00</td>\n",
       "      <td>0.0</td>\n",
       "      <td>0.00</td>\n",
       "      <td>0.0</td>\n",
       "      <td>0.0</td>\n",
       "      <td>0</td>\n",
       "      <td>0</td>\n",
       "      <td>1.0</td>\n",
       "    </tr>\n",
       "    <tr>\n",
       "      <th>21965</th>\n",
       "      <td>863343</td>\n",
       "      <td>2021.0</td>\n",
       "      <td>0.00</td>\n",
       "      <td>0.0</td>\n",
       "      <td>0.00</td>\n",
       "      <td>0.0</td>\n",
       "      <td>0.0</td>\n",
       "      <td>0</td>\n",
       "      <td>0</td>\n",
       "      <td>0.0</td>\n",
       "    </tr>\n",
       "  </tbody>\n",
       "</table>\n",
       "<p>21966 rows × 10 columns</p>\n",
       "</div>"
      ],
      "text/plain": [
       "           id    year  ghg_change_total  ghg_change_real  \\\n",
       "0          44  2011.0            -11.00            -11.0   \n",
       "1          44  2012.0            -25.00              0.0   \n",
       "2          44  2013.0            -19.00             -1.0   \n",
       "3          44  2014.0            -29.00              0.0   \n",
       "4          44  2016.0             -4.00              0.0   \n",
       "...       ...     ...               ...              ...   \n",
       "21961  863212  2021.0              0.00              0.0   \n",
       "21962  863221  2021.0              0.00              0.0   \n",
       "21963  863244  2021.0              7.19              0.0   \n",
       "21964  863247  2021.0              0.00              0.0   \n",
       "21965  863343  2021.0              0.00              0.0   \n",
       "\n",
       "       ghg_change_structure  ghg_change_measure  ghg_change_othergroup  \\\n",
       "0                      0.00                 0.0                    0.0   \n",
       "1                      0.00                 0.0                  -25.0   \n",
       "2                      0.00                -1.0                  -17.0   \n",
       "3                      0.00                 0.0                  -29.0   \n",
       "4                      0.00                 0.0                   -4.0   \n",
       "...                     ...                 ...                    ...   \n",
       "21961                  0.00                 0.0                    0.0   \n",
       "21962                  0.00                 0.0                    0.0   \n",
       "21963                  7.19                 0.0                    0.0   \n",
       "21964                  0.00                 0.0                    0.0   \n",
       "21965                  0.00                 0.0                    0.0   \n",
       "\n",
       "       nonzero_categories_count  ghg_change_real_cat  ghg_change_real_cat_next  \n",
       "0                             1                    1                       0.0  \n",
       "1                             1                    0                       1.0  \n",
       "2                             3                    1                       0.0  \n",
       "3                             1                    0                       0.0  \n",
       "4                             1                    0                       1.0  \n",
       "...                         ...                  ...                       ...  \n",
       "21961                         0                    0                       0.0  \n",
       "21962                         0                    0                       0.0  \n",
       "21963                         1                    0                       1.0  \n",
       "21964                         0                    0                       1.0  \n",
       "21965                         0                    0                       0.0  \n",
       "\n",
       "[21966 rows x 10 columns]"
      ]
     },
     "execution_count": 51,
     "metadata": {},
     "output_type": "execute_result"
    }
   ],
   "source": [
    "cdp_ghg_change"
   ]
  },
  {
   "cell_type": "code",
   "execution_count": 40,
   "metadata": {},
   "outputs": [],
   "source": [
    "# Split the dataset into train and test sets\n",
    "train_data = cdp_ghg_change[cdp_ghg_change['year'] < 2021]\n",
    "test_data = cdp_ghg_change[cdp_ghg_change['year'] == 2021]\n",
    "\n",
    "# Define the features and target variable\n",
    "X_train = train_data.drop(columns=['ghg_change_real_cat_next', 'id'])\n",
    "y_train = train_data['ghg_change_real_cat_next']\n",
    "X_test = test_data.drop(columns=['ghg_change_real_cat_next', 'id'])\n",
    "y_test = test_data['ghg_change_real_cat_next']"
   ]
  },
  {
   "cell_type": "code",
   "execution_count": 41,
   "metadata": {},
   "outputs": [
    {
     "data": {
      "text/plain": [
       "9        0\n",
       "20       1\n",
       "21       0\n",
       "32       1\n",
       "37       0\n",
       "        ..\n",
       "21961    0\n",
       "21962    0\n",
       "21963    0\n",
       "21964    0\n",
       "21965    0\n",
       "Name: ghg_change_real_cat, Length: 4377, dtype: int64"
      ]
     },
     "execution_count": 41,
     "metadata": {},
     "output_type": "execute_result"
    }
   ],
   "source": [
    "X_test['ghg_change_real_cat']"
   ]
  },
  {
   "cell_type": "code",
   "execution_count": 42,
   "metadata": {},
   "outputs": [
    {
     "data": {
      "text/plain": [
       "78.91249714416266"
      ]
     },
     "execution_count": 42,
     "metadata": {},
     "output_type": "execute_result"
    }
   ],
   "source": [
    "(X_test['ghg_change_real_cat'] == y_test).mean() * 100"
   ]
  },
  {
   "cell_type": "code",
   "execution_count": 43,
   "metadata": {},
   "outputs": [
    {
     "data": {
      "text/plain": [
       "0.0"
      ]
     },
     "execution_count": 43,
     "metadata": {},
     "output_type": "execute_result"
    }
   ],
   "source": [
    "y_train.isna().mean()"
   ]
  },
  {
   "cell_type": "code",
   "execution_count": 44,
   "metadata": {},
   "outputs": [
    {
     "data": {
      "text/plain": [
       "ghg_change_real_cat_next\n",
       "1.0    0.67889\n",
       "0.0    0.32111\n",
       "Name: proportion, dtype: float64"
      ]
     },
     "execution_count": 44,
     "metadata": {},
     "output_type": "execute_result"
    }
   ],
   "source": [
    "y_train.value_counts(normalize=True)"
   ]
  },
  {
   "cell_type": "code",
   "execution_count": 45,
   "metadata": {},
   "outputs": [
    {
     "data": {
      "text/plain": [
       "ghg_change_real_cat_next\n",
       "0.0    0.528901\n",
       "1.0    0.471099\n",
       "Name: proportion, dtype: float64"
      ]
     },
     "execution_count": 45,
     "metadata": {},
     "output_type": "execute_result"
    }
   ],
   "source": [
    "y_test.value_counts(normalize=True)"
   ]
  },
  {
   "cell_type": "code",
   "execution_count": 46,
   "metadata": {},
   "outputs": [
    {
     "name": "stdout",
     "output_type": "stream",
     "text": [
      "Test Set Accuracy: 0.783641763765136\n"
     ]
    }
   ],
   "source": [
    "# Create a Random Forest classifier\n",
    "clf = RandomForestClassifier(n_jobs=-1, random_state=42)\n",
    "\n",
    "# Define a parameter grid for hyperparameter tuning\n",
    "param_grid = {\n",
    "    'n_estimators': [50, 100, 200],  # Number of trees in the forest\n",
    "    'max_depth': [None, 10, 20, 30],  # Maximum depth of each tree\n",
    "    'min_samples_split': [2, 5, 10],  # Minimum number of samples required to split an internal node\n",
    "    'min_samples_leaf': [1, 2, 4],  # Minimum number of samples required to be at a leaf node\n",
    "}\n",
    "\n",
    "# Perform cross-validation and hyperparameter tuning\n",
    "grid_search = GridSearchCV(clf, param_grid, cv=5, n_jobs=-1)\n",
    "grid_search.fit(X_train, y_train)\n",
    "\n",
    "# Get the best estimator from the grid search\n",
    "best_clf = grid_search.best_estimator_\n",
    "\n",
    "# Predict on the test set using the best estimator\n",
    "y_pred = best_clf.predict(X_test)\n",
    "\n",
    "# Calculate and print accuracy on the test set\n",
    "accuracy = accuracy_score(y_test, y_pred)\n",
    "print(\"Test Set Accuracy:\", accuracy)"
   ]
  },
  {
   "cell_type": "code",
   "execution_count": 47,
   "metadata": {},
   "outputs": [
    {
     "name": "stdout",
     "output_type": "stream",
     "text": [
      "Training set accuracy: 0.793\n"
     ]
    }
   ],
   "source": [
    "# print training and test set accuracy\n",
    "print(\"Training set accuracy: {:.3f}\".format(best_clf.score(X_train, y_train)))"
   ]
  },
  {
   "cell_type": "code",
   "execution_count": 48,
   "metadata": {},
   "outputs": [
    {
     "name": "stdout",
     "output_type": "stream",
     "text": [
      "Best parameters: {'max_depth': 10, 'min_samples_leaf': 2, 'min_samples_split': 5, 'n_estimators': 100}\n"
     ]
    }
   ],
   "source": [
    "# print best parameters\n",
    "print(\"Best parameters: {}\".format(grid_search.best_params_))"
   ]
  },
  {
   "cell_type": "code",
   "execution_count": 52,
   "metadata": {},
   "outputs": [
    {
     "data": {
      "image/png": "[encoded data removed]",
      "text/plain": [
       "<Figure size 1000x500 with 1 Axes>"
      ]
     },
     "metadata": {},
     "output_type": "display_data"
    },
    {
     "name": "stdout",
     "output_type": "stream",
     "text": [
      "Best Hyperparameters: {'max_depth': 10, 'min_samples_leaf': 2, 'min_samples_split': 5, 'n_estimators': 100}\n"
     ]
    }
   ],
   "source": [
    "# Get feature importances using the best estimator\n",
    "importances = best_clf.feature_importances_\n",
    "features = X_train.columns\n",
    "indices = np.argsort(importances)[::-1]\n",
    "\n",
    "# Plot the top 10 feature importances\n",
    "top_n = 5\n",
    "plt.figure(figsize=(10, 5))\n",
    "plt.title(f\"Top {top_n} Feature Importances\")\n",
    "plt.bar(range(top_n), importances[indices[:top_n]], align=\"center\")\n",
    "plt.xticks(range(top_n), [features[i] for i in indices[:top_n]], rotation=45)\n",
    "plt.tight_layout()\n",
    "plt.show()\n",
    "\n",
    "# Print the best hyperparameters\n",
    "print(\"Best Hyperparameters:\", grid_search.best_params_)"
   ]
  },
  {
   "cell_type": "code",
   "execution_count": 53,
   "metadata": {},
   "outputs": [
    {
     "data": {
      "text/plain": [
       "ghg_change_real_cat_next\n",
       "0.0    2315\n",
       "1.0    2062\n",
       "Name: count, dtype: int64"
      ]
     },
     "execution_count": 53,
     "metadata": {},
     "output_type": "execute_result"
    }
   ],
   "source": [
    "y_test.value_counts()"
   ]
  },
  {
   "cell_type": "code",
   "execution_count": 55,
   "metadata": {},
   "outputs": [
    {
     "data": {
      "image/png": "[encoded data removed]",
      "text/plain": [
       "<Figure size 640x480 with 1 Axes>"
      ]
     },
     "metadata": {},
     "output_type": "display_data"
    }
   ],
   "source": [
    "from sklearn.metrics import RocCurveDisplay\n",
    "from sklearn.metrics import roc_curve, auc\n",
    "\n",
    "# Get predicted probabilities for the positive class\n",
    "y_prob = best_clf.predict_proba(X_test)[:, 1]\n",
    "\n",
    "# Get false positive rate and true positive rate\n",
    "fpr, tpr, _ = roc_curve(y_test, y_prob, pos_label=1)\n",
    "\n",
    "# Get area under the curve\n",
    "roc_auc = auc(fpr, tpr)\n",
    "\n",
    "# Plot ROC curve\n",
    "roc_display = RocCurveDisplay(fpr=fpr, tpr=tpr, roc_auc=roc_auc, estimator_name='Random Forest')\n",
    "roc_display.plot()\n",
    "# diplay a diagonal line\n",
    "plt.plot([0, 1], [0, 1], color='navy', linestyle='--')\n",
    "plt.title('ROC Curve')\n",
    "plt.show()"
   ]
  },
  {
   "cell_type": "code",
   "execution_count": 56,
   "metadata": {},
   "outputs": [
    {
     "name": "stdout",
     "output_type": "stream",
     "text": [
      "Optimal Threshold: 0.582\n"
     ]
    }
   ],
   "source": [
    "# calculate fpr and trp for treshold 0.5\n",
    "fpr, tpr, thresholds = roc_curve(y_test, y_prob, pos_label=1)\n",
    "# calculate optimal treshold\n",
    "optimal_idx = np.argmax(tpr - fpr)\n",
    "optimal_threshold = thresholds[optimal_idx]\n",
    "print(\"Optimal Threshold: {:.3f}\".format(optimal_threshold))"
   ]
  },
  {
   "cell_type": "code",
   "execution_count": 57,
   "metadata": {},
   "outputs": [
    {
     "name": "stdout",
     "output_type": "stream",
     "text": [
      "Test Set Accuracy: 0.787\n"
     ]
    }
   ],
   "source": [
    "# calculate accuracy for treshold 0.433\n",
    "y_pred = np.where(y_prob > optimal_threshold, 1, 0)\n",
    "accuracy = accuracy_score(y_test, y_pred)\n",
    "print(\"Test Set Accuracy: {:.3f}\".format(accuracy))"
   ]
  },
  {
   "cell_type": "code",
   "execution_count": 58,
   "metadata": {},
   "outputs": [
    {
     "data": {
      "text/plain": [
       "array([0, 1, 0, ..., 0, 0, 0])"
      ]
     },
     "execution_count": 58,
     "metadata": {},
     "output_type": "execute_result"
    }
   ],
   "source": [
    "y_pred"
   ]
  },
  {
   "cell_type": "code",
   "execution_count": 62,
   "metadata": {},
   "outputs": [
    {
     "name": "stdout",
     "output_type": "stream",
     "text": [
      "                              Logit Regression Results                              \n",
      "====================================================================================\n",
      "Dep. Variable:     ghg_change_real_cat_next   No. Observations:                17589\n",
      "Model:                                Logit   Df Residuals:                    17587\n",
      "Method:                                 MLE   Df Model:                            1\n",
      "Date:                      Sun, 19 Nov 2023   Pseudo R-squ.:                0.001292\n",
      "Time:                              16:31:01   Log-Likelihood:                -11026.\n",
      "converged:                             True   LL-Null:                       -11041.\n",
      "Covariance Type:                  nonrobust   LLR p-value:                 9.266e-08\n",
      "====================================================================================\n",
      "                       coef    std err          z      P>|z|      [0.025      0.975]\n",
      "------------------------------------------------------------------------------------\n",
      "const                0.7505      0.016     46.415      0.000       0.719       0.782\n",
      "ghg_change_total    -0.0019      0.000     -5.215      0.000      -0.003      -0.001\n",
      "====================================================================================\n",
      "Added ghg_change_real_cat with new accuracy: 0.7891249714416266\n",
      "                              Logit Regression Results                              \n",
      "====================================================================================\n",
      "Dep. Variable:     ghg_change_real_cat_next   No. Observations:                17589\n",
      "Model:                                Logit   Df Residuals:                    17586\n",
      "Method:                                 MLE   Df Model:                            2\n",
      "Date:                      Sun, 19 Nov 2023   Pseudo R-squ.:                  0.1852\n",
      "Time:                              16:31:01   Log-Likelihood:                -8996.2\n",
      "converged:                             True   LL-Null:                       -11041.\n",
      "Covariance Type:                  nonrobust   LLR p-value:                     0.000\n",
      "=======================================================================================\n",
      "                          coef    std err          z      P>|z|      [0.025      0.975]\n",
      "---------------------------------------------------------------------------------------\n",
      "const                  -0.4781      0.026    -18.555      0.000      -0.529      -0.428\n",
      "ghg_change_real_cat     2.2395      0.038     59.458      0.000       2.166       2.313\n",
      "ghg_change_total        0.0022      0.000      5.165      0.000       0.001       0.003\n",
      "=======================================================================================\n",
      "Added nonzero_categories_count with new accuracy: 0.7909527073337903\n",
      "                              Logit Regression Results                              \n",
      "====================================================================================\n",
      "Dep. Variable:     ghg_change_real_cat_next   No. Observations:                17589\n",
      "Model:                                Logit   Df Residuals:                    17585\n",
      "Method:                                 MLE   Df Model:                            3\n",
      "Date:                      Sun, 19 Nov 2023   Pseudo R-squ.:                  0.2069\n",
      "Time:                              16:31:01   Log-Likelihood:                -8756.8\n",
      "converged:                             True   LL-Null:                       -11041.\n",
      "Covariance Type:                  nonrobust   LLR p-value:                     0.000\n",
      "============================================================================================\n",
      "                               coef    std err          z      P>|z|      [0.025      0.975]\n",
      "--------------------------------------------------------------------------------------------\n",
      "const                       -0.8247      0.031    -26.476      0.000      -0.886      -0.764\n",
      "ghg_change_real_cat          1.6702      0.045     37.325      0.000       1.582       1.758\n",
      "nonzero_categories_count     0.3795      0.018     20.749      0.000       0.344       0.415\n",
      "ghg_change_total             0.0012      0.000      2.816      0.005       0.000       0.002\n",
      "============================================================================================\n",
      "Added ghg_change_real with new accuracy: 0.7911811743203108\n",
      "                              Logit Regression Results                              \n",
      "====================================================================================\n",
      "Dep. Variable:     ghg_change_real_cat_next   No. Observations:                17589\n",
      "Model:                                Logit   Df Residuals:                    17584\n",
      "Method:                                 MLE   Df Model:                            4\n",
      "Date:                      Sun, 19 Nov 2023   Pseudo R-squ.:                  0.2079\n",
      "Time:                              16:31:02   Log-Likelihood:                -8745.2\n",
      "converged:                             True   LL-Null:                       -11041.\n",
      "Covariance Type:                  nonrobust   LLR p-value:                     0.000\n",
      "============================================================================================\n",
      "                               coef    std err          z      P>|z|      [0.025      0.975]\n",
      "--------------------------------------------------------------------------------------------\n",
      "const                       -0.8186      0.031    -26.285      0.000      -0.880      -0.758\n",
      "ghg_change_real_cat          1.7180      0.046     37.324      0.000       1.628       1.808\n",
      "nonzero_categories_count     0.3757      0.018     20.504      0.000       0.340       0.412\n",
      "ghg_change_real              0.0051      0.001      4.676      0.000       0.003       0.007\n",
      "ghg_change_total             0.0004      0.000      0.913      0.361      -0.000       0.001\n",
      "============================================================================================\n",
      "Added year with new accuracy: 0.7884395704820654\n",
      "                              Logit Regression Results                              \n",
      "====================================================================================\n",
      "Dep. Variable:     ghg_change_real_cat_next   No. Observations:                17589\n",
      "Model:                                Logit   Df Residuals:                    17583\n",
      "Method:                                 MLE   Df Model:                            5\n",
      "Date:                      Sun, 19 Nov 2023   Pseudo R-squ.:                  0.2087\n",
      "Time:                              16:31:02   Log-Likelihood:                -8736.7\n",
      "converged:                             True   LL-Null:                       -11041.\n",
      "Covariance Type:                  nonrobust   LLR p-value:                     0.000\n",
      "============================================================================================\n",
      "                               coef    std err          z      P>|z|      [0.025      0.975]\n",
      "--------------------------------------------------------------------------------------------\n",
      "const                      -55.0648     13.145     -4.189      0.000     -80.829     -29.301\n",
      "ghg_change_real_cat          1.7146      0.046     37.232      0.000       1.624       1.805\n",
      "nonzero_categories_count     0.3638      0.019     19.627      0.000       0.327       0.400\n",
      "ghg_change_real              0.0051      0.001      4.653      0.000       0.003       0.007\n",
      "year                         0.0269      0.007      4.127      0.000       0.014       0.040\n",
      "ghg_change_total             0.0005      0.000      1.091      0.275      -0.000       0.001\n",
      "============================================================================================\n"
     ]
    }
   ],
   "source": [
    "import statsmodels.api as sm\n",
    "from sklearn.metrics import accuracy_score\n",
    "import pandas as pd\n",
    "import numpy as np\n",
    "\n",
    "\n",
    "def stepwise_forward_selection(X_train, y_train, X_test, y_test):\n",
    "    included = []\n",
    "    accuracy_scores = []\n",
    "    while True:\n",
    "        changed = False\n",
    "        excluded = list(set(X_train.columns) - set(included))\n",
    "        new_accuracy = 0\n",
    "        new_feature = None\n",
    "        for new_column in excluded:\n",
    "            model = sm.Logit(y_train, sm.add_constant(X_train[included + [new_column]])).fit(disp=0, maxiter=100)\n",
    "            p_values = model.pvalues[1:]  # we are not interested in the p-value of the intercept\n",
    "            if max(p_values) < 0.05:  # using p-value < 0.05 as the criterion to include a variable\n",
    "                # Add a constant to the test data\n",
    "                X_test_with_const = sm.add_constant(X_test[included + [new_column]], has_constant='add')\n",
    "                y_pred = model.predict(X_test_with_const)\n",
    "                y_pred = (y_pred > 0.5).astype(int)  # using 0.5 as the cutoff for classification\n",
    "                accuracy = accuracy_score(y_test, y_pred)\n",
    "                if accuracy > new_accuracy:\n",
    "                    new_accuracy = accuracy\n",
    "                    new_feature = new_column\n",
    "                    changed = True\n",
    "        print(model.summary())\n",
    "        if changed:\n",
    "            included.append(new_feature)\n",
    "            accuracy_scores.append(new_accuracy)\n",
    "            print(f'Added {new_feature} with new accuracy: {new_accuracy}')\n",
    "        else:\n",
    "            # No new features improve the model, so we stop here\n",
    "            break\n",
    "\n",
    "    return included, accuracy_scores\n",
    "\n",
    "# Run the function with the mock data\n",
    "included_features, accuracy_scores = stepwise_forward_selection(X_train, y_train, X_test, y_test)"
   ]
  },
  {
   "cell_type": "code",
   "execution_count": 63,
   "metadata": {},
   "outputs": [
    {
     "data": {
      "image/png": "[encoded data removed]",
      "text/plain": [
       "<Figure size 640x480 with 1 Axes>"
      ]
     },
     "metadata": {},
     "output_type": "display_data"
    }
   ],
   "source": [
    "# plot the accuracy score for each iteration\n",
    "plt.plot(range(1, len(accuracy_scores) + 1), np.multiply(accuracy_scores, 100))\n",
    "plt.xlabel('Number of Features')\n",
    "plt.ylabel('Accuracy Score')\n",
    "plt.show()"
   ]
  }
 ],
 "metadata": {
  "kernelspec": {
   "display_name": "thesis_project",
   "language": "python",
   "name": "python3"
  },
  "language_info": {
   "codemirror_mode": {
    "name": "ipython",
    "version": 3
   },
   "file_extension": ".py",
   "mimetype": "text/x-python",
   "name": "python",
   "nbconvert_exporter": "python",
   "pygments_lexer": "ipython3",
   "version": "3.12.0"
  }
 },
 "nbformat": 4,
 "nbformat_minor": 2
}
