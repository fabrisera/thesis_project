{
 "cells": [
  {
   "cell_type": "markdown",
   "metadata": {},
   "source": [
    "`Ghg emissions intensity - done`\n",
    "\n",
    "Questions:\n",
    "- do i need to standardize the currency? (i.e. convert to USD)\n",
    "- I am dropping ghg2_based_on because it is not making a siginicant difference\n",
    "- Note that revenue is the denominator, that is the total revenue adjusted to USD\n",
    "- I am keeping ghg_int_change which is the change in intensity and should be a comparable metric to benchmark"
   ]
  },
  {
   "cell_type": "code",
   "execution_count": 1,
   "metadata": {},
   "outputs": [
    {
     "name": "stderr",
     "output_type": "stream",
     "text": [
      "/var/folders/z7/jmcsyl9x47zdw6n1xd2_16jh0000gn/T/ipykernel_38419/2011421623.py:1: DeprecationWarning: \n",
      "Pyarrow will become a required dependency of pandas in the next major release of pandas (pandas 3.0),\n",
      "(to allow more performant data types, such as the Arrow string type, and better interoperability with other libraries)\n",
      "but was not found to be installed on your system.\n",
      "If this would cause problems for you,\n",
      "please provide us feedback at https://github.com/pandas-dev/pandas/issues/54466\n",
      "        \n",
      "  import pandas as pd\n"
     ]
    }
   ],
   "source": [
    "import pandas as pd\n",
    "import seaborn as sns\n",
    "import matplotlib.pyplot as plt\n",
    "import numpy as np"
   ]
  },
  {
   "cell_type": "code",
   "execution_count": 2,
   "metadata": {},
   "outputs": [
    {
     "data": {
      "text/html": [
       "<div>\n",
       "<style scoped>\n",
       "    .dataframe tbody tr th:only-of-type {\n",
       "        vertical-align: middle;\n",
       "    }\n",
       "\n",
       "    .dataframe tbody tr th {\n",
       "        vertical-align: top;\n",
       "    }\n",
       "\n",
       "    .dataframe thead th {\n",
       "        text-align: right;\n",
       "    }\n",
       "</style>\n",
       "<table border=\"1\" class=\"dataframe\">\n",
       "  <thead>\n",
       "    <tr style=\"text-align: right;\">\n",
       "      <th></th>\n",
       "      <th>id</th>\n",
       "      <th>year</th>\n",
       "      <th>ghg_int_figure</th>\n",
       "      <th>ghg2_based_on</th>\n",
       "      <th>ghg_int_revenue</th>\n",
       "      <th>ghg_int_change</th>\n",
       "      <th>ghg_int_reason</th>\n",
       "      <th>cdp_currency</th>\n",
       "      <th>currency_ex</th>\n",
       "    </tr>\n",
       "  </thead>\n",
       "  <tbody>\n",
       "    <tr>\n",
       "      <th>0</th>\n",
       "      <td>44</td>\n",
       "      <td>2014.0</td>\n",
       "      <td>1.870000e+00</td>\n",
       "      <td></td>\n",
       "      <td>NaN</td>\n",
       "      <td>-29.0</td>\n",
       "      <td>We have reduced staff numbers, closed offices ...</td>\n",
       "      <td>GBP</td>\n",
       "      <td>1.6700</td>\n",
       "    </tr>\n",
       "    <tr>\n",
       "      <th>1</th>\n",
       "      <td>44</td>\n",
       "      <td>2016.0</td>\n",
       "      <td>6.500000e+00</td>\n",
       "      <td>location</td>\n",
       "      <td>2.240271e+02</td>\n",
       "      <td>-11.0</td>\n",
       "      <td>For the purposes of this question, our chosen ...</td>\n",
       "      <td>GBP</td>\n",
       "      <td>1.3101</td>\n",
       "    </tr>\n",
       "    <tr>\n",
       "      <th>2</th>\n",
       "      <td>44</td>\n",
       "      <td>2017.0</td>\n",
       "      <td>2.000000e-07</td>\n",
       "      <td>market</td>\n",
       "      <td>2.061958e+09</td>\n",
       "      <td>-76.0</td>\n",
       "      <td>The main reason for the decrease in emissions ...</td>\n",
       "      <td>GBP</td>\n",
       "      <td>1.2952</td>\n",
       "    </tr>\n",
       "    <tr>\n",
       "      <th>3</th>\n",
       "      <td>44</td>\n",
       "      <td>2018.0</td>\n",
       "      <td>0.000000e+00</td>\n",
       "      <td>location</td>\n",
       "      <td>1.835115e+09</td>\n",
       "      <td>129.0</td>\n",
       "      <td>Intensity figure entered as zero here due to l...</td>\n",
       "      <td>GBP</td>\n",
       "      <td>1.2878</td>\n",
       "    </tr>\n",
       "    <tr>\n",
       "      <th>4</th>\n",
       "      <td>53</td>\n",
       "      <td>2011.0</td>\n",
       "      <td>5.064000e-05</td>\n",
       "      <td></td>\n",
       "      <td>NaN</td>\n",
       "      <td>-12.0</td>\n",
       "      <td>The total CO2 emissions derived from abertis’s...</td>\n",
       "      <td>EUR</td>\n",
       "      <td>NaN</td>\n",
       "    </tr>\n",
       "  </tbody>\n",
       "</table>\n",
       "</div>"
      ],
      "text/plain": [
       "   id    year  ghg_int_figure ghg2_based_on  ghg_int_revenue  ghg_int_change  \\\n",
       "0  44  2014.0    1.870000e+00                            NaN           -29.0   \n",
       "1  44  2016.0    6.500000e+00      location     2.240271e+02           -11.0   \n",
       "2  44  2017.0    2.000000e-07        market     2.061958e+09           -76.0   \n",
       "3  44  2018.0    0.000000e+00      location     1.835115e+09           129.0   \n",
       "4  53  2011.0    5.064000e-05                            NaN           -12.0   \n",
       "\n",
       "                                      ghg_int_reason cdp_currency  currency_ex  \n",
       "0  We have reduced staff numbers, closed offices ...          GBP       1.6700  \n",
       "1  For the purposes of this question, our chosen ...          GBP       1.3101  \n",
       "2  The main reason for the decrease in emissions ...          GBP       1.2952  \n",
       "3  Intensity figure entered as zero here due to l...          GBP       1.2878  \n",
       "4  The total CO2 emissions derived from abertis’s...          EUR          NaN  "
      ]
     },
     "execution_count": 2,
     "metadata": {},
     "output_type": "execute_result"
    }
   ],
   "source": [
    "df = pd.read_stata(\"../../data/CDP Cleaning/cleaned outputs/cdp_ghg_int.dta\")\n",
    "df.head()"
   ]
  },
  {
   "cell_type": "code",
   "execution_count": 3,
   "metadata": {},
   "outputs": [
    {
     "data": {
      "text/plain": [
       "(23617, 9)"
      ]
     },
     "execution_count": 3,
     "metadata": {},
     "output_type": "execute_result"
    }
   ],
   "source": [
    "df.shape"
   ]
  },
  {
   "cell_type": "code",
   "execution_count": 4,
   "metadata": {},
   "outputs": [
    {
     "data": {
      "text/plain": [
       "Index(['id', 'year', 'ghg_int_figure', 'ghg2_based_on', 'ghg_int_revenue',\n",
       "       'ghg_int_change', 'ghg_int_reason', 'cdp_currency', 'currency_ex'],\n",
       "      dtype='object')"
      ]
     },
     "execution_count": 4,
     "metadata": {},
     "output_type": "execute_result"
    }
   ],
   "source": [
    "df.columns"
   ]
  },
  {
   "cell_type": "code",
   "execution_count": 5,
   "metadata": {},
   "outputs": [
    {
     "data": {
      "text/plain": [
       "ghg2_based_on\n",
       "location    10179\n",
       "             7765\n",
       "market       5673\n",
       "Name: count, dtype: int64"
      ]
     },
     "execution_count": 5,
     "metadata": {},
     "output_type": "execute_result"
    }
   ],
   "source": [
    "df['ghg2_based_on'].value_counts()"
   ]
  },
  {
   "cell_type": "code",
   "execution_count": 6,
   "metadata": {},
   "outputs": [
    {
     "data": {
      "text/html": [
       "<div>\n",
       "<style scoped>\n",
       "    .dataframe tbody tr th:only-of-type {\n",
       "        vertical-align: middle;\n",
       "    }\n",
       "\n",
       "    .dataframe tbody tr th {\n",
       "        vertical-align: top;\n",
       "    }\n",
       "\n",
       "    .dataframe thead th {\n",
       "        text-align: right;\n",
       "    }\n",
       "</style>\n",
       "<table border=\"1\" class=\"dataframe\">\n",
       "  <thead>\n",
       "    <tr style=\"text-align: right;\">\n",
       "      <th></th>\n",
       "      <th>id</th>\n",
       "      <th>year</th>\n",
       "      <th>ghg_int_figure</th>\n",
       "      <th>ghg2_based_on</th>\n",
       "      <th>ghg_int_revenue</th>\n",
       "      <th>ghg_int_change</th>\n",
       "      <th>ghg_int_reason</th>\n",
       "      <th>cdp_currency</th>\n",
       "      <th>currency_ex</th>\n",
       "    </tr>\n",
       "  </thead>\n",
       "  <tbody>\n",
       "    <tr>\n",
       "      <th>1250</th>\n",
       "      <td>1115</td>\n",
       "      <td>2011.0</td>\n",
       "      <td>5.370000e-07</td>\n",
       "      <td></td>\n",
       "      <td>NaN</td>\n",
       "      <td>-0.58</td>\n",
       "      <td></td>\n",
       "      <td>NOK</td>\n",
       "      <td>NaN</td>\n",
       "    </tr>\n",
       "    <tr>\n",
       "      <th>1251</th>\n",
       "      <td>1115</td>\n",
       "      <td>2012.0</td>\n",
       "      <td>5.000000e-07</td>\n",
       "      <td></td>\n",
       "      <td>NaN</td>\n",
       "      <td>-4.20</td>\n",
       "      <td>This reduction is largely due to implemented a...</td>\n",
       "      <td>NOK</td>\n",
       "      <td>0.169457</td>\n",
       "    </tr>\n",
       "    <tr>\n",
       "      <th>1252</th>\n",
       "      <td>1115</td>\n",
       "      <td>2013.0</td>\n",
       "      <td>5.000000e-07</td>\n",
       "      <td></td>\n",
       "      <td>NaN</td>\n",
       "      <td>4.00</td>\n",
       "      <td>The increase of tonnes CO2 emissions per total...</td>\n",
       "      <td>NOK</td>\n",
       "      <td>0.167569</td>\n",
       "    </tr>\n",
       "    <tr>\n",
       "      <th>1253</th>\n",
       "      <td>1115</td>\n",
       "      <td>2014.0</td>\n",
       "      <td>5.000000e-07</td>\n",
       "      <td></td>\n",
       "      <td>NaN</td>\n",
       "      <td>-1.10</td>\n",
       "      <td>This reduction is mainly due to implemented ac...</td>\n",
       "      <td>NOK</td>\n",
       "      <td>0.161460</td>\n",
       "    </tr>\n",
       "    <tr>\n",
       "      <th>1254</th>\n",
       "      <td>1115</td>\n",
       "      <td>2015.0</td>\n",
       "      <td>5.000000e-07</td>\n",
       "      <td></td>\n",
       "      <td>NaN</td>\n",
       "      <td>-7.00</td>\n",
       "      <td></td>\n",
       "      <td>NOK</td>\n",
       "      <td>0.121177</td>\n",
       "    </tr>\n",
       "    <tr>\n",
       "      <th>1255</th>\n",
       "      <td>1115</td>\n",
       "      <td>2016.0</td>\n",
       "      <td>2.600000e-07</td>\n",
       "      <td>location</td>\n",
       "      <td>4.069318e+09</td>\n",
       "      <td>-12.00</td>\n",
       "      <td>The reason for change in current intensity fig...</td>\n",
       "      <td>NOK</td>\n",
       "      <td>0.120469</td>\n",
       "    </tr>\n",
       "    <tr>\n",
       "      <th>1256</th>\n",
       "      <td>1115</td>\n",
       "      <td>2017.0</td>\n",
       "      <td>3.100000e-07</td>\n",
       "      <td>market</td>\n",
       "      <td>4.528111e+09</td>\n",
       "      <td>-24.30</td>\n",
       "      <td>Decrease in current KPI value was caused by em...</td>\n",
       "      <td>NOK</td>\n",
       "      <td>0.126767</td>\n",
       "    </tr>\n",
       "    <tr>\n",
       "      <th>1257</th>\n",
       "      <td>1115</td>\n",
       "      <td>2018.0</td>\n",
       "      <td>1.000000e-06</td>\n",
       "      <td>market</td>\n",
       "      <td>4.523598e+09</td>\n",
       "      <td>14.90</td>\n",
       "      <td>The reason for change in current KPI value is ...</td>\n",
       "      <td>NOK</td>\n",
       "      <td>0.119907</td>\n",
       "    </tr>\n",
       "    <tr>\n",
       "      <th>1258</th>\n",
       "      <td>1115</td>\n",
       "      <td>2019.0</td>\n",
       "      <td>3.950000e-07</td>\n",
       "      <td>market</td>\n",
       "      <td>3.871223e+09</td>\n",
       "      <td>-1.00</td>\n",
       "      <td>The reason for the decrease in the current KPI...</td>\n",
       "      <td>NOK</td>\n",
       "      <td>0.111534</td>\n",
       "    </tr>\n",
       "    <tr>\n",
       "      <th>1259</th>\n",
       "      <td>1115</td>\n",
       "      <td>2020.0</td>\n",
       "      <td>2.500000e-07</td>\n",
       "      <td>market</td>\n",
       "      <td>4.099103e+09</td>\n",
       "      <td>-38.00</td>\n",
       "      <td>The KPI value has decreased due to around 8% i...</td>\n",
       "      <td>NOK</td>\n",
       "      <td>0.111829</td>\n",
       "    </tr>\n",
       "    <tr>\n",
       "      <th>1260</th>\n",
       "      <td>1115</td>\n",
       "      <td>2021.0</td>\n",
       "      <td>1.800000e-07</td>\n",
       "      <td>market</td>\n",
       "      <td>5.179370e+09</td>\n",
       "      <td>-13.70</td>\n",
       "      <td>The reason for change ...........................</td>\n",
       "      <td>NOK</td>\n",
       "      <td>0.113017</td>\n",
       "    </tr>\n",
       "    <tr>\n",
       "      <th>1261</th>\n",
       "      <td>1115</td>\n",
       "      <td>2022.0</td>\n",
       "      <td>1.290000e-01</td>\n",
       "      <td>market</td>\n",
       "      <td>4.999794e+03</td>\n",
       "      <td>-41.00</td>\n",
       "      <td>Atea has increased purchases for renewable ene...</td>\n",
       "      <td>NOK</td>\n",
       "      <td>0.102984</td>\n",
       "    </tr>\n",
       "  </tbody>\n",
       "</table>\n",
       "</div>"
      ],
      "text/plain": [
       "        id    year  ghg_int_figure ghg2_based_on  ghg_int_revenue  \\\n",
       "1250  1115  2011.0    5.370000e-07                            NaN   \n",
       "1251  1115  2012.0    5.000000e-07                            NaN   \n",
       "1252  1115  2013.0    5.000000e-07                            NaN   \n",
       "1253  1115  2014.0    5.000000e-07                            NaN   \n",
       "1254  1115  2015.0    5.000000e-07                            NaN   \n",
       "1255  1115  2016.0    2.600000e-07      location     4.069318e+09   \n",
       "1256  1115  2017.0    3.100000e-07        market     4.528111e+09   \n",
       "1257  1115  2018.0    1.000000e-06        market     4.523598e+09   \n",
       "1258  1115  2019.0    3.950000e-07        market     3.871223e+09   \n",
       "1259  1115  2020.0    2.500000e-07        market     4.099103e+09   \n",
       "1260  1115  2021.0    1.800000e-07        market     5.179370e+09   \n",
       "1261  1115  2022.0    1.290000e-01        market     4.999794e+03   \n",
       "\n",
       "      ghg_int_change                                     ghg_int_reason  \\\n",
       "1250           -0.58                                                      \n",
       "1251           -4.20  This reduction is largely due to implemented a...   \n",
       "1252            4.00  The increase of tonnes CO2 emissions per total...   \n",
       "1253           -1.10  This reduction is mainly due to implemented ac...   \n",
       "1254           -7.00                                                      \n",
       "1255          -12.00  The reason for change in current intensity fig...   \n",
       "1256          -24.30  Decrease in current KPI value was caused by em...   \n",
       "1257           14.90  The reason for change in current KPI value is ...   \n",
       "1258           -1.00  The reason for the decrease in the current KPI...   \n",
       "1259          -38.00  The KPI value has decreased due to around 8% i...   \n",
       "1260          -13.70  The reason for change ...........................   \n",
       "1261          -41.00  Atea has increased purchases for renewable ene...   \n",
       "\n",
       "     cdp_currency  currency_ex  \n",
       "1250          NOK          NaN  \n",
       "1251          NOK     0.169457  \n",
       "1252          NOK     0.167569  \n",
       "1253          NOK     0.161460  \n",
       "1254          NOK     0.121177  \n",
       "1255          NOK     0.120469  \n",
       "1256          NOK     0.126767  \n",
       "1257          NOK     0.119907  \n",
       "1258          NOK     0.111534  \n",
       "1259          NOK     0.111829  \n",
       "1260          NOK     0.113017  \n",
       "1261          NOK     0.102984  "
      ]
     },
     "execution_count": 6,
     "metadata": {},
     "output_type": "execute_result"
    }
   ],
   "source": [
    "df[df['id'] == 1115]"
   ]
  },
  {
   "cell_type": "code",
   "execution_count": 7,
   "metadata": {},
   "outputs": [],
   "source": [
    "# count duplicate id, year rows\n",
    "temp = df[df.duplicated(subset=['id', 'year'], keep=False)]\n",
    "rows_to_drop = temp.loc[temp['ghg2_based_on'] == 'market']"
   ]
  },
  {
   "cell_type": "code",
   "execution_count": 8,
   "metadata": {},
   "outputs": [
    {
     "data": {
      "text/html": [
       "<div>\n",
       "<style scoped>\n",
       "    .dataframe tbody tr th:only-of-type {\n",
       "        vertical-align: middle;\n",
       "    }\n",
       "\n",
       "    .dataframe tbody tr th {\n",
       "        vertical-align: top;\n",
       "    }\n",
       "\n",
       "    .dataframe thead th {\n",
       "        text-align: right;\n",
       "    }\n",
       "</style>\n",
       "<table border=\"1\" class=\"dataframe\">\n",
       "  <thead>\n",
       "    <tr style=\"text-align: right;\">\n",
       "      <th></th>\n",
       "      <th>id</th>\n",
       "      <th>year</th>\n",
       "      <th>ghg_int_figure</th>\n",
       "      <th>ghg2_based_on</th>\n",
       "      <th>ghg_int_revenue</th>\n",
       "      <th>ghg_int_change</th>\n",
       "      <th>ghg_int_reason</th>\n",
       "      <th>cdp_currency</th>\n",
       "      <th>currency_ex</th>\n",
       "    </tr>\n",
       "  </thead>\n",
       "  <tbody>\n",
       "    <tr>\n",
       "      <th>150</th>\n",
       "      <td>220</td>\n",
       "      <td>2019.0</td>\n",
       "      <td>4.015000e-06</td>\n",
       "      <td>market</td>\n",
       "      <td>2.656158e+10</td>\n",
       "      <td>2.30</td>\n",
       "      <td>The increase can be explained by a change in m...</td>\n",
       "      <td>EUR</td>\n",
       "      <td>1.1129</td>\n",
       "    </tr>\n",
       "    <tr>\n",
       "      <th>151</th>\n",
       "      <td>220</td>\n",
       "      <td>2019.0</td>\n",
       "      <td>4.130000e-06</td>\n",
       "      <td>location</td>\n",
       "      <td>2.656158e+10</td>\n",
       "      <td>NaN</td>\n",
       "      <td>Please note there has been a change in methodo...</td>\n",
       "      <td>EUR</td>\n",
       "      <td>1.1129</td>\n",
       "    </tr>\n",
       "    <tr>\n",
       "      <th>152</th>\n",
       "      <td>220</td>\n",
       "      <td>2020.0</td>\n",
       "      <td>3.699000e-06</td>\n",
       "      <td>market</td>\n",
       "      <td>2.771648e+10</td>\n",
       "      <td>-7.88</td>\n",
       "      <td>While the unit total revenue remained almost u...</td>\n",
       "      <td>EUR</td>\n",
       "      <td>1.1831</td>\n",
       "    </tr>\n",
       "    <tr>\n",
       "      <th>153</th>\n",
       "      <td>220</td>\n",
       "      <td>2020.0</td>\n",
       "      <td>3.802400e-06</td>\n",
       "      <td>location</td>\n",
       "      <td>2.771648e+10</td>\n",
       "      <td>-7.94</td>\n",
       "      <td>While the unit total revenue remained almost u...</td>\n",
       "      <td>EUR</td>\n",
       "      <td>1.1831</td>\n",
       "    </tr>\n",
       "    <tr>\n",
       "      <th>154</th>\n",
       "      <td>220</td>\n",
       "      <td>2021.0</td>\n",
       "      <td>3.037500e-06</td>\n",
       "      <td>location</td>\n",
       "      <td>2.301743e+10</td>\n",
       "      <td>-20.12</td>\n",
       "      <td>Less consumption of fuel, electricity and heat...</td>\n",
       "      <td>EUR</td>\n",
       "      <td>1.1767</td>\n",
       "    </tr>\n",
       "    <tr>\n",
       "      <th>...</th>\n",
       "      <td>...</td>\n",
       "      <td>...</td>\n",
       "      <td>...</td>\n",
       "      <td>...</td>\n",
       "      <td>...</td>\n",
       "      <td>...</td>\n",
       "      <td>...</td>\n",
       "      <td>...</td>\n",
       "      <td>...</td>\n",
       "    </tr>\n",
       "    <tr>\n",
       "      <th>23362</th>\n",
       "      <td>876128</td>\n",
       "      <td>2022.0</td>\n",
       "      <td>7.170000e-07</td>\n",
       "      <td>market</td>\n",
       "      <td>7.426901e+07</td>\n",
       "      <td>NaN</td>\n",
       "      <td>In 2022 GOG established a 2019 GHG baseline du...</td>\n",
       "      <td>USD</td>\n",
       "      <td>1.0000</td>\n",
       "    </tr>\n",
       "    <tr>\n",
       "      <th>23413</th>\n",
       "      <td>880513</td>\n",
       "      <td>2022.0</td>\n",
       "      <td>2.640000e+00</td>\n",
       "      <td>location</td>\n",
       "      <td>1.243938e+08</td>\n",
       "      <td>NaN</td>\n",
       "      <td>This is our first year reporting and this figu...</td>\n",
       "      <td>USD</td>\n",
       "      <td>1.0000</td>\n",
       "    </tr>\n",
       "    <tr>\n",
       "      <th>23414</th>\n",
       "      <td>880513</td>\n",
       "      <td>2022.0</td>\n",
       "      <td>2.780000e+00</td>\n",
       "      <td>market</td>\n",
       "      <td>1.243938e+08</td>\n",
       "      <td>NaN</td>\n",
       "      <td>This is our first year reporting and this figu...</td>\n",
       "      <td>USD</td>\n",
       "      <td>1.0000</td>\n",
       "    </tr>\n",
       "    <tr>\n",
       "      <th>23603</th>\n",
       "      <td>895546</td>\n",
       "      <td>2022.0</td>\n",
       "      <td>3.400000e-04</td>\n",
       "      <td>location</td>\n",
       "      <td>1.446685e+08</td>\n",
       "      <td>-6.00</td>\n",
       "      <td>The intensity ratio expresses absolute Scope 1...</td>\n",
       "      <td>EUR</td>\n",
       "      <td>1.0129</td>\n",
       "    </tr>\n",
       "    <tr>\n",
       "      <th>23604</th>\n",
       "      <td>895546</td>\n",
       "      <td>2022.0</td>\n",
       "      <td>3.200000e-04</td>\n",
       "      <td>market</td>\n",
       "      <td>1.446685e+08</td>\n",
       "      <td>-21.00</td>\n",
       "      <td>The intensity ratio expresses absolute Scope 1...</td>\n",
       "      <td>EUR</td>\n",
       "      <td>1.0129</td>\n",
       "    </tr>\n",
       "  </tbody>\n",
       "</table>\n",
       "<p>526 rows × 9 columns</p>\n",
       "</div>"
      ],
      "text/plain": [
       "           id    year  ghg_int_figure ghg2_based_on  ghg_int_revenue  \\\n",
       "150       220  2019.0    4.015000e-06        market     2.656158e+10   \n",
       "151       220  2019.0    4.130000e-06      location     2.656158e+10   \n",
       "152       220  2020.0    3.699000e-06        market     2.771648e+10   \n",
       "153       220  2020.0    3.802400e-06      location     2.771648e+10   \n",
       "154       220  2021.0    3.037500e-06      location     2.301743e+10   \n",
       "...       ...     ...             ...           ...              ...   \n",
       "23362  876128  2022.0    7.170000e-07        market     7.426901e+07   \n",
       "23413  880513  2022.0    2.640000e+00      location     1.243938e+08   \n",
       "23414  880513  2022.0    2.780000e+00        market     1.243938e+08   \n",
       "23603  895546  2022.0    3.400000e-04      location     1.446685e+08   \n",
       "23604  895546  2022.0    3.200000e-04        market     1.446685e+08   \n",
       "\n",
       "       ghg_int_change                                     ghg_int_reason  \\\n",
       "150              2.30  The increase can be explained by a change in m...   \n",
       "151               NaN  Please note there has been a change in methodo...   \n",
       "152             -7.88  While the unit total revenue remained almost u...   \n",
       "153             -7.94  While the unit total revenue remained almost u...   \n",
       "154            -20.12  Less consumption of fuel, electricity and heat...   \n",
       "...               ...                                                ...   \n",
       "23362             NaN  In 2022 GOG established a 2019 GHG baseline du...   \n",
       "23413             NaN  This is our first year reporting and this figu...   \n",
       "23414             NaN  This is our first year reporting and this figu...   \n",
       "23603           -6.00  The intensity ratio expresses absolute Scope 1...   \n",
       "23604          -21.00  The intensity ratio expresses absolute Scope 1...   \n",
       "\n",
       "      cdp_currency  currency_ex  \n",
       "150            EUR       1.1129  \n",
       "151            EUR       1.1129  \n",
       "152            EUR       1.1831  \n",
       "153            EUR       1.1831  \n",
       "154            EUR       1.1767  \n",
       "...            ...          ...  \n",
       "23362          USD       1.0000  \n",
       "23413          USD       1.0000  \n",
       "23414          USD       1.0000  \n",
       "23603          EUR       1.0129  \n",
       "23604          EUR       1.0129  \n",
       "\n",
       "[526 rows x 9 columns]"
      ]
     },
     "execution_count": 8,
     "metadata": {},
     "output_type": "execute_result"
    }
   ],
   "source": [
    "df[df.duplicated(subset=['id', 'year'], keep=False)]"
   ]
  },
  {
   "cell_type": "code",
   "execution_count": 9,
   "metadata": {},
   "outputs": [
    {
     "data": {
      "text/html": [
       "<div>\n",
       "<style scoped>\n",
       "    .dataframe tbody tr th:only-of-type {\n",
       "        vertical-align: middle;\n",
       "    }\n",
       "\n",
       "    .dataframe tbody tr th {\n",
       "        vertical-align: top;\n",
       "    }\n",
       "\n",
       "    .dataframe thead th {\n",
       "        text-align: right;\n",
       "    }\n",
       "</style>\n",
       "<table border=\"1\" class=\"dataframe\">\n",
       "  <thead>\n",
       "    <tr style=\"text-align: right;\">\n",
       "      <th></th>\n",
       "      <th>id</th>\n",
       "      <th>year</th>\n",
       "      <th>ghg_int_figure</th>\n",
       "      <th>ghg2_based_on</th>\n",
       "      <th>ghg_int_revenue</th>\n",
       "      <th>ghg_int_change</th>\n",
       "      <th>ghg_int_reason</th>\n",
       "      <th>cdp_currency</th>\n",
       "      <th>currency_ex</th>\n",
       "    </tr>\n",
       "  </thead>\n",
       "  <tbody>\n",
       "    <tr>\n",
       "      <th>150</th>\n",
       "      <td>220</td>\n",
       "      <td>2019.0</td>\n",
       "      <td>4.015000e-06</td>\n",
       "      <td>market</td>\n",
       "      <td>2.656158e+10</td>\n",
       "      <td>2.30</td>\n",
       "      <td>The increase can be explained by a change in m...</td>\n",
       "      <td>EUR</td>\n",
       "      <td>1.112900</td>\n",
       "    </tr>\n",
       "    <tr>\n",
       "      <th>152</th>\n",
       "      <td>220</td>\n",
       "      <td>2020.0</td>\n",
       "      <td>3.699000e-06</td>\n",
       "      <td>market</td>\n",
       "      <td>2.771648e+10</td>\n",
       "      <td>-7.88</td>\n",
       "      <td>While the unit total revenue remained almost u...</td>\n",
       "      <td>EUR</td>\n",
       "      <td>1.183100</td>\n",
       "    </tr>\n",
       "    <tr>\n",
       "      <th>155</th>\n",
       "      <td>220</td>\n",
       "      <td>2021.0</td>\n",
       "      <td>2.942700e-06</td>\n",
       "      <td>market</td>\n",
       "      <td>2.301743e+10</td>\n",
       "      <td>-20.60</td>\n",
       "      <td>Less consumption of fuel, electricity and heat...</td>\n",
       "      <td>EUR</td>\n",
       "      <td>1.176700</td>\n",
       "    </tr>\n",
       "    <tr>\n",
       "      <th>198</th>\n",
       "      <td>252</td>\n",
       "      <td>2022.0</td>\n",
       "      <td>2.300000e-01</td>\n",
       "      <td>market</td>\n",
       "      <td>2.549571e+04</td>\n",
       "      <td>-3.10</td>\n",
       "      <td>Scope 1+2 (market-based) GHG emissions / EUR m...</td>\n",
       "      <td>EUR</td>\n",
       "      <td>1.012900</td>\n",
       "    </tr>\n",
       "    <tr>\n",
       "      <th>301</th>\n",
       "      <td>333</td>\n",
       "      <td>2020.0</td>\n",
       "      <td>4.987500e-06</td>\n",
       "      <td>market</td>\n",
       "      <td>1.117130e+10</td>\n",
       "      <td>-25.00</td>\n",
       "      <td>To calculate the -25% (DECREASE) change from t...</td>\n",
       "      <td>USD</td>\n",
       "      <td>1.000000</td>\n",
       "    </tr>\n",
       "    <tr>\n",
       "      <th>...</th>\n",
       "      <td>...</td>\n",
       "      <td>...</td>\n",
       "      <td>...</td>\n",
       "      <td>...</td>\n",
       "      <td>...</td>\n",
       "      <td>...</td>\n",
       "      <td>...</td>\n",
       "      <td>...</td>\n",
       "      <td>...</td>\n",
       "    </tr>\n",
       "    <tr>\n",
       "      <th>23254</th>\n",
       "      <td>866328</td>\n",
       "      <td>2022.0</td>\n",
       "      <td>3.070000e-07</td>\n",
       "      <td>market</td>\n",
       "      <td>5.510132e+08</td>\n",
       "      <td>0.00</td>\n",
       "      <td>基準年と報告年が同じであり、前年の排出量を算定していないため</td>\n",
       "      <td>JPY</td>\n",
       "      <td>0.007392</td>\n",
       "    </tr>\n",
       "    <tr>\n",
       "      <th>23311</th>\n",
       "      <td>870299</td>\n",
       "      <td>2022.0</td>\n",
       "      <td>5.296810e-05</td>\n",
       "      <td>market</td>\n",
       "      <td>3.000000e+08</td>\n",
       "      <td>NaN</td>\n",
       "      <td>This is the first year Polyram has calculated ...</td>\n",
       "      <td>USD</td>\n",
       "      <td>1.000000</td>\n",
       "    </tr>\n",
       "    <tr>\n",
       "      <th>23362</th>\n",
       "      <td>876128</td>\n",
       "      <td>2022.0</td>\n",
       "      <td>7.170000e-07</td>\n",
       "      <td>market</td>\n",
       "      <td>7.426901e+07</td>\n",
       "      <td>NaN</td>\n",
       "      <td>In 2022 GOG established a 2019 GHG baseline du...</td>\n",
       "      <td>USD</td>\n",
       "      <td>1.000000</td>\n",
       "    </tr>\n",
       "    <tr>\n",
       "      <th>23414</th>\n",
       "      <td>880513</td>\n",
       "      <td>2022.0</td>\n",
       "      <td>2.780000e+00</td>\n",
       "      <td>market</td>\n",
       "      <td>1.243938e+08</td>\n",
       "      <td>NaN</td>\n",
       "      <td>This is our first year reporting and this figu...</td>\n",
       "      <td>USD</td>\n",
       "      <td>1.000000</td>\n",
       "    </tr>\n",
       "    <tr>\n",
       "      <th>23604</th>\n",
       "      <td>895546</td>\n",
       "      <td>2022.0</td>\n",
       "      <td>3.200000e-04</td>\n",
       "      <td>market</td>\n",
       "      <td>1.446685e+08</td>\n",
       "      <td>-21.00</td>\n",
       "      <td>The intensity ratio expresses absolute Scope 1...</td>\n",
       "      <td>EUR</td>\n",
       "      <td>1.012900</td>\n",
       "    </tr>\n",
       "  </tbody>\n",
       "</table>\n",
       "<p>262 rows × 9 columns</p>\n",
       "</div>"
      ],
      "text/plain": [
       "           id    year  ghg_int_figure ghg2_based_on  ghg_int_revenue  \\\n",
       "150       220  2019.0    4.015000e-06        market     2.656158e+10   \n",
       "152       220  2020.0    3.699000e-06        market     2.771648e+10   \n",
       "155       220  2021.0    2.942700e-06        market     2.301743e+10   \n",
       "198       252  2022.0    2.300000e-01        market     2.549571e+04   \n",
       "301       333  2020.0    4.987500e-06        market     1.117130e+10   \n",
       "...       ...     ...             ...           ...              ...   \n",
       "23254  866328  2022.0    3.070000e-07        market     5.510132e+08   \n",
       "23311  870299  2022.0    5.296810e-05        market     3.000000e+08   \n",
       "23362  876128  2022.0    7.170000e-07        market     7.426901e+07   \n",
       "23414  880513  2022.0    2.780000e+00        market     1.243938e+08   \n",
       "23604  895546  2022.0    3.200000e-04        market     1.446685e+08   \n",
       "\n",
       "       ghg_int_change                                     ghg_int_reason  \\\n",
       "150              2.30  The increase can be explained by a change in m...   \n",
       "152             -7.88  While the unit total revenue remained almost u...   \n",
       "155            -20.60  Less consumption of fuel, electricity and heat...   \n",
       "198             -3.10  Scope 1+2 (market-based) GHG emissions / EUR m...   \n",
       "301            -25.00  To calculate the -25% (DECREASE) change from t...   \n",
       "...               ...                                                ...   \n",
       "23254            0.00                     基準年と報告年が同じであり、前年の排出量を算定していないため   \n",
       "23311             NaN  This is the first year Polyram has calculated ...   \n",
       "23362             NaN  In 2022 GOG established a 2019 GHG baseline du...   \n",
       "23414             NaN  This is our first year reporting and this figu...   \n",
       "23604          -21.00  The intensity ratio expresses absolute Scope 1...   \n",
       "\n",
       "      cdp_currency  currency_ex  \n",
       "150            EUR     1.112900  \n",
       "152            EUR     1.183100  \n",
       "155            EUR     1.176700  \n",
       "198            EUR     1.012900  \n",
       "301            USD     1.000000  \n",
       "...            ...          ...  \n",
       "23254          JPY     0.007392  \n",
       "23311          USD     1.000000  \n",
       "23362          USD     1.000000  \n",
       "23414          USD     1.000000  \n",
       "23604          EUR     1.012900  \n",
       "\n",
       "[262 rows x 9 columns]"
      ]
     },
     "execution_count": 9,
     "metadata": {},
     "output_type": "execute_result"
    }
   ],
   "source": [
    "rows_to_drop"
   ]
  },
  {
   "cell_type": "code",
   "execution_count": 10,
   "metadata": {},
   "outputs": [],
   "source": [
    "# drop rows\n",
    "df.drop(rows_to_drop.index, inplace=True)\n",
    "\n",
    "# drop remaining duplicates, keeping the last\n",
    "df.drop_duplicates(subset=['id', 'year'], inplace=True, keep='last')"
   ]
  },
  {
   "cell_type": "code",
   "execution_count": 11,
   "metadata": {},
   "outputs": [
    {
     "data": {
      "text/plain": [
       "ghg2_based_on\n",
       "location    10179\n",
       "             7764\n",
       "market       5411\n",
       "Name: count, dtype: int64"
      ]
     },
     "execution_count": 11,
     "metadata": {},
     "output_type": "execute_result"
    }
   ],
   "source": [
    "# count unique values of ghg2_based_on\n",
    "df['ghg2_based_on'].value_counts()"
   ]
  },
  {
   "cell_type": "code",
   "execution_count": 12,
   "metadata": {},
   "outputs": [
    {
     "data": {
      "text/plain": [
       "id                    0\n",
       "year                  0\n",
       "ghg_int_figure      182\n",
       "ghg2_based_on         0\n",
       "ghg_int_revenue    8267\n",
       "ghg_int_change     1019\n",
       "ghg_int_reason        0\n",
       "cdp_currency          0\n",
       "currency_ex        1402\n",
       "dtype: int64"
      ]
     },
     "execution_count": 12,
     "metadata": {},
     "output_type": "execute_result"
    }
   ],
   "source": [
    "# count number of na values in each column\n",
    "df.isna().sum()"
   ]
  },
  {
   "cell_type": "markdown",
   "metadata": {},
   "source": [
    "## Working on ghg_int_revenue\n",
    "- taking the log1p and plotting the distribuiton"
   ]
  },
  {
   "cell_type": "code",
   "execution_count": 13,
   "metadata": {},
   "outputs": [],
   "source": [
    "df.drop(columns=['ghg_int_revenue', 'currency_ex', 'cdp_currency', 'ghg_int_reason', 'ghg2_based_on'], inplace=True)"
   ]
  },
  {
   "cell_type": "code",
   "execution_count": 14,
   "metadata": {},
   "outputs": [
    {
     "data": {
      "text/plain": [
       "id                   0\n",
       "year                 0\n",
       "ghg_int_figure     182\n",
       "ghg_int_change    1019\n",
       "dtype: int64"
      ]
     },
     "execution_count": 14,
     "metadata": {},
     "output_type": "execute_result"
    }
   ],
   "source": [
    "# count number of na values in each column\n",
    "df.isna().sum()"
   ]
  },
  {
   "cell_type": "code",
   "execution_count": 15,
   "metadata": {},
   "outputs": [],
   "source": [
    "# drop rows where ghg_int_change is more than 3 standard deviations from the mean\n",
    "df = df[np.abs(df['ghg_int_change'] - df['ghg_int_change'].mean()) <= (3 * df['ghg_int_change'].std())]"
   ]
  },
  {
   "cell_type": "code",
   "execution_count": 16,
   "metadata": {},
   "outputs": [
    {
     "data": {
      "text/plain": [
       "<seaborn.axisgrid.FacetGrid at 0x147527d10>"
      ]
     },
     "execution_count": 16,
     "metadata": {},
     "output_type": "execute_result"
    },
    {
     "data": {
      "image/png": "[encoded data removed]",
      "text/plain": [
       "<Figure size 500x500 with 1 Axes>"
      ]
     },
     "metadata": {},
     "output_type": "display_data"
    }
   ],
   "source": [
    "sns.displot(df['ghg_int_change'])"
   ]
  },
  {
   "cell_type": "code",
   "execution_count": 17,
   "metadata": {},
   "outputs": [],
   "source": [
    "# displot of ghg_int_figure, ghg_int_change, usd_ghg_revenue\n",
    "df['ghg_int_figure'] = np.log1p(df['ghg_int_figure'])"
   ]
  },
  {
   "cell_type": "code",
   "execution_count": 18,
   "metadata": {},
   "outputs": [
    {
     "name": "stderr",
     "output_type": "stream",
     "text": [
      "/var/folders/z7/jmcsyl9x47zdw6n1xd2_16jh0000gn/T/ipykernel_38419/2605006479.py:5: FutureWarning: A value is trying to be set on a copy of a DataFrame or Series through chained assignment using an inplace method.\n",
      "The behavior will change in pandas 3.0. This inplace method will never work because the intermediate object on which we are setting values always behaves as a copy.\n",
      "\n",
      "For example, when doing 'df[col].method(value, inplace=True)', try using 'df.method({col: value}, inplace=True)' or df[col] = df[col].method(value) instead, to perform the operation inplace on the original object.\n",
      "\n",
      "\n",
      "  df[col].fillna(0, inplace=True)\n",
      "/var/folders/z7/jmcsyl9x47zdw6n1xd2_16jh0000gn/T/ipykernel_38419/2605006479.py:5: FutureWarning: A value is trying to be set on a copy of a DataFrame or Series through chained assignment using an inplace method.\n",
      "The behavior will change in pandas 3.0. This inplace method will never work because the intermediate object on which we are setting values always behaves as a copy.\n",
      "\n",
      "For example, when doing 'df[col].method(value, inplace=True)', try using 'df.method({col: value}, inplace=True)' or df[col] = df[col].method(value) instead, to perform the operation inplace on the original object.\n",
      "\n",
      "\n",
      "  df[col].fillna(0, inplace=True)\n"
     ]
    }
   ],
   "source": [
    "# for each column that is not id, year, ghg2_based_on, create indicator columns to mark na values and fill na with 0\n",
    "for col in df.columns:\n",
    "    if col not in ['id', 'year', 'ghg2_based_on']:\n",
    "        df[col + '_na'] = df[col].isna().astype(int)\n",
    "        df[col].fillna(0, inplace=True)"
   ]
  },
  {
   "cell_type": "code",
   "execution_count": 19,
   "metadata": {},
   "outputs": [
    {
     "data": {
      "text/plain": [
       "(22159, 6)"
      ]
     },
     "execution_count": 19,
     "metadata": {},
     "output_type": "execute_result"
    }
   ],
   "source": [
    "df.shape"
   ]
  },
  {
   "cell_type": "code",
   "execution_count": 20,
   "metadata": {},
   "outputs": [
    {
     "data": {
      "text/plain": [
       "id                   0\n",
       "year                 0\n",
       "ghg_int_figure       0\n",
       "ghg_int_change       0\n",
       "ghg_int_figure_na    0\n",
       "ghg_int_change_na    0\n",
       "dtype: int64"
      ]
     },
     "execution_count": 20,
     "metadata": {},
     "output_type": "execute_result"
    }
   ],
   "source": [
    "df.isna().sum()"
   ]
  },
  {
   "cell_type": "code",
   "execution_count": 21,
   "metadata": {},
   "outputs": [
    {
     "data": {
      "text/html": [
       "<div>\n",
       "<style scoped>\n",
       "    .dataframe tbody tr th:only-of-type {\n",
       "        vertical-align: middle;\n",
       "    }\n",
       "\n",
       "    .dataframe tbody tr th {\n",
       "        vertical-align: top;\n",
       "    }\n",
       "\n",
       "    .dataframe thead th {\n",
       "        text-align: right;\n",
       "    }\n",
       "</style>\n",
       "<table border=\"1\" class=\"dataframe\">\n",
       "  <thead>\n",
       "    <tr style=\"text-align: right;\">\n",
       "      <th></th>\n",
       "      <th>id</th>\n",
       "      <th>year</th>\n",
       "      <th>ghg_int_figure</th>\n",
       "      <th>ghg_int_change</th>\n",
       "      <th>ghg_int_figure_na</th>\n",
       "      <th>ghg_int_change_na</th>\n",
       "    </tr>\n",
       "  </thead>\n",
       "  <tbody>\n",
       "    <tr>\n",
       "      <th>0</th>\n",
       "      <td>44</td>\n",
       "      <td>2014.0</td>\n",
       "      <td>1.054312e+00</td>\n",
       "      <td>-29.0</td>\n",
       "      <td>0</td>\n",
       "      <td>0</td>\n",
       "    </tr>\n",
       "    <tr>\n",
       "      <th>1</th>\n",
       "      <td>44</td>\n",
       "      <td>2016.0</td>\n",
       "      <td>2.014903e+00</td>\n",
       "      <td>-11.0</td>\n",
       "      <td>0</td>\n",
       "      <td>0</td>\n",
       "    </tr>\n",
       "    <tr>\n",
       "      <th>2</th>\n",
       "      <td>44</td>\n",
       "      <td>2017.0</td>\n",
       "      <td>2.000000e-07</td>\n",
       "      <td>-76.0</td>\n",
       "      <td>0</td>\n",
       "      <td>0</td>\n",
       "    </tr>\n",
       "    <tr>\n",
       "      <th>3</th>\n",
       "      <td>44</td>\n",
       "      <td>2018.0</td>\n",
       "      <td>0.000000e+00</td>\n",
       "      <td>129.0</td>\n",
       "      <td>0</td>\n",
       "      <td>0</td>\n",
       "    </tr>\n",
       "    <tr>\n",
       "      <th>4</th>\n",
       "      <td>53</td>\n",
       "      <td>2011.0</td>\n",
       "      <td>5.063872e-05</td>\n",
       "      <td>-12.0</td>\n",
       "      <td>0</td>\n",
       "      <td>0</td>\n",
       "    </tr>\n",
       "  </tbody>\n",
       "</table>\n",
       "</div>"
      ],
      "text/plain": [
       "   id    year  ghg_int_figure  ghg_int_change  ghg_int_figure_na  \\\n",
       "0  44  2014.0    1.054312e+00           -29.0                  0   \n",
       "1  44  2016.0    2.014903e+00           -11.0                  0   \n",
       "2  44  2017.0    2.000000e-07           -76.0                  0   \n",
       "3  44  2018.0    0.000000e+00           129.0                  0   \n",
       "4  53  2011.0    5.063872e-05           -12.0                  0   \n",
       "\n",
       "   ghg_int_change_na  \n",
       "0                  0  \n",
       "1                  0  \n",
       "2                  0  \n",
       "3                  0  \n",
       "4                  0  "
      ]
     },
     "execution_count": 21,
     "metadata": {},
     "output_type": "execute_result"
    }
   ],
   "source": [
    "df.head()"
   ]
  },
  {
   "cell_type": "code",
   "execution_count": 22,
   "metadata": {},
   "outputs": [
    {
     "data": {
      "text/plain": [
       "(22159, 6)"
      ]
     },
     "execution_count": 22,
     "metadata": {},
     "output_type": "execute_result"
    }
   ],
   "source": [
    "df.shape"
   ]
  },
  {
   "cell_type": "code",
   "execution_count": 23,
   "metadata": {},
   "outputs": [],
   "source": [
    "# convert bool to int in the df\n",
    "for col in df.columns:\n",
    "    if df[col].dtype == 'bool':\n",
    "        df[col] = df[col].astype(int)"
   ]
  },
  {
   "cell_type": "code",
   "execution_count": 24,
   "metadata": {},
   "outputs": [
    {
     "data": {
      "text/plain": [
       "Index(['id', 'year', 'ghg_int_figure', 'ghg_int_change', 'ghg_int_figure_na',\n",
       "       'ghg_int_change_na'],\n",
       "      dtype='object')"
      ]
     },
     "execution_count": 24,
     "metadata": {},
     "output_type": "execute_result"
    }
   ],
   "source": [
    "df.columns"
   ]
  },
  {
   "cell_type": "code",
   "execution_count": 33,
   "metadata": {},
   "outputs": [
    {
     "data": {
      "text/plain": [
       "<seaborn.axisgrid.FacetGrid at 0x1522eee70>"
      ]
     },
     "execution_count": 33,
     "metadata": {},
     "output_type": "execute_result"
    },
    {
     "data": {
      "image/png": "[encoded data removed]",
      "text/plain": [
       "<Figure size 500x500 with 1 Axes>"
      ]
     },
     "metadata": {},
     "output_type": "display_data"
    }
   ],
   "source": [
    "# distribution plot of intensity figures\n",
    "sns.displot(np.log1p(df['ghg_int_figure']))"
   ]
  },
  {
   "cell_type": "code",
   "execution_count": 26,
   "metadata": {},
   "outputs": [],
   "source": [
    "# save to csv\n",
    "df.to_csv('../../data/processed/cdp_ghg_int_processed.csv', index=False)"
   ]
  },
  {
   "cell_type": "markdown",
   "metadata": {},
   "source": [
    "Next:\n",
    "- keep EDA\n",
    "- test baseline model\n",
    "- chose how to aggregate the data"
   ]
  }
 ],
 "metadata": {
  "kernelspec": {
   "display_name": "thesis_project",
   "language": "python",
   "name": "python3"
  },
  "language_info": {
   "codemirror_mode": {
    "name": "ipython",
    "version": 3
   },
   "file_extension": ".py",
   "mimetype": "text/x-python",
   "name": "python",
   "nbconvert_exporter": "python",
   "pygments_lexer": "ipython3",
   "version": "3.12.2"
  }
 },
 "nbformat": 4,
 "nbformat_minor": 2
}
