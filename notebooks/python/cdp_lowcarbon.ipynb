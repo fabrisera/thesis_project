{
 "cells": [
  {
   "cell_type": "markdown",
   "metadata": {},
   "source": [
    "`Done - Lowcarbon`"
   ]
  },
  {
   "cell_type": "code",
   "execution_count": 61,
   "metadata": {},
   "outputs": [],
   "source": [
    "import pandas as pd\n",
    "import numpy as np\n",
    "import seaborn as sns"
   ]
  },
  {
   "cell_type": "code",
   "execution_count": 62,
   "metadata": {},
   "outputs": [],
   "source": [
    "data = pd.read_stata(\"../../data/CDP Cleaning/cleaned outputs/cdp_lowcarbon.dta\")"
   ]
  },
  {
   "cell_type": "code",
   "execution_count": 63,
   "metadata": {},
   "outputs": [
    {
     "data": {
      "text/plain": [
       "(22930, 4)"
      ]
     },
     "execution_count": 63,
     "metadata": {},
     "output_type": "execute_result"
    }
   ],
   "source": [
    "data.shape"
   ]
  },
  {
   "cell_type": "code",
   "execution_count": 77,
   "metadata": {},
   "outputs": [
    {
     "data": {
      "text/html": [
       "<div>\n",
       "<style scoped>\n",
       "    .dataframe tbody tr th:only-of-type {\n",
       "        vertical-align: middle;\n",
       "    }\n",
       "\n",
       "    .dataframe tbody tr th {\n",
       "        vertical-align: top;\n",
       "    }\n",
       "\n",
       "    .dataframe thead th {\n",
       "        text-align: right;\n",
       "    }\n",
       "</style>\n",
       "<table border=\"1\" class=\"dataframe\">\n",
       "  <thead>\n",
       "    <tr style=\"text-align: right;\">\n",
       "      <th></th>\n",
       "      <th>id</th>\n",
       "      <th>year</th>\n",
       "      <th>cdp_lowcarbon_rev_total</th>\n",
       "      <th>cdp_lowcarbon_rev_total_missing</th>\n",
       "    </tr>\n",
       "  </thead>\n",
       "  <tbody>\n",
       "    <tr>\n",
       "      <th>0</th>\n",
       "      <td>432</td>\n",
       "      <td>2016.0</td>\n",
       "      <td>0.000000</td>\n",
       "      <td>1</td>\n",
       "    </tr>\n",
       "    <tr>\n",
       "      <th>1</th>\n",
       "      <td>17657</td>\n",
       "      <td>2016.0</td>\n",
       "      <td>0.000000</td>\n",
       "      <td>0</td>\n",
       "    </tr>\n",
       "    <tr>\n",
       "      <th>2</th>\n",
       "      <td>1219</td>\n",
       "      <td>2016.0</td>\n",
       "      <td>0.000000</td>\n",
       "      <td>1</td>\n",
       "    </tr>\n",
       "    <tr>\n",
       "      <th>3</th>\n",
       "      <td>19174</td>\n",
       "      <td>2016.0</td>\n",
       "      <td>0.000000</td>\n",
       "      <td>1</td>\n",
       "    </tr>\n",
       "    <tr>\n",
       "      <th>4</th>\n",
       "      <td>3153</td>\n",
       "      <td>2016.0</td>\n",
       "      <td>3.103689</td>\n",
       "      <td>0</td>\n",
       "    </tr>\n",
       "  </tbody>\n",
       "</table>\n",
       "</div>"
      ],
      "text/plain": [
       "      id    year  cdp_lowcarbon_rev_total  cdp_lowcarbon_rev_total_missing\n",
       "0    432  2016.0                 0.000000                                1\n",
       "1  17657  2016.0                 0.000000                                0\n",
       "2   1219  2016.0                 0.000000                                1\n",
       "3  19174  2016.0                 0.000000                                1\n",
       "4   3153  2016.0                 3.103689                                0"
      ]
     },
     "execution_count": 77,
     "metadata": {},
     "output_type": "execute_result"
    }
   ],
   "source": [
    "data.head()"
   ]
  },
  {
   "cell_type": "code",
   "execution_count": 65,
   "metadata": {},
   "outputs": [
    {
     "data": {
      "text/plain": [
       "Index(['id', 'year', 'cdp_lowcarbon_rev', 'cdp_lowcarbon_rev_total'], dtype='object')"
      ]
     },
     "execution_count": 65,
     "metadata": {},
     "output_type": "execute_result"
    }
   ],
   "source": [
    "data.columns"
   ]
  },
  {
   "cell_type": "code",
   "execution_count": 66,
   "metadata": {},
   "outputs": [
    {
     "data": {
      "text/html": [
       "<div>\n",
       "<style scoped>\n",
       "    .dataframe tbody tr th:only-of-type {\n",
       "        vertical-align: middle;\n",
       "    }\n",
       "\n",
       "    .dataframe tbody tr th {\n",
       "        vertical-align: top;\n",
       "    }\n",
       "\n",
       "    .dataframe thead th {\n",
       "        text-align: right;\n",
       "    }\n",
       "</style>\n",
       "<table border=\"1\" class=\"dataframe\">\n",
       "  <thead>\n",
       "    <tr style=\"text-align: right;\">\n",
       "      <th></th>\n",
       "      <th>id</th>\n",
       "      <th>year</th>\n",
       "      <th>cdp_lowcarbon_rev</th>\n",
       "      <th>cdp_lowcarbon_rev_total</th>\n",
       "    </tr>\n",
       "  </thead>\n",
       "  <tbody>\n",
       "  </tbody>\n",
       "</table>\n",
       "</div>"
      ],
      "text/plain": [
       "Empty DataFrame\n",
       "Columns: [id, year, cdp_lowcarbon_rev, cdp_lowcarbon_rev_total]\n",
       "Index: []"
      ]
     },
     "execution_count": 66,
     "metadata": {},
     "output_type": "execute_result"
    }
   ],
   "source": [
    "# check that there are no duplicates\n",
    "data[data.duplicated(subset=['id', 'year'])]"
   ]
  },
  {
   "cell_type": "code",
   "execution_count": 67,
   "metadata": {},
   "outputs": [],
   "source": [
    "data['cdp_lowcarbon_rev_total_missing'] = data['cdp_lowcarbon_rev_total'].isna().astype(int)\n",
    "data['cdp_lowcarbon_rev_total'] = data['cdp_lowcarbon_rev_total'].replace(np.nan, 0)"
   ]
  },
  {
   "cell_type": "code",
   "execution_count": 68,
   "metadata": {},
   "outputs": [
    {
     "data": {
      "text/html": [
       "<div>\n",
       "<style scoped>\n",
       "    .dataframe tbody tr th:only-of-type {\n",
       "        vertical-align: middle;\n",
       "    }\n",
       "\n",
       "    .dataframe tbody tr th {\n",
       "        vertical-align: top;\n",
       "    }\n",
       "\n",
       "    .dataframe thead th {\n",
       "        text-align: right;\n",
       "    }\n",
       "</style>\n",
       "<table border=\"1\" class=\"dataframe\">\n",
       "  <thead>\n",
       "    <tr style=\"text-align: right;\">\n",
       "      <th></th>\n",
       "      <th>id</th>\n",
       "      <th>year</th>\n",
       "      <th>cdp_lowcarbon_rev</th>\n",
       "      <th>cdp_lowcarbon_rev_total</th>\n",
       "      <th>cdp_lowcarbon_rev_total_missing</th>\n",
       "    </tr>\n",
       "  </thead>\n",
       "  <tbody>\n",
       "    <tr>\n",
       "      <th>12238</th>\n",
       "      <td>31514</td>\n",
       "      <td>2021.0</td>\n",
       "      <td>3.6</td>\n",
       "      <td>3.6</td>\n",
       "      <td>0</td>\n",
       "    </tr>\n",
       "    <tr>\n",
       "      <th>16381</th>\n",
       "      <td>51131</td>\n",
       "      <td>2022.0</td>\n",
       "      <td>NaN</td>\n",
       "      <td>0.0</td>\n",
       "      <td>1</td>\n",
       "    </tr>\n",
       "    <tr>\n",
       "      <th>2834</th>\n",
       "      <td>17322</td>\n",
       "      <td>2018.0</td>\n",
       "      <td>10.0</td>\n",
       "      <td>30.0</td>\n",
       "      <td>0</td>\n",
       "    </tr>\n",
       "    <tr>\n",
       "      <th>13691</th>\n",
       "      <td>842549</td>\n",
       "      <td>2021.0</td>\n",
       "      <td>NaN</td>\n",
       "      <td>0.0</td>\n",
       "      <td>1</td>\n",
       "    </tr>\n",
       "    <tr>\n",
       "      <th>17925</th>\n",
       "      <td>829528</td>\n",
       "      <td>2022.0</td>\n",
       "      <td>NaN</td>\n",
       "      <td>0.0</td>\n",
       "      <td>1</td>\n",
       "    </tr>\n",
       "    <tr>\n",
       "      <th>303</th>\n",
       "      <td>23228</td>\n",
       "      <td>2016.0</td>\n",
       "      <td>NaN</td>\n",
       "      <td>0.0</td>\n",
       "      <td>1</td>\n",
       "    </tr>\n",
       "    <tr>\n",
       "      <th>759</th>\n",
       "      <td>6559</td>\n",
       "      <td>2016.0</td>\n",
       "      <td>NaN</td>\n",
       "      <td>0.0</td>\n",
       "      <td>1</td>\n",
       "    </tr>\n",
       "    <tr>\n",
       "      <th>18586</th>\n",
       "      <td>15279</td>\n",
       "      <td>2022.0</td>\n",
       "      <td>94.0</td>\n",
       "      <td>94.0</td>\n",
       "      <td>0</td>\n",
       "    </tr>\n",
       "    <tr>\n",
       "      <th>9342</th>\n",
       "      <td>851231</td>\n",
       "      <td>2021.0</td>\n",
       "      <td>NaN</td>\n",
       "      <td>0.0</td>\n",
       "      <td>1</td>\n",
       "    </tr>\n",
       "    <tr>\n",
       "      <th>14613</th>\n",
       "      <td>8553</td>\n",
       "      <td>2022.0</td>\n",
       "      <td>NaN</td>\n",
       "      <td>0.0</td>\n",
       "      <td>1</td>\n",
       "    </tr>\n",
       "  </tbody>\n",
       "</table>\n",
       "</div>"
      ],
      "text/plain": [
       "           id    year  cdp_lowcarbon_rev  cdp_lowcarbon_rev_total  \\\n",
       "12238   31514  2021.0                3.6                      3.6   \n",
       "16381   51131  2022.0                NaN                      0.0   \n",
       "2834    17322  2018.0               10.0                     30.0   \n",
       "13691  842549  2021.0                NaN                      0.0   \n",
       "17925  829528  2022.0                NaN                      0.0   \n",
       "303     23228  2016.0                NaN                      0.0   \n",
       "759      6559  2016.0                NaN                      0.0   \n",
       "18586   15279  2022.0               94.0                     94.0   \n",
       "9342   851231  2021.0                NaN                      0.0   \n",
       "14613    8553  2022.0                NaN                      0.0   \n",
       "\n",
       "       cdp_lowcarbon_rev_total_missing  \n",
       "12238                                0  \n",
       "16381                                1  \n",
       "2834                                 0  \n",
       "13691                                1  \n",
       "17925                                1  \n",
       "303                                  1  \n",
       "759                                  1  \n",
       "18586                                0  \n",
       "9342                                 1  \n",
       "14613                                1  "
      ]
     },
     "execution_count": 68,
     "metadata": {},
     "output_type": "execute_result"
    }
   ],
   "source": [
    "data.sample(10)"
   ]
  },
  {
   "cell_type": "code",
   "execution_count": 69,
   "metadata": {},
   "outputs": [
    {
     "data": {
      "text/html": [
       "<div>\n",
       "<style scoped>\n",
       "    .dataframe tbody tr th:only-of-type {\n",
       "        vertical-align: middle;\n",
       "    }\n",
       "\n",
       "    .dataframe tbody tr th {\n",
       "        vertical-align: top;\n",
       "    }\n",
       "\n",
       "    .dataframe thead th {\n",
       "        text-align: right;\n",
       "    }\n",
       "</style>\n",
       "<table border=\"1\" class=\"dataframe\">\n",
       "  <thead>\n",
       "    <tr style=\"text-align: right;\">\n",
       "      <th></th>\n",
       "      <th>id</th>\n",
       "      <th>year</th>\n",
       "      <th>cdp_lowcarbon_rev</th>\n",
       "      <th>cdp_lowcarbon_rev_total</th>\n",
       "      <th>cdp_lowcarbon_rev_total_missing</th>\n",
       "    </tr>\n",
       "  </thead>\n",
       "  <tbody>\n",
       "    <tr>\n",
       "      <th>id</th>\n",
       "      <td>1.000000</td>\n",
       "      <td>0.451979</td>\n",
       "      <td>0.038374</td>\n",
       "      <td>-0.190684</td>\n",
       "      <td>0.368710</td>\n",
       "    </tr>\n",
       "    <tr>\n",
       "      <th>year</th>\n",
       "      <td>0.451979</td>\n",
       "      <td>1.000000</td>\n",
       "      <td>-0.023785</td>\n",
       "      <td>-0.155870</td>\n",
       "      <td>0.254935</td>\n",
       "    </tr>\n",
       "    <tr>\n",
       "      <th>cdp_lowcarbon_rev</th>\n",
       "      <td>0.038374</td>\n",
       "      <td>-0.023785</td>\n",
       "      <td>1.000000</td>\n",
       "      <td>0.800539</td>\n",
       "      <td>NaN</td>\n",
       "    </tr>\n",
       "    <tr>\n",
       "      <th>cdp_lowcarbon_rev_total</th>\n",
       "      <td>-0.190684</td>\n",
       "      <td>-0.155870</td>\n",
       "      <td>0.800539</td>\n",
       "      <td>1.000000</td>\n",
       "      <td>-0.516621</td>\n",
       "    </tr>\n",
       "    <tr>\n",
       "      <th>cdp_lowcarbon_rev_total_missing</th>\n",
       "      <td>0.368710</td>\n",
       "      <td>0.254935</td>\n",
       "      <td>NaN</td>\n",
       "      <td>-0.516621</td>\n",
       "      <td>1.000000</td>\n",
       "    </tr>\n",
       "  </tbody>\n",
       "</table>\n",
       "</div>"
      ],
      "text/plain": [
       "                                       id      year  cdp_lowcarbon_rev  \\\n",
       "id                               1.000000  0.451979           0.038374   \n",
       "year                             0.451979  1.000000          -0.023785   \n",
       "cdp_lowcarbon_rev                0.038374 -0.023785           1.000000   \n",
       "cdp_lowcarbon_rev_total         -0.190684 -0.155870           0.800539   \n",
       "cdp_lowcarbon_rev_total_missing  0.368710  0.254935                NaN   \n",
       "\n",
       "                                 cdp_lowcarbon_rev_total  \\\n",
       "id                                             -0.190684   \n",
       "year                                           -0.155870   \n",
       "cdp_lowcarbon_rev                               0.800539   \n",
       "cdp_lowcarbon_rev_total                         1.000000   \n",
       "cdp_lowcarbon_rev_total_missing                -0.516621   \n",
       "\n",
       "                                 cdp_lowcarbon_rev_total_missing  \n",
       "id                                                      0.368710  \n",
       "year                                                    0.254935  \n",
       "cdp_lowcarbon_rev                                            NaN  \n",
       "cdp_lowcarbon_rev_total                                -0.516621  \n",
       "cdp_lowcarbon_rev_total_missing                         1.000000  "
      ]
     },
     "execution_count": 69,
     "metadata": {},
     "output_type": "execute_result"
    }
   ],
   "source": [
    "data.corr()"
   ]
  },
  {
   "cell_type": "markdown",
   "metadata": {},
   "source": [
    "Note that the correlation between lowcarbon_rev and lowcarbon_rev_total is very high at 0.8, so I will only keep total"
   ]
  },
  {
   "cell_type": "code",
   "execution_count": 70,
   "metadata": {},
   "outputs": [],
   "source": [
    "data.drop(columns=['cdp_lowcarbon_rev'], inplace = True)"
   ]
  },
  {
   "cell_type": "code",
   "execution_count": 71,
   "metadata": {},
   "outputs": [
    {
     "data": {
      "text/plain": [
       "<seaborn.axisgrid.FacetGrid at 0x152f34ce0>"
      ]
     },
     "execution_count": 71,
     "metadata": {},
     "output_type": "execute_result"
    },
    {
     "data": {
      "image/png": "[encoded data removed]",
      "text/plain": [
       "<Figure size 500x500 with 1 Axes>"
      ]
     },
     "metadata": {},
     "output_type": "display_data"
    }
   ],
   "source": [
    "sns.displot(np.log1p(data.cdp_lowcarbon_rev_total))"
   ]
  },
  {
   "cell_type": "code",
   "execution_count": 72,
   "metadata": {},
   "outputs": [],
   "source": [
    "# taking the log1p of lowcarbon rev total\n",
    "data.cdp_lowcarbon_rev_total = np.log1p(data.cdp_lowcarbon_rev_total)"
   ]
  },
  {
   "cell_type": "code",
   "execution_count": 73,
   "metadata": {},
   "outputs": [
    {
     "data": {
      "text/html": [
       "<div>\n",
       "<style scoped>\n",
       "    .dataframe tbody tr th:only-of-type {\n",
       "        vertical-align: middle;\n",
       "    }\n",
       "\n",
       "    .dataframe tbody tr th {\n",
       "        vertical-align: top;\n",
       "    }\n",
       "\n",
       "    .dataframe thead th {\n",
       "        text-align: right;\n",
       "    }\n",
       "</style>\n",
       "<table border=\"1\" class=\"dataframe\">\n",
       "  <thead>\n",
       "    <tr style=\"text-align: right;\">\n",
       "      <th></th>\n",
       "      <th>id</th>\n",
       "      <th>year</th>\n",
       "      <th>cdp_lowcarbon_rev_total</th>\n",
       "      <th>cdp_lowcarbon_rev_total_missing</th>\n",
       "    </tr>\n",
       "  </thead>\n",
       "  <tbody>\n",
       "    <tr>\n",
       "      <th>0</th>\n",
       "      <td>432</td>\n",
       "      <td>2016.0</td>\n",
       "      <td>0.000000</td>\n",
       "      <td>1</td>\n",
       "    </tr>\n",
       "    <tr>\n",
       "      <th>1</th>\n",
       "      <td>17657</td>\n",
       "      <td>2016.0</td>\n",
       "      <td>0.000000</td>\n",
       "      <td>0</td>\n",
       "    </tr>\n",
       "    <tr>\n",
       "      <th>2</th>\n",
       "      <td>1219</td>\n",
       "      <td>2016.0</td>\n",
       "      <td>0.000000</td>\n",
       "      <td>1</td>\n",
       "    </tr>\n",
       "    <tr>\n",
       "      <th>3</th>\n",
       "      <td>19174</td>\n",
       "      <td>2016.0</td>\n",
       "      <td>0.000000</td>\n",
       "      <td>1</td>\n",
       "    </tr>\n",
       "    <tr>\n",
       "      <th>4</th>\n",
       "      <td>3153</td>\n",
       "      <td>2016.0</td>\n",
       "      <td>3.103689</td>\n",
       "      <td>0</td>\n",
       "    </tr>\n",
       "  </tbody>\n",
       "</table>\n",
       "</div>"
      ],
      "text/plain": [
       "      id    year  cdp_lowcarbon_rev_total  cdp_lowcarbon_rev_total_missing\n",
       "0    432  2016.0                 0.000000                                1\n",
       "1  17657  2016.0                 0.000000                                0\n",
       "2   1219  2016.0                 0.000000                                1\n",
       "3  19174  2016.0                 0.000000                                1\n",
       "4   3153  2016.0                 3.103689                                0"
      ]
     },
     "execution_count": 73,
     "metadata": {},
     "output_type": "execute_result"
    }
   ],
   "source": [
    "data.head()"
   ]
  },
  {
   "cell_type": "code",
   "execution_count": 74,
   "metadata": {},
   "outputs": [
    {
     "data": {
      "text/plain": [
       "id                                 0\n",
       "year                               0\n",
       "cdp_lowcarbon_rev_total            0\n",
       "cdp_lowcarbon_rev_total_missing    0\n",
       "dtype: int64"
      ]
     },
     "execution_count": 74,
     "metadata": {},
     "output_type": "execute_result"
    }
   ],
   "source": [
    "data.isna().sum()"
   ]
  },
  {
   "cell_type": "code",
   "execution_count": 75,
   "metadata": {},
   "outputs": [
    {
     "data": {
      "text/plain": [
       "(22930, 4)"
      ]
     },
     "execution_count": 75,
     "metadata": {},
     "output_type": "execute_result"
    }
   ],
   "source": [
    "data.shape"
   ]
  },
  {
   "cell_type": "code",
   "execution_count": 76,
   "metadata": {},
   "outputs": [],
   "source": [
    "data.to_csv('../../data/processed/cdp_lowcarbon_processed.csv', index=False)"
   ]
  }
 ],
 "metadata": {
  "kernelspec": {
   "display_name": "thesis_project",
   "language": "python",
   "name": "python3"
  },
  "language_info": {
   "codemirror_mode": {
    "name": "ipython",
    "version": 3
   },
   "file_extension": ".py",
   "mimetype": "text/x-python",
   "name": "python",
   "nbconvert_exporter": "python",
   "pygments_lexer": "ipython3",
   "version": "3.12.0"
  }
 },
 "nbformat": 4,
 "nbformat_minor": 2
}
