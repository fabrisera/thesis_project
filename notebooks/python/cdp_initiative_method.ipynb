{
 "cells": [
  {
   "cell_type": "markdown",
   "metadata": {},
   "source": [
    "`initative methodology - Done`"
   ]
  },
  {
   "cell_type": "code",
   "execution_count": 12,
   "metadata": {},
   "outputs": [],
   "source": [
    "import pandas as pd\n",
    "import numpy as np\n",
    "import seaborn as sns"
   ]
  },
  {
   "cell_type": "code",
   "execution_count": 13,
   "metadata": {},
   "outputs": [],
   "source": [
    "data = pd.read_stata(\"../../data/CDP Cleaning/cleaned outputs/cdp_initiative_method.dta\")"
   ]
  },
  {
   "cell_type": "code",
   "execution_count": 14,
   "metadata": {},
   "outputs": [
    {
     "data": {
      "text/html": [
       "<div>\n",
       "<style scoped>\n",
       "    .dataframe tbody tr th:only-of-type {\n",
       "        vertical-align: middle;\n",
       "    }\n",
       "\n",
       "    .dataframe tbody tr th {\n",
       "        vertical-align: top;\n",
       "    }\n",
       "\n",
       "    .dataframe thead th {\n",
       "        text-align: right;\n",
       "    }\n",
       "</style>\n",
       "<table border=\"1\" class=\"dataframe\">\n",
       "  <thead>\n",
       "    <tr style=\"text-align: right;\">\n",
       "      <th></th>\n",
       "      <th>id</th>\n",
       "      <th>year</th>\n",
       "      <th>method_cmt_MACC</th>\n",
       "      <th>method_ind_MACC</th>\n",
       "      <th>method_cmt_budget_efficiency</th>\n",
       "      <th>method_ind_budget_efficiency</th>\n",
       "      <th>method_cmt_budget_low_carbon</th>\n",
       "      <th>method_ind_budget_low_carbon</th>\n",
       "      <th>method_cmt_compliance</th>\n",
       "      <th>method_ind_compliance</th>\n",
       "      <th>...</th>\n",
       "      <th>method_cmt_internal_finance</th>\n",
       "      <th>method_ind_internal_finance</th>\n",
       "      <th>method_cmt_internal_incentives</th>\n",
       "      <th>method_ind_internal_incentives</th>\n",
       "      <th>method_cmt_internal_price</th>\n",
       "      <th>method_ind_internal_price</th>\n",
       "      <th>method_cmt_lower_roi</th>\n",
       "      <th>method_ind_lower_roi</th>\n",
       "      <th>method_cmt_other</th>\n",
       "      <th>method_ind_other</th>\n",
       "    </tr>\n",
       "  </thead>\n",
       "  <tbody>\n",
       "    <tr>\n",
       "      <th>0</th>\n",
       "      <td>44</td>\n",
       "      <td>2011.0</td>\n",
       "      <td></td>\n",
       "      <td>NaN</td>\n",
       "      <td></td>\n",
       "      <td>NaN</td>\n",
       "      <td></td>\n",
       "      <td>NaN</td>\n",
       "      <td></td>\n",
       "      <td>NaN</td>\n",
       "      <td>...</td>\n",
       "      <td></td>\n",
       "      <td>NaN</td>\n",
       "      <td></td>\n",
       "      <td>NaN</td>\n",
       "      <td></td>\n",
       "      <td>NaN</td>\n",
       "      <td></td>\n",
       "      <td>NaN</td>\n",
       "      <td></td>\n",
       "      <td>NaN</td>\n",
       "    </tr>\n",
       "    <tr>\n",
       "      <th>1</th>\n",
       "      <td>44</td>\n",
       "      <td>2013.0</td>\n",
       "      <td></td>\n",
       "      <td>NaN</td>\n",
       "      <td>We have dedicated budget for implementing the ...</td>\n",
       "      <td>1.0</td>\n",
       "      <td></td>\n",
       "      <td>NaN</td>\n",
       "      <td></td>\n",
       "      <td>NaN</td>\n",
       "      <td>...</td>\n",
       "      <td>Our Travel policy uses internal finance mechni...</td>\n",
       "      <td>1.0</td>\n",
       "      <td></td>\n",
       "      <td>NaN</td>\n",
       "      <td></td>\n",
       "      <td>NaN</td>\n",
       "      <td></td>\n",
       "      <td>NaN</td>\n",
       "      <td></td>\n",
       "      <td>NaN</td>\n",
       "    </tr>\n",
       "    <tr>\n",
       "      <th>2</th>\n",
       "      <td>44</td>\n",
       "      <td>2014.0</td>\n",
       "      <td></td>\n",
       "      <td>NaN</td>\n",
       "      <td></td>\n",
       "      <td>NaN</td>\n",
       "      <td></td>\n",
       "      <td>NaN</td>\n",
       "      <td></td>\n",
       "      <td>NaN</td>\n",
       "      <td>...</td>\n",
       "      <td>3i’s Global travel policy clearly states that ...</td>\n",
       "      <td>1.0</td>\n",
       "      <td></td>\n",
       "      <td>NaN</td>\n",
       "      <td></td>\n",
       "      <td>NaN</td>\n",
       "      <td></td>\n",
       "      <td>NaN</td>\n",
       "      <td></td>\n",
       "      <td>NaN</td>\n",
       "    </tr>\n",
       "    <tr>\n",
       "      <th>3</th>\n",
       "      <td>44</td>\n",
       "      <td>2016.0</td>\n",
       "      <td></td>\n",
       "      <td>NaN</td>\n",
       "      <td></td>\n",
       "      <td>NaN</td>\n",
       "      <td></td>\n",
       "      <td>NaN</td>\n",
       "      <td></td>\n",
       "      <td>NaN</td>\n",
       "      <td>...</td>\n",
       "      <td>3i’s Global travel policy clearly states that ...</td>\n",
       "      <td>1.0</td>\n",
       "      <td></td>\n",
       "      <td>NaN</td>\n",
       "      <td></td>\n",
       "      <td>NaN</td>\n",
       "      <td></td>\n",
       "      <td>NaN</td>\n",
       "      <td></td>\n",
       "      <td>NaN</td>\n",
       "    </tr>\n",
       "    <tr>\n",
       "      <th>4</th>\n",
       "      <td>44</td>\n",
       "      <td>2017.0</td>\n",
       "      <td></td>\n",
       "      <td>NaN</td>\n",
       "      <td></td>\n",
       "      <td>NaN</td>\n",
       "      <td></td>\n",
       "      <td>NaN</td>\n",
       "      <td></td>\n",
       "      <td>NaN</td>\n",
       "      <td>...</td>\n",
       "      <td>3i’s Global travel policy clearly states that ...</td>\n",
       "      <td>1.0</td>\n",
       "      <td></td>\n",
       "      <td>NaN</td>\n",
       "      <td></td>\n",
       "      <td>NaN</td>\n",
       "      <td></td>\n",
       "      <td>NaN</td>\n",
       "      <td></td>\n",
       "      <td>NaN</td>\n",
       "    </tr>\n",
       "  </tbody>\n",
       "</table>\n",
       "<p>5 rows × 26 columns</p>\n",
       "</div>"
      ],
      "text/plain": [
       "   id    year method_cmt_MACC  method_ind_MACC  \\\n",
       "0  44  2011.0                              NaN   \n",
       "1  44  2013.0                              NaN   \n",
       "2  44  2014.0                              NaN   \n",
       "3  44  2016.0                              NaN   \n",
       "4  44  2017.0                              NaN   \n",
       "\n",
       "                        method_cmt_budget_efficiency  \\\n",
       "0                                                      \n",
       "1  We have dedicated budget for implementing the ...   \n",
       "2                                                      \n",
       "3                                                      \n",
       "4                                                      \n",
       "\n",
       "   method_ind_budget_efficiency method_cmt_budget_low_carbon  \\\n",
       "0                           NaN                                \n",
       "1                           1.0                                \n",
       "2                           NaN                                \n",
       "3                           NaN                                \n",
       "4                           NaN                                \n",
       "\n",
       "   method_ind_budget_low_carbon method_cmt_compliance  method_ind_compliance  \\\n",
       "0                           NaN                                          NaN   \n",
       "1                           NaN                                          NaN   \n",
       "2                           NaN                                          NaN   \n",
       "3                           NaN                                          NaN   \n",
       "4                           NaN                                          NaN   \n",
       "\n",
       "   ...                        method_cmt_internal_finance  \\\n",
       "0  ...                                                      \n",
       "1  ...  Our Travel policy uses internal finance mechni...   \n",
       "2  ...  3i’s Global travel policy clearly states that ...   \n",
       "3  ...  3i’s Global travel policy clearly states that ...   \n",
       "4  ...  3i’s Global travel policy clearly states that ...   \n",
       "\n",
       "   method_ind_internal_finance method_cmt_internal_incentives  \\\n",
       "0                          NaN                                  \n",
       "1                          1.0                                  \n",
       "2                          1.0                                  \n",
       "3                          1.0                                  \n",
       "4                          1.0                                  \n",
       "\n",
       "   method_ind_internal_incentives method_cmt_internal_price  \\\n",
       "0                             NaN                             \n",
       "1                             NaN                             \n",
       "2                             NaN                             \n",
       "3                             NaN                             \n",
       "4                             NaN                             \n",
       "\n",
       "   method_ind_internal_price method_cmt_lower_roi  method_ind_lower_roi  \\\n",
       "0                        NaN                                        NaN   \n",
       "1                        NaN                                        NaN   \n",
       "2                        NaN                                        NaN   \n",
       "3                        NaN                                        NaN   \n",
       "4                        NaN                                        NaN   \n",
       "\n",
       "  method_cmt_other  method_ind_other  \n",
       "0                                NaN  \n",
       "1                                NaN  \n",
       "2                                NaN  \n",
       "3                                NaN  \n",
       "4                                NaN  \n",
       "\n",
       "[5 rows x 26 columns]"
      ]
     },
     "execution_count": 14,
     "metadata": {},
     "output_type": "execute_result"
    }
   ],
   "source": [
    "data.head()"
   ]
  },
  {
   "cell_type": "code",
   "execution_count": 15,
   "metadata": {},
   "outputs": [
    {
     "data": {
      "text/plain": [
       "Index(['id', 'year', 'method_cmt_MACC', 'method_ind_MACC',\n",
       "       'method_cmt_budget_efficiency', 'method_ind_budget_efficiency',\n",
       "       'method_cmt_budget_low_carbon', 'method_ind_budget_low_carbon',\n",
       "       'method_cmt_compliance', 'method_ind_compliance',\n",
       "       'method_cmt_employee_engagement', 'method_ind_employee_engagement',\n",
       "       'method_cmt_financial_opt', 'method_ind_financial_opt',\n",
       "       'method_cmt_gov_partnership', 'method_ind_gov_partnership',\n",
       "       'method_cmt_internal_finance', 'method_ind_internal_finance',\n",
       "       'method_cmt_internal_incentives', 'method_ind_internal_incentives',\n",
       "       'method_cmt_internal_price', 'method_ind_internal_price',\n",
       "       'method_cmt_lower_roi', 'method_ind_lower_roi', 'method_cmt_other',\n",
       "       'method_ind_other'],\n",
       "      dtype='object')"
      ]
     },
     "execution_count": 15,
     "metadata": {},
     "output_type": "execute_result"
    }
   ],
   "source": [
    "data.columns"
   ]
  },
  {
   "cell_type": "code",
   "execution_count": 16,
   "metadata": {},
   "outputs": [
    {
     "data": {
      "text/html": [
       "<div>\n",
       "<style scoped>\n",
       "    .dataframe tbody tr th:only-of-type {\n",
       "        vertical-align: middle;\n",
       "    }\n",
       "\n",
       "    .dataframe tbody tr th {\n",
       "        vertical-align: top;\n",
       "    }\n",
       "\n",
       "    .dataframe thead th {\n",
       "        text-align: right;\n",
       "    }\n",
       "</style>\n",
       "<table border=\"1\" class=\"dataframe\">\n",
       "  <thead>\n",
       "    <tr style=\"text-align: right;\">\n",
       "      <th></th>\n",
       "      <th>id</th>\n",
       "      <th>year</th>\n",
       "      <th>method_cmt_MACC</th>\n",
       "      <th>method_ind_MACC</th>\n",
       "      <th>method_cmt_budget_efficiency</th>\n",
       "      <th>method_ind_budget_efficiency</th>\n",
       "      <th>method_cmt_budget_low_carbon</th>\n",
       "      <th>method_ind_budget_low_carbon</th>\n",
       "      <th>method_cmt_compliance</th>\n",
       "      <th>method_ind_compliance</th>\n",
       "      <th>...</th>\n",
       "      <th>method_cmt_internal_finance</th>\n",
       "      <th>method_ind_internal_finance</th>\n",
       "      <th>method_cmt_internal_incentives</th>\n",
       "      <th>method_ind_internal_incentives</th>\n",
       "      <th>method_cmt_internal_price</th>\n",
       "      <th>method_ind_internal_price</th>\n",
       "      <th>method_cmt_lower_roi</th>\n",
       "      <th>method_ind_lower_roi</th>\n",
       "      <th>method_cmt_other</th>\n",
       "      <th>method_ind_other</th>\n",
       "    </tr>\n",
       "  </thead>\n",
       "  <tbody>\n",
       "  </tbody>\n",
       "</table>\n",
       "<p>0 rows × 26 columns</p>\n",
       "</div>"
      ],
      "text/plain": [
       "Empty DataFrame\n",
       "Columns: [id, year, method_cmt_MACC, method_ind_MACC, method_cmt_budget_efficiency, method_ind_budget_efficiency, method_cmt_budget_low_carbon, method_ind_budget_low_carbon, method_cmt_compliance, method_ind_compliance, method_cmt_employee_engagement, method_ind_employee_engagement, method_cmt_financial_opt, method_ind_financial_opt, method_cmt_gov_partnership, method_ind_gov_partnership, method_cmt_internal_finance, method_ind_internal_finance, method_cmt_internal_incentives, method_ind_internal_incentives, method_cmt_internal_price, method_ind_internal_price, method_cmt_lower_roi, method_ind_lower_roi, method_cmt_other, method_ind_other]\n",
       "Index: []\n",
       "\n",
       "[0 rows x 26 columns]"
      ]
     },
     "execution_count": 16,
     "metadata": {},
     "output_type": "execute_result"
    }
   ],
   "source": [
    "# check that there are no duplicates\n",
    "data[data.duplicated(subset=['id', 'year'])]"
   ]
  },
  {
   "cell_type": "code",
   "execution_count": 17,
   "metadata": {},
   "outputs": [],
   "source": [
    "# drop columns which have more than 10 unique values - effectively drop all the cmt and leave the ind variables\n",
    "to_drop = []\n",
    "for column in data.columns:\n",
    "    if column != 'id' and column != 'year':\n",
    "        if len(data[column].unique()) >= 3:\n",
    "            to_drop.append(column)\n"
   ]
  },
  {
   "cell_type": "code",
   "execution_count": 18,
   "metadata": {},
   "outputs": [],
   "source": [
    "data.drop(columns=to_drop, inplace = True)"
   ]
  },
  {
   "cell_type": "code",
   "execution_count": 19,
   "metadata": {},
   "outputs": [
    {
     "data": {
      "text/plain": [
       "method_ind_MACC\n",
       "1.0    822\n",
       "Name: count, dtype: int64"
      ]
     },
     "execution_count": 19,
     "metadata": {},
     "output_type": "execute_result"
    }
   ],
   "source": [
    "data['method_ind_MACC'].value_counts()"
   ]
  },
  {
   "cell_type": "code",
   "execution_count": 20,
   "metadata": {},
   "outputs": [],
   "source": [
    "data.replace(np.nan, 0, inplace=True)"
   ]
  },
  {
   "cell_type": "code",
   "execution_count": 21,
   "metadata": {},
   "outputs": [
    {
     "data": {
      "text/html": [
       "<div>\n",
       "<style scoped>\n",
       "    .dataframe tbody tr th:only-of-type {\n",
       "        vertical-align: middle;\n",
       "    }\n",
       "\n",
       "    .dataframe tbody tr th {\n",
       "        vertical-align: top;\n",
       "    }\n",
       "\n",
       "    .dataframe thead th {\n",
       "        text-align: right;\n",
       "    }\n",
       "</style>\n",
       "<table border=\"1\" class=\"dataframe\">\n",
       "  <thead>\n",
       "    <tr style=\"text-align: right;\">\n",
       "      <th></th>\n",
       "      <th>id</th>\n",
       "      <th>year</th>\n",
       "      <th>method_ind_MACC</th>\n",
       "      <th>method_ind_budget_efficiency</th>\n",
       "      <th>method_ind_budget_low_carbon</th>\n",
       "      <th>method_ind_compliance</th>\n",
       "      <th>method_ind_employee_engagement</th>\n",
       "      <th>method_ind_financial_opt</th>\n",
       "      <th>method_ind_gov_partnership</th>\n",
       "      <th>method_ind_internal_finance</th>\n",
       "      <th>method_ind_internal_incentives</th>\n",
       "      <th>method_ind_internal_price</th>\n",
       "      <th>method_ind_lower_roi</th>\n",
       "      <th>method_ind_other</th>\n",
       "    </tr>\n",
       "  </thead>\n",
       "  <tbody>\n",
       "    <tr>\n",
       "      <th>0</th>\n",
       "      <td>44</td>\n",
       "      <td>2011.0</td>\n",
       "      <td>0.0</td>\n",
       "      <td>0.0</td>\n",
       "      <td>0.0</td>\n",
       "      <td>0.0</td>\n",
       "      <td>1.0</td>\n",
       "      <td>0.0</td>\n",
       "      <td>0.0</td>\n",
       "      <td>0.0</td>\n",
       "      <td>0.0</td>\n",
       "      <td>0.0</td>\n",
       "      <td>0.0</td>\n",
       "      <td>0.0</td>\n",
       "    </tr>\n",
       "    <tr>\n",
       "      <th>1</th>\n",
       "      <td>44</td>\n",
       "      <td>2013.0</td>\n",
       "      <td>0.0</td>\n",
       "      <td>1.0</td>\n",
       "      <td>0.0</td>\n",
       "      <td>0.0</td>\n",
       "      <td>1.0</td>\n",
       "      <td>0.0</td>\n",
       "      <td>0.0</td>\n",
       "      <td>1.0</td>\n",
       "      <td>0.0</td>\n",
       "      <td>0.0</td>\n",
       "      <td>0.0</td>\n",
       "      <td>0.0</td>\n",
       "    </tr>\n",
       "    <tr>\n",
       "      <th>2</th>\n",
       "      <td>44</td>\n",
       "      <td>2014.0</td>\n",
       "      <td>0.0</td>\n",
       "      <td>0.0</td>\n",
       "      <td>0.0</td>\n",
       "      <td>0.0</td>\n",
       "      <td>0.0</td>\n",
       "      <td>0.0</td>\n",
       "      <td>0.0</td>\n",
       "      <td>1.0</td>\n",
       "      <td>0.0</td>\n",
       "      <td>0.0</td>\n",
       "      <td>0.0</td>\n",
       "      <td>0.0</td>\n",
       "    </tr>\n",
       "    <tr>\n",
       "      <th>3</th>\n",
       "      <td>44</td>\n",
       "      <td>2016.0</td>\n",
       "      <td>0.0</td>\n",
       "      <td>0.0</td>\n",
       "      <td>0.0</td>\n",
       "      <td>0.0</td>\n",
       "      <td>0.0</td>\n",
       "      <td>0.0</td>\n",
       "      <td>0.0</td>\n",
       "      <td>1.0</td>\n",
       "      <td>0.0</td>\n",
       "      <td>0.0</td>\n",
       "      <td>0.0</td>\n",
       "      <td>0.0</td>\n",
       "    </tr>\n",
       "    <tr>\n",
       "      <th>4</th>\n",
       "      <td>44</td>\n",
       "      <td>2017.0</td>\n",
       "      <td>0.0</td>\n",
       "      <td>0.0</td>\n",
       "      <td>0.0</td>\n",
       "      <td>0.0</td>\n",
       "      <td>0.0</td>\n",
       "      <td>0.0</td>\n",
       "      <td>0.0</td>\n",
       "      <td>1.0</td>\n",
       "      <td>0.0</td>\n",
       "      <td>0.0</td>\n",
       "      <td>0.0</td>\n",
       "      <td>0.0</td>\n",
       "    </tr>\n",
       "  </tbody>\n",
       "</table>\n",
       "</div>"
      ],
      "text/plain": [
       "   id    year  method_ind_MACC  method_ind_budget_efficiency  \\\n",
       "0  44  2011.0              0.0                           0.0   \n",
       "1  44  2013.0              0.0                           1.0   \n",
       "2  44  2014.0              0.0                           0.0   \n",
       "3  44  2016.0              0.0                           0.0   \n",
       "4  44  2017.0              0.0                           0.0   \n",
       "\n",
       "   method_ind_budget_low_carbon  method_ind_compliance  \\\n",
       "0                           0.0                    0.0   \n",
       "1                           0.0                    0.0   \n",
       "2                           0.0                    0.0   \n",
       "3                           0.0                    0.0   \n",
       "4                           0.0                    0.0   \n",
       "\n",
       "   method_ind_employee_engagement  method_ind_financial_opt  \\\n",
       "0                             1.0                       0.0   \n",
       "1                             1.0                       0.0   \n",
       "2                             0.0                       0.0   \n",
       "3                             0.0                       0.0   \n",
       "4                             0.0                       0.0   \n",
       "\n",
       "   method_ind_gov_partnership  method_ind_internal_finance  \\\n",
       "0                         0.0                          0.0   \n",
       "1                         0.0                          1.0   \n",
       "2                         0.0                          1.0   \n",
       "3                         0.0                          1.0   \n",
       "4                         0.0                          1.0   \n",
       "\n",
       "   method_ind_internal_incentives  method_ind_internal_price  \\\n",
       "0                             0.0                        0.0   \n",
       "1                             0.0                        0.0   \n",
       "2                             0.0                        0.0   \n",
       "3                             0.0                        0.0   \n",
       "4                             0.0                        0.0   \n",
       "\n",
       "   method_ind_lower_roi  method_ind_other  \n",
       "0                   0.0               0.0  \n",
       "1                   0.0               0.0  \n",
       "2                   0.0               0.0  \n",
       "3                   0.0               0.0  \n",
       "4                   0.0               0.0  "
      ]
     },
     "execution_count": 21,
     "metadata": {},
     "output_type": "execute_result"
    }
   ],
   "source": [
    "data.head()"
   ]
  },
  {
   "cell_type": "code",
   "execution_count": 22,
   "metadata": {},
   "outputs": [
    {
     "data": {
      "text/plain": [
       "method_ind_MACC\n",
       "0.0    23342\n",
       "1.0      822\n",
       "Name: count, dtype: int64"
      ]
     },
     "execution_count": 22,
     "metadata": {},
     "output_type": "execute_result"
    }
   ],
   "source": [
    "data.method_ind_MACC.value_counts()"
   ]
  },
  {
   "cell_type": "code",
   "execution_count": 17,
   "metadata": {},
   "outputs": [
    {
     "data": {
      "text/plain": [
       "(24164, 14)"
      ]
     },
     "execution_count": 17,
     "metadata": {},
     "output_type": "execute_result"
    }
   ],
   "source": [
    "data.shape"
   ]
  },
  {
   "cell_type": "code",
   "execution_count": 18,
   "metadata": {},
   "outputs": [
    {
     "data": {
      "text/plain": [
       "id                                0\n",
       "year                              0\n",
       "method_ind_MACC                   0\n",
       "method_ind_budget_efficiency      0\n",
       "method_ind_budget_low_carbon      0\n",
       "method_ind_compliance             0\n",
       "method_ind_employee_engagement    0\n",
       "method_ind_financial_opt          0\n",
       "method_ind_gov_partnership        0\n",
       "method_ind_internal_finance       0\n",
       "method_ind_internal_incentives    0\n",
       "method_ind_internal_price         0\n",
       "method_ind_lower_roi              0\n",
       "method_ind_other                  0\n",
       "dtype: int64"
      ]
     },
     "execution_count": 18,
     "metadata": {},
     "output_type": "execute_result"
    }
   ],
   "source": [
    "data.isna().sum()"
   ]
  },
  {
   "cell_type": "code",
   "execution_count": 19,
   "metadata": {},
   "outputs": [
    {
     "data": {
      "text/plain": [
       "Index(['id', 'year', 'method_ind_MACC', 'method_ind_budget_efficiency',\n",
       "       'method_ind_budget_low_carbon', 'method_ind_compliance',\n",
       "       'method_ind_employee_engagement', 'method_ind_financial_opt',\n",
       "       'method_ind_gov_partnership', 'method_ind_internal_finance',\n",
       "       'method_ind_internal_incentives', 'method_ind_internal_price',\n",
       "       'method_ind_lower_roi', 'method_ind_other'],\n",
       "      dtype='object')"
      ]
     },
     "execution_count": 19,
     "metadata": {},
     "output_type": "execute_result"
    }
   ],
   "source": [
    "data.columns"
   ]
  },
  {
   "cell_type": "code",
   "execution_count": 6,
   "metadata": {},
   "outputs": [
    {
     "data": {
      "text/plain": [
       "(24164, 26)"
      ]
     },
     "execution_count": 6,
     "metadata": {},
     "output_type": "execute_result"
    }
   ],
   "source": [
    "data.shape"
   ]
  },
  {
   "cell_type": "code",
   "execution_count": 90,
   "metadata": {},
   "outputs": [],
   "source": [
    "data.to_csv('../../data/processed/cdp_initative_method_processed.csv', index=False)"
   ]
  }
 ],
 "metadata": {
  "kernelspec": {
   "display_name": "thesis_project",
   "language": "python",
   "name": "python3"
  },
  "language_info": {
   "codemirror_mode": {
    "name": "ipython",
    "version": 3
   },
   "file_extension": ".py",
   "mimetype": "text/x-python",
   "name": "python",
   "nbconvert_exporter": "python",
   "pygments_lexer": "ipython3",
   "version": "3.1.0"
  }
 },
 "nbformat": 4,
 "nbformat_minor": 2
}
