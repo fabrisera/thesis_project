{
 "cells": [
  {
   "cell_type": "code",
   "execution_count": 69,
   "metadata": {},
   "outputs": [],
   "source": [
    "import pandas as pd\n",
    "import numpy as np\n",
    "import catboost as cb\n",
    "from catboost import CatBoostClassifier, CatBoostRegressor, Pool\n",
    "from sklearn.metrics import mean_squared_error, accuracy_score"
   ]
  },
  {
   "cell_type": "code",
   "execution_count": 70,
   "metadata": {},
   "outputs": [],
   "source": [
    "data = pd.read_csv('../R/final_model_predictions.csv')"
   ]
  },
  {
   "cell_type": "code",
   "execution_count": 71,
   "metadata": {},
   "outputs": [],
   "source": [
    "data.drop(['Unnamed: 0'], axis=1, inplace=True)"
   ]
  },
  {
   "cell_type": "code",
   "execution_count": 72,
   "metadata": {},
   "outputs": [],
   "source": [
    "data.drop(columns=['Companyname', 'Gind', 'Isin'], inplace=True)"
   ]
  },
  {
   "cell_type": "code",
   "execution_count": 73,
   "metadata": {},
   "outputs": [],
   "source": [
    "# make a list of columns that have text data with a loop (note object columns can also be numbers)\n",
    "text_columns = []\n",
    "for col in data.columns:\n",
    "    if data[col].dtype == 'object':\n",
    "        text_columns.append(col)"
   ]
  },
  {
   "cell_type": "code",
   "execution_count": 74,
   "metadata": {},
   "outputs": [],
   "source": [
    "train_set = data.loc[data['Year'] < 9]\n",
    "validation_set = data.loc[data['Year'] == 9]\n",
    "test_set = data.loc[data['Year'] == 10]"
   ]
  },
  {
   "cell_type": "code",
   "execution_count": 75,
   "metadata": {},
   "outputs": [],
   "source": [
    "continuous_features = [col for col in data.columns if col not in ['Id', 'Year', 'Ghg.Change.Real.Next', 'Industry', 'Country', 'Continent', 'Method.Ind', 'Type.Scope1'] and data[col].nunique() > 2]\n",
    "binary_features = [col for col in data.columns if data[col].nunique() == 2]\n",
    "train_stats = train_set[continuous_features].agg(['mean', 'std'])"
   ]
  },
  {
   "cell_type": "code",
   "execution_count": 76,
   "metadata": {},
   "outputs": [],
   "source": [
    "\n",
    "# Function to standardize data (excluding binary features)\n",
    "def standardize_data(df, stats, continuous_features, binary_features):\n",
    "    standardized_df = df.copy()\n",
    "    for feature in continuous_features:\n",
    "        if feature not in binary_features:  # Only standardize continuous features\n",
    "            mean = stats.loc['mean', feature]\n",
    "            std = stats.loc['std', feature]\n",
    "            standardized_df[feature] = (df[feature] - mean) / std\n",
    "    # Replace NaN values resulted from standardization with 0 (especially for features with no variance)\n",
    "    standardized_df = standardized_df.fillna(0)\n",
    "    return standardized_df\n",
    "\n",
    "\n",
    "# Standardize the entire dataset based on statistics from the first 10 years\n",
    "df_standardized = standardize_data(data, train_stats, continuous_features, binary_features)\n",
    "\n",
    "\n",
    "  # Last year for testing\n",
    "\n",
    "# Now, you can proceed to create sequences from train_data_standardized and test_data_standardized\n",
    "# Remember, for LSTM, sequences should be shaped properly according to your model's requirements.\n"
   ]
  },
  {
   "cell_type": "code",
   "execution_count": 77,
   "metadata": {},
   "outputs": [],
   "source": [
    "categorical_features = ['Id', 'Industry', 'Country', 'Continent', 'Method.Ind', 'Type.Scope1']"
   ]
  },
  {
   "cell_type": "code",
   "execution_count": 78,
   "metadata": {},
   "outputs": [],
   "source": [
    "X_train_class = train_set.drop(columns=['Ghg.Change.Real.Next', 'Ghg.Change.Real.Cat.Next'])\n",
    "y_train_class = train_set['Ghg.Change.Real.Cat.Next']\n",
    "\n",
    "X_val_class = validation_set.drop(columns=['Ghg.Change.Real.Next', 'Ghg.Change.Real.Cat.Next'])\n",
    "y_val_class = validation_set['Ghg.Change.Real.Cat.Next']\n",
    "\n",
    "X_test_class = test_set.drop(columns=['Ghg.Change.Real.Next', 'Ghg.Change.Real.Cat.Next'])\n",
    "y_test_class = test_set['Ghg.Change.Real.Cat.Next']"
   ]
  },
  {
   "cell_type": "code",
   "execution_count": 79,
   "metadata": {},
   "outputs": [],
   "source": [
    "X_train_reg = train_set.loc[train_set['Ghg.Change.Real.Cat.Next'] == 1].drop(columns=['Ghg.Change.Real.Next', 'Ghg.Change.Real.Cat.Next'])\n",
    "y_train_reg = train_set.loc[train_set['Ghg.Change.Real.Cat.Next'] == 1]['Ghg.Change.Real.Next']\n",
    "\n",
    "X_val_reg = validation_set.loc[validation_set['Ghg.Change.Real.Cat.Next'] == 1].drop(columns=['Ghg.Change.Real.Next', 'Ghg.Change.Real.Cat.Next'])\n",
    "y_val_reg = validation_set.loc[validation_set['Ghg.Change.Real.Cat.Next'] == 1]['Ghg.Change.Real.Next']\n",
    "\n",
    "X_test_reg = test_set.loc[test_set['Ghg.Change.Real.Cat.Next'] == 1].drop(columns=['Ghg.Change.Real.Next', 'Ghg.Change.Real.Cat.Next'])\n",
    "y_test_reg = test_set.loc[test_set['Ghg.Change.Real.Cat.Next'] == 1]['Ghg.Change.Real.Next']"
   ]
  },
  {
   "cell_type": "code",
   "execution_count": 80,
   "metadata": {},
   "outputs": [
    {
     "name": "stdout",
     "output_type": "stream",
     "text": [
      "Classification Accuracy: 0.7954887218045112\n"
     ]
    }
   ],
   "source": [
    "# Initialize the CatBoostClassifier\n",
    "clf = CatBoostClassifier(verbose=0, random_seed=42)\n",
    "\n",
    "# Train the classifier\n",
    "clf.fit(X_train_class, y_train_class, cat_features=categorical_features)\n",
    "\n",
    "# Predict on the test set\n",
    "y_pred_classify = clf.predict(X_test_class)\n",
    "\n",
    "# Evaluate the classifier\n",
    "accuracy = accuracy_score(y_test_class, y_pred_classify)\n",
    "print(f\"Classification Accuracy: {accuracy}\")"
   ]
  },
  {
   "cell_type": "code",
   "execution_count": 152,
   "metadata": {},
   "outputs": [
    {
     "name": "stdout",
     "output_type": "stream",
     "text": [
      "Baseline Accuracy: 0.7744360902255639\n"
     ]
    }
   ],
   "source": [
    "# calculate baseline accuracy\n",
    "baseline_accuracy = max(y_test_class.mean(), 1 - y_test_class.mean())\n",
    "print(f\"Baseline Accuracy: {baseline_accuracy}\")"
   ]
  },
  {
   "cell_type": "code",
   "execution_count": 81,
   "metadata": {},
   "outputs": [
    {
     "name": "stdout",
     "output_type": "stream",
     "text": [
      "Regression RMSE: 9.034888973002467\n",
      "Regression R2: 0.14355876579085802\n"
     ]
    }
   ],
   "source": [
    "# Initialize the CatBoostRegressor\n",
    "reg = CatBoostRegressor(verbose=0, random_seed=42)\n",
    "\n",
    "# Train the regressor\n",
    "reg.fit(X_train_reg, y_train_reg, cat_features=categorical_features)\n",
    "\n",
    "# Predict on the test set\n",
    "y_pred_reg = reg.predict(X_test_reg)\n",
    "\n",
    "# Evaluate the regressor\n",
    "rmse = np.sqrt(mean_squared_error(y_test_reg, y_pred_reg))\n",
    "print(f\"Regression RMSE: {rmse}\")\n",
    "\n",
    "# print test r2\n",
    "r2 = reg.score(X_test_reg, y_test_reg)\n",
    "print(f\"Regression R2: {r2}\")"
   ]
  },
  {
   "cell_type": "code",
   "execution_count": 92,
   "metadata": {},
   "outputs": [],
   "source": [
    "# now use the moddels first to classify and then to predict the values on the test set\n",
    "# first classify\n",
    "classifications = clf.predict(X_test_class)\n",
    "\n",
    "# now predict the values using the seocond model for the ones that were classified as 1\n",
    "predictions = reg.predict(X_test_class.loc[classifications == 1])"
   ]
  },
  {
   "cell_type": "code",
   "execution_count": 121,
   "metadata": {},
   "outputs": [],
   "source": [
    "classifications = pd.DataFrame(classifications, columns=['Ghg.Change.Real.Cat.Next'])\n",
    "predictions = pd.DataFrame(predictions, columns=['Ghg.Change.Real.Next'])"
   ]
  },
  {
   "cell_type": "code",
   "execution_count": 122,
   "metadata": {},
   "outputs": [],
   "source": [
    "# where classifications is 0, the prediction should be 0 and where it is 1, the prediction should be the value from the regression model\n",
    "pred_idx = 0\n",
    "for i in range(len(classifications)):\n",
    "    if classifications.iloc[i, 0] != 0:\n",
    "        classifications.iloc[i, 0] = predictions.iloc[pred_idx, 0]\n",
    "        pred_idx += 1"
   ]
  },
  {
   "cell_type": "code",
   "execution_count": 123,
   "metadata": {},
   "outputs": [
    {
     "data": {
      "text/html": [
       "<div>\n",
       "<style scoped>\n",
       "    .dataframe tbody tr th:only-of-type {\n",
       "        vertical-align: middle;\n",
       "    }\n",
       "\n",
       "    .dataframe tbody tr th {\n",
       "        vertical-align: top;\n",
       "    }\n",
       "\n",
       "    .dataframe thead th {\n",
       "        text-align: right;\n",
       "    }\n",
       "</style>\n",
       "<table border=\"1\" class=\"dataframe\">\n",
       "  <thead>\n",
       "    <tr style=\"text-align: right;\">\n",
       "      <th></th>\n",
       "      <th>Ghg.Change.Real.Next</th>\n",
       "    </tr>\n",
       "  </thead>\n",
       "  <tbody>\n",
       "    <tr>\n",
       "      <th>0</th>\n",
       "      <td>-6.181075</td>\n",
       "    </tr>\n",
       "    <tr>\n",
       "      <th>1</th>\n",
       "      <td>-2.360412</td>\n",
       "    </tr>\n",
       "    <tr>\n",
       "      <th>2</th>\n",
       "      <td>-5.563912</td>\n",
       "    </tr>\n",
       "    <tr>\n",
       "      <th>3</th>\n",
       "      <td>-10.583072</td>\n",
       "    </tr>\n",
       "    <tr>\n",
       "      <th>4</th>\n",
       "      <td>-2.739668</td>\n",
       "    </tr>\n",
       "    <tr>\n",
       "      <th>...</th>\n",
       "      <td>...</td>\n",
       "    </tr>\n",
       "    <tr>\n",
       "      <th>1203</th>\n",
       "      <td>-5.037881</td>\n",
       "    </tr>\n",
       "    <tr>\n",
       "      <th>1204</th>\n",
       "      <td>-2.691106</td>\n",
       "    </tr>\n",
       "    <tr>\n",
       "      <th>1205</th>\n",
       "      <td>-10.155822</td>\n",
       "    </tr>\n",
       "    <tr>\n",
       "      <th>1206</th>\n",
       "      <td>-3.199662</td>\n",
       "    </tr>\n",
       "    <tr>\n",
       "      <th>1207</th>\n",
       "      <td>-4.923707</td>\n",
       "    </tr>\n",
       "  </tbody>\n",
       "</table>\n",
       "<p>1208 rows × 1 columns</p>\n",
       "</div>"
      ],
      "text/plain": [
       "      Ghg.Change.Real.Next\n",
       "0                -6.181075\n",
       "1                -2.360412\n",
       "2                -5.563912\n",
       "3               -10.583072\n",
       "4                -2.739668\n",
       "...                    ...\n",
       "1203             -5.037881\n",
       "1204             -2.691106\n",
       "1205            -10.155822\n",
       "1206             -3.199662\n",
       "1207             -4.923707\n",
       "\n",
       "[1208 rows x 1 columns]"
      ]
     },
     "execution_count": 123,
     "metadata": {},
     "output_type": "execute_result"
    }
   ],
   "source": [
    "predictions"
   ]
  },
  {
   "cell_type": "code",
   "execution_count": 124,
   "metadata": {},
   "outputs": [
    {
     "name": "stdout",
     "output_type": "stream",
     "text": [
      "Final RMSE: 9.837906266993384\n"
     ]
    }
   ],
   "source": [
    "# calculate the rmse\n",
    "rmse = np.sqrt(mean_squared_error(test_set['Ghg.Change.Real.Next'], classifications))\n",
    "print(f\"Final RMSE: {rmse}\")"
   ]
  },
  {
   "cell_type": "code",
   "execution_count": 140,
   "metadata": {},
   "outputs": [
    {
     "data": {
      "text/plain": [
       "9       -15.50\n",
       "28        3.30\n",
       "49       -2.30\n",
       "52        0.00\n",
       "55       -7.90\n",
       "         ...  \n",
       "13728    -0.20\n",
       "13731     0.00\n",
       "13734     0.00\n",
       "13737    -1.00\n",
       "13740    -5.66\n",
       "Name: Ghg.Change.Real.Next, Length: 1330, dtype: float64"
      ]
     },
     "execution_count": 140,
     "metadata": {},
     "output_type": "execute_result"
    }
   ],
   "source": [
    "test_set['Ghg.Change.Real.Next']"
   ]
  },
  {
   "cell_type": "code",
   "execution_count": 141,
   "metadata": {},
   "outputs": [
    {
     "data": {
      "text/html": [
       "<div>\n",
       "<style scoped>\n",
       "    .dataframe tbody tr th:only-of-type {\n",
       "        vertical-align: middle;\n",
       "    }\n",
       "\n",
       "    .dataframe tbody tr th {\n",
       "        vertical-align: top;\n",
       "    }\n",
       "\n",
       "    .dataframe thead th {\n",
       "        text-align: right;\n",
       "    }\n",
       "</style>\n",
       "<table border=\"1\" class=\"dataframe\">\n",
       "  <thead>\n",
       "    <tr style=\"text-align: right;\">\n",
       "      <th></th>\n",
       "      <th>Ghg.Change.Real.Cat.Next</th>\n",
       "    </tr>\n",
       "  </thead>\n",
       "  <tbody>\n",
       "    <tr>\n",
       "      <th>0</th>\n",
       "      <td>0.000000</td>\n",
       "    </tr>\n",
       "    <tr>\n",
       "      <th>1</th>\n",
       "      <td>-6.181075</td>\n",
       "    </tr>\n",
       "    <tr>\n",
       "      <th>2</th>\n",
       "      <td>-2.360412</td>\n",
       "    </tr>\n",
       "    <tr>\n",
       "      <th>3</th>\n",
       "      <td>0.000000</td>\n",
       "    </tr>\n",
       "    <tr>\n",
       "      <th>4</th>\n",
       "      <td>0.000000</td>\n",
       "    </tr>\n",
       "    <tr>\n",
       "      <th>...</th>\n",
       "      <td>...</td>\n",
       "    </tr>\n",
       "    <tr>\n",
       "      <th>1325</th>\n",
       "      <td>-2.691106</td>\n",
       "    </tr>\n",
       "    <tr>\n",
       "      <th>1326</th>\n",
       "      <td>-10.155822</td>\n",
       "    </tr>\n",
       "    <tr>\n",
       "      <th>1327</th>\n",
       "      <td>0.000000</td>\n",
       "    </tr>\n",
       "    <tr>\n",
       "      <th>1328</th>\n",
       "      <td>-3.199662</td>\n",
       "    </tr>\n",
       "    <tr>\n",
       "      <th>1329</th>\n",
       "      <td>-4.923707</td>\n",
       "    </tr>\n",
       "  </tbody>\n",
       "</table>\n",
       "<p>1330 rows × 1 columns</p>\n",
       "</div>"
      ],
      "text/plain": [
       "      Ghg.Change.Real.Cat.Next\n",
       "0                     0.000000\n",
       "1                    -6.181075\n",
       "2                    -2.360412\n",
       "3                     0.000000\n",
       "4                     0.000000\n",
       "...                        ...\n",
       "1325                 -2.691106\n",
       "1326                -10.155822\n",
       "1327                  0.000000\n",
       "1328                 -3.199662\n",
       "1329                 -4.923707\n",
       "\n",
       "[1330 rows x 1 columns]"
      ]
     },
     "execution_count": 141,
     "metadata": {},
     "output_type": "execute_result"
    }
   ],
   "source": [
    "classifications"
   ]
  },
  {
   "cell_type": "code",
   "execution_count": 142,
   "metadata": {},
   "outputs": [
    {
     "data": {
      "text/html": [
       "<div>\n",
       "<style scoped>\n",
       "    .dataframe tbody tr th:only-of-type {\n",
       "        vertical-align: middle;\n",
       "    }\n",
       "\n",
       "    .dataframe tbody tr th {\n",
       "        vertical-align: top;\n",
       "    }\n",
       "\n",
       "    .dataframe thead th {\n",
       "        text-align: right;\n",
       "    }\n",
       "</style>\n",
       "<table border=\"1\" class=\"dataframe\">\n",
       "  <thead>\n",
       "    <tr style=\"text-align: right;\">\n",
       "      <th></th>\n",
       "      <th>Ghg.Change.Real.Next</th>\n",
       "    </tr>\n",
       "  </thead>\n",
       "  <tbody>\n",
       "    <tr>\n",
       "      <th>0</th>\n",
       "      <td>-15.50</td>\n",
       "    </tr>\n",
       "    <tr>\n",
       "      <th>1</th>\n",
       "      <td>3.30</td>\n",
       "    </tr>\n",
       "    <tr>\n",
       "      <th>2</th>\n",
       "      <td>-2.30</td>\n",
       "    </tr>\n",
       "    <tr>\n",
       "      <th>3</th>\n",
       "      <td>0.00</td>\n",
       "    </tr>\n",
       "    <tr>\n",
       "      <th>4</th>\n",
       "      <td>-7.90</td>\n",
       "    </tr>\n",
       "    <tr>\n",
       "      <th>...</th>\n",
       "      <td>...</td>\n",
       "    </tr>\n",
       "    <tr>\n",
       "      <th>1325</th>\n",
       "      <td>-0.20</td>\n",
       "    </tr>\n",
       "    <tr>\n",
       "      <th>1326</th>\n",
       "      <td>0.00</td>\n",
       "    </tr>\n",
       "    <tr>\n",
       "      <th>1327</th>\n",
       "      <td>0.00</td>\n",
       "    </tr>\n",
       "    <tr>\n",
       "      <th>1328</th>\n",
       "      <td>-1.00</td>\n",
       "    </tr>\n",
       "    <tr>\n",
       "      <th>1329</th>\n",
       "      <td>-5.66</td>\n",
       "    </tr>\n",
       "  </tbody>\n",
       "</table>\n",
       "<p>1330 rows × 1 columns</p>\n",
       "</div>"
      ],
      "text/plain": [
       "      Ghg.Change.Real.Next\n",
       "0                   -15.50\n",
       "1                     3.30\n",
       "2                    -2.30\n",
       "3                     0.00\n",
       "4                    -7.90\n",
       "...                    ...\n",
       "1325                 -0.20\n",
       "1326                  0.00\n",
       "1327                  0.00\n",
       "1328                 -1.00\n",
       "1329                 -5.66\n",
       "\n",
       "[1330 rows x 1 columns]"
      ]
     },
     "execution_count": 142,
     "metadata": {},
     "output_type": "execute_result"
    }
   ],
   "source": [
    "test_set['Ghg.Change.Real.Next'].reset_index().drop(columns=['index'])"
   ]
  },
  {
   "cell_type": "code",
   "execution_count": 143,
   "metadata": {},
   "outputs": [],
   "source": [
    "test_set = test_set.reset_index().drop(columns=['index'])\n",
    "test_set['preds'] = classifications"
   ]
  },
  {
   "cell_type": "code",
   "execution_count": 148,
   "metadata": {},
   "outputs": [
    {
     "data": {
      "text/html": [
       "<div>\n",
       "<style scoped>\n",
       "    .dataframe tbody tr th:only-of-type {\n",
       "        vertical-align: middle;\n",
       "    }\n",
       "\n",
       "    .dataframe tbody tr th {\n",
       "        vertical-align: top;\n",
       "    }\n",
       "\n",
       "    .dataframe thead th {\n",
       "        text-align: right;\n",
       "    }\n",
       "</style>\n",
       "<table border=\"1\" class=\"dataframe\">\n",
       "  <thead>\n",
       "    <tr style=\"text-align: right;\">\n",
       "      <th></th>\n",
       "      <th>preds</th>\n",
       "      <th>Ghg.Change.Real.Next</th>\n",
       "    </tr>\n",
       "  </thead>\n",
       "  <tbody>\n",
       "    <tr>\n",
       "      <th>preds</th>\n",
       "      <td>1.000000</td>\n",
       "      <td>0.302501</td>\n",
       "    </tr>\n",
       "    <tr>\n",
       "      <th>Ghg.Change.Real.Next</th>\n",
       "      <td>0.302501</td>\n",
       "      <td>1.000000</td>\n",
       "    </tr>\n",
       "  </tbody>\n",
       "</table>\n",
       "</div>"
      ],
      "text/plain": [
       "                         preds  Ghg.Change.Real.Next\n",
       "preds                 1.000000              0.302501\n",
       "Ghg.Change.Real.Next  0.302501              1.000000"
      ]
     },
     "execution_count": 148,
     "metadata": {},
     "output_type": "execute_result"
    }
   ],
   "source": [
    "# calculate r2 between preds and real values\n",
    "test_set[['preds', 'Ghg.Change.Real.Next']].corr()"
   ]
  },
  {
   "cell_type": "code",
   "execution_count": 153,
   "metadata": {},
   "outputs": [],
   "source": [
    "# for positive (test_set['Ghg.Change.Real.Next'] set them as 0\n",
    "test_set.loc[test_set['Ghg.Change.Real.Next'] > 0, 'Ghg.Change.Real.Next'] = 0"
   ]
  },
  {
   "cell_type": "code",
   "execution_count": 154,
   "metadata": {},
   "outputs": [
    {
     "data": {
      "text/plain": [
       "0.09399659906249358"
      ]
     },
     "execution_count": 154,
     "metadata": {},
     "output_type": "execute_result"
    }
   ],
   "source": [
    "# import r2 from sklearn\n",
    "from sklearn.metrics import r2_score\n",
    "\n",
    "r2_score(test_set['Ghg.Change.Real.Next'], test_set['preds'])"
   ]
  },
  {
   "cell_type": "code",
   "execution_count": 155,
   "metadata": {},
   "outputs": [
    {
     "name": "stdout",
     "output_type": "stream",
     "text": [
      "Final RMSE: 8.830452029855467\n"
     ]
    }
   ],
   "source": [
    "# calculate the rmse\n",
    "rmse = np.sqrt(mean_squared_error(test_set['Ghg.Change.Real.Next'], classifications))\n",
    "print(f\"Final RMSE: {rmse}\")"
   ]
  },
  {
   "cell_type": "code",
   "execution_count": 156,
   "metadata": {},
   "outputs": [
    {
     "name": "stdout",
     "output_type": "stream",
     "text": [
      "Final MAE: 6.2184259007290725\n"
     ]
    }
   ],
   "source": [
    "# calculate mae\n",
    "from sklearn.metrics import mean_absolute_error\n",
    "\n",
    "mae = mean_absolute_error(test_set['Ghg.Change.Real.Next'], classifications)\n",
    "print(f\"Final MAE: {mae}\")\n"
   ]
  },
  {
   "cell_type": "code",
   "execution_count": 157,
   "metadata": {},
   "outputs": [
    {
     "data": {
      "text/html": [
       "<div>\n",
       "<style scoped>\n",
       "    .dataframe tbody tr th:only-of-type {\n",
       "        vertical-align: middle;\n",
       "    }\n",
       "\n",
       "    .dataframe tbody tr th {\n",
       "        vertical-align: top;\n",
       "    }\n",
       "\n",
       "    .dataframe thead th {\n",
       "        text-align: right;\n",
       "    }\n",
       "</style>\n",
       "<table border=\"1\" class=\"dataframe\">\n",
       "  <thead>\n",
       "    <tr style=\"text-align: right;\">\n",
       "      <th></th>\n",
       "      <th>Ghg.Change.Real.Next</th>\n",
       "      <th>Ghg.Change.Real.Cat.Next</th>\n",
       "    </tr>\n",
       "  </thead>\n",
       "  <tbody>\n",
       "    <tr>\n",
       "      <th>0</th>\n",
       "      <td>-15.50</td>\n",
       "      <td>0.000000</td>\n",
       "    </tr>\n",
       "    <tr>\n",
       "      <th>1</th>\n",
       "      <td>0.00</td>\n",
       "      <td>-6.181075</td>\n",
       "    </tr>\n",
       "    <tr>\n",
       "      <th>2</th>\n",
       "      <td>-2.30</td>\n",
       "      <td>-2.360412</td>\n",
       "    </tr>\n",
       "    <tr>\n",
       "      <th>3</th>\n",
       "      <td>0.00</td>\n",
       "      <td>0.000000</td>\n",
       "    </tr>\n",
       "    <tr>\n",
       "      <th>4</th>\n",
       "      <td>-7.90</td>\n",
       "      <td>0.000000</td>\n",
       "    </tr>\n",
       "    <tr>\n",
       "      <th>...</th>\n",
       "      <td>...</td>\n",
       "      <td>...</td>\n",
       "    </tr>\n",
       "    <tr>\n",
       "      <th>1325</th>\n",
       "      <td>-0.20</td>\n",
       "      <td>-2.691106</td>\n",
       "    </tr>\n",
       "    <tr>\n",
       "      <th>1326</th>\n",
       "      <td>0.00</td>\n",
       "      <td>-10.155822</td>\n",
       "    </tr>\n",
       "    <tr>\n",
       "      <th>1327</th>\n",
       "      <td>0.00</td>\n",
       "      <td>0.000000</td>\n",
       "    </tr>\n",
       "    <tr>\n",
       "      <th>1328</th>\n",
       "      <td>-1.00</td>\n",
       "      <td>-3.199662</td>\n",
       "    </tr>\n",
       "    <tr>\n",
       "      <th>1329</th>\n",
       "      <td>-5.66</td>\n",
       "      <td>-4.923707</td>\n",
       "    </tr>\n",
       "  </tbody>\n",
       "</table>\n",
       "<p>1330 rows × 2 columns</p>\n",
       "</div>"
      ],
      "text/plain": [
       "      Ghg.Change.Real.Next  Ghg.Change.Real.Cat.Next\n",
       "0                   -15.50                  0.000000\n",
       "1                     0.00                 -6.181075\n",
       "2                    -2.30                 -2.360412\n",
       "3                     0.00                  0.000000\n",
       "4                    -7.90                  0.000000\n",
       "...                    ...                       ...\n",
       "1325                 -0.20                 -2.691106\n",
       "1326                  0.00                -10.155822\n",
       "1327                  0.00                  0.000000\n",
       "1328                 -1.00                 -3.199662\n",
       "1329                 -5.66                 -4.923707\n",
       "\n",
       "[1330 rows x 2 columns]"
      ]
     },
     "execution_count": 157,
     "metadata": {},
     "output_type": "execute_result"
    }
   ],
   "source": [
    "# print the two columns side by side\n",
    "pd.concat([test_set['Ghg.Change.Real.Next'], classifications], axis=1)"
   ]
  },
  {
   "cell_type": "code",
   "execution_count": null,
   "metadata": {},
   "outputs": [],
   "source": [
    "# try"
   ]
  }
 ],
 "metadata": {
  "kernelspec": {
   "display_name": "lstm",
   "language": "python",
   "name": "python3"
  },
  "language_info": {
   "codemirror_mode": {
    "name": "ipython",
    "version": 3
   },
   "file_extension": ".py",
   "mimetype": "text/x-python",
   "name": "python",
   "nbconvert_exporter": "python",
   "pygments_lexer": "ipython3",
   "version": "3.8.18"
  }
 },
 "nbformat": 4,
 "nbformat_minor": 2
}
