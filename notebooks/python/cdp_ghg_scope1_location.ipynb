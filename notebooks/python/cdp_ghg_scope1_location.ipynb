{
 "cells": [
  {
   "cell_type": "markdown",
   "metadata": {},
   "source": [
    "`Postponed - This is an interesting dataset`\n",
    "\n",
    "- Not only can you work with nice visualizations, such as doing a global maps coloring with a darker shade countries which have more emissions on aggregate\n",
    "- You can also depict the trend in emissions at a country level, or you could do the mean as well\n",
    "- For modeling purposes, the country of first emission might be relevant? That is potentially true.\n",
    "- Though, I will be creating a significant amount of columns\n",
    "- Scope 1 Location might be hard to work with, perhaps I could use country-specific emissions? Or I could use the max emission country for every ID?"
   ]
  },
  {
   "cell_type": "code",
   "execution_count": 114,
   "metadata": {},
   "outputs": [],
   "source": [
    "import pandas as pd\n",
    "import numpy as np\n",
    "import seaborn as sns"
   ]
  },
  {
   "cell_type": "code",
   "execution_count": 115,
   "metadata": {},
   "outputs": [],
   "source": [
    "location = pd.read_stata(\"../../data/CDP Cleaning/cleaned outputs/cdp_ghg_scope1_location.dta\")"
   ]
  },
  {
   "cell_type": "code",
   "execution_count": 116,
   "metadata": {},
   "outputs": [
    {
     "data": {
      "text/html": [
       "<div>\n",
       "<style scoped>\n",
       "    .dataframe tbody tr th:only-of-type {\n",
       "        vertical-align: middle;\n",
       "    }\n",
       "\n",
       "    .dataframe tbody tr th {\n",
       "        vertical-align: top;\n",
       "    }\n",
       "\n",
       "    .dataframe thead th {\n",
       "        text-align: right;\n",
       "    }\n",
       "</style>\n",
       "<table border=\"1\" class=\"dataframe\">\n",
       "  <thead>\n",
       "    <tr style=\"text-align: right;\">\n",
       "      <th></th>\n",
       "      <th>id</th>\n",
       "      <th>country</th>\n",
       "      <th>emissions</th>\n",
       "      <th>year</th>\n",
       "    </tr>\n",
       "  </thead>\n",
       "  <tbody>\n",
       "    <tr>\n",
       "      <th>0</th>\n",
       "      <td>53</td>\n",
       "      <td>Sweden</td>\n",
       "      <td>740.00</td>\n",
       "      <td>2010.0</td>\n",
       "    </tr>\n",
       "    <tr>\n",
       "      <th>1</th>\n",
       "      <td>53</td>\n",
       "      <td>Portugal</td>\n",
       "      <td>42.00</td>\n",
       "      <td>2010.0</td>\n",
       "    </tr>\n",
       "    <tr>\n",
       "      <th>2</th>\n",
       "      <td>53</td>\n",
       "      <td>United States of America</td>\n",
       "      <td>784.00</td>\n",
       "      <td>2010.0</td>\n",
       "    </tr>\n",
       "    <tr>\n",
       "      <th>3</th>\n",
       "      <td>53</td>\n",
       "      <td>Puerto Rico</td>\n",
       "      <td>47.00</td>\n",
       "      <td>2010.0</td>\n",
       "    </tr>\n",
       "    <tr>\n",
       "      <th>4</th>\n",
       "      <td>53</td>\n",
       "      <td>Morocco</td>\n",
       "      <td>15.00</td>\n",
       "      <td>2010.0</td>\n",
       "    </tr>\n",
       "    <tr>\n",
       "      <th>...</th>\n",
       "      <td>...</td>\n",
       "      <td>...</td>\n",
       "      <td>...</td>\n",
       "      <td>...</td>\n",
       "    </tr>\n",
       "    <tr>\n",
       "      <th>159307</th>\n",
       "      <td>895756</td>\n",
       "      <td>Republic of Korea</td>\n",
       "      <td>79.41</td>\n",
       "      <td>2022.0</td>\n",
       "    </tr>\n",
       "    <tr>\n",
       "      <th>159308</th>\n",
       "      <td>895873</td>\n",
       "      <td>United States of America</td>\n",
       "      <td>53.00</td>\n",
       "      <td>2022.0</td>\n",
       "    </tr>\n",
       "    <tr>\n",
       "      <th>159309</th>\n",
       "      <td>895873</td>\n",
       "      <td>Canada</td>\n",
       "      <td>32.00</td>\n",
       "      <td>2022.0</td>\n",
       "    </tr>\n",
       "    <tr>\n",
       "      <th>159310</th>\n",
       "      <td>896044</td>\n",
       "      <td>Japan</td>\n",
       "      <td>963327.00</td>\n",
       "      <td>2022.0</td>\n",
       "    </tr>\n",
       "    <tr>\n",
       "      <th>159311</th>\n",
       "      <td>896120</td>\n",
       "      <td>Republic of Korea</td>\n",
       "      <td>3308.00</td>\n",
       "      <td>2022.0</td>\n",
       "    </tr>\n",
       "  </tbody>\n",
       "</table>\n",
       "<p>159312 rows × 4 columns</p>\n",
       "</div>"
      ],
      "text/plain": [
       "            id                   country  emissions    year\n",
       "0           53                    Sweden     740.00  2010.0\n",
       "1           53                  Portugal      42.00  2010.0\n",
       "2           53  United States of America     784.00  2010.0\n",
       "3           53               Puerto Rico      47.00  2010.0\n",
       "4           53                   Morocco      15.00  2010.0\n",
       "...        ...                       ...        ...     ...\n",
       "159307  895756         Republic of Korea      79.41  2022.0\n",
       "159308  895873  United States of America      53.00  2022.0\n",
       "159309  895873                    Canada      32.00  2022.0\n",
       "159310  896044                     Japan  963327.00  2022.0\n",
       "159311  896120         Republic of Korea    3308.00  2022.0\n",
       "\n",
       "[159312 rows x 4 columns]"
      ]
     },
     "execution_count": 116,
     "metadata": {},
     "output_type": "execute_result"
    }
   ],
   "source": [
    "location"
   ]
  },
  {
   "cell_type": "code",
   "execution_count": 117,
   "metadata": {},
   "outputs": [
    {
     "data": {
      "text/plain": [
       "country\n",
       "United States of America                          9680\n",
       "China                                             6498\n",
       "Germany                                           5066\n",
       "Canada                                            4753\n",
       "Japan                                             4462\n",
       "                                                  ... \n",
       "Other: Chile/Metropolitan Region                     1\n",
       "Other: Chile/(Region II) Antofagasta Region          1\n",
       "Other: Chile/(Region IV) Coquimbo Region             1\n",
       "Other: Southern                                      1\n",
       "Other, please specify: Rest of the World (ROW)       1\n",
       "Name: count, Length: 1911, dtype: int64"
      ]
     },
     "execution_count": 117,
     "metadata": {},
     "output_type": "execute_result"
    }
   ],
   "source": [
    "location['country'].value_counts()"
   ]
  },
  {
   "cell_type": "markdown",
   "metadata": {},
   "source": [
    "There is a significant amount of emissions marked \"other - please specify\", although the column itself might contain interesting information, I will collapse it for the sake of simplicity"
   ]
  },
  {
   "cell_type": "code",
   "execution_count": 118,
   "metadata": {},
   "outputs": [],
   "source": [
    "location.loc[((location['country'].str.split(\",|:\")).apply(lambda x: x[0]) == \"Other\"), 'country'] = 'Other'"
   ]
  },
  {
   "cell_type": "code",
   "execution_count": null,
   "metadata": {},
   "outputs": [],
   "source": [
    "location"
   ]
  },
  {
   "cell_type": "code",
   "execution_count": 144,
   "metadata": {},
   "outputs": [],
   "source": [
    "# if a country has less than 1 value then set its category to other\n",
    "\n",
    "lst = (location.groupby(['country', 'year'])['emissions'].count())"
   ]
  },
  {
   "cell_type": "code",
   "execution_count": 145,
   "metadata": {},
   "outputs": [
    {
     "data": {
      "text/plain": [
       "country        year  \n",
       "               2021.0    492\n",
       "Afghanistan    2011.0      1\n",
       "               2012.0      1\n",
       "               2013.0      1\n",
       "               2014.0      2\n",
       "                        ... \n",
       "Zimbabwe       2019.0      9\n",
       "               2020.0      9\n",
       "               2021.0     11\n",
       "               2022.0     10\n",
       "Åland Islands  2022.0      1\n",
       "Name: emissions, Length: 2994, dtype: int64"
      ]
     },
     "execution_count": 145,
     "metadata": {},
     "output_type": "execute_result"
    }
   ],
   "source": [
    "lst"
   ]
  },
  {
   "cell_type": "code",
   "execution_count": 127,
   "metadata": {},
   "outputs": [],
   "source": [
    "lst = lst[lst == True]"
   ]
  },
  {
   "cell_type": "code",
   "execution_count": 128,
   "metadata": {},
   "outputs": [
    {
     "data": {
      "text/plain": [
       "0                           Sweden\n",
       "1                         Portugal\n",
       "2         United States of America\n",
       "3                      Puerto Rico\n",
       "4                          Morocco\n",
       "                    ...           \n",
       "159307           Republic of Korea\n",
       "159308    United States of America\n",
       "159309                      Canada\n",
       "159310                       Japan\n",
       "159311           Republic of Korea\n",
       "Name: country, Length: 159312, dtype: object"
      ]
     },
     "execution_count": 128,
     "metadata": {},
     "output_type": "execute_result"
    }
   ],
   "source": [
    "location['country'].apply(lambda x: \"Other\" if x in lst else x)"
   ]
  },
  {
   "cell_type": "code",
   "execution_count": 129,
   "metadata": {},
   "outputs": [
    {
     "data": {
      "text/plain": [
       "array(['Sweden', 'Portugal', 'United States of America', 'Puerto Rico',\n",
       "       'Morocco', 'Spain', 'Chile', 'Argentina', 'France', 'Bolivia',\n",
       "       'Italy', 'United Kingdom', 'Colombia', 'Other', 'South Korea',\n",
       "       'Canada', 'South Africa', 'India', 'Japan', 'Rest of world',\n",
       "       'Netherlands', 'Germany', 'Belgium', 'Brazil', 'Taiwan', 'China',\n",
       "       'Malaysia', 'Finland', 'Mexico', 'Australia', 'Singapore',\n",
       "       'International Air Space', 'Pakistan', 'Costa Rica', 'Ireland',\n",
       "       'Turkey', 'Switzerland', 'Bulgaria', 'Croatia', 'Austria',\n",
       "       'Hungary', 'Romania', 'Czech Republic', 'Russia', 'Slovakia',\n",
       "       'Poland', 'Suriname', 'Jamaica', 'United Arab Emirates',\n",
       "       'Indonesia', 'Norway', 'Ecuador', 'Guatemala', 'Venezuela', 'Peru',\n",
       "       'Dominican Republic', 'Uruguay', 'New Zealand', 'Denmark',\n",
       "       'Philippines', 'Egypt', 'Israel', 'Greece', 'Republic of Korea',\n",
       "       'Thailand', 'Hong Kong', 'Luxembourg', 'Lithuania', 'Mozambique',\n",
       "       'Papua New Guinea', 'Tanzania', 'Tunisia', 'Paraguay', 'Panama',\n",
       "       'Oman', 'Trinidad and Tobago', 'Algeria', 'Kazakhstan', 'Nigeria',\n",
       "       'Cambodia', 'Ukraine', 'Vietnam', 'Azerbaijan', 'Angola',\n",
       "       'Bangladesh', 'Nepal', 'Greenland', 'Albania', 'Belarus', 'Malawi',\n",
       "       'Laos, People s Democratic Republic of', 'Latvia', 'Estonia',\n",
       "       'Uzbekistan', 'Serbia', 'Turks and Caicos Islands', 'Bahamas',\n",
       "       'International Waters', 'Mongolia', 'Kyrgyzstan', 'Fiji',\n",
       "       'Swaziland', 'Zimbabwe', 'Bahrain', 'Botswana', 'Zambia',\n",
       "       'Macedonia', 'Montenegro', 'Kenya', 'Namibia', 'Seychelles',\n",
       "       'Uganda', 'Cameroon', 'Ghana', 'Vanuatu', 'Slovenia',\n",
       "       'El Salvador', 'Honduras', 'Nicaragua', 'Macau', 'Barbados',\n",
       "       'Malta', 'Saint Lucia', 'American Samoa', 'Senegal', 'Jordan',\n",
       "       'Moldova', 'British Virgin Islands', 'Libyan Arab Jamahiriya',\n",
       "       'Saudi Arabia', 'Kuwait', 'Mauritius', 'Cuba', 'Lebanon',\n",
       "       'Equatorial Guinea', 'Qatar', 'Haiti', 'Gabon', 'Burkina Faso',\n",
       "       'Chad', 'Madagascar', 'Congo, Democratic Republic of the', 'Mali',\n",
       "       'Cote d Ivoire', 'Central African Republic', 'Monaco', 'Jersey',\n",
       "       'Syrian Arab Republic', 'Yemen', 'Iceland', 'Armenia', 'Georgia',\n",
       "       'Cyprus', 'Ethiopia', 'Guadeloups', 'Congo, Republic of the',\n",
       "       'Dubai', 'Sri Lanka', 'Guernsey', 'Lesotho', 'Turkmenistan',\n",
       "       'Myanmar', 'Liechtenstein', 'Tajikistan',\n",
       "       'Iran, Islamic Republic of', 'Niger', 'Guam', 'Brunei Darussalam',\n",
       "       'Bosnia and Herzegovina', 'French Polynesia', 'Guinea', 'Djibouti',\n",
       "       'Benin', 'Bermuda', 'Cayman Islands', 'Iraq', 'Sudan',\n",
       "       'Afghanistan', 'Mauritania, Islamic Republic of', 'Faroe Islands',\n",
       "       'Rwanda', 'Andorra', 'Isle of Man', 'Gibralter',\n",
       "       'Falkland Islands', 'Micronesia, Federated States of',\n",
       "       'Sierra Leone', 'Martinique', 'Burundi', 'French Guiana',\n",
       "       'Maldives', 'Asia Pacific (or JAPA)', 'Europe',\n",
       "       'Latin America and Caribbean (LAC)', 'North America',\n",
       "       'Africa and Middle East', 'Americas', 'Latin America (LATAM)',\n",
       "       'EU25', 'Asia, Australasia, Middle East and Africa',\n",
       "       'South America', 'Caribbean',\n",
       "       'Europe, Middle East and Africa (EMEA)', 'Asia, Australasia',\n",
       "       'Togo', \"Laos, People's Democratic Republic of\", 'Libya',\n",
       "       'The former Yugoslav Republic of Macedonia', 'Africa',\n",
       "       'Middle East', 'Oceania',\n",
       "       'Europe, the Middle East, Africa and Russia (EMEAR)',\n",
       "       'Asia Middle East (AME)', 'Western Europe',\n",
       "       'Latin or South America (LSA)', 'Asia Pacific and Africa',\n",
       "       'US, Latin America and Caribbean (USLAC)',\n",
       "       'Eastern Europe, Middle East, and Africa (EEMEA)', 'Eurasia',\n",
       "       'Africa and Latin America', 'Virgin Islands',\n",
       "       'Saint Martin (French part)', 'Anguilla', 'Antigua and Barbuda',\n",
       "       'Europe and Africa', 'Réunion',\n",
       "       'Middle East and North Africa (MENA)',\n",
       "       'CEE (Central and Eastern Europe)', 'EU12', 'Eastern Europe & CIS',\n",
       "       'Eastern Europe', 'CIS & Baltic states', 'Guadeloupe', 'Benelux',\n",
       "       \"Democratic People's Republic of Korea\", 'New Caledonia', 'EU27',\n",
       "       'Palau', 'Nordic countries', 'CIS and Asia', 'Aruba', 'Cape Verde',\n",
       "       'Baltic states', 'Grenada', 'Belize', 'Australasia',\n",
       "       'Solomon Islands',\n",
       "       'We are an Electric Utilities company – please see our response to EU2 instead of CC9.1a',\n",
       "       'Guinea-Bissau', 'Gambia', 'CIS+', 'Liberia', 'Central America',\n",
       "       'Dominica', 'Sint Maarten (Dutch part)', 'North Africa',\n",
       "       'Africa/Eurasia', 'Central Europe', 'EU15', 'Christmas Island',\n",
       "       'Middle and Near East', 'Commonwealth of Independent States (CIS)',\n",
       "       'South Sudan', 'Southern Europe, Middle East and Africa (SEMEA)',\n",
       "       'Saint Kitts and Nevis', 'Samoa', 'Bhutan', 'Guyana',\n",
       "       'United Kingdom of Great Britain and Northern Ireland',\n",
       "       'Bolivia (Plurinational State of)', 'Czechia',\n",
       "       'Russian Federation', 'Taiwan (Province of China)',\n",
       "       'United Republic of Tanzania', 'Viet Nam',\n",
       "       'Venezuela (Bolivarian Republic of)',\n",
       "       'China, Hong Kong Special Administrative Region',\n",
       "       'Democratic Republic of the Congo', 'Congo', 'Cote d’Ivoire',\n",
       "       'Cabo Verde', 'Mauritania', 'Republic of Macedonia', 'EU28',\n",
       "       'Republic of Moldova', 'Curaçao',\n",
       "       'Laos, People’s Democratic Republic of',\n",
       "       'China, Macao Special Administrative Region',\n",
       "       'United States Virgin Islands', 'Somalia', 'Tonga',\n",
       "       'Sao Tome and Principe', 'Baltic States', 'Timor Leste',\n",
       "       'Bonaire, Sint Eustatius and Saba', 'Gibraltar', 'Cote dIvoire',\n",
       "       'Taiwan, Greater China', 'Americas: Middle East & South Asia',\n",
       "       'Laos, Peoples Democratic Republic of', 'Runion',\n",
       "       'Micronesia (Federated States of)', 'Comoros', 'Mayotte',\n",
       "       \"Côte d'Ivoire\", 'Eswatini', 'Iran (Islamic Republic of)',\n",
       "       'Bosnia & Herzegovina', 'North Macedonia',\n",
       "       \"Lao People's Democratic Republic\", 'Timor-Leste',\n",
       "       'Northern Mariana Islands', 'Gulf of Mexico (GOM)', '',\n",
       "       'United States Minor Outlying Islands', 'Saint Barthélemy',\n",
       "       'Taiwan, China', 'Hong Kong SAR, China', 'State of Palestine',\n",
       "       'Saint Vincent and the Grenadines', 'Åland Islands'], dtype=object)"
      ]
     },
     "execution_count": 129,
     "metadata": {},
     "output_type": "execute_result"
    }
   ],
   "source": [
    "location['country'].unique()"
   ]
  },
  {
   "cell_type": "markdown",
   "metadata": {},
   "source": [
    "TODO:\n",
    "- join operation with Summary and industry classification if needed"
   ]
  }
 ],
 "metadata": {
  "kernelspec": {
   "display_name": "thesis_project",
   "language": "python",
   "name": "python3"
  },
  "language_info": {
   "codemirror_mode": {
    "name": "ipython",
    "version": 3
   },
   "file_extension": ".py",
   "mimetype": "text/x-python",
   "name": "python",
   "nbconvert_exporter": "python",
   "pygments_lexer": "ipython3",
   "version": "3.12.0"
  }
 },
 "nbformat": 4,
 "nbformat_minor": 2
}
