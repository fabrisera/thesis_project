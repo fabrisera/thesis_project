{
 "cells": [
  {
   "cell_type": "code",
   "execution_count": 54,
   "metadata": {},
   "outputs": [],
   "source": [
    "import pandas as pd\n",
    "from sklearn.metrics import mean_squared_error, r2_score, mean_absolute_error"
   ]
  },
  {
   "cell_type": "code",
   "execution_count": 55,
   "metadata": {},
   "outputs": [],
   "source": [
    "df = pd.read_csv(\"../R/final_model_selected.csv\")"
   ]
  },
  {
   "cell_type": "code",
   "execution_count": 56,
   "metadata": {},
   "outputs": [],
   "source": [
    "df.drop(columns=[\"Unnamed: 0\"], inplace=True)"
   ]
  },
  {
   "cell_type": "code",
   "execution_count": 57,
   "metadata": {},
   "outputs": [],
   "source": [
    "train_df = df.loc[df['Year'] < 10]\n",
    "test_df = df.loc[df['Year'] == 10]"
   ]
  },
  {
   "cell_type": "code",
   "execution_count": 58,
   "metadata": {},
   "outputs": [
    {
     "name": "stderr",
     "output_type": "stream",
     "text": [
      "<>:8: SyntaxWarning: invalid escape sequence '\\%'\n",
      "<>:8: SyntaxWarning: invalid escape sequence '\\%'\n",
      "<>:18: SyntaxWarning: invalid escape sequence '\\%'\n",
      "<>:18: SyntaxWarning: invalid escape sequence '\\%'\n",
      "<>:8: SyntaxWarning: invalid escape sequence '\\%'\n",
      "<>:8: SyntaxWarning: invalid escape sequence '\\%'\n",
      "<>:18: SyntaxWarning: invalid escape sequence '\\%'\n",
      "<>:18: SyntaxWarning: invalid escape sequence '\\%'\n",
      "/var/folders/z7/jmcsyl9x47zdw6n1xd2_16jh0000gn/T/ipykernel_26202/3949400908.py:8: SyntaxWarning: invalid escape sequence '\\%'\n",
      "  '\\% of Total Observations': f'{train_df.shape[0] / df.shape[0] * 100:.2f}\\%'\n",
      "/var/folders/z7/jmcsyl9x47zdw6n1xd2_16jh0000gn/T/ipykernel_26202/3949400908.py:8: SyntaxWarning: invalid escape sequence '\\%'\n",
      "  '\\% of Total Observations': f'{train_df.shape[0] / df.shape[0] * 100:.2f}\\%'\n",
      "/var/folders/z7/jmcsyl9x47zdw6n1xd2_16jh0000gn/T/ipykernel_26202/3949400908.py:18: SyntaxWarning: invalid escape sequence '\\%'\n",
      "  '\\% of Total Observations': f'{test_df.shape[0] / df.shape[0] * 100:.2f}\\%'\n",
      "/var/folders/z7/jmcsyl9x47zdw6n1xd2_16jh0000gn/T/ipykernel_26202/3949400908.py:18: SyntaxWarning: invalid escape sequence '\\%'\n",
      "  '\\% of Total Observations': f'{test_df.shape[0] / df.shape[0] * 100:.2f}\\%'\n"
     ]
    }
   ],
   "source": [
    "train_stats = {\n",
    "    'Dataset': 'Train',\n",
    "    'Number of Observations': train_df.shape[0],\n",
    "    'Number of Features': train_df.shape[1] - 1,\n",
    "    'Number of Unique Firms': train_df['Id'].nunique(),\n",
    "    'Mean Next Year Decarbonization Rate': train_df['Ghg.Change.Real.Next'].mean(),\n",
    "    'Standard Deviation Next Year Decarbonization Rate': train_df['Ghg.Change.Real.Next'].std(),\n",
    "    '\\% of Total Observations': f'{train_df.shape[0] / df.shape[0] * 100:.2f}\\%'\n",
    "}\n",
    "\n",
    "test_stats = {\n",
    "    'Dataset': 'Test',\n",
    "    'Number of Observations': test_df.shape[0],\n",
    "    'Number of Features': test_df.shape[1] - 1,\n",
    "    'Number of Unique Firms': test_df['Id'].nunique(),\n",
    "    'Mean Next Year Decarbonization Rate': test_df['Ghg.Change.Real.Next'].mean(),\n",
    "    'Standard Deviation Next Year Decarbonization Rate': test_df['Ghg.Change.Real.Next'].std(),\n",
    "    '\\% of Total Observations': f'{test_df.shape[0] / df.shape[0] * 100:.2f}\\%'\n",
    "}\n",
    "\n",
    "summary_df = pd.DataFrame([train_stats, test_stats])\n",
    "# transpose\n",
    "summary_df = summary_df.T\n",
    "\n",
    "# make the first row the column names\n",
    "summary_df.columns = summary_df.iloc[0]\n",
    "summary_df = summary_df[1:]"
   ]
  },
  {
   "cell_type": "code",
   "execution_count": 59,
   "metadata": {},
   "outputs": [
    {
     "data": {
      "text/html": [
       "<div>\n",
       "<style scoped>\n",
       "    .dataframe tbody tr th:only-of-type {\n",
       "        vertical-align: middle;\n",
       "    }\n",
       "\n",
       "    .dataframe tbody tr th {\n",
       "        vertical-align: top;\n",
       "    }\n",
       "\n",
       "    .dataframe thead th {\n",
       "        text-align: right;\n",
       "    }\n",
       "</style>\n",
       "<table border=\"1\" class=\"dataframe\">\n",
       "  <thead>\n",
       "    <tr style=\"text-align: right;\">\n",
       "      <th>Dataset</th>\n",
       "      <th>Train</th>\n",
       "      <th>Test</th>\n",
       "    </tr>\n",
       "  </thead>\n",
       "  <tbody>\n",
       "    <tr>\n",
       "      <th>Number of Observations</th>\n",
       "      <td>12411</td>\n",
       "      <td>1330</td>\n",
       "    </tr>\n",
       "    <tr>\n",
       "      <th>Number of Features</th>\n",
       "      <td>130</td>\n",
       "      <td>130</td>\n",
       "    </tr>\n",
       "    <tr>\n",
       "      <th>Number of Unique Firms</th>\n",
       "      <td>1870</td>\n",
       "      <td>1330</td>\n",
       "    </tr>\n",
       "    <tr>\n",
       "      <th>Mean Next Year Decarbonization Rate</th>\n",
       "      <td>-4.191514</td>\n",
       "      <td>-5.982805</td>\n",
       "    </tr>\n",
       "    <tr>\n",
       "      <th>Standard Deviation Next Year Decarbonization Rate</th>\n",
       "      <td>7.473937</td>\n",
       "      <td>10.128837</td>\n",
       "    </tr>\n",
       "    <tr>\n",
       "      <th>\\% of Total Observations</th>\n",
       "      <td>90.32\\%</td>\n",
       "      <td>9.68\\%</td>\n",
       "    </tr>\n",
       "  </tbody>\n",
       "</table>\n",
       "</div>"
      ],
      "text/plain": [
       "Dataset                                               Train       Test\n",
       "Number of Observations                                12411       1330\n",
       "Number of Features                                      130        130\n",
       "Number of Unique Firms                                 1870       1330\n",
       "Mean Next Year Decarbonization Rate               -4.191514  -5.982805\n",
       "Standard Deviation Next Year Decarbonization Rate  7.473937  10.128837\n",
       "\\% of Total Observations                            90.32\\%     9.68\\%"
      ]
     },
     "execution_count": 59,
     "metadata": {},
     "output_type": "execute_result"
    }
   ],
   "source": [
    "summary_df"
   ]
  },
  {
   "cell_type": "code",
   "execution_count": 60,
   "metadata": {},
   "outputs": [
    {
     "data": {
      "text/html": [
       "<div>\n",
       "<style scoped>\n",
       "    .dataframe tbody tr th:only-of-type {\n",
       "        vertical-align: middle;\n",
       "    }\n",
       "\n",
       "    .dataframe tbody tr th {\n",
       "        vertical-align: top;\n",
       "    }\n",
       "\n",
       "    .dataframe thead th {\n",
       "        text-align: right;\n",
       "    }\n",
       "</style>\n",
       "<table border=\"1\" class=\"dataframe\">\n",
       "  <thead>\n",
       "    <tr style=\"text-align: right;\">\n",
       "      <th>Dataset</th>\n",
       "      <th>Train</th>\n",
       "      <th>Test</th>\n",
       "    </tr>\n",
       "  </thead>\n",
       "  <tbody>\n",
       "    <tr>\n",
       "      <th>Number of Observations</th>\n",
       "      <td>12411</td>\n",
       "      <td>1330</td>\n",
       "    </tr>\n",
       "    <tr>\n",
       "      <th>Number of Features</th>\n",
       "      <td>130</td>\n",
       "      <td>130</td>\n",
       "    </tr>\n",
       "    <tr>\n",
       "      <th>Number of Unique Firms</th>\n",
       "      <td>1870</td>\n",
       "      <td>1330</td>\n",
       "    </tr>\n",
       "    <tr>\n",
       "      <th>Mean Next Year Decarbonization Rate</th>\n",
       "      <td>-4.191514</td>\n",
       "      <td>-5.982805</td>\n",
       "    </tr>\n",
       "    <tr>\n",
       "      <th>Standard Deviation Next Year Decarbonization Rate</th>\n",
       "      <td>7.473937</td>\n",
       "      <td>10.128837</td>\n",
       "    </tr>\n",
       "    <tr>\n",
       "      <th>\\% of Total Observations</th>\n",
       "      <td>90.32\\%</td>\n",
       "      <td>9.68\\%</td>\n",
       "    </tr>\n",
       "  </tbody>\n",
       "</table>\n",
       "</div>"
      ],
      "text/plain": [
       "Dataset                                               Train       Test\n",
       "Number of Observations                                12411       1330\n",
       "Number of Features                                      130        130\n",
       "Number of Unique Firms                                 1870       1330\n",
       "Mean Next Year Decarbonization Rate               -4.191514  -5.982805\n",
       "Standard Deviation Next Year Decarbonization Rate  7.473937  10.128837\n",
       "\\% of Total Observations                            90.32\\%     9.68\\%"
      ]
     },
     "execution_count": 60,
     "metadata": {},
     "output_type": "execute_result"
    }
   ],
   "source": [
    "summary_df"
   ]
  },
  {
   "cell_type": "code",
   "execution_count": 61,
   "metadata": {},
   "outputs": [],
   "source": [
    "summary_df.to_latex(\"../../thesis_tex/tables/summary_train_test.tex\", caption=\"Summary Statistics for Training and Testing Data\", label=\"tab:summary_stats\", longtable=True, float_format=\"%.2f\")"
   ]
  },
  {
   "cell_type": "code",
   "execution_count": 92,
   "metadata": {},
   "outputs": [
    {
     "name": "stderr",
     "output_type": "stream",
     "text": [
      "<>:1: SyntaxWarning: invalid escape sequence '\\i'\n",
      "<>:1: SyntaxWarning: invalid escape sequence '\\i'\n",
      "/var/folders/z7/jmcsyl9x47zdw6n1xd2_16jh0000gn/T/ipykernel_26202/443041373.py:1: SyntaxWarning: invalid escape sequence '\\i'\n",
      "  '''\n",
      "/Users/fabrizioserafini/anaconda3/envs/thesis_project/lib/python3.12/site-packages/sklearn/metrics/_regression.py:483: FutureWarning: 'squared' is deprecated in version 1.4 and will be removed in 1.6. To calculate the root mean squared error, use the function'root_mean_squared_error'.\n",
      "  warnings.warn(\n",
      "/var/folders/z7/jmcsyl9x47zdw6n1xd2_16jh0000gn/T/ipykernel_26202/443041373.py:23: FutureWarning: The behavior of DataFrame concatenation with empty or all-NA entries is deprecated. In a future version, this will no longer exclude empty or all-NA columns when determining the result dtypes. To retain the old behavior, exclude the relevant entries before the concat operation.\n",
      "  result_df = pd.concat([result_df, new_row], ignore_index=True)\n",
      "/var/folders/z7/jmcsyl9x47zdw6n1xd2_16jh0000gn/T/ipykernel_26202/443041373.py:25: SettingWithCopyWarning: \n",
      "A value is trying to be set on a copy of a slice from a DataFrame.\n",
      "Try using .loc[row_indexer,col_indexer] = value instead\n",
      "\n",
      "See the caveats in the documentation: https://pandas.pydata.org/pandas-docs/stable/user_guide/indexing.html#returning-a-view-versus-a-copy\n",
      "  test_df['Mean.From.Train'] = test_df['Id'].map(train_df.groupby('Id')['Ghg.Change.Real'].mean())\n",
      "/Users/fabrizioserafini/anaconda3/envs/thesis_project/lib/python3.12/site-packages/sklearn/metrics/_regression.py:483: FutureWarning: 'squared' is deprecated in version 1.4 and will be removed in 1.6. To calculate the root mean squared error, use the function'root_mean_squared_error'.\n",
      "  warnings.warn(\n",
      "/Users/fabrizioserafini/anaconda3/envs/thesis_project/lib/python3.12/site-packages/sklearn/metrics/_regression.py:483: FutureWarning: 'squared' is deprecated in version 1.4 and will be removed in 1.6. To calculate the root mean squared error, use the function'root_mean_squared_error'.\n",
      "  warnings.warn(\n",
      "/Users/fabrizioserafini/anaconda3/envs/thesis_project/lib/python3.12/site-packages/sklearn/metrics/_regression.py:483: FutureWarning: 'squared' is deprecated in version 1.4 and will be removed in 1.6. To calculate the root mean squared error, use the function'root_mean_squared_error'.\n",
      "  warnings.warn(\n"
     ]
    },
    {
     "data": {
      "text/html": [
       "<div>\n",
       "<style scoped>\n",
       "    .dataframe tbody tr th:only-of-type {\n",
       "        vertical-align: middle;\n",
       "    }\n",
       "\n",
       "    .dataframe tbody tr th {\n",
       "        vertical-align: top;\n",
       "    }\n",
       "\n",
       "    .dataframe thead th {\n",
       "        text-align: right;\n",
       "    }\n",
       "</style>\n",
       "<table border=\"1\" class=\"dataframe\">\n",
       "  <thead>\n",
       "    <tr style=\"text-align: right;\">\n",
       "      <th></th>\n",
       "      <th>Method</th>\n",
       "      <th>MSE</th>\n",
       "      <th>RMSE</th>\n",
       "      <th>MAE</th>\n",
       "      <th>R2</th>\n",
       "    </tr>\n",
       "  </thead>\n",
       "  <tbody>\n",
       "    <tr>\n",
       "      <th>0</th>\n",
       "      <td>Current Year Rate</td>\n",
       "      <td>148.06</td>\n",
       "      <td>12.17</td>\n",
       "      <td>7.20</td>\n",
       "      <td>-0.44</td>\n",
       "    </tr>\n",
       "    <tr>\n",
       "      <th>1</th>\n",
       "      <td>Previous Mean For Each Firm</td>\n",
       "      <td>109.16</td>\n",
       "      <td>10.45</td>\n",
       "      <td>6.41</td>\n",
       "      <td>-0.06</td>\n",
       "    </tr>\n",
       "    <tr>\n",
       "      <th>2</th>\n",
       "      <td>Guessing Zero for All Firms</td>\n",
       "      <td>138.31</td>\n",
       "      <td>11.76</td>\n",
       "      <td>6.99</td>\n",
       "      <td>-0.35</td>\n",
       "    </tr>\n",
       "    <tr>\n",
       "      <th>3</th>\n",
       "      <td>Previous Year Mean for All Firms</td>\n",
       "      <td>102.52</td>\n",
       "      <td>10.13</td>\n",
       "      <td>7.03</td>\n",
       "      <td>-0.00</td>\n",
       "    </tr>\n",
       "  </tbody>\n",
       "</table>\n",
       "</div>"
      ],
      "text/plain": [
       "                             Method     MSE   RMSE   MAE    R2\n",
       "0                 Current Year Rate  148.06  12.17  7.20 -0.44\n",
       "1       Previous Mean For Each Firm  109.16  10.45  6.41 -0.06\n",
       "2       Guessing Zero for All Firms  138.31  11.76  6.99 -0.35\n",
       "3  Previous Year Mean for All Firms  102.52  10.13  7.03 -0.00"
      ]
     },
     "execution_count": 92,
     "metadata": {},
     "output_type": "execute_result"
    }
   ],
   "source": [
    "'''\n",
    "# now let's create a baseline metrics dataset according to this \n",
    "The baseline metrics of the test set are calculated using the following methods:\n",
    "\\begin{itemize}\n",
    "    \\item Using previous year decarbonization rate to predict next year's decarbonization rate\n",
    "    \\item Using the mean decarbonization rate for each firm across all reported years\n",
    "    \\item Guessing zero for all firms as the next year's decarbonization rate\n",
    "    \\item Using the mean for all firms for each year as the prediction for the next year's decarbonization rate\n",
    "\\end{itemize}\n",
    "'''\n",
    "\n",
    "result_df = pd.DataFrame(columns=['Method', 'MSE', 'RMSE', 'MAE', 'R2'])\n",
    "\n",
    "# previous year decarbonization rate\n",
    "y_pred = test_df['Ghg.Change.Real']\n",
    "y_true = test_df['Ghg.Change.Real.Next']\n",
    "mse = mean_squared_error(y_true, y_pred).round(2)\n",
    "rmse = mean_squared_error(y_true, y_pred, squared=False).round(2)\n",
    "mae = mean_absolute_error(y_true, y_pred).round(2)\n",
    "r2 = r2_score(y_true, y_pred).round(2)\n",
    "\n",
    "new_row = pd.DataFrame({'Method': 'Current Year Rate', 'MSE': mse, 'RMSE': rmse, 'MAE': mae, 'R2': r2}, index=[0])\n",
    "result_df = pd.concat([result_df, new_row], ignore_index=True)\n",
    "\n",
    "test_df['Mean.From.Train'] = test_df['Id'].map(train_df.groupby('Id')['Ghg.Change.Real'].mean())\n",
    "\n",
    "y_pred = test_df['Mean.From.Train']\n",
    "y_true = test_df['Ghg.Change.Real.Next']\n",
    "\n",
    "\n",
    "mse = mean_squared_error(y_true, y_pred).round(2)\n",
    "rmse = mean_squared_error(y_true, y_pred, squared=False).round(2)\n",
    "mae = mean_absolute_error(y_true, y_pred).round(2)\n",
    "r2 = r2_score(y_true, y_pred).round(2)\n",
    "\n",
    "new_row = pd.DataFrame({'Method': 'Previous Mean For Each Firm', 'MSE': mse, 'RMSE': rmse, 'MAE': mae, 'R2': r2}, index=[0])\n",
    "result_df = pd.concat([result_df, new_row], ignore_index=True)\n",
    "\n",
    "# guessing zero for all firms\n",
    "y_pred = [0] * test_df.shape[0]\n",
    "y_true = test_df['Ghg.Change.Real.Next']\n",
    "mse = mean_squared_error(y_true, y_pred).round(2)\n",
    "rmse = mean_squared_error(y_true, y_pred, squared=False).round(2)\n",
    "mae = mean_absolute_error(y_true, y_pred).round(2)\n",
    "r2 = r2_score(y_true, y_pred).round(2)\n",
    "\n",
    "new_row = pd.DataFrame({'Method': 'Guessing Zero for All Firms', 'MSE': mse, 'RMSE': rmse, 'MAE': mae, 'R2': r2}, index=[0])\n",
    "result_df = pd.concat([result_df, new_row], ignore_index=True)\n",
    "\n",
    "# using the mean for all firms for the previous year\n",
    "y_pred = test_df['Ghg.Change.Real'].mean()\n",
    "y_true = test_df['Ghg.Change.Real.Next']\n",
    "mse = mean_squared_error(y_true, [y_pred] * test_df.shape[0]).round(2)\n",
    "rmse = mean_squared_error(y_true, [y_pred] * test_df.shape[0], squared=False).round(2)\n",
    "mae = mean_absolute_error(y_true, [y_pred] * test_df.shape[0]).round(2)\n",
    "r2 = r2_score(y_true, [y_pred] * test_df.shape[0]).round(2)\n",
    "\n",
    "new_row = pd.DataFrame({'Method': 'Previous Year Mean for All Firms', 'MSE': mse, 'RMSE': rmse, 'MAE': mae, 'R2': r2}, index=[0])\n",
    "result_df = pd.concat([result_df, new_row], ignore_index=True)\n",
    "\n",
    "result_df\n"
   ]
  },
  {
   "cell_type": "code",
   "execution_count": 93,
   "metadata": {},
   "outputs": [],
   "source": [
    "result_df.index = result_df.index + 1"
   ]
  },
  {
   "cell_type": "code",
   "execution_count": 94,
   "metadata": {},
   "outputs": [
    {
     "data": {
      "text/html": [
       "<div>\n",
       "<style scoped>\n",
       "    .dataframe tbody tr th:only-of-type {\n",
       "        vertical-align: middle;\n",
       "    }\n",
       "\n",
       "    .dataframe tbody tr th {\n",
       "        vertical-align: top;\n",
       "    }\n",
       "\n",
       "    .dataframe thead th {\n",
       "        text-align: right;\n",
       "    }\n",
       "</style>\n",
       "<table border=\"1\" class=\"dataframe\">\n",
       "  <thead>\n",
       "    <tr style=\"text-align: right;\">\n",
       "      <th></th>\n",
       "      <th>Method</th>\n",
       "      <th>MSE</th>\n",
       "      <th>RMSE</th>\n",
       "      <th>MAE</th>\n",
       "      <th>R2</th>\n",
       "    </tr>\n",
       "  </thead>\n",
       "  <tbody>\n",
       "    <tr>\n",
       "      <th>1</th>\n",
       "      <td>Current Year Rate</td>\n",
       "      <td>148.06</td>\n",
       "      <td>12.17</td>\n",
       "      <td>7.20</td>\n",
       "      <td>-0.44</td>\n",
       "    </tr>\n",
       "    <tr>\n",
       "      <th>2</th>\n",
       "      <td>Previous Mean For Each Firm</td>\n",
       "      <td>109.16</td>\n",
       "      <td>10.45</td>\n",
       "      <td>6.41</td>\n",
       "      <td>-0.06</td>\n",
       "    </tr>\n",
       "    <tr>\n",
       "      <th>3</th>\n",
       "      <td>Guessing Zero for All Firms</td>\n",
       "      <td>138.31</td>\n",
       "      <td>11.76</td>\n",
       "      <td>6.99</td>\n",
       "      <td>-0.35</td>\n",
       "    </tr>\n",
       "    <tr>\n",
       "      <th>4</th>\n",
       "      <td>Previous Year Mean for All Firms</td>\n",
       "      <td>102.52</td>\n",
       "      <td>10.13</td>\n",
       "      <td>7.03</td>\n",
       "      <td>-0.00</td>\n",
       "    </tr>\n",
       "  </tbody>\n",
       "</table>\n",
       "</div>"
      ],
      "text/plain": [
       "                             Method     MSE   RMSE   MAE    R2\n",
       "1                 Current Year Rate  148.06  12.17  7.20 -0.44\n",
       "2       Previous Mean For Each Firm  109.16  10.45  6.41 -0.06\n",
       "3       Guessing Zero for All Firms  138.31  11.76  6.99 -0.35\n",
       "4  Previous Year Mean for All Firms  102.52  10.13  7.03 -0.00"
      ]
     },
     "execution_count": 94,
     "metadata": {},
     "output_type": "execute_result"
    }
   ],
   "source": [
    "result_df"
   ]
  },
  {
   "cell_type": "code",
   "execution_count": 95,
   "metadata": {},
   "outputs": [],
   "source": [
    "# show only 2 decimal points\n",
    "result_df.to_latex(\"../../thesis_tex/tables/baseline_metrics.tex\", caption=\"Baseline Metrics for Test Set\", label=\"tab:baseline_metrics\", longtable=True, float_format=\"%.2f\", index = True)"
   ]
  },
  {
   "cell_type": "code",
   "execution_count": 65,
   "metadata": {},
   "outputs": [],
   "source": [
    "data = df.loc[df['Year'] == 10]"
   ]
  },
  {
   "cell_type": "code",
   "execution_count": 66,
   "metadata": {},
   "outputs": [
    {
     "data": {
      "text/html": [
       "<div>\n",
       "<style scoped>\n",
       "    .dataframe tbody tr th:only-of-type {\n",
       "        vertical-align: middle;\n",
       "    }\n",
       "\n",
       "    .dataframe tbody tr th {\n",
       "        vertical-align: top;\n",
       "    }\n",
       "\n",
       "    .dataframe thead th {\n",
       "        text-align: right;\n",
       "    }\n",
       "</style>\n",
       "<table border=\"1\" class=\"dataframe\">\n",
       "  <thead>\n",
       "    <tr style=\"text-align: right;\">\n",
       "      <th></th>\n",
       "      <th>Ghg.Change.Real.Next</th>\n",
       "    </tr>\n",
       "  </thead>\n",
       "  <tbody>\n",
       "    <tr>\n",
       "      <th>count</th>\n",
       "      <td>1330.000000</td>\n",
       "    </tr>\n",
       "    <tr>\n",
       "      <th>mean</th>\n",
       "      <td>-5.982805</td>\n",
       "    </tr>\n",
       "    <tr>\n",
       "      <th>std</th>\n",
       "      <td>10.128837</td>\n",
       "    </tr>\n",
       "    <tr>\n",
       "      <th>min</th>\n",
       "      <td>-49.800000</td>\n",
       "    </tr>\n",
       "    <tr>\n",
       "      <th>25%</th>\n",
       "      <td>-8.692500</td>\n",
       "    </tr>\n",
       "    <tr>\n",
       "      <th>50%</th>\n",
       "      <td>-2.500000</td>\n",
       "    </tr>\n",
       "    <tr>\n",
       "      <th>75%</th>\n",
       "      <td>-0.100000</td>\n",
       "    </tr>\n",
       "    <tr>\n",
       "      <th>max</th>\n",
       "      <td>43.720000</td>\n",
       "    </tr>\n",
       "  </tbody>\n",
       "</table>\n",
       "</div>"
      ],
      "text/plain": [
       "       Ghg.Change.Real.Next\n",
       "count           1330.000000\n",
       "mean              -5.982805\n",
       "std               10.128837\n",
       "min              -49.800000\n",
       "25%               -8.692500\n",
       "50%               -2.500000\n",
       "75%               -0.100000\n",
       "max               43.720000"
      ]
     },
     "execution_count": 66,
     "metadata": {},
     "output_type": "execute_result"
    }
   ],
   "source": [
    "data['Ghg.Change.Real.Next'].describe().to_frame()"
   ]
  },
  {
   "cell_type": "code",
   "execution_count": 67,
   "metadata": {},
   "outputs": [
    {
     "data": {
      "text/plain": [
       "15.939849624060152"
      ]
     },
     "execution_count": 67,
     "metadata": {},
     "output_type": "execute_result"
    }
   ],
   "source": [
    "(data['Ghg.Change.Real.Next'] == 0).mean() * 100"
   ]
  },
  {
   "cell_type": "markdown",
   "metadata": {},
   "source": [
    "# Predicting Zero"
   ]
  },
  {
   "cell_type": "code",
   "execution_count": 68,
   "metadata": {},
   "outputs": [
    {
     "ename": "KeyError",
     "evalue": "'zeroes'",
     "output_type": "error",
     "traceback": [
      "\u001b[0;31m---------------------------------------------------------------------------\u001b[0m",
      "\u001b[0;31mKeyError\u001b[0m                                  Traceback (most recent call last)",
      "File \u001b[0;32m~/anaconda3/envs/thesis_project/lib/python3.12/site-packages/pandas/core/indexes/base.py:3802\u001b[0m, in \u001b[0;36mIndex.get_loc\u001b[0;34m(self, key)\u001b[0m\n\u001b[1;32m   3801\u001b[0m \u001b[38;5;28;01mtry\u001b[39;00m:\n\u001b[0;32m-> 3802\u001b[0m     \u001b[38;5;28;01mreturn\u001b[39;00m \u001b[38;5;28;43mself\u001b[39;49m\u001b[38;5;241;43m.\u001b[39;49m\u001b[43m_engine\u001b[49m\u001b[38;5;241;43m.\u001b[39;49m\u001b[43mget_loc\u001b[49m\u001b[43m(\u001b[49m\u001b[43mcasted_key\u001b[49m\u001b[43m)\u001b[49m\n\u001b[1;32m   3803\u001b[0m \u001b[38;5;28;01mexcept\u001b[39;00m \u001b[38;5;167;01mKeyError\u001b[39;00m \u001b[38;5;28;01mas\u001b[39;00m err:\n",
      "File \u001b[0;32mindex.pyx:153\u001b[0m, in \u001b[0;36mpandas._libs.index.IndexEngine.get_loc\u001b[0;34m()\u001b[0m\n",
      "File \u001b[0;32mindex.pyx:182\u001b[0m, in \u001b[0;36mpandas._libs.index.IndexEngine.get_loc\u001b[0;34m()\u001b[0m\n",
      "File \u001b[0;32mpandas/_libs/hashtable_class_helper.pxi:7081\u001b[0m, in \u001b[0;36mpandas._libs.hashtable.PyObjectHashTable.get_item\u001b[0;34m()\u001b[0m\n",
      "File \u001b[0;32mpandas/_libs/hashtable_class_helper.pxi:7089\u001b[0m, in \u001b[0;36mpandas._libs.hashtable.PyObjectHashTable.get_item\u001b[0;34m()\u001b[0m\n",
      "\u001b[0;31mKeyError\u001b[0m: 'zeroes'",
      "\nThe above exception was the direct cause of the following exception:\n",
      "\u001b[0;31mKeyError\u001b[0m                                  Traceback (most recent call last)",
      "Cell \u001b[0;32mIn[68], line 1\u001b[0m\n\u001b[0;32m----> 1\u001b[0m (r2_score(data[\u001b[38;5;124m'\u001b[39m\u001b[38;5;124mGhg.Change.Real.Next\u001b[39m\u001b[38;5;124m'\u001b[39m], \u001b[43mdata\u001b[49m\u001b[43m[\u001b[49m\u001b[38;5;124;43m'\u001b[39;49m\u001b[38;5;124;43mzeroes\u001b[39;49m\u001b[38;5;124;43m'\u001b[39;49m\u001b[43m]\u001b[49m), \n\u001b[1;32m      2\u001b[0m mean_absolute_error(data[\u001b[38;5;124m'\u001b[39m\u001b[38;5;124mGhg.Change.Real.Next\u001b[39m\u001b[38;5;124m'\u001b[39m], data[\u001b[38;5;124m'\u001b[39m\u001b[38;5;124mzeroes\u001b[39m\u001b[38;5;124m'\u001b[39m]),\n\u001b[1;32m      3\u001b[0m mean_squared_error(data[\u001b[38;5;124m'\u001b[39m\u001b[38;5;124mGhg.Change.Real.Next\u001b[39m\u001b[38;5;124m'\u001b[39m], data[\u001b[38;5;124m'\u001b[39m\u001b[38;5;124mzeroes\u001b[39m\u001b[38;5;124m'\u001b[39m]))\n",
      "File \u001b[0;32m~/anaconda3/envs/thesis_project/lib/python3.12/site-packages/pandas/core/frame.py:4090\u001b[0m, in \u001b[0;36mDataFrame.__getitem__\u001b[0;34m(self, key)\u001b[0m\n\u001b[1;32m   4088\u001b[0m \u001b[38;5;28;01mif\u001b[39;00m \u001b[38;5;28mself\u001b[39m\u001b[38;5;241m.\u001b[39mcolumns\u001b[38;5;241m.\u001b[39mnlevels \u001b[38;5;241m>\u001b[39m \u001b[38;5;241m1\u001b[39m:\n\u001b[1;32m   4089\u001b[0m     \u001b[38;5;28;01mreturn\u001b[39;00m \u001b[38;5;28mself\u001b[39m\u001b[38;5;241m.\u001b[39m_getitem_multilevel(key)\n\u001b[0;32m-> 4090\u001b[0m indexer \u001b[38;5;241m=\u001b[39m \u001b[38;5;28;43mself\u001b[39;49m\u001b[38;5;241;43m.\u001b[39;49m\u001b[43mcolumns\u001b[49m\u001b[38;5;241;43m.\u001b[39;49m\u001b[43mget_loc\u001b[49m\u001b[43m(\u001b[49m\u001b[43mkey\u001b[49m\u001b[43m)\u001b[49m\n\u001b[1;32m   4091\u001b[0m \u001b[38;5;28;01mif\u001b[39;00m is_integer(indexer):\n\u001b[1;32m   4092\u001b[0m     indexer \u001b[38;5;241m=\u001b[39m [indexer]\n",
      "File \u001b[0;32m~/anaconda3/envs/thesis_project/lib/python3.12/site-packages/pandas/core/indexes/base.py:3809\u001b[0m, in \u001b[0;36mIndex.get_loc\u001b[0;34m(self, key)\u001b[0m\n\u001b[1;32m   3804\u001b[0m     \u001b[38;5;28;01mif\u001b[39;00m \u001b[38;5;28misinstance\u001b[39m(casted_key, \u001b[38;5;28mslice\u001b[39m) \u001b[38;5;129;01mor\u001b[39;00m (\n\u001b[1;32m   3805\u001b[0m         \u001b[38;5;28misinstance\u001b[39m(casted_key, abc\u001b[38;5;241m.\u001b[39mIterable)\n\u001b[1;32m   3806\u001b[0m         \u001b[38;5;129;01mand\u001b[39;00m \u001b[38;5;28many\u001b[39m(\u001b[38;5;28misinstance\u001b[39m(x, \u001b[38;5;28mslice\u001b[39m) \u001b[38;5;28;01mfor\u001b[39;00m x \u001b[38;5;129;01min\u001b[39;00m casted_key)\n\u001b[1;32m   3807\u001b[0m     ):\n\u001b[1;32m   3808\u001b[0m         \u001b[38;5;28;01mraise\u001b[39;00m InvalidIndexError(key)\n\u001b[0;32m-> 3809\u001b[0m     \u001b[38;5;28;01mraise\u001b[39;00m \u001b[38;5;167;01mKeyError\u001b[39;00m(key) \u001b[38;5;28;01mfrom\u001b[39;00m \u001b[38;5;21;01merr\u001b[39;00m\n\u001b[1;32m   3810\u001b[0m \u001b[38;5;28;01mexcept\u001b[39;00m \u001b[38;5;167;01mTypeError\u001b[39;00m:\n\u001b[1;32m   3811\u001b[0m     \u001b[38;5;66;03m# If we have a listlike key, _check_indexing_error will raise\u001b[39;00m\n\u001b[1;32m   3812\u001b[0m     \u001b[38;5;66;03m#  InvalidIndexError. Otherwise we fall through and re-raise\u001b[39;00m\n\u001b[1;32m   3813\u001b[0m     \u001b[38;5;66;03m#  the TypeError.\u001b[39;00m\n\u001b[1;32m   3814\u001b[0m     \u001b[38;5;28mself\u001b[39m\u001b[38;5;241m.\u001b[39m_check_indexing_error(key)\n",
      "\u001b[0;31mKeyError\u001b[0m: 'zeroes'"
     ]
    }
   ],
   "source": [
    "(r2_score(data['Ghg.Change.Real.Next'], data['zeroes']), \n",
    "mean_absolute_error(data['Ghg.Change.Real.Next'], data['zeroes']),\n",
    "mean_squared_error(data['Ghg.Change.Real.Next'], data['zeroes']))"
   ]
  },
  {
   "cell_type": "markdown",
   "metadata": {},
   "source": [
    "# Predicting the Previous Year"
   ]
  },
  {
   "cell_type": "code",
   "execution_count": null,
   "metadata": {},
   "outputs": [
    {
     "data": {
      "text/plain": [
       "(-0.44423200661062046, 7.199877072165203, 148.0571875764483)"
      ]
     },
     "execution_count": 39,
     "metadata": {},
     "output_type": "execute_result"
    }
   ],
   "source": [
    "(r2_score(data['Ghg.Change.Real.Next'], data['Ghg.Change.Real']), \n",
    "mean_absolute_error(data['Ghg.Change.Real.Next'], data['Ghg.Change.Real']),\n",
    "mean_squared_error(data['Ghg.Change.Real.Next'], data['Ghg.Change.Real']))"
   ]
  },
  {
   "cell_type": "markdown",
   "metadata": {},
   "source": [
    "# Predicting the average across all years"
   ]
  },
  {
   "cell_type": "code",
   "execution_count": null,
   "metadata": {},
   "outputs": [
    {
     "data": {
      "text/plain": [
       "(0.00901803210939589, 6.1922011044068235, 101.59171271185849)"
      ]
     },
     "execution_count": 81,
     "metadata": {},
     "output_type": "execute_result"
    }
   ],
   "source": [
    "prevs = df.copy()\n",
    "prevs = prevs.groupby('Id')['Ghg.Change.Real'].mean()\n",
    "data = data.merge(prevs, how = 'left', on = 'Id')\n",
    "(r2_score(data['Ghg.Change.Real.Next'], data['Ghg.Change.Real_y']), \n",
    "mean_absolute_error(data['Ghg.Change.Real.Next'], data['Ghg.Change.Real_y']),\n",
    "mean_squared_error(data['Ghg.Change.Real.Next'], data['Ghg.Change.Real_y']))"
   ]
  },
  {
   "cell_type": "markdown",
   "metadata": {},
   "source": [
    "# Predicting the average from the previous year"
   ]
  },
  {
   "cell_type": "code",
   "execution_count": null,
   "metadata": {},
   "outputs": [
    {
     "data": {
      "text/plain": [
       "(-6.788326320017468e-05, 7.031409947378317, 102.52316629443158)"
      ]
     },
     "execution_count": 87,
     "metadata": {},
     "output_type": "execute_result"
    }
   ],
   "source": [
    "data['prev_avg'] = df.loc[df['Year'] == 10]['Ghg.Change.Real'].mean()\n",
    "(r2_score(data['Ghg.Change.Real.Next'], data['prev_avg']), \n",
    "mean_absolute_error(data['Ghg.Change.Real.Next'], data['prev_avg']),\n",
    "mean_squared_error(data['Ghg.Change.Real.Next'], data['prev_avg']))"
   ]
  }
 ],
 "metadata": {
  "kernelspec": {
   "display_name": "thesis_project",
   "language": "python",
   "name": "python3"
  },
  "language_info": {
   "codemirror_mode": {
    "name": "ipython",
    "version": 3
   },
   "file_extension": ".py",
   "mimetype": "text/x-python",
   "name": "python",
   "nbconvert_exporter": "python",
   "pygments_lexer": "ipython3",
   "version": "3.12.2"
  }
 },
 "nbformat": 4,
 "nbformat_minor": 2
}
