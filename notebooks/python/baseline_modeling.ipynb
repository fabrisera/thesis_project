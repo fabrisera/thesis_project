{
 "cells": [
  {
   "cell_type": "code",
   "execution_count": 75,
   "metadata": {},
   "outputs": [],
   "source": [
    "import pandas as pd\n",
    "import numpy as np\n",
    "import seaborn as sns\n",
    "import pandas as pd\n",
    "from sklearn.ensemble import RandomForestRegressor\n",
    "from sklearn.linear_model import LassoCV\n",
    "from sklearn.model_selection import TimeSeriesSplit, cross_val_score\n",
    "from sklearn.metrics import mean_squared_error, mean_absolute_error, r2_score"
   ]
  },
  {
   "cell_type": "code",
   "execution_count": 59,
   "metadata": {},
   "outputs": [],
   "source": [
    "carbon_credits = pd.read_csv(\"../../data/mapped/mapped_cdp_carbon_credits_full_processed.csv\", index_col=['id', 'year'])"
   ]
  },
  {
   "cell_type": "code",
   "execution_count": 60,
   "metadata": {},
   "outputs": [],
   "source": [
    "ghg_change = pd.read_csv(\"../../data/mapped/mapped_cdp_ghg_change_processed.csv\", index_col=['id', 'year'])"
   ]
  },
  {
   "cell_type": "code",
   "execution_count": 61,
   "metadata": {},
   "outputs": [],
   "source": [
    "ghg_change = ghg_change[ghg_change['absent_cdp_ghg_change_processed.csv'] == 0].drop(columns=['absent_cdp_ghg_change_processed.csv'])"
   ]
  },
  {
   "cell_type": "code",
   "execution_count": 62,
   "metadata": {},
   "outputs": [],
   "source": [
    "# left join ghg_change and carbon_credits\n",
    "baseline_carbon_credits = ghg_change.join(carbon_credits, how='left', lsuffix='_ghg_change', rsuffix='_carbon_credits')"
   ]
  },
  {
   "cell_type": "code",
   "execution_count": 63,
   "metadata": {},
   "outputs": [],
   "source": [
    "baseline_carbon_credits.drop(columns=['Unnamed: 0_ghg_change', 'isin_ghg_change', 'Unnamed: 0_carbon_credits', 'isin_carbon_credits'], inplace=True)"
   ]
  },
  {
   "cell_type": "code",
   "execution_count": 69,
   "metadata": {},
   "outputs": [],
   "source": [
    "baseline_carbon_credits = baseline_carbon_credits.reset_index().drop(columns=['id'])"
   ]
  },
  {
   "cell_type": "code",
   "execution_count": 71,
   "metadata": {},
   "outputs": [
    {
     "data": {
      "text/plain": [
       "Index(['year', 'ghg_change_total', 'ghg_change_real', 'ghg_change_structure',\n",
       "       'ghg_change_measure', 'ghg_change_othergroup',\n",
       "       'ghg_change_nonzero_count', 'ghg_change_real_cat',\n",
       "       'ghg_change_real_cat_next', 'ghg_change_real_next',\n",
       "       'cdp_num_credits_clean_sum', 'cdp_num_credits_clean_count',\n",
       "       'cdp_num_credits_riskadj_clean_sum',\n",
       "       'cdp_num_credits_clean_missing_sum',\n",
       "       'cdp_num_credits_riskadj_clean_missing_sum',\n",
       "       'cdp_orig_or_purchase_clean_credit origination',\n",
       "       'cdp_orig_or_purchase_clean_credit purchase',\n",
       "       'cdp_credits_cancelled_clean_no', 'cdp_credits_cancelled_clean_yes',\n",
       "       'cdp_credits_cancelled_clean_missing', 'cdp_purpose_clean_compliance',\n",
       "       'cdp_purpose_clean_other', 'cdp_purpose_clean_voluntary offsetting',\n",
       "       'cdp_purpose_clean_missing',\n",
       "       'absent_cdp_carbon_credits_full_processed.csv'],\n",
       "      dtype='object')"
      ]
     },
     "execution_count": 71,
     "metadata": {},
     "output_type": "execute_result"
    }
   ],
   "source": [
    "baseline_carbon_credits.columns"
   ]
  },
  {
   "cell_type": "code",
   "execution_count": 72,
   "metadata": {},
   "outputs": [],
   "source": [
    "# Create train and test sets\n",
    "train_data = baseline_carbon_credits[baseline_carbon_credits['year'] < 2021]\n",
    "test_data = baseline_carbon_credits[baseline_carbon_credits['year'] == 2021]\n",
    "\n",
    "# Define features and target variable\n",
    "target = 'ghg_change_real_next'\n",
    "\n",
    "X_train = train_data.drop(columns=['ghg_change_real_next', 'ghg_change_real_cat_next'])\n",
    "y_train = train_data[target]\n",
    "X_test = test_data.drop(columns=['ghg_change_real_next', 'ghg_change_real_cat_next'])\n",
    "y_test = test_data[target]"
   ]
  },
  {
   "cell_type": "code",
   "execution_count": null,
   "metadata": {},
   "outputs": [],
   "source": [
    "\n",
    "# Initialize the LassoCV model with cross-validation\n",
    "lasso_cv_model = LassoCV(alphas=np.logspace(-4, 4, 100), cv=TimeSeriesSplit(n_splits=5))\n",
    "\n",
    "# Fit the LassoCV model to the training data\n",
    "lasso_cv_model.fit(X_train, y_train)\n",
    "\n",
    "# Get the optimal alpha (regularization strength) selected by cross-validation\n",
    "optimal_alpha = lasso_cv_model.alpha_\n",
    "\n",
    "# Fit the Lasso model with the optimal alpha to the entire training dataset\n",
    "lasso_model = LassoCV(alpha=optimal_alpha)\n",
    "lasso_model.fit(X_train, y_train)\n",
    "\n",
    "# Make predictions on the test set\n",
    "y_pred = lasso_model.predict(X_test)\n",
    "\n",
    "# Evaluate the Lasso model on the test set\n",
    "test_rmse = mean_squared_error(y_test, y_pred, squared=False)\n",
    "test_mae = mean_absolute_error(y_test, y_pred)\n",
    "test_r2 = r2_score(y_test, y_pred)\n",
    "\n",
    "# Print the results\n",
    "print(\"Optimal Alpha:\", optimal_alpha)\n",
    "print(\"Test RMSE:\", test_rmse)\n",
    "print(\"Test MAE:\", test_mae)\n",
    "print(\"Test R-squared:\", test_r2)\n"
   ]
  }
 ],
 "metadata": {
  "kernelspec": {
   "display_name": "thesis_project",
   "language": "python",
   "name": "python3"
  },
  "language_info": {
   "codemirror_mode": {
    "name": "ipython",
    "version": 3
   },
   "file_extension": ".py",
   "mimetype": "text/x-python",
   "name": "python",
   "nbconvert_exporter": "python",
   "pygments_lexer": "ipython3",
   "version": "3.12.0"
  }
 },
 "nbformat": 4,
 "nbformat_minor": 2
}
