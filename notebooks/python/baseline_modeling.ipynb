{
 "cells": [
  {
   "cell_type": "code",
   "execution_count": 61,
   "metadata": {},
   "outputs": [],
   "source": [
    "import pandas as pd\n",
    "import numpy as np\n",
    "import seaborn as sns\n",
    "import pandas as pd\n",
    "from sklearn.ensemble import RandomForestRegressor\n",
    "from sklearn.linear_model import LassoCV, Lasso\n",
    "from sklearn.model_selection import TimeSeriesSplit, cross_val_score\n",
    "from sklearn.metrics import mean_squared_error, mean_absolute_error, r2_score\n",
    "from sklearn.preprocessing import StandardScaler"
   ]
  },
  {
   "cell_type": "code",
   "execution_count": 62,
   "metadata": {},
   "outputs": [],
   "source": [
    "carbon_credits = pd.read_csv(\"../../data/mapped/mapped_cdp_carbon_credits_full_processed.csv\", index_col=['id', 'year'])"
   ]
  },
  {
   "cell_type": "code",
   "execution_count": 63,
   "metadata": {},
   "outputs": [],
   "source": [
    "ghg_change = pd.read_csv(\"../../data/mapped/mapped_cdp_ghg_change_processed.csv\", index_col=['id', 'year'])"
   ]
  },
  {
   "cell_type": "code",
   "execution_count": 17,
   "metadata": {},
   "outputs": [],
   "source": [
    "ghg_change = ghg_change[ghg_change['absent_cdp_ghg_change_processed.csv'] == 0].drop(columns=['absent_cdp_ghg_change_processed.csv'])"
   ]
  },
  {
   "cell_type": "code",
   "execution_count": 18,
   "metadata": {},
   "outputs": [],
   "source": [
    "# left join ghg_change and carbon_credits\n",
    "baseline_carbon_credits = ghg_change.join(carbon_credits, how='left', lsuffix='_ghg_change', rsuffix='_carbon_credits')"
   ]
  },
  {
   "cell_type": "code",
   "execution_count": 19,
   "metadata": {},
   "outputs": [
    {
     "data": {
      "text/plain": [
       "count    18455.000000\n",
       "mean        -4.244380\n",
       "std          7.871529\n",
       "min        -49.900000\n",
       "25%         -5.400000\n",
       "50%         -1.500000\n",
       "75%          0.000000\n",
       "max         45.000000\n",
       "Name: ghg_change_real_next, dtype: float64"
      ]
     },
     "execution_count": 19,
     "metadata": {},
     "output_type": "execute_result"
    }
   ],
   "source": [
    "baseline_carbon_credits.ghg_change_real_next.describe()"
   ]
  },
  {
   "cell_type": "code",
   "execution_count": 20,
   "metadata": {},
   "outputs": [],
   "source": [
    "baseline_carbon_credits.drop(columns=['Unnamed: 0_ghg_change', 'isin_ghg_change', 'Unnamed: 0_carbon_credits', 'isin_carbon_credits'], inplace=True)"
   ]
  },
  {
   "cell_type": "code",
   "execution_count": 21,
   "metadata": {},
   "outputs": [],
   "source": [
    "baseline_carbon_credits = baseline_carbon_credits.reset_index().drop(columns=['id'])"
   ]
  },
  {
   "cell_type": "code",
   "execution_count": 22,
   "metadata": {},
   "outputs": [
    {
     "data": {
      "text/plain": [
       "Index(['year', 'ghg_change_total', 'ghg_change_real', 'ghg_change_structure',\n",
       "       'ghg_change_measure', 'ghg_change_othergroup',\n",
       "       'ghg_change_nonzero_count', 'ghg_change_real_cat',\n",
       "       'ghg_change_real_cat_next', 'ghg_change_real_next',\n",
       "       'cdp_num_credits_clean_sum', 'cdp_num_credits_clean_count',\n",
       "       'cdp_num_credits_riskadj_clean_sum',\n",
       "       'cdp_num_credits_clean_missing_sum',\n",
       "       'cdp_num_credits_riskadj_clean_missing_sum',\n",
       "       'cdp_orig_or_purchase_clean_credit origination',\n",
       "       'cdp_orig_or_purchase_clean_credit purchase',\n",
       "       'cdp_credits_cancelled_clean_no', 'cdp_credits_cancelled_clean_yes',\n",
       "       'cdp_credits_cancelled_clean_missing', 'cdp_purpose_clean_compliance',\n",
       "       'cdp_purpose_clean_other', 'cdp_purpose_clean_voluntary offsetting',\n",
       "       'cdp_purpose_clean_missing',\n",
       "       'absent_cdp_carbon_credits_full_processed.csv'],\n",
       "      dtype='object')"
      ]
     },
     "execution_count": 22,
     "metadata": {},
     "output_type": "execute_result"
    }
   ],
   "source": [
    "baseline_carbon_credits.columns"
   ]
  },
  {
   "cell_type": "code",
   "execution_count": 23,
   "metadata": {},
   "outputs": [],
   "source": [
    "# Create train and test sets\n",
    "train_data = baseline_carbon_credits[baseline_carbon_credits['year'] < 2021]\n",
    "test_data = baseline_carbon_credits[baseline_carbon_credits['year'] == 2021]\n",
    "\n",
    "# Define features and target variable\n",
    "target = 'ghg_change_real_next'\n",
    "\n",
    "X_train = train_data.drop(columns=['ghg_change_real_next', 'ghg_change_real_cat_next'])\n",
    "y_train = train_data[target]\n",
    "X_test = test_data.drop(columns=['ghg_change_real_next', 'ghg_change_real_cat_next'])\n",
    "y_test = test_data[target]\n",
    "\n",
    "# Standardize the features in both training and test sets\n",
    "scaler = StandardScaler()\n",
    "X_train_scaled = scaler.fit_transform(X_train)\n",
    "X_test_scaled = scaler.transform(X_test)"
   ]
  },
  {
   "cell_type": "code",
   "execution_count": 24,
   "metadata": {},
   "outputs": [
    {
     "name": "stdout",
     "output_type": "stream",
     "text": [
      "Optimal Alpha: 0.09770099572992257\n",
      "Test RMSE: 9.68225606978034\n",
      "Test MAE: 6.487382190660172\n",
      "Test R-squared: 0.06577029344177898\n"
     ]
    }
   ],
   "source": [
    "\n",
    "# Initialize the LassoCV model with cross-validation\n",
    "lasso_cv_model = LassoCV(alphas=np.logspace(-4, 4, 100), cv=TimeSeriesSplit(n_splits=5))\n",
    "\n",
    "# Fit the LassoCV model to the training data\n",
    "lasso_cv_model.fit(X_train_scaled, y_train)\n",
    "\n",
    "# Get the optimal alpha (regularization strength) selected by cross-validation\n",
    "optimal_alpha = lasso_cv_model.alpha_\n",
    "\n",
    "# Fit the Lasso model with the optimal alpha to the entire training dataset\n",
    "lasso_model = Lasso(alpha=optimal_alpha)\n",
    "lasso_model.fit(X_train_scaled, y_train)\n",
    "\n",
    "# Make predictions on the test set\n",
    "y_pred = lasso_model.predict(X_test_scaled)\n",
    "\n",
    "# Evaluate the Lasso model on the test set\n",
    "test_rmse = mean_squared_error(y_test, y_pred, squared=False)\n",
    "test_mae = mean_absolute_error(y_test, y_pred)\n",
    "test_r2 = r2_score(y_test, y_pred)\n",
    "\n",
    "# Print the results\n",
    "print(\"Optimal Alpha:\", optimal_alpha)\n",
    "print(\"Test RMSE:\", test_rmse)\n",
    "print(\"Test MAE:\", test_mae)\n",
    "print(\"Test R-squared:\", test_r2)\n"
   ]
  },
  {
   "cell_type": "code",
   "execution_count": 25,
   "metadata": {},
   "outputs": [
    {
     "name": "stdout",
     "output_type": "stream",
     "text": [
      "Lasso Coefficients:\n",
      "                                          Feature  Coefficient\n",
      "0                                            year    -0.491641\n",
      "1                                ghg_change_total    -0.014200\n",
      "2                                 ghg_change_real     1.709350\n",
      "3                            ghg_change_structure    -0.001681\n",
      "4                              ghg_change_measure    -0.000000\n",
      "5                           ghg_change_othergroup    -0.000000\n",
      "6                        ghg_change_nonzero_count    -0.107936\n",
      "7                             ghg_change_real_cat    -0.188014\n",
      "8                       cdp_num_credits_clean_sum    -0.000000\n",
      "9                     cdp_num_credits_clean_count     0.000000\n",
      "10              cdp_num_credits_riskadj_clean_sum    -0.024712\n",
      "11              cdp_num_credits_clean_missing_sum     0.000000\n",
      "12      cdp_num_credits_riskadj_clean_missing_sum     0.000000\n",
      "13  cdp_orig_or_purchase_clean_credit origination     0.013157\n",
      "14     cdp_orig_or_purchase_clean_credit purchase    -0.000000\n",
      "15                 cdp_credits_cancelled_clean_no     0.032591\n",
      "16                cdp_credits_cancelled_clean_yes    -0.000000\n",
      "17            cdp_credits_cancelled_clean_missing     0.000000\n",
      "18                   cdp_purpose_clean_compliance     0.000000\n",
      "19                        cdp_purpose_clean_other    -0.000000\n",
      "20         cdp_purpose_clean_voluntary offsetting    -0.193822\n",
      "21                      cdp_purpose_clean_missing     0.000000\n",
      "22   absent_cdp_carbon_credits_full_processed.csv     0.140770\n"
     ]
    }
   ],
   "source": [
    "# Assuming you've already trained the Lasso model and named it 'lasso_model'\n",
    "\n",
    "# Get the coefficients and feature names\n",
    "coefficients = lasso_model.coef_\n",
    "feature_names = X_train.columns\n",
    "\n",
    "# Create a DataFrame to display the coefficients and feature names\n",
    "coefficients_df = pd.DataFrame({'Feature': feature_names, 'Coefficient': coefficients})\n",
    "\n",
    "# Print the coefficients\n",
    "print(\"Lasso Coefficients:\")\n",
    "print(coefficients_df)"
   ]
  },
  {
   "cell_type": "code",
   "execution_count": 26,
   "metadata": {},
   "outputs": [
    {
     "name": "stdout",
     "output_type": "stream",
     "text": [
      "Fitting 5 folds for each of 12 candidates, totalling 60 fits\n"
     ]
    },
    {
     "name": "stderr",
     "output_type": "stream",
     "text": [
      "/Users/fabrizioserafini/anaconda3/envs/thesis_project/lib/python3.12/site-packages/joblib/externals/loky/process_executor.py:752: UserWarning: A worker stopped while some jobs were given to the executor. This can be caused by a too short worker timeout or by a memory leak.\n",
      "  warnings.warn(\n"
     ]
    },
    {
     "name": "stdout",
     "output_type": "stream",
     "text": [
      "Best n_estimators: 300\n",
      "Best max_depth: 10\n",
      "Test RMSE: 9.921121061989389\n",
      "Test MAE: 6.541215061120822\n",
      "Test R-squared: 0.019106080659304192\n",
      "\n",
      "Feature Importances:\n",
      "                                          Feature  Importance\n",
      "2                                 ghg_change_real    0.378588\n",
      "1                                ghg_change_total    0.108170\n",
      "0                                            year    0.086306\n",
      "5                           ghg_change_othergroup    0.085704\n",
      "4                              ghg_change_measure    0.069188\n",
      "3                            ghg_change_structure    0.056001\n",
      "6                        ghg_change_nonzero_count    0.041541\n",
      "8                       cdp_num_credits_clean_sum    0.040580\n",
      "10              cdp_num_credits_riskadj_clean_sum    0.039928\n",
      "20         cdp_purpose_clean_voluntary offsetting    0.015012\n",
      "16                cdp_credits_cancelled_clean_yes    0.014087\n",
      "14     cdp_orig_or_purchase_clean_credit purchase    0.013478\n",
      "17            cdp_credits_cancelled_clean_missing    0.009539\n",
      "9                     cdp_num_credits_clean_count    0.007767\n",
      "12      cdp_num_credits_riskadj_clean_missing_sum    0.007656\n",
      "13  cdp_orig_or_purchase_clean_credit origination    0.005928\n",
      "15                 cdp_credits_cancelled_clean_no    0.005108\n",
      "18                   cdp_purpose_clean_compliance    0.003822\n",
      "19                        cdp_purpose_clean_other    0.003543\n",
      "21                      cdp_purpose_clean_missing    0.002754\n",
      "11              cdp_num_credits_clean_missing_sum    0.002569\n",
      "22   absent_cdp_carbon_credits_full_processed.csv    0.001838\n",
      "7                             ghg_change_real_cat    0.000892\n"
     ]
    }
   ],
   "source": [
    "import pandas as pd\n",
    "import numpy as np\n",
    "from sklearn.ensemble import RandomForestRegressor\n",
    "from sklearn.model_selection import TimeSeriesSplit, cross_val_score, GridSearchCV\n",
    "from sklearn.metrics import mean_squared_error, mean_absolute_error, r2_score\n",
    "\n",
    "# Initialize the Random Forest regressor\n",
    "rf_model = RandomForestRegressor(random_state=42)\n",
    "\n",
    "# Define hyperparameter grid for tuning\n",
    "param_grid = {\n",
    "    'n_estimators': [100, 200, 300],\n",
    "    'max_depth': [None, 10, 20, 30]\n",
    "}\n",
    "\n",
    "# Perform time series cross-validation with hyperparameter tuning\n",
    "tscv = TimeSeriesSplit(n_splits=5)  # You can adjust the number of splits as needed\n",
    "\n",
    "grid_search = GridSearchCV(estimator=rf_model, param_grid=param_grid, cv=tscv,\n",
    "                           scoring='neg_mean_squared_error', verbose=1, n_jobs=-1)\n",
    "\n",
    "# Fit the grid search to the training data\n",
    "grid_search.fit(X_train, y_train)\n",
    "\n",
    "# Get the best hyperparameters from the grid search\n",
    "best_n_estimators = grid_search.best_params_['n_estimators']\n",
    "best_max_depth = grid_search.best_params_['max_depth']\n",
    "\n",
    "print(\"Best n_estimators:\", best_n_estimators)\n",
    "print(\"Best max_depth:\", best_max_depth)\n",
    "\n",
    "# Fit the Random Forest model with the best hyperparameters to the entire training dataset\n",
    "rf_model = RandomForestRegressor(n_estimators=best_n_estimators, max_depth=best_max_depth, random_state=42)\n",
    "rf_model.fit(X_train, y_train)\n",
    "\n",
    "# Make predictions on the test set\n",
    "y_pred = rf_model.predict(X_test)\n",
    "\n",
    "# Evaluate the model on the test set\n",
    "test_rmse = mean_squared_error(y_test, y_pred, squared=False)\n",
    "test_mae = mean_absolute_error(y_test, y_pred)\n",
    "test_r2 = r2_score(y_test, y_pred)\n",
    "\n",
    "# Print the test set performance metrics\n",
    "print(\"Test RMSE:\", test_rmse)\n",
    "print(\"Test MAE:\", test_mae)\n",
    "print(\"Test R-squared:\", test_r2)\n",
    "\n",
    "# Get feature importances from the trained Random Forest model\n",
    "feature_importances = rf_model.feature_importances_\n",
    "\n",
    "# Create a DataFrame to display feature importances\n",
    "importance_df = pd.DataFrame({'Feature': X_train.columns, 'Importance': feature_importances})\n",
    "\n",
    "# Sort feature importances in descending order\n",
    "importance_df = importance_df.sort_values(by='Importance', ascending=False)\n",
    "\n",
    "# Print the feature importances\n",
    "print(\"\\nFeature Importances:\")\n",
    "print(importance_df)\n"
   ]
  },
  {
   "cell_type": "code",
   "execution_count": 27,
   "metadata": {},
   "outputs": [
    {
     "data": {
      "text/plain": [
       "count    18455.000000\n",
       "mean        -4.244380\n",
       "std          7.871529\n",
       "min        -49.900000\n",
       "25%         -5.400000\n",
       "50%         -1.500000\n",
       "75%          0.000000\n",
       "max         45.000000\n",
       "Name: ghg_change_real_next, dtype: float64"
      ]
     },
     "execution_count": 27,
     "metadata": {},
     "output_type": "execute_result"
    }
   ],
   "source": [
    "baseline_carbon_credits.ghg_change_real_next.describe()"
   ]
  },
  {
   "cell_type": "markdown",
   "metadata": {},
   "source": [
    "**Windsorizing the train and re-running**"
   ]
  },
  {
   "cell_type": "code",
   "execution_count": 29,
   "metadata": {},
   "outputs": [],
   "source": [
    "X_train = train_data.drop(columns=['ghg_change_real_next', 'ghg_change_real_cat_next'])\n",
    "y_train = train_data[target]\n",
    "X_test = test_data.drop(columns=['ghg_change_real_next', 'ghg_change_real_cat_next'])\n",
    "y_test = test_data[target]"
   ]
  },
  {
   "cell_type": "code",
   "execution_count": 30,
   "metadata": {},
   "outputs": [
    {
     "name": "stdout",
     "output_type": "stream",
     "text": [
      "Optimal Alpha: 0.06734150657750829\n",
      "Test RMSE: 9.698290596747603\n",
      "Test MAE: 6.418002846036193\n",
      "Test R-squared: 0.06267342526383735\n"
     ]
    }
   ],
   "source": [
    "\n",
    "# Initialize the LassoCV model with cross-validation\n",
    "lasso_cv_model = LassoCV(alphas=np.logspace(-4, 4, 100), cv=TimeSeriesSplit(n_splits=5))\n",
    "\n",
    "# Fit the LassoCV model to the training data\n",
    "lasso_cv_model.fit(X_train, y_train)\n",
    "\n",
    "# Get the optimal alpha (regularization strength) selected by cross-validation\n",
    "optimal_alpha = lasso_cv_model.alpha_\n",
    "\n",
    "# Fit the Lasso model with the optimal alpha to the entire training dataset\n",
    "lasso_model = Lasso(alpha=optimal_alpha)\n",
    "lasso_model.fit(X_train, y_train)\n",
    "\n",
    "# Make predictions on the test set\n",
    "y_pred = lasso_model.predict(X_test)\n",
    "\n",
    "# Evaluate the Lasso model on the test set\n",
    "test_rmse = mean_squared_error(y_test, y_pred, squared=False)\n",
    "test_mae = mean_absolute_error(y_test, y_pred)\n",
    "test_r2 = r2_score(y_test, y_pred)\n",
    "\n",
    "# Print the results\n",
    "print(\"Optimal Alpha:\", optimal_alpha)\n",
    "print(\"Test RMSE:\", test_rmse)\n",
    "print(\"Test MAE:\", test_mae)\n",
    "print(\"Test R-squared:\", test_r2)\n"
   ]
  },
  {
   "cell_type": "code",
   "execution_count": 34,
   "metadata": {},
   "outputs": [
    {
     "name": "stdout",
     "output_type": "stream",
     "text": [
      "Lasso Coefficients:\n",
      "                                          Feature  Coefficient\n",
      "2                                 ghg_change_real     0.308306\n",
      "13  cdp_orig_or_purchase_clean_credit origination     0.184556\n",
      "5                           ghg_change_othergroup     0.001100\n",
      "11              cdp_num_credits_clean_missing_sum     0.000000\n",
      "12      cdp_num_credits_riskadj_clean_missing_sum    -0.000000\n",
      "21                      cdp_purpose_clean_missing     0.000000\n",
      "19                        cdp_purpose_clean_other    -0.000000\n",
      "18                   cdp_purpose_clean_compliance     0.000000\n",
      "17            cdp_credits_cancelled_clean_missing    -0.000000\n",
      "15                 cdp_credits_cancelled_clean_no     0.000000\n",
      "22   absent_cdp_carbon_credits_full_processed.csv     0.000000\n",
      "9                     cdp_num_credits_clean_count     0.000000\n",
      "7                             ghg_change_real_cat    -0.000000\n",
      "4                              ghg_change_measure     0.000000\n",
      "3                            ghg_change_structure    -0.005781\n",
      "1                                ghg_change_total    -0.006174\n",
      "8                       cdp_num_credits_clean_sum    -0.013410\n",
      "16                cdp_credits_cancelled_clean_yes    -0.022375\n",
      "10              cdp_num_credits_riskadj_clean_sum    -0.025162\n",
      "14     cdp_orig_or_purchase_clean_credit purchase    -0.110704\n",
      "6                        ghg_change_nonzero_count    -0.123087\n",
      "0                                            year    -0.164378\n",
      "20         cdp_purpose_clean_voluntary offsetting    -0.182966\n"
     ]
    }
   ],
   "source": [
    "# Assuming you've already trained the Lasso model and named it 'lasso_model'\n",
    "# Get the coefficients and feature names\n",
    "coefficients = lasso_model.coef_\n",
    "feature_names = X_train.columns\n",
    "\n",
    "# Create a DataFrame to display the coefficients and feature names\n",
    "coefficients_df = pd.DataFrame({'Feature': feature_names, 'Coefficient': coefficients})\n",
    "\n",
    "# Print the coefficients\n",
    "print(\"Lasso Coefficients:\")\n",
    "print(coefficients_df.sort_values(by='Coefficient', ascending=False))"
   ]
  },
  {
   "cell_type": "code",
   "execution_count": 32,
   "metadata": {},
   "outputs": [
    {
     "name": "stdout",
     "output_type": "stream",
     "text": [
      "Fitting 5 folds for each of 12 candidates, totalling 60 fits\n"
     ]
    },
    {
     "name": "stderr",
     "output_type": "stream",
     "text": [
      "/Users/fabrizioserafini/anaconda3/envs/thesis_project/lib/python3.12/site-packages/joblib/externals/loky/process_executor.py:752: UserWarning: A worker stopped while some jobs were given to the executor. This can be caused by a too short worker timeout or by a memory leak.\n",
      "  warnings.warn(\n"
     ]
    },
    {
     "name": "stdout",
     "output_type": "stream",
     "text": [
      "Best n_estimators: 300\n",
      "Best max_depth: 10\n",
      "Test RMSE: 9.690482331421025\n",
      "Test MAE: 6.308054524633013\n",
      "Test R-squared: 0.06418213408926476\n",
      "\n",
      "Feature Importances:\n",
      "                                          Feature  Importance\n",
      "2                                 ghg_change_real    0.398576\n",
      "1                                ghg_change_total    0.114629\n",
      "0                                            year    0.081833\n",
      "5                           ghg_change_othergroup    0.070407\n",
      "4                              ghg_change_measure    0.063918\n",
      "3                            ghg_change_structure    0.049026\n",
      "6                        ghg_change_nonzero_count    0.043125\n",
      "10              cdp_num_credits_riskadj_clean_sum    0.042041\n",
      "8                       cdp_num_credits_clean_sum    0.040809\n",
      "14     cdp_orig_or_purchase_clean_credit purchase    0.014771\n",
      "20         cdp_purpose_clean_voluntary offsetting    0.013833\n",
      "16                cdp_credits_cancelled_clean_yes    0.012334\n",
      "17            cdp_credits_cancelled_clean_missing    0.008507\n",
      "12      cdp_num_credits_riskadj_clean_missing_sum    0.007942\n",
      "9                     cdp_num_credits_clean_count    0.007529\n",
      "13  cdp_orig_or_purchase_clean_credit origination    0.007145\n",
      "15                 cdp_credits_cancelled_clean_no    0.007014\n",
      "18                   cdp_purpose_clean_compliance    0.004544\n",
      "19                        cdp_purpose_clean_other    0.003556\n",
      "11              cdp_num_credits_clean_missing_sum    0.003218\n",
      "21                      cdp_purpose_clean_missing    0.002905\n",
      "22   absent_cdp_carbon_credits_full_processed.csv    0.001405\n",
      "7                             ghg_change_real_cat    0.000934\n"
     ]
    }
   ],
   "source": [
    "import pandas as pd\n",
    "import numpy as np\n",
    "from sklearn.ensemble import RandomForestRegressor\n",
    "from sklearn.model_selection import TimeSeriesSplit, cross_val_score, GridSearchCV\n",
    "from sklearn.metrics import mean_squared_error, mean_absolute_error, r2_score\n",
    "\n",
    "# Initialize the Random Forest regressor\n",
    "rf_model = RandomForestRegressor(random_state=42)\n",
    "\n",
    "# Define hyperparameter grid for tuning\n",
    "param_grid = {\n",
    "    'n_estimators': [100, 200, 300],\n",
    "    'max_depth': [None, 10, 20, 30]\n",
    "}\n",
    "\n",
    "# Perform time series cross-validation with hyperparameter tuning\n",
    "tscv = TimeSeriesSplit(n_splits=5)  # You can adjust the number of splits as needed\n",
    "\n",
    "grid_search = GridSearchCV(estimator=rf_model, param_grid=param_grid, cv=tscv,\n",
    "                           scoring='neg_mean_squared_error', verbose=1, n_jobs=-1)\n",
    "\n",
    "# Fit the grid search to the training data\n",
    "grid_search.fit(X_train, y_train)\n",
    "\n",
    "# Get the best hyperparameters from the grid search\n",
    "best_n_estimators = grid_search.best_params_['n_estimators']\n",
    "best_max_depth = grid_search.best_params_['max_depth']\n",
    "\n",
    "print(\"Best n_estimators:\", best_n_estimators)\n",
    "print(\"Best max_depth:\", best_max_depth)\n",
    "\n",
    "# Fit the Random Forest model with the best hyperparameters to the entire training dataset\n",
    "rf_model = RandomForestRegressor(n_estimators=best_n_estimators, max_depth=best_max_depth, random_state=42)\n",
    "rf_model.fit(X_train, y_train)\n",
    "\n",
    "# Make predictions on the test set\n",
    "y_pred = rf_model.predict(X_test)\n",
    "\n",
    "# Evaluate the model on the test set\n",
    "test_rmse = mean_squared_error(y_test, y_pred, squared=False)\n",
    "test_mae = mean_absolute_error(y_test, y_pred)\n",
    "test_r2 = r2_score(y_test, y_pred)\n",
    "\n",
    "# Print the test set performance metrics\n",
    "print(\"Test RMSE:\", test_rmse)\n",
    "print(\"Test MAE:\", test_mae)\n",
    "print(\"Test R-squared:\", test_r2)\n",
    "\n",
    "# Get feature importances from the trained Random Forest model\n",
    "feature_importances = rf_model.feature_importances_\n",
    "\n",
    "# Create a DataFrame to display feature importances\n",
    "importance_df = pd.DataFrame({'Feature': X_train.columns, 'Importance': feature_importances})\n",
    "\n",
    "# Sort feature importances in descending order\n",
    "importance_df = importance_df.sort_values(by='Importance', ascending=False)\n",
    "\n",
    "# Print the feature importances\n",
    "print(\"\\nFeature Importances:\")\n",
    "print(importance_df)"
   ]
  },
  {
   "cell_type": "markdown",
   "metadata": {},
   "source": [
    "Key takeaways: \n",
    "- Features that matter are: year, ghg_change_real, ghg_change_total, ghg_change_othergroup, ghg_change_measure, ghg_change_structure, ghg_change_nonzero_count, cdp_num_credits_riskadj_clean_sum, cdp_num_credits_clean_sum, cdp_orig_or_purchase_clean_credit purchase, cdp_purpose_clean_voluntary offsetting, cdp_credits_cancelled_clean_yes"
   ]
  },
  {
   "cell_type": "code",
   "execution_count": 44,
   "metadata": {},
   "outputs": [],
   "source": [
    "# reading initiative\n",
    "initiative = pd.read_csv(\"../../data/mapped/mapped_cdp_initiative_processed.csv\", index_col=['id', 'year'])"
   ]
  },
  {
   "cell_type": "code",
   "execution_count": 45,
   "metadata": {},
   "outputs": [
    {
     "data": {
      "text/plain": [
       "Index(['year', 'ghg_change_total', 'ghg_change_real', 'ghg_change_structure',\n",
       "       'ghg_change_measure', 'ghg_change_othergroup',\n",
       "       'ghg_change_nonzero_count', 'ghg_change_real_cat',\n",
       "       'ghg_change_real_cat_next', 'ghg_change_real_next', 'scope1', 'scope2',\n",
       "       'scope3', 'absent_cdp_initiative_processed.csv'],\n",
       "      dtype='object')"
      ]
     },
     "execution_count": 45,
     "metadata": {},
     "output_type": "execute_result"
    }
   ],
   "source": [
    "# left join initiative and baseline_carbon_credits\n",
    "baseline_initiative = ghg_change.join(initiative, how='left', lsuffix='_ghg_change', rsuffix='_initiative')\n",
    "\n",
    "baseline_initiative.drop(columns=['Unnamed: 0_ghg_change', 'isin_ghg_change', 'Unnamed: 0_initiative', 'isin_initiative'], inplace=True)\n",
    "\n",
    "baseline_initiative = baseline_initiative.reset_index().drop(columns=['id'])\n",
    "\n",
    "baseline_initiative.columns"
   ]
  },
  {
   "cell_type": "code",
   "execution_count": 46,
   "metadata": {},
   "outputs": [
    {
     "data": {
      "text/html": [
       "<div>\n",
       "<style scoped>\n",
       "    .dataframe tbody tr th:only-of-type {\n",
       "        vertical-align: middle;\n",
       "    }\n",
       "\n",
       "    .dataframe tbody tr th {\n",
       "        vertical-align: top;\n",
       "    }\n",
       "\n",
       "    .dataframe thead th {\n",
       "        text-align: right;\n",
       "    }\n",
       "</style>\n",
       "<table border=\"1\" class=\"dataframe\">\n",
       "  <thead>\n",
       "    <tr style=\"text-align: right;\">\n",
       "      <th></th>\n",
       "      <th>year</th>\n",
       "      <th>ghg_change_total</th>\n",
       "      <th>ghg_change_real</th>\n",
       "      <th>ghg_change_structure</th>\n",
       "      <th>ghg_change_measure</th>\n",
       "      <th>ghg_change_othergroup</th>\n",
       "      <th>ghg_change_nonzero_count</th>\n",
       "      <th>ghg_change_real_cat</th>\n",
       "      <th>ghg_change_real_cat_next</th>\n",
       "      <th>ghg_change_real_next</th>\n",
       "      <th>scope1</th>\n",
       "      <th>scope2</th>\n",
       "      <th>scope3</th>\n",
       "      <th>absent_cdp_initiative_processed.csv</th>\n",
       "    </tr>\n",
       "  </thead>\n",
       "  <tbody>\n",
       "    <tr>\n",
       "      <th>0</th>\n",
       "      <td>2011.0</td>\n",
       "      <td>-11.00</td>\n",
       "      <td>-11.00</td>\n",
       "      <td>0.00</td>\n",
       "      <td>0.0</td>\n",
       "      <td>0.00</td>\n",
       "      <td>1.0</td>\n",
       "      <td>1.0</td>\n",
       "      <td>0.0</td>\n",
       "      <td>0.00</td>\n",
       "      <td>0.000000</td>\n",
       "      <td>0.000000</td>\n",
       "      <td>0.000000</td>\n",
       "      <td>0</td>\n",
       "    </tr>\n",
       "    <tr>\n",
       "      <th>1</th>\n",
       "      <td>2012.0</td>\n",
       "      <td>-25.00</td>\n",
       "      <td>0.00</td>\n",
       "      <td>0.00</td>\n",
       "      <td>0.0</td>\n",
       "      <td>-25.00</td>\n",
       "      <td>1.0</td>\n",
       "      <td>0.0</td>\n",
       "      <td>1.0</td>\n",
       "      <td>-1.00</td>\n",
       "      <td>0.000000</td>\n",
       "      <td>0.000000</td>\n",
       "      <td>0.000000</td>\n",
       "      <td>1</td>\n",
       "    </tr>\n",
       "    <tr>\n",
       "      <th>2</th>\n",
       "      <td>2013.0</td>\n",
       "      <td>-19.00</td>\n",
       "      <td>-1.00</td>\n",
       "      <td>0.00</td>\n",
       "      <td>-1.0</td>\n",
       "      <td>-17.00</td>\n",
       "      <td>3.0</td>\n",
       "      <td>1.0</td>\n",
       "      <td>0.0</td>\n",
       "      <td>0.00</td>\n",
       "      <td>0.000000</td>\n",
       "      <td>0.000000</td>\n",
       "      <td>0.000000</td>\n",
       "      <td>0</td>\n",
       "    </tr>\n",
       "    <tr>\n",
       "      <th>3</th>\n",
       "      <td>2014.0</td>\n",
       "      <td>-29.00</td>\n",
       "      <td>0.00</td>\n",
       "      <td>0.00</td>\n",
       "      <td>0.0</td>\n",
       "      <td>-29.00</td>\n",
       "      <td>1.0</td>\n",
       "      <td>0.0</td>\n",
       "      <td>0.0</td>\n",
       "      <td>0.00</td>\n",
       "      <td>0.000000</td>\n",
       "      <td>0.000000</td>\n",
       "      <td>0.000000</td>\n",
       "      <td>0</td>\n",
       "    </tr>\n",
       "    <tr>\n",
       "      <th>4</th>\n",
       "      <td>2016.0</td>\n",
       "      <td>-4.00</td>\n",
       "      <td>0.00</td>\n",
       "      <td>0.00</td>\n",
       "      <td>0.0</td>\n",
       "      <td>-4.00</td>\n",
       "      <td>1.0</td>\n",
       "      <td>0.0</td>\n",
       "      <td>1.0</td>\n",
       "      <td>-39.70</td>\n",
       "      <td>0.000000</td>\n",
       "      <td>1.098612</td>\n",
       "      <td>0.000000</td>\n",
       "      <td>0</td>\n",
       "    </tr>\n",
       "    <tr>\n",
       "      <th>...</th>\n",
       "      <td>...</td>\n",
       "      <td>...</td>\n",
       "      <td>...</td>\n",
       "      <td>...</td>\n",
       "      <td>...</td>\n",
       "      <td>...</td>\n",
       "      <td>...</td>\n",
       "      <td>...</td>\n",
       "      <td>...</td>\n",
       "      <td>...</td>\n",
       "      <td>...</td>\n",
       "      <td>...</td>\n",
       "      <td>...</td>\n",
       "      <td>...</td>\n",
       "    </tr>\n",
       "    <tr>\n",
       "      <th>18450</th>\n",
       "      <td>2021.0</td>\n",
       "      <td>-3.54</td>\n",
       "      <td>-3.11</td>\n",
       "      <td>0.00</td>\n",
       "      <td>0.0</td>\n",
       "      <td>-0.24</td>\n",
       "      <td>3.0</td>\n",
       "      <td>1.0</td>\n",
       "      <td>1.0</td>\n",
       "      <td>-2.18</td>\n",
       "      <td>0.000000</td>\n",
       "      <td>0.693147</td>\n",
       "      <td>0.000000</td>\n",
       "      <td>0</td>\n",
       "    </tr>\n",
       "    <tr>\n",
       "      <th>18451</th>\n",
       "      <td>2021.0</td>\n",
       "      <td>0.00</td>\n",
       "      <td>0.00</td>\n",
       "      <td>0.00</td>\n",
       "      <td>0.0</td>\n",
       "      <td>0.00</td>\n",
       "      <td>0.0</td>\n",
       "      <td>0.0</td>\n",
       "      <td>1.0</td>\n",
       "      <td>-29.60</td>\n",
       "      <td>0.000000</td>\n",
       "      <td>0.000000</td>\n",
       "      <td>0.000000</td>\n",
       "      <td>0</td>\n",
       "    </tr>\n",
       "    <tr>\n",
       "      <th>18452</th>\n",
       "      <td>2021.0</td>\n",
       "      <td>0.00</td>\n",
       "      <td>0.00</td>\n",
       "      <td>0.00</td>\n",
       "      <td>0.0</td>\n",
       "      <td>0.00</td>\n",
       "      <td>0.0</td>\n",
       "      <td>0.0</td>\n",
       "      <td>0.0</td>\n",
       "      <td>0.00</td>\n",
       "      <td>1.098612</td>\n",
       "      <td>1.098612</td>\n",
       "      <td>0.000000</td>\n",
       "      <td>0</td>\n",
       "    </tr>\n",
       "    <tr>\n",
       "      <th>18453</th>\n",
       "      <td>2021.0</td>\n",
       "      <td>7.19</td>\n",
       "      <td>0.00</td>\n",
       "      <td>7.19</td>\n",
       "      <td>0.0</td>\n",
       "      <td>0.00</td>\n",
       "      <td>1.0</td>\n",
       "      <td>0.0</td>\n",
       "      <td>1.0</td>\n",
       "      <td>-23.50</td>\n",
       "      <td>0.000000</td>\n",
       "      <td>1.098612</td>\n",
       "      <td>0.000000</td>\n",
       "      <td>0</td>\n",
       "    </tr>\n",
       "    <tr>\n",
       "      <th>18454</th>\n",
       "      <td>2021.0</td>\n",
       "      <td>0.00</td>\n",
       "      <td>0.00</td>\n",
       "      <td>0.00</td>\n",
       "      <td>0.0</td>\n",
       "      <td>0.00</td>\n",
       "      <td>0.0</td>\n",
       "      <td>0.0</td>\n",
       "      <td>1.0</td>\n",
       "      <td>-28.60</td>\n",
       "      <td>1.098612</td>\n",
       "      <td>0.693147</td>\n",
       "      <td>0.693147</td>\n",
       "      <td>0</td>\n",
       "    </tr>\n",
       "  </tbody>\n",
       "</table>\n",
       "<p>18455 rows × 14 columns</p>\n",
       "</div>"
      ],
      "text/plain": [
       "         year  ghg_change_total  ghg_change_real  ghg_change_structure  \\\n",
       "0      2011.0            -11.00           -11.00                  0.00   \n",
       "1      2012.0            -25.00             0.00                  0.00   \n",
       "2      2013.0            -19.00            -1.00                  0.00   \n",
       "3      2014.0            -29.00             0.00                  0.00   \n",
       "4      2016.0             -4.00             0.00                  0.00   \n",
       "...       ...               ...              ...                   ...   \n",
       "18450  2021.0             -3.54            -3.11                  0.00   \n",
       "18451  2021.0              0.00             0.00                  0.00   \n",
       "18452  2021.0              0.00             0.00                  0.00   \n",
       "18453  2021.0              7.19             0.00                  7.19   \n",
       "18454  2021.0              0.00             0.00                  0.00   \n",
       "\n",
       "       ghg_change_measure  ghg_change_othergroup  ghg_change_nonzero_count  \\\n",
       "0                     0.0                   0.00                       1.0   \n",
       "1                     0.0                 -25.00                       1.0   \n",
       "2                    -1.0                 -17.00                       3.0   \n",
       "3                     0.0                 -29.00                       1.0   \n",
       "4                     0.0                  -4.00                       1.0   \n",
       "...                   ...                    ...                       ...   \n",
       "18450                 0.0                  -0.24                       3.0   \n",
       "18451                 0.0                   0.00                       0.0   \n",
       "18452                 0.0                   0.00                       0.0   \n",
       "18453                 0.0                   0.00                       1.0   \n",
       "18454                 0.0                   0.00                       0.0   \n",
       "\n",
       "       ghg_change_real_cat  ghg_change_real_cat_next  ghg_change_real_next  \\\n",
       "0                      1.0                       0.0                  0.00   \n",
       "1                      0.0                       1.0                 -1.00   \n",
       "2                      1.0                       0.0                  0.00   \n",
       "3                      0.0                       0.0                  0.00   \n",
       "4                      0.0                       1.0                -39.70   \n",
       "...                    ...                       ...                   ...   \n",
       "18450                  1.0                       1.0                 -2.18   \n",
       "18451                  0.0                       1.0                -29.60   \n",
       "18452                  0.0                       0.0                  0.00   \n",
       "18453                  0.0                       1.0                -23.50   \n",
       "18454                  0.0                       1.0                -28.60   \n",
       "\n",
       "         scope1    scope2    scope3  absent_cdp_initiative_processed.csv  \n",
       "0      0.000000  0.000000  0.000000                                    0  \n",
       "1      0.000000  0.000000  0.000000                                    1  \n",
       "2      0.000000  0.000000  0.000000                                    0  \n",
       "3      0.000000  0.000000  0.000000                                    0  \n",
       "4      0.000000  1.098612  0.000000                                    0  \n",
       "...         ...       ...       ...                                  ...  \n",
       "18450  0.000000  0.693147  0.000000                                    0  \n",
       "18451  0.000000  0.000000  0.000000                                    0  \n",
       "18452  1.098612  1.098612  0.000000                                    0  \n",
       "18453  0.000000  1.098612  0.000000                                    0  \n",
       "18454  1.098612  0.693147  0.693147                                    0  \n",
       "\n",
       "[18455 rows x 14 columns]"
      ]
     },
     "execution_count": 46,
     "metadata": {},
     "output_type": "execute_result"
    }
   ],
   "source": [
    "baseline_initiative"
   ]
  },
  {
   "cell_type": "code",
   "execution_count": 47,
   "metadata": {},
   "outputs": [],
   "source": [
    "# Create train and test sets\n",
    "train_data = baseline_initiative[baseline_initiative['year'] < 2021]\n",
    "test_data = baseline_initiative[baseline_initiative['year'] == 2021]\n",
    "\n",
    "# Define features and target variable\n",
    "target = 'ghg_change_real_next'\n",
    "\n",
    "X_train = train_data.drop(columns=['ghg_change_real_next', 'ghg_change_real_cat_next'])\n",
    "y_train = train_data[target]\n",
    "X_test = test_data.drop(columns=['ghg_change_real_next', 'ghg_change_real_cat_next'])\n",
    "y_test = test_data[target]\n",
    "\n",
    "# Standardize the features in both training and test sets\n",
    "scaler = StandardScaler()\n",
    "X_train_scaled = scaler.fit_transform(X_train)\n",
    "X_test_scaled = scaler.transform(X_test)"
   ]
  },
  {
   "cell_type": "code",
   "execution_count": 54,
   "metadata": {},
   "outputs": [
    {
     "name": "stdout",
     "output_type": "stream",
     "text": [
      "Optimal Alpha: 0.08111308307896872\n",
      "Test RMSE: 9.64973874570356\n",
      "Test MAE: 6.410885020875105\n",
      "Test R-squared: 0.07203487421707744\n"
     ]
    }
   ],
   "source": [
    "\n",
    "# Initialize the LassoCV model with cross-validation\n",
    "lasso_cv_model = LassoCV(alphas=np.logspace(-4, 4, 100), cv=TimeSeriesSplit(n_splits=5))\n",
    "\n",
    "# Fit the LassoCV model to the training data\n",
    "lasso_cv_model.fit(X_train_scaled, y_train)\n",
    "\n",
    "# Get the optimal alpha (regularization strength) selected by cross-validation\n",
    "optimal_alpha = lasso_cv_model.alpha_\n",
    "\n",
    "# Fit the Lasso model with the optimal alpha to the entire training dataset\n",
    "lasso_model = Lasso(alpha=optimal_alpha)\n",
    "lasso_model.fit(X_train_scaled, y_train)\n",
    "\n",
    "# Make predictions on the test set\n",
    "y_pred = lasso_model.predict(X_test_scaled)\n",
    "\n",
    "# Evaluate the Lasso model on the test set\n",
    "test_rmse = mean_squared_error(y_test, y_pred, squared=False)\n",
    "test_mae = mean_absolute_error(y_test, y_pred)\n",
    "test_r2 = r2_score(y_test, y_pred)\n",
    "\n",
    "# Print the results\n",
    "print(\"Optimal Alpha:\", optimal_alpha)\n",
    "print(\"Test RMSE:\", test_rmse)\n",
    "print(\"Test MAE:\", test_mae)\n",
    "print(\"Test R-squared:\", test_r2)\n"
   ]
  },
  {
   "cell_type": "code",
   "execution_count": 50,
   "metadata": {},
   "outputs": [
    {
     "name": "stdout",
     "output_type": "stream",
     "text": [
      "Lasso Coefficients:\n",
      "                                Feature  Coefficient\n",
      "11  absent_cdp_initiative_processed.csv     0.547889\n",
      "2                       ghg_change_real     0.270840\n",
      "8                                scope1     0.114835\n",
      "4                    ghg_change_measure     0.002382\n",
      "5                 ghg_change_othergroup     0.001498\n",
      "3                  ghg_change_structure    -0.003083\n",
      "1                      ghg_change_total    -0.003989\n",
      "6              ghg_change_nonzero_count    -0.097614\n",
      "0                                  year    -0.147266\n",
      "7                   ghg_change_real_cat    -0.216114\n",
      "9                                scope2    -0.409644\n",
      "10                               scope3    -0.415617\n"
     ]
    }
   ],
   "source": [
    "# Assuming you've already trained the Lasso model and named it 'lasso_model'\n",
    "# Get the coefficients and feature names\n",
    "coefficients = lasso_model.coef_\n",
    "feature_names = X_train.columns\n",
    "\n",
    "# Create a DataFrame to display the coefficients and feature names\n",
    "coefficients_df = pd.DataFrame({'Feature': feature_names, 'Coefficient': coefficients})\n",
    "\n",
    "# Print the coefficients\n",
    "print(\"Lasso Coefficients:\")\n",
    "print(coefficients_df.sort_values(by='Coefficient', ascending=False))"
   ]
  },
  {
   "cell_type": "code",
   "execution_count": 51,
   "metadata": {},
   "outputs": [
    {
     "name": "stdout",
     "output_type": "stream",
     "text": [
      "Fitting 5 folds for each of 12 candidates, totalling 60 fits\n"
     ]
    },
    {
     "name": "stderr",
     "output_type": "stream",
     "text": [
      "/Users/fabrizioserafini/anaconda3/envs/thesis_project/lib/python3.12/site-packages/joblib/externals/loky/process_executor.py:752: UserWarning: A worker stopped while some jobs were given to the executor. This can be caused by a too short worker timeout or by a memory leak.\n",
      "  warnings.warn(\n"
     ]
    },
    {
     "name": "stdout",
     "output_type": "stream",
     "text": [
      "Best n_estimators: 300\n",
      "Best max_depth: 10\n",
      "Test RMSE: 9.766071624697268\n",
      "Test MAE: 6.497448288351847\n",
      "Test R-squared: 0.049525752901597775\n",
      "\n",
      "Feature Importances:\n",
      "                                Feature  Importance\n",
      "2                       ghg_change_real    0.372485\n",
      "1                      ghg_change_total    0.126654\n",
      "5                 ghg_change_othergroup    0.095041\n",
      "0                                  year    0.080269\n",
      "4                    ghg_change_measure    0.077921\n",
      "9                                scope2    0.066010\n",
      "3                  ghg_change_structure    0.056625\n",
      "6              ghg_change_nonzero_count    0.045615\n",
      "8                                scope1    0.038123\n",
      "10                               scope3    0.035413\n",
      "11  absent_cdp_initiative_processed.csv    0.004999\n",
      "7                   ghg_change_real_cat    0.000844\n"
     ]
    }
   ],
   "source": [
    "import pandas as pd\n",
    "import numpy as np\n",
    "from sklearn.ensemble import RandomForestRegressor\n",
    "from sklearn.model_selection import TimeSeriesSplit, cross_val_score, GridSearchCV\n",
    "from sklearn.metrics import mean_squared_error, mean_absolute_error, r2_score\n",
    "\n",
    "# Initialize the Random Forest regressor\n",
    "rf_model = RandomForestRegressor(random_state=42)\n",
    "\n",
    "# Define hyperparameter grid for tuning\n",
    "param_grid = {\n",
    "    'n_estimators': [100, 200, 300],\n",
    "    'max_depth': [None, 10, 20, 30]\n",
    "}\n",
    "\n",
    "# Perform time series cross-validation with hyperparameter tuning\n",
    "tscv = TimeSeriesSplit(n_splits=5)  # You can adjust the number of splits as needed\n",
    "\n",
    "grid_search = GridSearchCV(estimator=rf_model, param_grid=param_grid, cv=tscv,\n",
    "                           scoring='neg_mean_squared_error', verbose=1, n_jobs=-1)\n",
    "\n",
    "# Fit the grid search to the training data\n",
    "grid_search.fit(X_train, y_train)\n",
    "\n",
    "# Get the best hyperparameters from the grid search\n",
    "best_n_estimators = grid_search.best_params_['n_estimators']\n",
    "best_max_depth = grid_search.best_params_['max_depth']\n",
    "\n",
    "print(\"Best n_estimators:\", best_n_estimators)\n",
    "print(\"Best max_depth:\", best_max_depth)\n",
    "\n",
    "# Fit the Random Forest model with the best hyperparameters to the entire training dataset\n",
    "rf_model = RandomForestRegressor(n_estimators=best_n_estimators, max_depth=best_max_depth, random_state=42)\n",
    "rf_model.fit(X_train, y_train)\n",
    "\n",
    "# Make predictions on the test set\n",
    "y_pred = rf_model.predict(X_test)\n",
    "\n",
    "# Evaluate the model on the test set\n",
    "test_rmse = mean_squared_error(y_test, y_pred, squared=False)\n",
    "test_mae = mean_absolute_error(y_test, y_pred)\n",
    "test_r2 = r2_score(y_test, y_pred)\n",
    "\n",
    "# Print the test set performance metrics\n",
    "print(\"Test RMSE:\", test_rmse)\n",
    "print(\"Test MAE:\", test_mae)\n",
    "print(\"Test R-squared:\", test_r2)\n",
    "\n",
    "# Get feature importances from the trained Random Forest model\n",
    "feature_importances = rf_model.feature_importances_\n",
    "\n",
    "# Create a DataFrame to display feature importances\n",
    "importance_df = pd.DataFrame({'Feature': X_train.columns, 'Importance': feature_importances})\n",
    "\n",
    "# Sort feature importances in descending order\n",
    "importance_df = importance_df.sort_values(by='Importance', ascending=False)\n",
    "\n",
    "# Print the feature importances\n",
    "print(\"\\nFeature Importances:\")\n",
    "print(importance_df)"
   ]
  },
  {
   "cell_type": "code",
   "execution_count": 52,
   "metadata": {},
   "outputs": [
    {
     "data": {
      "text/plain": [
       "Index(['year', 'ghg_change_total', 'ghg_change_real', 'ghg_change_structure',\n",
       "       'ghg_change_measure', 'ghg_change_othergroup',\n",
       "       'ghg_change_nonzero_count', 'ghg_change_real_cat',\n",
       "       'ghg_change_real_cat_next', 'ghg_change_real_next',\n",
       "       'cdp_boardoversight_i', 'cdp_incentivebinary_i',\n",
       "       'cdp_boardoversight_i_na', 'cdp_incentivebinary_i_na',\n",
       "       'absent_cdp_incentives_processed.csv'],\n",
       "      dtype='object')"
      ]
     },
     "execution_count": 52,
     "metadata": {},
     "output_type": "execute_result"
    }
   ],
   "source": [
    "# doing the same with incentives\n",
    "incentives = pd.read_csv(\"../../data/mapped/mapped_cdp_incentives_processed.csv\", index_col=['id', 'year'])\n",
    "\n",
    "# left join initiative and baseline_carbon_credits\n",
    "\n",
    "baseline_incentives = ghg_change.join(incentives, how='left', lsuffix='_ghg_change', rsuffix='_incentives')\n",
    "\n",
    "baseline_incentives.drop(columns=['Unnamed: 0_ghg_change', 'isin_ghg_change', 'Unnamed: 0_incentives', 'isin_incentives'], inplace=True)\n",
    "\n",
    "baseline_incentives = baseline_incentives.reset_index().drop(columns=['id'])\n",
    "\n",
    "baseline_incentives.columns"
   ]
  },
  {
   "cell_type": "code",
   "execution_count": 58,
   "metadata": {},
   "outputs": [],
   "source": [
    "# Create train and test sets\n",
    "train_data = baseline_incentives[baseline_incentives['year'] < 2021]\n",
    "test_data = baseline_incentives[baseline_incentives['year'] == 2021]\n",
    "\n",
    "# Define features and target variable\n",
    "target = 'ghg_change_real_next'\n",
    "\n",
    "X_train = train_data.drop(columns=['ghg_change_real_next', 'ghg_change_real_cat_next'])\n",
    "y_train = train_data[target]\n",
    "X_test = test_data.drop(columns=['ghg_change_real_next', 'ghg_change_real_cat_next'])\n",
    "y_test = test_data[target]\n",
    "\n",
    "# Standardize the features in both training and test sets\n",
    "scaler = StandardScaler()\n",
    "X_train_scaled = scaler.fit_transform(X_train)\n",
    "X_test_scaled = scaler.transform(X_test)"
   ]
  },
  {
   "cell_type": "code",
   "execution_count": 59,
   "metadata": {},
   "outputs": [
    {
     "name": "stdout",
     "output_type": "stream",
     "text": [
      "Optimal Alpha: 0.09770099572992257\n",
      "Test RMSE: 9.661211056267751\n",
      "Test MAE: 6.456219720751737\n",
      "Test R-squared: 0.06982709788061847\n"
     ]
    }
   ],
   "source": [
    "\n",
    "# Initialize the LassoCV model with cross-validation\n",
    "lasso_cv_model = LassoCV(alphas=np.logspace(-4, 4, 100), cv=TimeSeriesSplit(n_splits=5))\n",
    "\n",
    "# Fit the LassoCV model to the training data\n",
    "lasso_cv_model.fit(X_train_scaled, y_train)\n",
    "\n",
    "# Get the optimal alpha (regularization strength) selected by cross-validation\n",
    "optimal_alpha = lasso_cv_model.alpha_\n",
    "\n",
    "# Fit the Lasso model with the optimal alpha to the entire training dataset\n",
    "lasso_model = Lasso(alpha=optimal_alpha)\n",
    "lasso_model.fit(X_train_scaled, y_train)\n",
    "\n",
    "# Make predictions on the test set\n",
    "y_pred = lasso_model.predict(X_test_scaled)\n",
    "\n",
    "# Evaluate the Lasso model on the test set\n",
    "test_rmse = mean_squared_error(y_test, y_pred, squared=False)\n",
    "test_mae = mean_absolute_error(y_test, y_pred)\n",
    "test_r2 = r2_score(y_test, y_pred)\n",
    "\n",
    "# Print the results\n",
    "print(\"Optimal Alpha:\", optimal_alpha)\n",
    "print(\"Test RMSE:\", test_rmse)\n",
    "print(\"Test MAE:\", test_mae)\n",
    "print(\"Test R-squared:\", test_r2)\n"
   ]
  },
  {
   "cell_type": "code",
   "execution_count": 60,
   "metadata": {},
   "outputs": [
    {
     "name": "stdout",
     "output_type": "stream",
     "text": [
      "Lasso Coefficients:\n",
      "                                Feature  Coefficient\n",
      "2                       ghg_change_real     1.730259\n",
      "11             cdp_incentivebinary_i_na     0.003274\n",
      "4                    ghg_change_measure    -0.000000\n",
      "5                 ghg_change_othergroup    -0.000000\n",
      "8                  cdp_boardoversight_i    -0.000000\n",
      "10              cdp_boardoversight_i_na     0.000000\n",
      "12  absent_cdp_incentives_processed.csv     0.000000\n",
      "3                  ghg_change_structure    -0.002208\n",
      "1                      ghg_change_total    -0.008261\n",
      "6              ghg_change_nonzero_count    -0.092673\n",
      "7                   ghg_change_real_cat    -0.119475\n",
      "9                 cdp_incentivebinary_i    -0.314354\n",
      "0                                  year    -0.468564\n"
     ]
    }
   ],
   "source": [
    "# Assuming you've already trained the Lasso model and named it 'lasso_model'\n",
    "# Get the coefficients and feature names\n",
    "coefficients = lasso_model.coef_\n",
    "feature_names = X_train.columns\n",
    "\n",
    "# Create a DataFrame to display the coefficients and feature names\n",
    "coefficients_df = pd.DataFrame({'Feature': feature_names, 'Coefficient': coefficients})\n",
    "\n",
    "# Print the coefficients\n",
    "print(\"Lasso Coefficients:\")\n",
    "print(coefficients_df.sort_values(by='Coefficient', ascending=False))"
   ]
  }
 ],
 "metadata": {
  "kernelspec": {
   "display_name": "thesis_project",
   "language": "python",
   "name": "python3"
  },
  "language_info": {
   "codemirror_mode": {
    "name": "ipython",
    "version": 3
   },
   "file_extension": ".py",
   "mimetype": "text/x-python",
   "name": "python",
   "nbconvert_exporter": "python",
   "pygments_lexer": "ipython3",
   "version": "3.12.0"
  }
 },
 "nbformat": 4,
 "nbformat_minor": 2
}
